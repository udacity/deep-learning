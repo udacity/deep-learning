{
 "cells": [
  {
   "cell_type": "markdown",
   "metadata": {
    "deletable": true,
    "editable": true
   },
   "source": [
    "# TV Script Generation\n",
    "In this project, you'll generate your own [Simpsons](https://en.wikipedia.org/wiki/The_Simpsons) TV scripts using RNNs.  You'll be using part of the [Simpsons dataset](https://www.kaggle.com/wcukierski/the-simpsons-by-the-data) of scripts from 27 seasons.  The Neural Network you'll build will generate a new TV script for a scene at [Moe's Tavern](https://simpsonswiki.com/wiki/Moe's_Tavern).\n",
    "## Get the Data\n",
    "The data is already provided for you.  You'll be using a subset of the original dataset.  It consists of only the scenes in Moe's Tavern.  This doesn't include other versions of the tavern, like \"Moe's Cavern\", \"Flaming Moe's\", \"Uncle Moe's Family Feed-Bag\", etc.."
   ]
  },
  {
   "cell_type": "code",
   "execution_count": 1,
   "metadata": {
    "collapsed": false,
    "deletable": true,
    "editable": true
   },
   "outputs": [],
   "source": [
    "\"\"\"\n",
    "DON'T MODIFY ANYTHING IN THIS CELL\n",
    "\"\"\"\n",
    "import helper\n",
    "\n",
    "data_dir = './data/simpsons/moes_tavern_lines.txt'\n",
    "text = helper.load_data(data_dir)\n",
    "# Ignore notice, since we don't use it for analysing the data\n",
    "text = text[81:]"
   ]
  },
  {
   "cell_type": "markdown",
   "metadata": {
    "deletable": true,
    "editable": true
   },
   "source": [
    "## Explore the Data\n",
    "Play around with `view_sentence_range` to view different parts of the data."
   ]
  },
  {
   "cell_type": "code",
   "execution_count": 2,
   "metadata": {
    "collapsed": false,
    "deletable": true,
    "editable": true
   },
   "outputs": [
    {
     "name": "stdout",
     "output_type": "stream",
     "text": [
      "Dataset Stats\n",
      "Roughly the number of unique words: 11492\n",
      "Number of scenes: 262\n",
      "Average number of sentences in each scene: 15.248091603053435\n",
      "Number of lines: 4257\n",
      "Average number of words in each line: 11.50434578341555\n",
      "\n",
      "The sentences 0 to 10:\n",
      "Moe_Szyslak: (INTO PHONE) Moe's Tavern. Where the elite meet to drink.\n",
      "Bart_Simpson: Eh, yeah, hello, is Mike there? Last name, Rotch.\n",
      "Moe_Szyslak: (INTO PHONE) Hold on, I'll check. (TO BARFLIES) Mike Rotch. Mike Rotch. Hey, has anybody seen Mike Rotch, lately?\n",
      "Moe_Szyslak: (INTO PHONE) Listen you little puke. One of these days I'm gonna catch you, and I'm gonna carve my name on your back with an ice pick.\n",
      "Moe_Szyslak: What's the matter Homer? You're not your normal effervescent self.\n",
      "Homer_Simpson: I got my problems, Moe. Give me another one.\n",
      "Moe_Szyslak: Homer, hey, you should not drink to forget your problems.\n",
      "Barney_Gumble: Yeah, you should only drink to enhance your social skills.\n",
      "\n",
      "\n"
     ]
    }
   ],
   "source": [
    "view_sentence_range = (0, 10)\n",
    "\n",
    "\"\"\"\n",
    "DON'T MODIFY ANYTHING IN THIS CELL\n",
    "\"\"\"\n",
    "import numpy as np\n",
    "\n",
    "print('Dataset Stats')\n",
    "print('Roughly the number of unique words: {}'.format(len({word: None for word in text.split()})))\n",
    "scenes = text.split('\\n\\n')\n",
    "print('Number of scenes: {}'.format(len(scenes)))\n",
    "sentence_count_scene = [scene.count('\\n') for scene in scenes]\n",
    "print('Average number of sentences in each scene: {}'.format(np.average(sentence_count_scene)))\n",
    "\n",
    "sentences = [sentence for scene in scenes for sentence in scene.split('\\n')]\n",
    "print('Number of lines: {}'.format(len(sentences)))\n",
    "word_count_sentence = [len(sentence.split()) for sentence in sentences]\n",
    "print('Average number of words in each line: {}'.format(np.average(word_count_sentence)))\n",
    "\n",
    "print()\n",
    "print('The sentences {} to {}:'.format(*view_sentence_range))\n",
    "print('\\n'.join(text.split('\\n')[view_sentence_range[0]:view_sentence_range[1]]))"
   ]
  },
  {
   "cell_type": "markdown",
   "metadata": {
    "deletable": true,
    "editable": true
   },
   "source": [
    "## Implement Preprocessing Functions\n",
    "The first thing to do to any dataset is preprocessing.  Implement the following preprocessing functions below:\n",
    "- Lookup Table\n",
    "- Tokenize Punctuation\n",
    "\n",
    "### Lookup Table\n",
    "To create a word embedding, you first need to transform the words to ids.  In this function, create two dictionaries:\n",
    "- Dictionary to go from the words to an id, we'll call `vocab_to_int`\n",
    "- Dictionary to go from the id to word, we'll call `int_to_vocab`\n",
    "\n",
    "Return these dictionaries in the following tuple `(vocab_to_int, int_to_vocab)`"
   ]
  },
  {
   "cell_type": "code",
   "execution_count": 3,
   "metadata": {
    "collapsed": false,
    "deletable": true,
    "editable": true
   },
   "outputs": [
    {
     "name": "stdout",
     "output_type": "stream",
     "text": [
      "Tests Passed\n"
     ]
    }
   ],
   "source": [
    "import numpy as np\n",
    "import problem_unittests as tests\n",
    "from collections import Counter\n",
    "\n",
    "\n",
    "def create_lookup_tables(text):\n",
    "    \"\"\"\n",
    "    Create lookup tables for vocabulary\n",
    "    :param text: The text of tv scripts split into words\n",
    "    :return: A tuple of dicts (vocab_to_int, int_to_vocab)\n",
    "    \"\"\"\n",
    "\n",
    "    counts = Counter(text)\n",
    "    vocab = sorted(counts, key=counts.get, reverse=True)\n",
    "    vocab_to_int = {word: ii for ii, word in enumerate(vocab, 1)}\n",
    "    int_to_vocab = dict((v,k) for k,v in vocab_to_int.items())\n",
    "    \n",
    "    return vocab_to_int, int_to_vocab\n",
    "\n",
    "\n",
    "\"\"\"\n",
    "DON'T MODIFY ANYTHING IN THIS CELL THAT IS BELOW THIS LINE\n",
    "\"\"\"\n",
    "tests.test_create_lookup_tables(create_lookup_tables)"
   ]
  },
  {
   "cell_type": "markdown",
   "metadata": {
    "deletable": true,
    "editable": true
   },
   "source": [
    "### Tokenize Punctuation\n",
    "We'll be splitting the script into a word array using spaces as delimiters.  However, punctuations like periods and exclamation marks make it hard for the neural network to distinguish between the word \"bye\" and \"bye!\".\n",
    "\n",
    "Implement the function `token_lookup` to return a dict that will be used to tokenize symbols like \"!\" into \"||Exclamation_Mark||\".  Create a dictionary for the following symbols where the symbol is the key and value is the token:\n",
    "- Period ( . )\n",
    "- Comma ( , )\n",
    "- Quotation Mark ( \" )\n",
    "- Semicolon ( ; )\n",
    "- Exclamation mark ( ! )\n",
    "- Question mark ( ? )\n",
    "- Left Parentheses ( ( )\n",
    "- Right Parentheses ( ) )\n",
    "- Dash ( -- )\n",
    "- Return ( \\n )\n",
    "\n",
    "This dictionary will be used to token the symbols and add the delimiter (space) around it.  This separates the symbols as it's own word, making it easier for the neural network to predict on the next word. Make sure you don't use a token that could be confused as a word. Instead of using the token \"dash\", try using something like \"||dash||\"."
   ]
  },
  {
   "cell_type": "code",
   "execution_count": 4,
   "metadata": {
    "collapsed": false,
    "deletable": true,
    "editable": true
   },
   "outputs": [
    {
     "name": "stdout",
     "output_type": "stream",
     "text": [
      "Tests Passed\n"
     ]
    }
   ],
   "source": [
    "def token_lookup():\n",
    "    \"\"\"\n",
    "    Generate a dict to turn punctuation into a token.\n",
    "    :return: Tokenize dictionary where the key is the punctuation and the value is the token\n",
    "    \"\"\"\n",
    "    # TODO: Implement Function\n",
    "    return {'.': '||period||', ',': '||comma||', '\"': '||quotation||', ';': '||semicolon||', '!': '||exclamation||', '?': '||question||', '(': '||leftparentheses||', ')':'||rightparentheses||', '--': '||dash||', '\\n': '||return||'}\n",
    "    \n",
    "#     Period ( . )\n",
    "# Comma ( , )\n",
    "# Quotation Mark ( \" )\n",
    "# Semicolon ( ; )\n",
    "# Exclamation mark ( ! )\n",
    "# Question mark ( ? )\n",
    "# Left Parentheses ( ( )\n",
    "# Right Parentheses ( ) )\n",
    "# Dash ( -- )\n",
    "# Return ( \\n )\n",
    "    return None\n",
    "\n",
    "\"\"\"\n",
    "DON'T MODIFY ANYTHING IN THIS CELL THAT IS BELOW THIS LINE\n",
    "\"\"\"\n",
    "tests.test_tokenize(token_lookup)"
   ]
  },
  {
   "cell_type": "markdown",
   "metadata": {
    "deletable": true,
    "editable": true
   },
   "source": [
    "## Preprocess all the data and save it\n",
    "Running the code cell below will preprocess all the data and save it to file."
   ]
  },
  {
   "cell_type": "code",
   "execution_count": 5,
   "metadata": {
    "collapsed": false,
    "deletable": true,
    "editable": true
   },
   "outputs": [],
   "source": [
    "\"\"\"\n",
    "DON'T MODIFY ANYTHING IN THIS CELL\n",
    "\"\"\"\n",
    "# Preprocess Training, Validation, and Testing Data\n",
    "helper.preprocess_and_save_data(data_dir, token_lookup, create_lookup_tables)"
   ]
  },
  {
   "cell_type": "markdown",
   "metadata": {
    "deletable": true,
    "editable": true
   },
   "source": [
    "# Check Point\n",
    "This is your first checkpoint. If you ever decide to come back to this notebook or have to restart the notebook, you can start from here. The preprocessed data has been saved to disk."
   ]
  },
  {
   "cell_type": "code",
   "execution_count": 6,
   "metadata": {
    "collapsed": false,
    "deletable": true,
    "editable": true
   },
   "outputs": [],
   "source": [
    "\"\"\"\n",
    "DON'T MODIFY ANYTHING IN THIS CELL\n",
    "\"\"\"\n",
    "import helper\n",
    "import numpy as np\n",
    "import problem_unittests as tests\n",
    "\n",
    "int_text, vocab_to_int, int_to_vocab, token_dict = helper.load_preprocess()"
   ]
  },
  {
   "cell_type": "markdown",
   "metadata": {
    "deletable": true,
    "editable": true
   },
   "source": [
    "## Build the Neural Network\n",
    "You'll build the components necessary to build a RNN by implementing the following functions below:\n",
    "- get_inputs\n",
    "- get_init_cell\n",
    "- get_embed\n",
    "- build_rnn\n",
    "- build_nn\n",
    "- get_batches\n",
    "\n",
    "### Check the Version of TensorFlow and Access to GPU"
   ]
  },
  {
   "cell_type": "code",
   "execution_count": 7,
   "metadata": {
    "collapsed": false,
    "deletable": true,
    "editable": true
   },
   "outputs": [
    {
     "name": "stdout",
     "output_type": "stream",
     "text": [
      "TensorFlow Version: 1.0.0\n",
      "Default GPU Device: /gpu:0\n"
     ]
    }
   ],
   "source": [
    "\"\"\"\n",
    "DON'T MODIFY ANYTHING IN THIS CELL\n",
    "\"\"\"\n",
    "from distutils.version import LooseVersion\n",
    "import warnings\n",
    "import tensorflow as tf\n",
    "\n",
    "# Check TensorFlow Version\n",
    "assert LooseVersion(tf.__version__) >= LooseVersion('1.0'), 'Please use TensorFlow version 1.0 or newer'\n",
    "print('TensorFlow Version: {}'.format(tf.__version__))\n",
    "\n",
    "# Check for a GPU\n",
    "if not tf.test.gpu_device_name():\n",
    "    warnings.warn('No GPU found. Please use a GPU to train your neural network.')\n",
    "else:\n",
    "    print('Default GPU Device: {}'.format(tf.test.gpu_device_name()))"
   ]
  },
  {
   "cell_type": "markdown",
   "metadata": {
    "deletable": true,
    "editable": true
   },
   "source": [
    "### Input\n",
    "Implement the `get_inputs()` function to create TF Placeholders for the Neural Network.  It should create the following placeholders:\n",
    "- Input text placeholder named \"input\" using the [TF Placeholder](https://www.tensorflow.org/api_docs/python/tf/placeholder) `name` parameter.\n",
    "- Targets placeholder\n",
    "- Learning Rate placeholder\n",
    "\n",
    "Return the placeholders in the following the tuple `(Input, Targets, LearingRate)`"
   ]
  },
  {
   "cell_type": "code",
   "execution_count": 39,
   "metadata": {
    "collapsed": false,
    "deletable": true,
    "editable": true
   },
   "outputs": [
    {
     "name": "stdout",
     "output_type": "stream",
     "text": [
      "Tests Passed\n"
     ]
    }
   ],
   "source": [
    "def get_inputs():\n",
    "    \"\"\"\n",
    "    Create TF Placeholders for input, targets, and learning rate.\n",
    "    :return: Tuple (input, targets, learning rate)\n",
    "    \"\"\"\n",
    "    # TODO: Implement Function\n",
    "    inputs = tf.placeholder(tf.int32, [None, None], name='input')\n",
    "    targets = tf.placeholder(tf.int32, [None, None], name='targets')\n",
    "    learning_rate = tf.placeholder(tf.float32, name='learning_rate')\n",
    "\n",
    "    return inputs, targets, learning_rate\n",
    "\n",
    "\n",
    "\"\"\"\n",
    "DON'T MODIFY ANYTHING IN THIS CELL THAT IS BELOW THIS LINE\n",
    "\"\"\"\n",
    "tests.test_get_inputs(get_inputs)"
   ]
  },
  {
   "cell_type": "markdown",
   "metadata": {
    "deletable": true,
    "editable": true
   },
   "source": [
    "### Build RNN Cell and Initialize\n",
    "Stack one or more [`BasicLSTMCells`](https://www.tensorflow.org/api_docs/python/tf/contrib/rnn/BasicLSTMCell) in a [`MultiRNNCell`](https://www.tensorflow.org/api_docs/python/tf/contrib/rnn/MultiRNNCell).\n",
    "- The Rnn size should be set using `rnn_size`\n",
    "- Initalize Cell State using the MultiRNNCell's [`zero_state()`](https://www.tensorflow.org/api_docs/python/tf/contrib/rnn/MultiRNNCell#zero_state) function\n",
    "    - Apply the name \"initial_state\" to the initial state using [`tf.identity()`](https://www.tensorflow.org/api_docs/python/tf/identity)\n",
    "\n",
    "Return the cell and initial state in the following tuple `(Cell, InitialState)`"
   ]
  },
  {
   "cell_type": "code",
   "execution_count": 40,
   "metadata": {
    "collapsed": false,
    "deletable": true,
    "editable": true
   },
   "outputs": [
    {
     "name": "stdout",
     "output_type": "stream",
     "text": [
      "Tests Passed\n"
     ]
    }
   ],
   "source": [
    "def get_init_cell(batch_size, rnn_size):\n",
    "    \"\"\"\n",
    "    Create an RNN Cell and initialize it.\n",
    "    :param batch_size: Size of batches\n",
    "    :param rnn_size: Size of RNNs\n",
    "    :return: Tuple (cell, initialize state)\n",
    "    \"\"\"\n",
    "    # TODO: Implement Function\n",
    "    \n",
    "    lstm = tf.contrib.rnn.BasicLSTMCell(rnn_size)\n",
    "    drop = tf.contrib.rnn.DropoutWrapper(lstm, output_keep_prob=0.7)\n",
    "    cell = tf.contrib.rnn.MultiRNNCell([drop] * 5)\n",
    "    initial_state = tf.identity(cell.zero_state(batch_size, tf.float32), name='initial_state')\n",
    "    \n",
    "    return cell, initial_state\n",
    "    #return None, None\n",
    "\n",
    "\n",
    "\"\"\"\n",
    "DON'T MODIFY ANYTHING IN THIS CELL THAT IS BELOW THIS LINE\n",
    "\"\"\"\n",
    "tests.test_get_init_cell(get_init_cell)"
   ]
  },
  {
   "cell_type": "markdown",
   "metadata": {
    "deletable": true,
    "editable": true
   },
   "source": [
    "### Word Embedding\n",
    "Apply embedding to `input_data` using TensorFlow.  Return the embedded sequence."
   ]
  },
  {
   "cell_type": "code",
   "execution_count": 41,
   "metadata": {
    "collapsed": false,
    "deletable": true,
    "editable": true
   },
   "outputs": [
    {
     "name": "stdout",
     "output_type": "stream",
     "text": [
      "Tests Passed\n"
     ]
    }
   ],
   "source": [
    "def get_embed(input_data, vocab_size, embed_dim):\n",
    "    \"\"\"\n",
    "    Create embedding for <input_data>.\n",
    "    :param input_data: TF placeholder for text input.\n",
    "    :param vocab_size: Number of words in vocabulary.\n",
    "    :param embed_dim: Number of embedding dimensions\n",
    "    :return: Embedded input.\n",
    "    \"\"\"\n",
    "    # TODO: Implement Function\n",
    "    \n",
    "    embedding = tf.Variable(tf.random_uniform((vocab_size, embed_dim), -1, 1))\n",
    "    embed = tf.nn.embedding_lookup(embedding, input_data)\n",
    "    \n",
    "    return embed\n",
    "\n",
    "\n",
    "\"\"\"\n",
    "DON'T MODIFY ANYTHING IN THIS CELL THAT IS BELOW THIS LINE\n",
    "\"\"\"\n",
    "tests.test_get_embed(get_embed)"
   ]
  },
  {
   "cell_type": "markdown",
   "metadata": {
    "deletable": true,
    "editable": true
   },
   "source": [
    "### Build RNN\n",
    "You created a RNN Cell in the `get_init_cell()` function.  Time to use the cell to create a RNN.\n",
    "- Build the RNN using the [`tf.nn.dynamic_rnn()`](https://www.tensorflow.org/api_docs/python/tf/nn/dynamic_rnn)\n",
    " - Apply the name \"final_state\" to the final state using [`tf.identity()`](https://www.tensorflow.org/api_docs/python/tf/identity)\n",
    "\n",
    "Return the outputs and final_state state in the following tuple `(Outputs, FinalState)` "
   ]
  },
  {
   "cell_type": "code",
   "execution_count": 42,
   "metadata": {
    "collapsed": false,
    "deletable": true,
    "editable": true
   },
   "outputs": [
    {
     "name": "stdout",
     "output_type": "stream",
     "text": [
      "Tests Passed\n"
     ]
    }
   ],
   "source": [
    "def build_rnn(cell, inputs):\n",
    "    \"\"\"\n",
    "    Create a RNN using a RNN Cell\n",
    "    :param cell: RNN Cell\n",
    "    :param inputs: Input text data\n",
    "    :return: Tuple (Outputs, Final State)\n",
    "    \"\"\"\n",
    "    # TODO: Implement Function\n",
    "    outputs, final_state = tf.nn.dynamic_rnn(cell, inputs, dtype=tf.float32)\n",
    "    outputs = tf.identity(outputs, name='outputs')\n",
    "    final_state = tf.identity(final_state, name='final_state')\n",
    "    \n",
    "    return outputs, final_state\n",
    "\n",
    "\"\"\"\n",
    "DON'T MODIFY ANYTHING IN THIS CELL THAT IS BELOW THIS LINE\n",
    "\"\"\"\n",
    "tests.test_build_rnn(build_rnn)"
   ]
  },
  {
   "cell_type": "markdown",
   "metadata": {
    "deletable": true,
    "editable": true
   },
   "source": [
    "### Build the Neural Network\n",
    "Apply the functions you implemented above to:\n",
    "- Apply embedding to `input_data` using your `get_embed(input_data, vocab_size, embed_dim)` function.\n",
    "- Build RNN using `cell` and your `build_rnn(cell, inputs)` function.\n",
    "- Apply a fully connected layer with a linear activation and `vocab_size` as the number of outputs.\n",
    "\n",
    "Return the logits and final state in the following tuple (Logits, FinalState) "
   ]
  },
  {
   "cell_type": "code",
   "execution_count": 48,
   "metadata": {
    "collapsed": false,
    "deletable": true,
    "editable": true
   },
   "outputs": [
    {
     "name": "stdout",
     "output_type": "stream",
     "text": [
      "Tests Passed\n"
     ]
    }
   ],
   "source": [
    "def build_nn(cell, rnn_size, input_data, vocab_size):\n",
    "    \"\"\"\n",
    "    Build part of the neural network\n",
    "    :param cell: RNN cell\n",
    "    :param rnn_size: Size of rnns\n",
    "    :param input_data: Input data\n",
    "    :param vocab_size: Vocabulary size\n",
    "    :return: Tuple (Logits, FinalState)\n",
    "    \"\"\"\n",
    "    # TODO: Implement Function\n",
    "    embed = get_embed(input_data, vocab_size, rnn_size)\n",
    "    outputs, final_state = build_rnn(cell, embed)\n",
    "    logits = tf.contrib.layers.fully_connected(outputs, vocab_size, activation_fn=None)\n",
    "    \n",
    "    \n",
    "#     print(vocab_size)\n",
    "#     print(outputs[:])\n",
    "#     predictions = tf.contrib.layers.fully_connected(outputs[:], vocab_size, activation_fn=tf.sigmoid)\n",
    "#     predictions = tf.contrib.layers.fully_connected(outputs, vocab_size, activation_fn=tf.sigmoid)\n",
    "#     predictions = tf.contrib.layers.fully_connected(outputs, vocab_size, activation_fn=tf.sigmoid)\n",
    "    \n",
    "#     cost = tf.losses.mean_squared_error(labels_, predictions)\n",
    "#     optimizer = tf.train.AdamOptimizer(learning_rate).minimize(cost)\n",
    "    \n",
    "#     cost = tf.losses.mean_squared_error(input_data, predictions)\n",
    "#     print(predictions.get_shape().as_list())\n",
    "#     optimizer = tf.train.AdamOptimizer(learning_rate).minimize(cost)\n",
    "    \n",
    "#     seq_output = tf.concat(outputs, axis=1)\n",
    "#     output = tf.reshape(seq_output, [-1, rnn_size])\n",
    "\n",
    "#     softmax_w = tf.Variable(tf.truncated_normal((rnn_size, vocab_size), stddev=0.1))\n",
    "#     softmax_b = tf.Variable(tf.zeros(vocab_size))\n",
    "\n",
    "#     logits = tf.matmul(output, softmax_w) + softmax_b\n",
    "    \n",
    "    return logits, final_state\n",
    "\n",
    "\n",
    "\"\"\"\n",
    "DON'T MODIFY ANYTHING IN THIS CELL THAT IS BELOW THIS LINE\n",
    "\"\"\"\n",
    "tests.test_build_nn(build_nn)"
   ]
  },
  {
   "cell_type": "markdown",
   "metadata": {
    "deletable": true,
    "editable": true
   },
   "source": [
    "### Batches\n",
    "Implement `get_batches` to create batches of input and targets using `int_text`.  The batches should be a Numpy array with the shape `(number of batches, 2, batch size, sequence length)`. Each batch contains two elements:\n",
    "- The first element is a single batch of **input** with the shape `[batch size, sequence length]`\n",
    "- The second element is a single batch of **targets** with the shape `[batch size, sequence length]`\n",
    "\n",
    "If you can't fill the last batch with enough data, drop the last batch.\n",
    "\n",
    "For exmple, `get_batches([1, 2, 3, 4, 5, 6, 7, 8, 9, 10, 11, 12, 13, 14, 15], 2, 3)` would return a Numpy array of the following:\n",
    "```\n",
    "[\n",
    "  # First Batch\n",
    "  [\n",
    "    # Batch of Input\n",
    "    [[ 1  2  3], [ 7  8  9]],\n",
    "    # Batch of targets\n",
    "    [[ 2  3  4], [ 8  9 10]]\n",
    "  ],\n",
    " \n",
    "  # Second Batch\n",
    "  [\n",
    "    # Batch of Input\n",
    "    [[ 4  5  6], [10 11 12]],\n",
    "    # Batch of targets\n",
    "    [[ 5  6  7], [11 12 13]]\n",
    "  ]\n",
    "]\n",
    "```"
   ]
  },
  {
   "cell_type": "code",
   "execution_count": 49,
   "metadata": {
    "collapsed": false,
    "deletable": true,
    "editable": true
   },
   "outputs": [
    {
     "name": "stdout",
     "output_type": "stream",
     "text": [
      "Tests Passed\n"
     ]
    }
   ],
   "source": [
    "def get_batches(int_text, batch_size, seq_length):\n",
    "    \"\"\"\n",
    "    Return batches of input and target\n",
    "    :param int_text: Text with the words replaced by their ids\n",
    "    :param batch_size: The size of batch\n",
    "    :param seq_length: The length of sequence\n",
    "    :return: Batches as a Numpy array\n",
    "    \"\"\"\n",
    "    # TODO: Implement Function\n",
    "#     print(len(int_text))\n",
    "#     print(batch_size)\n",
    "#     print(seq_length)\n",
    "\n",
    "    slice_size = batch_size * seq_length\n",
    "    n_batches = int(len(int_text) / slice_size)\n",
    "#     print(n_batches)\n",
    "    \n",
    "#     x = int_text[:n_batches*batch_size]\n",
    "#     y = int_text[seq_length:n_batches*batch_size+seq_length]\n",
    "#     x = int_text[: n_batches*slice_size]\n",
    "#     y = int_text[seq_length: n_batches*slice_size + seq_length]\n",
    "\n",
    "#     print(x)\n",
    "#     print(y)\n",
    "    \n",
    "#     x = np.stack(np.split(x, batch_size))\n",
    "#     y = np.stack(np.split(y, batch_size))\n",
    "\n",
    "#     print(x)\n",
    "\n",
    "#     array = []\n",
    "#     array = np.array([])\n",
    "    array = np.empty((n_batches, 2, batch_size, seq_length), int)\n",
    "\n",
    "#     array[0][0][0] = [100, 101, 102, 103, 104]\n",
    "#     print(array)\n",
    "\n",
    "\n",
    "    \n",
    "#     for ii in range(0, len(x), batch_size):\n",
    "    for i in range(0, n_batches):\n",
    "        ii = i * batch_size\n",
    "        \n",
    "# #         batch_array = np.empty((2, batch_size, seq_length), int)\n",
    "\n",
    "        for n in range(0, 2):\n",
    "# #             ary = np.empty((batch_size, seq_length), int)\n",
    "            for jj in range(0, batch_size):\n",
    "#                 print(array[ii][n][jj])\n",
    "#                 print(x[ii+jj+n*seq_length:ii+jj+seq_length+n*seq_length])\n",
    "                array[i][n][jj] = int_text[ii+jj+n*seq_length:ii+jj+seq_length+n*seq_length] \n",
    "#                 np.append(array[ii][n][jj], np.array(x[ii+jj+n*seq_length:ii+jj+seq_length+n*seq_length]), axis=jj)\n",
    "            \n",
    "#             np.append(batch_array, ary)\n",
    "   \n",
    "#         np.append(array, batch_array)\n",
    "    \n",
    "#             print(ary)\n",
    "#         batch_array.append(np.array(ary))\n",
    "\n",
    "#         print(x[ii:ii+batch_size])\n",
    "#         np.append(array, np.array(\n",
    "#             [x[ii:ii+batch_size], y[ii:ii+batch_size]],\n",
    "# #             [x[ii+1:ii+1+batch_size], y[ii+1:ii+1+batch_size]]\n",
    "#         ))\n",
    "    \n",
    "#         batch_array = []\n",
    "#         for n in range(0,2):\n",
    "#             ary = []\n",
    "#             for jj in range(0, batch_size):\n",
    "# #                 print(jj)\n",
    "#                 ary.append(np.array(x[ii+n+jj:ii+n+jj+seq_length]))\n",
    "# #             print(ary)\n",
    "#             batch_array.append(np.array(ary))\n",
    "   \n",
    "#         array.append(np.array(batch_array))\n",
    "#         array.append(\n",
    "#             [\n",
    "#                 [x[ii:ii+seq_length], y[ii:ii+seq_length]],\n",
    "#                 [x[ii+1:ii+1+seq_length], y[ii+1:ii+1+seq_length]]\n",
    "#             ]\n",
    "#         )\n",
    "\n",
    "#         np.append(array, np.array([x[ii:ii+batch_size], y[ii:ii+batch_size]]))\n",
    "#         np.append(arr, np.array([x[ii:ii+batch_size]]), axis=0)\n",
    "#         np.append(arr, np.array([y[ii:ii+batch_size]]), axis=0)\n",
    "#         np.append(arr,(np.array(y[ii:ii+batch_size])), axis=0)\n",
    "#         np.append(arr,(np.array(x[ii+1:ii+1+batch_size])), axis=0)\n",
    "#         np.append(array, arr, axis=0)\n",
    "    \n",
    "    \n",
    "#     for b in range(n_batches):\n",
    "#     for ii in range(0, len(x), batch_size):\n",
    "#         yield x[ii:ii+batch_size], y[ii:ii+batch_size]\n",
    "#         print(b)\n",
    "# #         print(int_text[:b+3])\n",
    "    \n",
    "#     print(array)\n",
    "    return array\n",
    "\n",
    "\n",
    "\"\"\"\n",
    "DON'T MODIFY ANYTHING IN THIS CELL THAT IS BELOW THIS LINE\n",
    "\"\"\"\n",
    "tests.test_get_batches(get_batches)"
   ]
  },
  {
   "cell_type": "markdown",
   "metadata": {
    "deletable": true,
    "editable": true
   },
   "source": [
    "## Neural Network Training\n",
    "### Hyperparameters\n",
    "Tune the following parameters:\n",
    "\n",
    "- Set `num_epochs` to the number of epochs.\n",
    "- Set `batch_size` to the batch size.\n",
    "- Set `rnn_size` to the size of the RNNs.\n",
    "- Set `seq_length` to the length of sequence.\n",
    "- Set `learning_rate` to the learning rate.\n",
    "- Set `show_every_n_batches` to the number of batches the neural network should print progress."
   ]
  },
  {
   "cell_type": "markdown",
   "metadata": {
    "deletable": true,
    "editable": true
   },
   "source": [
    "### Build the Graph\n",
    "Build the graph using the neural network you implemented."
   ]
  },
  {
   "cell_type": "code",
   "execution_count": 71,
   "metadata": {
    "collapsed": true,
    "deletable": true,
    "editable": true
   },
   "outputs": [],
   "source": [
    "# Number of Epochs\n",
    "num_epochs = 512\n",
    "# Batch Size\n",
    "batch_size = 128\n",
    "# RNN Size\n",
    "rnn_size = 512\n",
    "# Sequence Length\n",
    "seq_length = 20\n",
    "# Learning Rate\n",
    "learning_rate = 0.001\n",
    "# Show stats for every n number of batches\n",
    "show_every_n_batches = 35\n",
    "\n",
    "\"\"\"\n",
    "DON'T MODIFY ANYTHING IN THIS CELL THAT IS BELOW THIS LINE\n",
    "\"\"\"\n",
    "save_dir = './save'"
   ]
  },
  {
   "cell_type": "code",
   "execution_count": 72,
   "metadata": {
    "collapsed": false,
    "deletable": true,
    "editable": true
   },
   "outputs": [],
   "source": [
    "\"\"\"\n",
    "DON'T MODIFY ANYTHING IN THIS CELL\n",
    "\"\"\"\n",
    "from tensorflow.contrib import seq2seq\n",
    "\n",
    "train_graph = tf.Graph()\n",
    "with train_graph.as_default():\n",
    "    vocab_size = len(int_to_vocab)\n",
    "    input_text, targets, lr = get_inputs()\n",
    "    input_data_shape = tf.shape(input_text)\n",
    "    cell, initial_state = get_init_cell(input_data_shape[0], rnn_size)\n",
    "    logits, final_state = build_nn(cell, rnn_size, input_text, vocab_size)\n",
    "\n",
    "    # Probabilities for generating words\n",
    "    probs = tf.nn.softmax(logits, name='probs')\n",
    "\n",
    "    # Loss function\n",
    "    cost = seq2seq.sequence_loss(\n",
    "        logits,\n",
    "        targets,\n",
    "        tf.ones([input_data_shape[0], input_data_shape[1]]))\n",
    "\n",
    "    # Optimizer\n",
    "    optimizer = tf.train.AdamOptimizer(lr)\n",
    "\n",
    "    # Gradient Clipping\n",
    "    gradients = optimizer.compute_gradients(cost)\n",
    "    capped_gradients = [(tf.clip_by_value(grad, -1., 1.), var) for grad, var in gradients]\n",
    "    train_op = optimizer.apply_gradients(capped_gradients)"
   ]
  },
  {
   "cell_type": "markdown",
   "metadata": {
    "deletable": true,
    "editable": true
   },
   "source": [
    "## Train\n",
    "Train the neural network on the preprocessed data.  If you have a hard time getting a good loss, check the [forms](https://discussions.udacity.com/) to see if anyone is having the same problem."
   ]
  },
  {
   "cell_type": "code",
   "execution_count": 73,
   "metadata": {
    "collapsed": false,
    "deletable": true,
    "editable": true
   },
   "outputs": [
    {
     "name": "stdout",
     "output_type": "stream",
     "text": [
      "Epoch   0 Batch    0/26   train_loss = 8.822\n",
      "Epoch   1 Batch    9/26   train_loss = 5.145\n",
      "Epoch   2 Batch   18/26   train_loss = 5.694\n",
      "Epoch   4 Batch    1/26   train_loss = 5.463\n",
      "Epoch   5 Batch   10/26   train_loss = 5.282\n",
      "Epoch   6 Batch   19/26   train_loss = 5.286\n",
      "Epoch   8 Batch    2/26   train_loss = 5.675\n",
      "Epoch   9 Batch   11/26   train_loss = 5.525\n",
      "Epoch  10 Batch   20/26   train_loss = 5.529\n",
      "Epoch  12 Batch    3/26   train_loss = 5.643\n",
      "Epoch  13 Batch   12/26   train_loss = 5.631\n",
      "Epoch  14 Batch   21/26   train_loss = 5.939\n",
      "Epoch  16 Batch    4/26   train_loss = 5.202\n",
      "Epoch  17 Batch   13/26   train_loss = 5.460\n",
      "Epoch  18 Batch   22/26   train_loss = 5.562\n",
      "Epoch  20 Batch    5/26   train_loss = 5.315\n",
      "Epoch  21 Batch   14/26   train_loss = 5.566\n",
      "Epoch  22 Batch   23/26   train_loss = 5.227\n",
      "Epoch  24 Batch    6/26   train_loss = 5.325\n",
      "Epoch  25 Batch   15/26   train_loss = 5.461\n",
      "Epoch  26 Batch   24/26   train_loss = 5.538\n",
      "Epoch  28 Batch    7/26   train_loss = 5.595\n",
      "Epoch  29 Batch   16/26   train_loss = 5.259\n",
      "Epoch  30 Batch   25/26   train_loss = 5.618\n",
      "Epoch  32 Batch    8/26   train_loss = 5.418\n",
      "Epoch  33 Batch   17/26   train_loss = 5.490\n",
      "Epoch  35 Batch    0/26   train_loss = 5.299\n",
      "Epoch  36 Batch    9/26   train_loss = 5.034\n",
      "Epoch  37 Batch   18/26   train_loss = 5.328\n",
      "Epoch  39 Batch    1/26   train_loss = 4.969\n",
      "Epoch  40 Batch   10/26   train_loss = 4.746\n",
      "Epoch  41 Batch   19/26   train_loss = 4.738\n",
      "Epoch  43 Batch    2/26   train_loss = 4.920\n",
      "Epoch  44 Batch   11/26   train_loss = 4.671\n",
      "Epoch  45 Batch   20/26   train_loss = 4.492\n",
      "Epoch  47 Batch    3/26   train_loss = 4.474\n",
      "Epoch  48 Batch   12/26   train_loss = 4.292\n",
      "Epoch  49 Batch   21/26   train_loss = 4.440\n",
      "Epoch  51 Batch    4/26   train_loss = 3.886\n",
      "Epoch  52 Batch   13/26   train_loss = 3.990\n",
      "Epoch  53 Batch   22/26   train_loss = 3.936\n",
      "Epoch  55 Batch    5/26   train_loss = 3.595\n",
      "Epoch  56 Batch   14/26   train_loss = 3.726\n",
      "Epoch  57 Batch   23/26   train_loss = 3.586\n",
      "Epoch  59 Batch    6/26   train_loss = 3.509\n",
      "Epoch  60 Batch   15/26   train_loss = 3.321\n",
      "Epoch  61 Batch   24/26   train_loss = 3.254\n",
      "Epoch  63 Batch    7/26   train_loss = 3.174\n",
      "Epoch  64 Batch   16/26   train_loss = 3.030\n",
      "Epoch  65 Batch   25/26   train_loss = 2.929\n",
      "Epoch  67 Batch    8/26   train_loss = 2.933\n",
      "Epoch  68 Batch   17/26   train_loss = 3.160\n",
      "Epoch  70 Batch    0/26   train_loss = 3.040\n",
      "Epoch  71 Batch    9/26   train_loss = 2.663\n",
      "Epoch  72 Batch   18/26   train_loss = 2.865\n",
      "Epoch  74 Batch    1/26   train_loss = 2.708\n",
      "Epoch  75 Batch   10/26   train_loss = 2.667\n",
      "Epoch  76 Batch   19/26   train_loss = 2.804\n",
      "Epoch  78 Batch    2/26   train_loss = 2.736\n",
      "Epoch  79 Batch   11/26   train_loss = 2.562\n",
      "Epoch  80 Batch   20/26   train_loss = 2.371\n",
      "Epoch  82 Batch    3/26   train_loss = 2.447\n",
      "Epoch  83 Batch   12/26   train_loss = 2.352\n",
      "Epoch  84 Batch   21/26   train_loss = 2.382\n",
      "Epoch  86 Batch    4/26   train_loss = 2.188\n",
      "Epoch  87 Batch   13/26   train_loss = 2.343\n",
      "Epoch  88 Batch   22/26   train_loss = 2.224\n",
      "Epoch  90 Batch    5/26   train_loss = 2.341\n",
      "Epoch  91 Batch   14/26   train_loss = 2.272\n",
      "Epoch  92 Batch   23/26   train_loss = 2.027\n",
      "Epoch  94 Batch    6/26   train_loss = 2.024\n",
      "Epoch  95 Batch   15/26   train_loss = 1.839\n",
      "Epoch  96 Batch   24/26   train_loss = 1.742\n",
      "Epoch  98 Batch    7/26   train_loss = 1.732\n",
      "Epoch  99 Batch   16/26   train_loss = 1.702\n",
      "Epoch 100 Batch   25/26   train_loss = 1.558\n",
      "Epoch 102 Batch    8/26   train_loss = 1.637\n",
      "Epoch 103 Batch   17/26   train_loss = 1.695\n",
      "Epoch 105 Batch    0/26   train_loss = 1.696\n",
      "Epoch 106 Batch    9/26   train_loss = 1.422\n",
      "Epoch 107 Batch   18/26   train_loss = 1.482\n",
      "Epoch 109 Batch    1/26   train_loss = 1.323\n",
      "Epoch 110 Batch   10/26   train_loss = 1.315\n",
      "Epoch 111 Batch   19/26   train_loss = 1.472\n",
      "Epoch 113 Batch    2/26   train_loss = 1.413\n",
      "Epoch 114 Batch   11/26   train_loss = 1.329\n",
      "Epoch 115 Batch   20/26   train_loss = 1.283\n",
      "Epoch 117 Batch    3/26   train_loss = 1.235\n",
      "Epoch 118 Batch   12/26   train_loss = 1.204\n",
      "Epoch 119 Batch   21/26   train_loss = 1.130\n",
      "Epoch 121 Batch    4/26   train_loss = 1.096\n",
      "Epoch 122 Batch   13/26   train_loss = 1.052\n",
      "Epoch 123 Batch   22/26   train_loss = 0.975\n",
      "Epoch 125 Batch    5/26   train_loss = 1.060\n",
      "Epoch 126 Batch   14/26   train_loss = 0.976\n",
      "Epoch 127 Batch   23/26   train_loss = 0.975\n",
      "Epoch 129 Batch    6/26   train_loss = 0.958\n",
      "Epoch 130 Batch   15/26   train_loss = 0.979\n",
      "Epoch 131 Batch   24/26   train_loss = 0.891\n",
      "Epoch 133 Batch    7/26   train_loss = 0.866\n",
      "Epoch 134 Batch   16/26   train_loss = 0.905\n",
      "Epoch 135 Batch   25/26   train_loss = 0.807\n",
      "Epoch 137 Batch    8/26   train_loss = 0.832\n",
      "Epoch 138 Batch   17/26   train_loss = 0.844\n",
      "Epoch 140 Batch    0/26   train_loss = 0.811\n",
      "Epoch 141 Batch    9/26   train_loss = 0.755\n",
      "Epoch 142 Batch   18/26   train_loss = 0.718\n",
      "Epoch 144 Batch    1/26   train_loss = 0.638\n",
      "Epoch 145 Batch   10/26   train_loss = 0.662\n",
      "Epoch 146 Batch   19/26   train_loss = 0.761\n",
      "Epoch 148 Batch    2/26   train_loss = 0.650\n",
      "Epoch 149 Batch   11/26   train_loss = 0.664\n",
      "Epoch 150 Batch   20/26   train_loss = 0.666\n",
      "Epoch 152 Batch    3/26   train_loss = 0.627\n",
      "Epoch 153 Batch   12/26   train_loss = 0.622\n",
      "Epoch 154 Batch   21/26   train_loss = 0.589\n",
      "Epoch 156 Batch    4/26   train_loss = 0.577\n",
      "Epoch 157 Batch   13/26   train_loss = 0.551\n",
      "Epoch 158 Batch   22/26   train_loss = 0.525\n",
      "Epoch 160 Batch    5/26   train_loss = 0.600\n",
      "Epoch 161 Batch   14/26   train_loss = 0.537\n",
      "Epoch 162 Batch   23/26   train_loss = 0.559\n",
      "Epoch 164 Batch    6/26   train_loss = 0.526\n",
      "Epoch 165 Batch   15/26   train_loss = 0.527\n",
      "Epoch 166 Batch   24/26   train_loss = 0.492\n",
      "Epoch 168 Batch    7/26   train_loss = 0.483\n",
      "Epoch 169 Batch   16/26   train_loss = 0.492\n",
      "Epoch 170 Batch   25/26   train_loss = 0.467\n",
      "Epoch 172 Batch    8/26   train_loss = 0.466\n",
      "Epoch 173 Batch   17/26   train_loss = 0.469\n",
      "Epoch 175 Batch    0/26   train_loss = 0.501\n",
      "Epoch 176 Batch    9/26   train_loss = 0.452\n",
      "Epoch 177 Batch   18/26   train_loss = 0.440\n",
      "Epoch 179 Batch    1/26   train_loss = 0.397\n",
      "Epoch 180 Batch   10/26   train_loss = 0.449\n",
      "Epoch 181 Batch   19/26   train_loss = 0.479\n",
      "Epoch 183 Batch    2/26   train_loss = 0.390\n",
      "Epoch 184 Batch   11/26   train_loss = 0.429\n",
      "Epoch 185 Batch   20/26   train_loss = 0.427\n",
      "Epoch 187 Batch    3/26   train_loss = 0.392\n",
      "Epoch 188 Batch   12/26   train_loss = 0.381\n",
      "Epoch 189 Batch   21/26   train_loss = 0.370\n",
      "Epoch 191 Batch    4/26   train_loss = 0.402\n",
      "Epoch 192 Batch   13/26   train_loss = 0.370\n",
      "Epoch 193 Batch   22/26   train_loss = 0.369\n",
      "Epoch 195 Batch    5/26   train_loss = 0.425\n",
      "Epoch 196 Batch   14/26   train_loss = 0.342\n",
      "Epoch 197 Batch   23/26   train_loss = 0.408\n",
      "Epoch 199 Batch    6/26   train_loss = 0.363\n",
      "Epoch 200 Batch   15/26   train_loss = 0.354\n",
      "Epoch 201 Batch   24/26   train_loss = 0.378\n",
      "Epoch 203 Batch    7/26   train_loss = 0.346\n",
      "Epoch 204 Batch   16/26   train_loss = 0.361\n",
      "Epoch 205 Batch   25/26   train_loss = 0.323\n",
      "Epoch 207 Batch    8/26   train_loss = 0.323\n",
      "Epoch 208 Batch   17/26   train_loss = 0.303\n",
      "Epoch 210 Batch    0/26   train_loss = 0.376\n",
      "Epoch 211 Batch    9/26   train_loss = 0.353\n",
      "Epoch 212 Batch   18/26   train_loss = 0.336\n",
      "Epoch 214 Batch    1/26   train_loss = 0.297\n",
      "Epoch 215 Batch   10/26   train_loss = 0.341\n",
      "Epoch 216 Batch   19/26   train_loss = 0.373\n",
      "Epoch 218 Batch    2/26   train_loss = 0.294\n",
      "Epoch 219 Batch   11/26   train_loss = 0.334\n",
      "Epoch 220 Batch   20/26   train_loss = 0.319\n",
      "Epoch 222 Batch    3/26   train_loss = 0.309\n",
      "Epoch 223 Batch   12/26   train_loss = 0.289\n",
      "Epoch 224 Batch   21/26   train_loss = 0.288\n",
      "Epoch 226 Batch    4/26   train_loss = 0.321\n",
      "Epoch 227 Batch   13/26   train_loss = 0.297\n",
      "Epoch 228 Batch   22/26   train_loss = 0.301\n",
      "Epoch 230 Batch    5/26   train_loss = 0.332\n",
      "Epoch 231 Batch   14/26   train_loss = 0.267\n",
      "Epoch 232 Batch   23/26   train_loss = 0.336\n",
      "Epoch 234 Batch    6/26   train_loss = 0.285\n",
      "Epoch 235 Batch   15/26   train_loss = 0.290\n",
      "Epoch 236 Batch   24/26   train_loss = 0.342\n",
      "Epoch 238 Batch    7/26   train_loss = 0.296\n",
      "Epoch 239 Batch   16/26   train_loss = 0.348\n",
      "Epoch 240 Batch   25/26   train_loss = 0.281\n",
      "Epoch 242 Batch    8/26   train_loss = 0.294\n",
      "Epoch 243 Batch   17/26   train_loss = 0.252\n",
      "Epoch 245 Batch    0/26   train_loss = 0.345\n",
      "Epoch 246 Batch    9/26   train_loss = 0.307\n",
      "Epoch 247 Batch   18/26   train_loss = 0.519\n",
      "Epoch 249 Batch    1/26   train_loss = 0.310\n",
      "Epoch 250 Batch   10/26   train_loss = 0.471\n",
      "Epoch 251 Batch   19/26   train_loss = 0.339\n",
      "Epoch 253 Batch    2/26   train_loss = 0.256\n",
      "Epoch 254 Batch   11/26   train_loss = 0.291\n",
      "Epoch 255 Batch   20/26   train_loss = 0.280\n",
      "Epoch 257 Batch    3/26   train_loss = 0.275\n",
      "Epoch 258 Batch   12/26   train_loss = 0.254\n",
      "Epoch 259 Batch   21/26   train_loss = 0.244\n",
      "Epoch 261 Batch    4/26   train_loss = 0.284\n",
      "Epoch 262 Batch   13/26   train_loss = 0.260\n",
      "Epoch 263 Batch   22/26   train_loss = 0.246\n",
      "Epoch 265 Batch    5/26   train_loss = 0.286\n",
      "Epoch 266 Batch   14/26   train_loss = 0.237\n",
      "Epoch 267 Batch   23/26   train_loss = 0.323\n",
      "Epoch 269 Batch    6/26   train_loss = 0.254\n",
      "Epoch 270 Batch   15/26   train_loss = 0.255\n",
      "Epoch 271 Batch   24/26   train_loss = 0.303\n",
      "Epoch 273 Batch    7/26   train_loss = 0.259\n",
      "Epoch 274 Batch   16/26   train_loss = 0.269\n",
      "Epoch 275 Batch   25/26   train_loss = 0.247\n",
      "Epoch 277 Batch    8/26   train_loss = 0.233\n",
      "Epoch 278 Batch   17/26   train_loss = 0.216\n",
      "Epoch 280 Batch    0/26   train_loss = 0.305\n",
      "Epoch 281 Batch    9/26   train_loss = 0.279\n",
      "Epoch 282 Batch   18/26   train_loss = 0.246\n",
      "Epoch 284 Batch    1/26   train_loss = 0.240\n",
      "Epoch 285 Batch   10/26   train_loss = 0.272\n",
      "Epoch 286 Batch   19/26   train_loss = 0.295\n",
      "Epoch 288 Batch    2/26   train_loss = 0.222\n",
      "Epoch 289 Batch   11/26   train_loss = 0.266\n",
      "Epoch 290 Batch   20/26   train_loss = 0.256\n",
      "Epoch 292 Batch    3/26   train_loss = 0.246\n",
      "Epoch 293 Batch   12/26   train_loss = 0.221\n",
      "Epoch 294 Batch   21/26   train_loss = 0.223\n",
      "Epoch 296 Batch    4/26   train_loss = 0.261\n",
      "Epoch 297 Batch   13/26   train_loss = 0.240\n",
      "Epoch 298 Batch   22/26   train_loss = 0.229\n",
      "Epoch 300 Batch    5/26   train_loss = 0.277\n",
      "Epoch 301 Batch   14/26   train_loss = 0.223\n",
      "Epoch 302 Batch   23/26   train_loss = 0.285\n",
      "Epoch 304 Batch    6/26   train_loss = 0.232\n",
      "Epoch 305 Batch   15/26   train_loss = 0.233\n",
      "Epoch 306 Batch   24/26   train_loss = 0.289\n",
      "Epoch 308 Batch    7/26   train_loss = 0.256\n",
      "Epoch 309 Batch   16/26   train_loss = 0.254\n",
      "Epoch 310 Batch   25/26   train_loss = 0.232\n",
      "Epoch 312 Batch    8/26   train_loss = 0.219\n",
      "Epoch 313 Batch   17/26   train_loss = 0.201\n",
      "Epoch 315 Batch    0/26   train_loss = 0.288\n",
      "Epoch 316 Batch    9/26   train_loss = 0.255\n",
      "Epoch 317 Batch   18/26   train_loss = 0.232\n",
      "Epoch 319 Batch    1/26   train_loss = 0.231\n",
      "Epoch 320 Batch   10/26   train_loss = 0.270\n",
      "Epoch 321 Batch   19/26   train_loss = 0.284\n",
      "Epoch 323 Batch    2/26   train_loss = 0.206\n",
      "Epoch 324 Batch   11/26   train_loss = 0.273\n",
      "Epoch 325 Batch   20/26   train_loss = 0.247\n",
      "Epoch 327 Batch    3/26   train_loss = 0.237\n",
      "Epoch 328 Batch   12/26   train_loss = 0.217\n",
      "Epoch 329 Batch   21/26   train_loss = 0.212\n",
      "Epoch 331 Batch    4/26   train_loss = 0.292\n",
      "Epoch 332 Batch   13/26   train_loss = 0.259\n",
      "Epoch 333 Batch   22/26   train_loss = 0.248\n",
      "Epoch 335 Batch    5/26   train_loss = 0.306\n",
      "Epoch 336 Batch   14/26   train_loss = 0.237\n",
      "Epoch 337 Batch   23/26   train_loss = 0.305\n",
      "Epoch 339 Batch    6/26   train_loss = 0.256\n",
      "Epoch 340 Batch   15/26   train_loss = 0.226\n",
      "Epoch 341 Batch   24/26   train_loss = 0.300\n",
      "Epoch 343 Batch    7/26   train_loss = 0.249\n",
      "Epoch 344 Batch   16/26   train_loss = 0.248\n",
      "Epoch 345 Batch   25/26   train_loss = 0.212\n",
      "Epoch 347 Batch    8/26   train_loss = 0.219\n",
      "Epoch 348 Batch   17/26   train_loss = 0.198\n",
      "Epoch 350 Batch    0/26   train_loss = 0.273\n",
      "Epoch 351 Batch    9/26   train_loss = 0.251\n",
      "Epoch 352 Batch   18/26   train_loss = 0.227\n",
      "Epoch 354 Batch    1/26   train_loss = 0.216\n",
      "Epoch 355 Batch   10/26   train_loss = 0.260\n",
      "Epoch 356 Batch   19/26   train_loss = 0.267\n",
      "Epoch 358 Batch    2/26   train_loss = 0.214\n",
      "Epoch 359 Batch   11/26   train_loss = 0.243\n",
      "Epoch 360 Batch   20/26   train_loss = 0.231\n",
      "Epoch 362 Batch    3/26   train_loss = 0.230\n",
      "Epoch 363 Batch   12/26   train_loss = 0.213\n",
      "Epoch 364 Batch   21/26   train_loss = 0.198\n",
      "Epoch 366 Batch    4/26   train_loss = 0.248\n",
      "Epoch 367 Batch   13/26   train_loss = 0.223\n",
      "Epoch 368 Batch   22/26   train_loss = 0.211\n",
      "Epoch 370 Batch    5/26   train_loss = 0.266\n",
      "Epoch 371 Batch   14/26   train_loss = 0.215\n",
      "Epoch 372 Batch   23/26   train_loss = 0.272\n",
      "Epoch 374 Batch    6/26   train_loss = 0.220\n",
      "Epoch 375 Batch   15/26   train_loss = 0.222\n",
      "Epoch 376 Batch   24/26   train_loss = 0.282\n",
      "Epoch 378 Batch    7/26   train_loss = 0.241\n",
      "Epoch 379 Batch   16/26   train_loss = 0.237\n",
      "Epoch 380 Batch   25/26   train_loss = 0.214\n",
      "Epoch 382 Batch    8/26   train_loss = 0.207\n",
      "Epoch 383 Batch   17/26   train_loss = 0.183\n",
      "Epoch 385 Batch    0/26   train_loss = 0.272\n",
      "Epoch 386 Batch    9/26   train_loss = 0.253\n",
      "Epoch 387 Batch   18/26   train_loss = 0.226\n",
      "Epoch 389 Batch    1/26   train_loss = 0.217\n",
      "Epoch 390 Batch   10/26   train_loss = 0.246\n",
      "Epoch 391 Batch   19/26   train_loss = 0.262\n",
      "Epoch 393 Batch    2/26   train_loss = 0.197\n",
      "Epoch 394 Batch   11/26   train_loss = 0.238\n",
      "Epoch 395 Batch   20/26   train_loss = 0.233\n",
      "Epoch 397 Batch    3/26   train_loss = 0.224\n",
      "Epoch 398 Batch   12/26   train_loss = 0.209\n",
      "Epoch 399 Batch   21/26   train_loss = 0.193\n",
      "Epoch 401 Batch    4/26   train_loss = 0.258\n",
      "Epoch 402 Batch   13/26   train_loss = 0.216\n",
      "Epoch 403 Batch   22/26   train_loss = 0.211\n",
      "Epoch 405 Batch    5/26   train_loss = 0.253\n",
      "Epoch 406 Batch   14/26   train_loss = 0.204\n",
      "Epoch 407 Batch   23/26   train_loss = 0.263\n",
      "Epoch 409 Batch    6/26   train_loss = 0.212\n",
      "Epoch 410 Batch   15/26   train_loss = 0.212\n",
      "Epoch 411 Batch   24/26   train_loss = 0.286\n",
      "Epoch 413 Batch    7/26   train_loss = 0.241\n",
      "Epoch 414 Batch   16/26   train_loss = 0.241\n",
      "Epoch 415 Batch   25/26   train_loss = 0.206\n",
      "Epoch 417 Batch    8/26   train_loss = 0.206\n",
      "Epoch 418 Batch   17/26   train_loss = 0.183\n",
      "Epoch 420 Batch    0/26   train_loss = 0.273\n",
      "Epoch 421 Batch    9/26   train_loss = 0.253\n",
      "Epoch 422 Batch   18/26   train_loss = 0.216\n",
      "Epoch 424 Batch    1/26   train_loss = 0.218\n",
      "Epoch 425 Batch   10/26   train_loss = 0.244\n",
      "Epoch 426 Batch   19/26   train_loss = 0.272\n",
      "Epoch 428 Batch    2/26   train_loss = 0.201\n",
      "Epoch 429 Batch   11/26   train_loss = 0.243\n",
      "Epoch 430 Batch   20/26   train_loss = 0.224\n",
      "Epoch 432 Batch    3/26   train_loss = 0.220\n",
      "Epoch 433 Batch   12/26   train_loss = 0.201\n",
      "Epoch 434 Batch   21/26   train_loss = 0.203\n",
      "Epoch 436 Batch    4/26   train_loss = 0.278\n",
      "Epoch 437 Batch   13/26   train_loss = 0.249\n",
      "Epoch 438 Batch   22/26   train_loss = 0.342\n",
      "Epoch 440 Batch    5/26   train_loss = 0.286\n",
      "Epoch 441 Batch   14/26   train_loss = 0.220\n",
      "Epoch 442 Batch   23/26   train_loss = 0.276\n",
      "Epoch 444 Batch    6/26   train_loss = 0.226\n",
      "Epoch 445 Batch   15/26   train_loss = 0.212\n",
      "Epoch 446 Batch   24/26   train_loss = 0.280\n",
      "Epoch 448 Batch    7/26   train_loss = 0.232\n",
      "Epoch 449 Batch   16/26   train_loss = 0.243\n",
      "Epoch 450 Batch   25/26   train_loss = 0.205\n",
      "Epoch 452 Batch    8/26   train_loss = 0.202\n",
      "Epoch 453 Batch   17/26   train_loss = 0.171\n",
      "Epoch 455 Batch    0/26   train_loss = 0.263\n",
      "Epoch 456 Batch    9/26   train_loss = 0.251\n",
      "Epoch 457 Batch   18/26   train_loss = 0.204\n",
      "Epoch 459 Batch    1/26   train_loss = 0.203\n",
      "Epoch 460 Batch   10/26   train_loss = 0.246\n",
      "Epoch 461 Batch   19/26   train_loss = 0.262\n",
      "Epoch 463 Batch    2/26   train_loss = 0.194\n",
      "Epoch 464 Batch   11/26   train_loss = 0.240\n",
      "Epoch 465 Batch   20/26   train_loss = 0.224\n",
      "Epoch 467 Batch    3/26   train_loss = 0.215\n",
      "Epoch 468 Batch   12/26   train_loss = 0.201\n",
      "Epoch 469 Batch   21/26   train_loss = 0.192\n",
      "Epoch 471 Batch    4/26   train_loss = 0.235\n",
      "Epoch 472 Batch   13/26   train_loss = 0.220\n",
      "Epoch 473 Batch   22/26   train_loss = 0.199\n",
      "Epoch 475 Batch    5/26   train_loss = 0.253\n",
      "Epoch 476 Batch   14/26   train_loss = 0.200\n",
      "Epoch 477 Batch   23/26   train_loss = 0.257\n",
      "Epoch 479 Batch    6/26   train_loss = 0.209\n",
      "Epoch 480 Batch   15/26   train_loss = 0.210\n",
      "Epoch 481 Batch   24/26   train_loss = 0.274\n",
      "Epoch 483 Batch    7/26   train_loss = 0.227\n",
      "Epoch 484 Batch   16/26   train_loss = 0.233\n",
      "Epoch 485 Batch   25/26   train_loss = 0.211\n",
      "Epoch 487 Batch    8/26   train_loss = 0.196\n",
      "Epoch 488 Batch   17/26   train_loss = 0.190\n",
      "Epoch 490 Batch    0/26   train_loss = 0.269\n",
      "Epoch 491 Batch    9/26   train_loss = 0.252\n",
      "Epoch 492 Batch   18/26   train_loss = 0.209\n",
      "Epoch 494 Batch    1/26   train_loss = 0.210\n",
      "Epoch 495 Batch   10/26   train_loss = 0.243\n",
      "Epoch 496 Batch   19/26   train_loss = 0.261\n",
      "Epoch 498 Batch    2/26   train_loss = 0.188\n",
      "Epoch 499 Batch   11/26   train_loss = 0.235\n",
      "Epoch 500 Batch   20/26   train_loss = 0.227\n",
      "Epoch 502 Batch    3/26   train_loss = 0.216\n",
      "Epoch 503 Batch   12/26   train_loss = 0.197\n",
      "Epoch 504 Batch   21/26   train_loss = 0.182\n",
      "Epoch 506 Batch    4/26   train_loss = 0.248\n",
      "Epoch 507 Batch   13/26   train_loss = 0.215\n",
      "Epoch 508 Batch   22/26   train_loss = 0.196\n",
      "Epoch 510 Batch    5/26   train_loss = 0.252\n",
      "Epoch 511 Batch   14/26   train_loss = 0.198\n",
      "Model Trained and Saved\n"
     ]
    }
   ],
   "source": [
    "\"\"\"\n",
    "DON'T MODIFY ANYTHING IN THIS CELL\n",
    "\"\"\"\n",
    "batches = get_batches(int_text, batch_size, seq_length)\n",
    "\n",
    "with tf.Session(graph=train_graph) as sess:\n",
    "    sess.run(tf.global_variables_initializer())\n",
    "\n",
    "    for epoch_i in range(num_epochs):\n",
    "        state = sess.run(initial_state, {input_text: batches[0][0]})\n",
    "\n",
    "        for batch_i, (x, y) in enumerate(batches):\n",
    "            feed = {\n",
    "                input_text: x,\n",
    "                targets: y,\n",
    "                initial_state: state,\n",
    "                lr: learning_rate}\n",
    "            train_loss, state, _ = sess.run([cost, final_state, train_op], feed)\n",
    "\n",
    "            # Show every <show_every_n_batches> batches\n",
    "            if (epoch_i * len(batches) + batch_i) % show_every_n_batches == 0:\n",
    "                print('Epoch {:>3} Batch {:>4}/{}   train_loss = {:.3f}'.format(\n",
    "                    epoch_i,\n",
    "                    batch_i,\n",
    "                    len(batches),\n",
    "                    train_loss))\n",
    "\n",
    "    # Save Model\n",
    "    saver = tf.train.Saver()\n",
    "    saver.save(sess, save_dir)\n",
    "    print('Model Trained and Saved')"
   ]
  },
  {
   "cell_type": "markdown",
   "metadata": {
    "deletable": true,
    "editable": true
   },
   "source": [
    "## Save Parameters\n",
    "Save `seq_length` and `save_dir` for generating a new TV script."
   ]
  },
  {
   "cell_type": "code",
   "execution_count": 74,
   "metadata": {
    "collapsed": false,
    "deletable": true,
    "editable": true
   },
   "outputs": [],
   "source": [
    "\"\"\"\n",
    "DON'T MODIFY ANYTHING IN THIS CELL\n",
    "\"\"\"\n",
    "# Save parameters for checkpoint\n",
    "helper.save_params((seq_length, save_dir))"
   ]
  },
  {
   "cell_type": "markdown",
   "metadata": {
    "deletable": true,
    "editable": true
   },
   "source": [
    "# Checkpoint"
   ]
  },
  {
   "cell_type": "code",
   "execution_count": 75,
   "metadata": {
    "collapsed": false,
    "deletable": true,
    "editable": true
   },
   "outputs": [],
   "source": [
    "\"\"\"\n",
    "DON'T MODIFY ANYTHING IN THIS CELL\n",
    "\"\"\"\n",
    "import tensorflow as tf\n",
    "import numpy as np\n",
    "import helper\n",
    "import problem_unittests as tests\n",
    "\n",
    "_, vocab_to_int, int_to_vocab, token_dict = helper.load_preprocess()\n",
    "seq_length, load_dir = helper.load_params()"
   ]
  },
  {
   "cell_type": "markdown",
   "metadata": {
    "deletable": true,
    "editable": true
   },
   "source": [
    "## Implement Generate Functions\n",
    "### Get Tensors\n",
    "Get tensors from `loaded_graph` using the function [`get_tensor_by_name()`](https://www.tensorflow.org/api_docs/python/tf/Graph#get_tensor_by_name).  Get the tensors using the following names:\n",
    "- \"input:0\"\n",
    "- \"initial_state:0\"\n",
    "- \"final_state:0\"\n",
    "- \"probs:0\"\n",
    "\n",
    "Return the tensors in the following tuple `(InputTensor, InitialStateTensor, FinalStateTensor, ProbsTensor)` "
   ]
  },
  {
   "cell_type": "code",
   "execution_count": 79,
   "metadata": {
    "collapsed": false,
    "deletable": true,
    "editable": true
   },
   "outputs": [
    {
     "name": "stdout",
     "output_type": "stream",
     "text": [
      "Tests Passed\n"
     ]
    }
   ],
   "source": [
    "def get_tensors(loaded_graph):\n",
    "    \"\"\"\n",
    "    Get input, initial state, final state, and probabilities tensor from <loaded_graph>\n",
    "    :param loaded_graph: TensorFlow graph loaded from file\n",
    "    :return: Tuple (InputTensor, InitialStateTensor, FinalStateTensor, ProbsTensor)\n",
    "    \"\"\"\n",
    "    # TODO: Implement Function\n",
    "    input = loaded_graph.get_tensor_by_name(\"input:0\")\n",
    "    initial_state = loaded_graph.get_tensor_by_name(\"initial_state:0\")\n",
    "    final_state = loaded_graph.get_tensor_by_name(\"final_state:0\")\n",
    "    probs = loaded_graph.get_tensor_by_name(\"probs:0\")\n",
    "    \n",
    "    return input, initial_state, final_state, probs\n",
    "\n",
    "\n",
    "\"\"\"\n",
    "DON'T MODIFY ANYTHING IN THIS CELL THAT IS BELOW THIS LINE\n",
    "\"\"\"\n",
    "tests.test_get_tensors(get_tensors)"
   ]
  },
  {
   "cell_type": "markdown",
   "metadata": {
    "deletable": true,
    "editable": true
   },
   "source": [
    "### Choose Word\n",
    "Implement the `pick_word()` function to select the next word using `probabilities`."
   ]
  },
  {
   "cell_type": "code",
   "execution_count": 84,
   "metadata": {
    "collapsed": false,
    "deletable": true,
    "editable": true
   },
   "outputs": [
    {
     "name": "stdout",
     "output_type": "stream",
     "text": [
      "Tests Passed\n"
     ]
    }
   ],
   "source": [
    "def pick_word(probabilities, int_to_vocab):\n",
    "    \"\"\"\n",
    "    Pick the next word in the generated text\n",
    "    :param probabilities: Probabilites of the next word\n",
    "    :param int_to_vocab: Dictionary of word ids as the keys and words as the values\n",
    "    :return: String of the predicted word\n",
    "    \"\"\"\n",
    "    # TODO: Implement Function\n",
    "    index = np.argmax(probabilities)\n",
    "    return int_to_vocab[index]\n",
    "\n",
    "\n",
    "\"\"\"\n",
    "DON'T MODIFY ANYTHING IN THIS CELL THAT IS BELOW THIS LINE\n",
    "\"\"\"\n",
    "tests.test_pick_word(pick_word)"
   ]
  },
  {
   "cell_type": "markdown",
   "metadata": {
    "deletable": true,
    "editable": true
   },
   "source": [
    "## Generate TV Script\n",
    "This will generate the TV script for you.  Set `gen_length` to the length of TV script you want to generate."
   ]
  },
  {
   "cell_type": "code",
   "execution_count": 85,
   "metadata": {
    "collapsed": false,
    "deletable": true,
    "editable": true
   },
   "outputs": [
    {
     "name": "stdout",
     "output_type": "stream",
     "text": [
      "moe_szyslak:\n",
      "homer_simpson:, five, lookin', what's wrote, spot with, i'll of what's bee, cough couldn't a pursue doll good, drinking and a she)\" a owner would mix,\", homer. and a had a mouth a you're it you you like, flaming moe, moe is it.,., why about flaming moe, did.?\n",
      "homer_simpson: why, homer need ever.\n",
      "homer_simpson: i'm lighting) homer on. rotch, guys machine minutes of\n",
      "homer_simpson: i'm lighting, not. i'm wiggum right for, i'm my for of i doesn't. but you a do a offer this bartender's of the you. tester on do the genius dollar who.\n",
      "bart_simpson:. that's, what's right you go there, i'll, you're hired)\",. of not. i'm hans: oh you\" nose.(. and you\".? nobody?\n",
      "homer_simpson: that's, do, name, from have?\n",
      "moe_szyslak: hey drink. the half milk you alcohol\"? burns.\" do, monkeyshines. do\n"
     ]
    }
   ],
   "source": [
    "gen_length = 200\n",
    "# homer_simpson, moe_szyslak, or Barney_Gumble\n",
    "prime_word = 'moe_szyslak'\n",
    "\n",
    "\"\"\"\n",
    "DON'T MODIFY ANYTHING IN THIS CELL THAT IS BELOW THIS LINE\n",
    "\"\"\"\n",
    "loaded_graph = tf.Graph()\n",
    "with tf.Session(graph=loaded_graph) as sess:\n",
    "    # Load saved model\n",
    "    loader = tf.train.import_meta_graph(load_dir + '.meta')\n",
    "    loader.restore(sess, load_dir)\n",
    "\n",
    "    # Get Tensors from loaded model\n",
    "    input_text, initial_state, final_state, probs = get_tensors(loaded_graph)\n",
    "\n",
    "    # Sentences generation setup\n",
    "    gen_sentences = [prime_word + ':']\n",
    "    prev_state = sess.run(initial_state, {input_text: np.array([[1]])})\n",
    "\n",
    "    # Generate sentences\n",
    "    for n in range(gen_length):\n",
    "        # Dynamic Input\n",
    "        dyn_input = [[vocab_to_int[word] for word in gen_sentences[-seq_length:]]]\n",
    "        dyn_seq_length = len(dyn_input[0])\n",
    "\n",
    "        # Get Prediction\n",
    "        probabilities, prev_state = sess.run(\n",
    "            [probs, final_state],\n",
    "            {input_text: dyn_input, initial_state: prev_state})\n",
    "        \n",
    "        pred_word = pick_word(probabilities[dyn_seq_length-1], int_to_vocab)\n",
    "\n",
    "        gen_sentences.append(pred_word)\n",
    "    \n",
    "    # Remove tokens\n",
    "    tv_script = ' '.join(gen_sentences)\n",
    "    for key, token in token_dict.items():\n",
    "        ending = ' ' if key in ['\\n', '(', '\"'] else ''\n",
    "        tv_script = tv_script.replace(' ' + token.lower(), key)\n",
    "    tv_script = tv_script.replace('\\n ', '\\n')\n",
    "    tv_script = tv_script.replace('( ', '(')\n",
    "        \n",
    "    print(tv_script)"
   ]
  },
  {
   "cell_type": "markdown",
   "metadata": {
    "deletable": true,
    "editable": true
   },
   "source": [
    "# The TV Script is Nonsensical\n",
    "It's ok if the TV script doesn't make any sense.  We trained on less than a megabyte of text.  In order to get good results, you'll have to use a smaller vocabulary or get more data.  Luckly there's more data!  As we mentioned in the begging of this project, this is a subset of [another dataset](https://www.kaggle.com/wcukierski/the-simpsons-by-the-data).  We didn't have you train on all the data, because that would take too long.  However, you are free to train your neural network on all the data.  After you complete the project, of course.\n",
    "# Submitting This Project\n",
    "When submitting this project, make sure to run all the cells before saving the notebook. Save the notebook file as \"dlnd_tv_script_generation.ipynb\" and save it as a HTML file under \"File\" -> \"Download as\". Include the \"helper.py\" and \"problem_unittests.py\" files in your submission."
   ]
  }
 ],
 "metadata": {
  "anaconda-cloud": {},
  "kernelspec": {
   "display_name": "Python [conda env:tensorflow]",
   "language": "python",
   "name": "conda-env-tensorflow-py"
  },
  "language_info": {
   "codemirror_mode": {
    "name": "ipython",
    "version": 3
   },
   "file_extension": ".py",
   "mimetype": "text/x-python",
   "name": "python",
   "nbconvert_exporter": "python",
   "pygments_lexer": "ipython3",
   "version": "3.5.3"
  }
 },
 "nbformat": 4,
 "nbformat_minor": 0
}
