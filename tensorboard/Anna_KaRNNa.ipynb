{
 "cells": [
  {
   "cell_type": "markdown",
   "metadata": {},
   "source": [
    "# Anna KaRNNa\n",
    "\n",
    "In this notebook, I'll build a character-wise RNN trained on Anna Karenina, one of my all-time favorite books. It'll be able to generate new text based on the text from the book.\n",
    "\n",
    "This network is based off of Andrej Karpathy's [post on RNNs](http://karpathy.github.io/2015/05/21/rnn-effectiveness/) and [implementation in Torch](https://github.com/karpathy/char-rnn). Also, some information [here at r2rt](http://r2rt.com/recurrent-neural-networks-in-tensorflow-ii.html) and from [Sherjil Ozair](https://github.com/sherjilozair/char-rnn-tensorflow) on GitHub. Below is the general architecture of the character-wise RNN.\n",
    "\n",
    "<img src=\"assets/charseq.jpeg\" width=\"500\">"
   ]
  },
  {
   "cell_type": "code",
   "execution_count": 1,
   "metadata": {
    "collapsed": true
   },
   "outputs": [],
   "source": [
    "import time\n",
    "from collections import namedtuple\n",
    "\n",
    "import numpy as np\n",
    "import tensorflow as tf"
   ]
  },
  {
   "cell_type": "markdown",
   "metadata": {},
   "source": [
    "First we'll load the text file and convert it into integers for our network to use."
   ]
  },
  {
   "cell_type": "code",
   "execution_count": 2,
   "metadata": {
    "collapsed": true
   },
   "outputs": [],
   "source": [
    "with open('anna.txt', 'r') as f:\n",
    "    text=f.read()\n",
    "vocab = set(text)\n",
    "vocab_to_int = {c: i for i, c in enumerate(vocab)}\n",
    "int_to_vocab = dict(enumerate(vocab))\n",
    "chars = np.array([vocab_to_int[c] for c in text], dtype=np.int32)"
   ]
  },
  {
   "cell_type": "code",
   "execution_count": 3,
   "metadata": {},
   "outputs": [
    {
     "data": {
      "text/plain": [
       "'Chapter 1\\n\\n\\nHappy families are all alike; every unhappy family is unhappy in its own\\nway.\\n\\nEverythin'"
      ]
     },
     "execution_count": 3,
     "metadata": {},
     "output_type": "execute_result"
    }
   ],
   "source": [
    "text[:100]"
   ]
  },
  {
   "cell_type": "code",
   "execution_count": 4,
   "metadata": {},
   "outputs": [
    {
     "data": {
      "text/plain": [
       "array([32, 62, 13, 31, 47, 45, 65, 80, 71, 58, 58, 58,  4, 13, 31, 31, 22,\n",
       "       80,  1, 13, 53, 59, 54, 59, 45,  2, 80, 13, 65, 45, 80, 13, 54, 54,\n",
       "       80, 13, 54, 59, 25, 45, 39, 80, 45, 19, 45, 65, 22, 80,  7, 26, 62,\n",
       "       13, 31, 31, 22, 80,  1, 13, 53, 59, 54, 22, 80, 59,  2, 80,  7, 26,\n",
       "       62, 13, 31, 31, 22, 80, 59, 26, 80, 59, 47,  2, 80, 30, 76, 26, 58,\n",
       "       76, 13, 22, 14, 58, 58,  0, 19, 45, 65, 22, 47, 62, 59, 26], dtype=int32)"
      ]
     },
     "execution_count": 4,
     "metadata": {},
     "output_type": "execute_result"
    }
   ],
   "source": [
    "chars[:100]"
   ]
  },
  {
   "cell_type": "markdown",
   "metadata": {},
   "source": [
    "Now I need to split up the data into batches, and into training and validation sets. I should be making a test set here, but I'm not going to worry about that. My test will be if the network can generate new text.\n",
    "\n",
    "Here I'll make both input and target arrays. The targets are the same as the inputs, except shifted one character over. I'll also drop the last bit of data so that I'll only have completely full batches.\n",
    "\n",
    "The idea here is to make a 2D matrix where the number of rows is equal to the number of batches. Each row will be one long concatenated string from the character data. We'll split this data into a training set and validation set using the `split_frac` keyword. This will keep 90% of the batches in the training set, the other 10% in the validation set."
   ]
  },
  {
   "cell_type": "code",
   "execution_count": 5,
   "metadata": {
    "collapsed": true
   },
   "outputs": [],
   "source": [
    "def split_data(chars, batch_size, num_steps, split_frac=0.9):\n",
    "    \"\"\" \n",
    "    Split character data into training and validation sets, inputs and targets for each set.\n",
    "    \n",
    "    Arguments\n",
    "    ---------\n",
    "    chars: character array\n",
    "    batch_size: Size of examples in each of batch\n",
    "    num_steps: Number of sequence steps to keep in the input and pass to the network\n",
    "    split_frac: Fraction of batches to keep in the training set\n",
    "    \n",
    "    \n",
    "    Returns train_x, train_y, val_x, val_y\n",
    "    \"\"\"\n",
    "    \n",
    "    \n",
    "    slice_size = batch_size * num_steps\n",
    "    n_batches = int(len(chars) / slice_size)\n",
    "    \n",
    "    # Drop the last few characters to make only full batches\n",
    "    x = chars[: n_batches*slice_size]\n",
    "    y = chars[1: n_batches*slice_size + 1]\n",
    "    \n",
    "    # Split the data into batch_size slices, then stack them into a 2D matrix \n",
    "    x = np.stack(np.split(x, batch_size))\n",
    "    y = np.stack(np.split(y, batch_size))\n",
    "    \n",
    "    # Now x and y are arrays with dimensions batch_size x n_batches*num_steps\n",
    "    \n",
    "    # Split into training and validation sets, keep the virst split_frac batches for training\n",
    "    split_idx = int(n_batches*split_frac)\n",
    "    train_x, train_y= x[:, :split_idx*num_steps], y[:, :split_idx*num_steps]\n",
    "    val_x, val_y = x[:, split_idx*num_steps:], y[:, split_idx*num_steps:]\n",
    "    \n",
    "    return train_x, train_y, val_x, val_y"
   ]
  },
  {
   "cell_type": "code",
   "execution_count": 6,
   "metadata": {
    "collapsed": true
   },
   "outputs": [],
   "source": [
    "train_x, train_y, val_x, val_y = split_data(chars, 10, 200)"
   ]
  },
  {
   "cell_type": "code",
   "execution_count": 7,
   "metadata": {},
   "outputs": [
    {
     "data": {
      "text/plain": [
       "(10, 178400)"
      ]
     },
     "execution_count": 7,
     "metadata": {},
     "output_type": "execute_result"
    }
   ],
   "source": [
    "train_x.shape"
   ]
  },
  {
   "cell_type": "code",
   "execution_count": 8,
   "metadata": {},
   "outputs": [
    {
     "data": {
      "text/plain": [
       "array([[32, 62, 13, 31, 47, 45, 65, 80, 71, 58],\n",
       "       [48, 26, 37, 80, 62, 45, 80, 53, 30, 19],\n",
       "       [80, 69, 13, 47, 69, 62, 59, 26, 41, 80],\n",
       "       [30, 47, 62, 45, 65, 80, 76, 30,  7, 54],\n",
       "       [80, 47, 62, 45, 80, 54, 13, 26, 37, 23],\n",
       "       [80, 15, 62, 65, 30,  7, 41, 62, 80, 54],\n",
       "       [47, 80, 47, 30, 58, 37, 30, 14, 58, 58],\n",
       "       [30, 80, 62, 45, 65,  2, 45, 54,  1, 40],\n",
       "       [62, 13, 47, 80, 59,  2, 80, 47, 62, 45],\n",
       "       [45, 65,  2, 45, 54,  1, 80, 13, 26, 37]], dtype=int32)"
      ]
     },
     "execution_count": 8,
     "metadata": {},
     "output_type": "execute_result"
    }
   ],
   "source": [
    "train_x[:,:10]"
   ]
  },
  {
   "cell_type": "markdown",
   "metadata": {},
   "source": [
    "I'll write another function to grab batches out of the arrays made by split data. Here each batch will be a sliding window on these arrays with size `batch_size X num_steps`. For example, if we want our network to train on a sequence of 100 characters, `num_steps = 100`. For the next batch, we'll shift this window the next sequence of `num_steps` characters. In this way we can feed batches to the network and the cell states will continue through on each batch."
   ]
  },
  {
   "cell_type": "code",
   "execution_count": 9,
   "metadata": {
    "collapsed": true
   },
   "outputs": [],
   "source": [
    "def get_batch(arrs, num_steps):\n",
    "    batch_size, slice_size = arrs[0].shape\n",
    "    \n",
    "    n_batches = int(slice_size/num_steps)\n",
    "    for b in range(n_batches):\n",
    "        yield [x[:, b*num_steps: (b+1)*num_steps] for x in arrs]"
   ]
  },
  {
   "cell_type": "code",
   "execution_count": 19,
   "metadata": {
    "collapsed": true
   },
   "outputs": [],
   "source": [
    "def make_cell(lstm_size, keep_prob):\n",
    "    lstm = tf.contrib.rnn.BasicLSTMCell(lstm_size)\n",
    "    drop = tf.contrib.rnn.DropoutWrapper(lstm, output_keep_prob=keep_prob)\n",
    "    return drop\n",
    "\n",
    "def build_rnn(num_classes, batch_size=50, num_steps=50, lstm_size=128, num_layers=2,\n",
    "              learning_rate=0.001, grad_clip=5, sampling=False):\n",
    "        \n",
    "    if sampling == True:\n",
    "        batch_size, num_steps = 1, 1\n",
    "\n",
    "    tf.reset_default_graph()\n",
    "    \n",
    "    # Declare placeholders we'll feed into the graph\n",
    "    \n",
    "    inputs = tf.placeholder(tf.int32, [batch_size, num_steps], name='inputs')\n",
    "    x_one_hot = tf.one_hot(inputs, num_classes, name='x_one_hot')\n",
    "\n",
    "\n",
    "    targets = tf.placeholder(tf.int32, [batch_size, num_steps], name='targets')\n",
    "    y_one_hot = tf.one_hot(targets, num_classes, name='y_one_hot')\n",
    "    y_reshaped = tf.reshape(y_one_hot, [-1, num_classes])\n",
    "    \n",
    "    keep_prob = tf.placeholder(tf.float32, name='keep_prob')\n",
    "    \n",
    "    # Build the RNN layers\n",
    "    \n",
    "#     lstm = tf.contrib.rnn.BasicLSTMCell(lstm_size)\n",
    "#     drop = tf.contrib.rnn.DropoutWrapper(lstm, output_keep_prob=keep_prob)\n",
    "    cell = tf.contrib.rnn.MultiRNNCell([make_cell(lstm_size, keep_prob) for _ in range(num_layers)])\n",
    "\n",
    "    initial_state = cell.zero_state(batch_size, tf.float32)\n",
    "\n",
    "    # Run the data through the RNN layers\n",
    "    outputs, state = tf.nn.dynamic_rnn(cell, x_one_hot, initial_state=initial_state)\n",
    "    final_state = state\n",
    "    \n",
    "    # Reshape output so it's a bunch of rows, one row for each cell output\n",
    "    \n",
    "    seq_output = tf.concat(outputs, axis=1,name='seq_output')\n",
    "    output = tf.reshape(seq_output, [-1, lstm_size], name='graph_output')\n",
    "    \n",
    "    # Now connect the RNN putputs to a softmax layer and calculate the cost\n",
    "    softmax_w = tf.Variable(tf.truncated_normal((lstm_size, num_classes), stddev=0.1),\n",
    "                           name='softmax_w')\n",
    "    softmax_b = tf.Variable(tf.zeros(num_classes), name='softmax_b')\n",
    "    logits = tf.matmul(output, softmax_w) + softmax_b\n",
    "\n",
    "    preds = tf.nn.softmax(logits, name='predictions')\n",
    "    \n",
    "    loss = tf.nn.softmax_cross_entropy_with_logits(logits=logits, labels=y_reshaped, name='loss')\n",
    "    cost = tf.reduce_mean(loss, name='cost')\n",
    "\n",
    "    # Optimizer for training, using gradient clipping to control exploding gradients\n",
    "    tvars = tf.trainable_variables()\n",
    "    grads, _ = tf.clip_by_global_norm(tf.gradients(cost, tvars), grad_clip)\n",
    "    train_op = tf.train.AdamOptimizer(learning_rate)\n",
    "    optimizer = train_op.apply_gradients(zip(grads, tvars))\n",
    "\n",
    "    # Export the nodes \n",
    "    export_nodes = ['inputs', 'targets', 'initial_state', 'final_state',\n",
    "                    'keep_prob', 'cost', 'preds', 'optimizer']\n",
    "    Graph = namedtuple('Graph', export_nodes)\n",
    "    local_dict = locals()\n",
    "    graph = Graph(*[local_dict[each] for each in export_nodes])\n",
    "    \n",
    "    return graph"
   ]
  },
  {
   "cell_type": "markdown",
   "metadata": {},
   "source": [
    "## Hyperparameters\n",
    "\n",
    "Here I'm defining the hyperparameters for the network. The two you probably haven't seen before are `lstm_size` and `num_layers`. These set the number of hidden units in the LSTM layers and the number of LSTM layers, respectively. Of course, making these bigger will improve the network's performance but you'll have to watch out for overfitting. If your validation loss is much larger than the training loss, you're probably overfitting. Decrease the size of the network or decrease the dropout keep probability."
   ]
  },
  {
   "cell_type": "code",
   "execution_count": 20,
   "metadata": {
    "collapsed": true
   },
   "outputs": [],
   "source": [
    "batch_size = 100\n",
    "num_steps = 100\n",
    "lstm_size = 512\n",
    "num_layers = 2\n",
    "learning_rate = 0.001"
   ]
  },
  {
   "cell_type": "markdown",
   "metadata": {},
   "source": [
    "## Write out the graph for TensorBoard"
   ]
  },
  {
   "cell_type": "code",
   "execution_count": 21,
   "metadata": {},
   "outputs": [],
   "source": [
    "model = build_rnn(len(vocab),\n",
    "                  batch_size=batch_size,\n",
    "                  num_steps=num_steps,\n",
    "                  learning_rate=learning_rate,\n",
    "                  lstm_size=lstm_size,\n",
    "                  num_layers=num_layers)\n",
    "\n",
    "with tf.Session() as sess:\n",
    "    \n",
    "    sess.run(tf.global_variables_initializer())\n",
    "    file_writer = tf.summary.FileWriter('./logs/1', sess.graph)"
   ]
  },
  {
   "cell_type": "markdown",
   "metadata": {},
   "source": [
    "## Training\n",
    "\n",
    "Time for training which is is pretty straightforward. Here I pass in some data, and get an LSTM state back. Then I pass that state back in to the network so the next batch can continue the state from the previous batch. And every so often (set by `save_every_n`) I calculate the validation loss and save a checkpoint."
   ]
  },
  {
   "cell_type": "code",
   "execution_count": 22,
   "metadata": {
    "collapsed": true
   },
   "outputs": [],
   "source": [
    "!mkdir -p checkpoints/anna"
   ]
  },
  {
   "cell_type": "code",
   "execution_count": 23,
   "metadata": {
    "scrolled": true
   },
   "outputs": [
    {
     "name": "stdout",
     "output_type": "stream",
     "text": [
      "Epoch 1/1  Iteration 1/178 Training loss: 4.4157 3.5962 sec/batch\n",
      "Epoch 1/1  Iteration 2/178 Training loss: 4.3643 3.3161 sec/batch\n",
      "Epoch 1/1  Iteration 3/178 Training loss: 4.1512 3.3586 sec/batch\n",
      "Epoch 1/1  Iteration 4/178 Training loss: 4.1624 3.2878 sec/batch\n",
      "Epoch 1/1  Iteration 5/178 Training loss: 4.1146 3.3146 sec/batch\n",
      "Epoch 1/1  Iteration 6/178 Training loss: 4.0482 3.3122 sec/batch\n",
      "Epoch 1/1  Iteration 7/178 Training loss: 3.9788 3.3004 sec/batch\n",
      "Epoch 1/1  Iteration 8/178 Training loss: 3.9113 3.3655 sec/batch\n",
      "Epoch 1/1  Iteration 9/178 Training loss: 3.8519 3.4635 sec/batch\n",
      "Epoch 1/1  Iteration 10/178 Training loss: 3.8038 3.3761 sec/batch\n",
      "Epoch 1/1  Iteration 11/178 Training loss: 3.7614 3.3843 sec/batch\n",
      "Epoch 1/1  Iteration 12/178 Training loss: 3.7262 3.4938 sec/batch\n",
      "Epoch 1/1  Iteration 13/178 Training loss: 3.6942 3.4283 sec/batch\n",
      "Epoch 1/1  Iteration 14/178 Training loss: 3.6673 3.4305 sec/batch\n",
      "Epoch 1/1  Iteration 15/178 Training loss: 3.6422 3.4734 sec/batch\n",
      "Epoch 1/1  Iteration 16/178 Training loss: 3.6189 3.4815 sec/batch\n",
      "Epoch 1/1  Iteration 17/178 Training loss: 3.5978 3.4176 sec/batch\n",
      "Epoch 1/1  Iteration 18/178 Training loss: 3.5797 3.4608 sec/batch\n",
      "Epoch 1/1  Iteration 19/178 Training loss: 3.5632 3.4209 sec/batch\n",
      "Epoch 1/1  Iteration 20/178 Training loss: 3.5462 3.3931 sec/batch\n",
      "Epoch 1/1  Iteration 21/178 Training loss: 3.5314 3.4040 sec/batch\n",
      "Epoch 1/1  Iteration 22/178 Training loss: 3.5176 3.5922 sec/batch\n",
      "Epoch 1/1  Iteration 23/178 Training loss: 3.5044 3.6490 sec/batch\n",
      "Epoch 1/1  Iteration 24/178 Training loss: 3.4924 3.7074 sec/batch\n",
      "Epoch 1/1  Iteration 25/178 Training loss: 3.4809 3.5721 sec/batch\n",
      "Epoch 1/1  Iteration 26/178 Training loss: 3.4710 3.8428 sec/batch\n",
      "Epoch 1/1  Iteration 27/178 Training loss: 3.4617 3.9586 sec/batch\n",
      "Epoch 1/1  Iteration 28/178 Training loss: 3.4517 3.9847 sec/batch\n",
      "Epoch 1/1  Iteration 29/178 Training loss: 3.4429 3.8407 sec/batch\n",
      "Epoch 1/1  Iteration 30/178 Training loss: 3.4347 3.4727 sec/batch\n",
      "Epoch 1/1  Iteration 31/178 Training loss: 3.4278 3.7337 sec/batch\n",
      "Epoch 1/1  Iteration 32/178 Training loss: 3.4206 3.6872 sec/batch\n",
      "Epoch 1/1  Iteration 33/178 Training loss: 3.4131 3.7994 sec/batch\n",
      "Epoch 1/1  Iteration 34/178 Training loss: 3.4067 3.5728 sec/batch\n",
      "Epoch 1/1  Iteration 35/178 Training loss: 3.4000 3.8017 sec/batch\n",
      "Epoch 1/1  Iteration 36/178 Training loss: 3.3942 3.4700 sec/batch\n",
      "Epoch 1/1  Iteration 37/178 Training loss: 3.3878 3.6916 sec/batch\n",
      "Epoch 1/1  Iteration 38/178 Training loss: 3.3819 3.3698 sec/batch\n",
      "Epoch 1/1  Iteration 39/178 Training loss: 3.3761 3.4212 sec/batch\n",
      "Epoch 1/1  Iteration 40/178 Training loss: 3.3706 3.4142 sec/batch\n",
      "Epoch 1/1  Iteration 41/178 Training loss: 3.3653 3.3826 sec/batch\n",
      "Epoch 1/1  Iteration 42/178 Training loss: 3.3602 3.3936 sec/batch\n",
      "Epoch 1/1  Iteration 43/178 Training loss: 3.3554 3.4307 sec/batch\n",
      "Epoch 1/1  Iteration 44/178 Training loss: 3.3507 3.4287 sec/batch\n",
      "Epoch 1/1  Iteration 45/178 Training loss: 3.3461 3.7540 sec/batch\n",
      "Epoch 1/1  Iteration 46/178 Training loss: 3.3419 4.1026 sec/batch\n",
      "Epoch 1/1  Iteration 47/178 Training loss: 3.3381 3.9235 sec/batch\n",
      "Epoch 1/1  Iteration 48/178 Training loss: 3.3346 3.8234 sec/batch\n",
      "Epoch 1/1  Iteration 49/178 Training loss: 3.3311 4.0094 sec/batch\n",
      "Epoch 1/1  Iteration 50/178 Training loss: 3.3277 4.0497 sec/batch\n",
      "Epoch 1/1  Iteration 51/178 Training loss: 3.3242 4.0986 sec/batch\n",
      "Epoch 1/1  Iteration 52/178 Training loss: 3.3207 3.7309 sec/batch\n",
      "Epoch 1/1  Iteration 53/178 Training loss: 3.3175 4.0196 sec/batch\n",
      "Epoch 1/1  Iteration 54/178 Training loss: 3.3142 4.0445 sec/batch\n",
      "Epoch 1/1  Iteration 55/178 Training loss: 3.3111 3.6753 sec/batch\n",
      "Epoch 1/1  Iteration 56/178 Training loss: 3.3079 3.5810 sec/batch\n",
      "Epoch 1/1  Iteration 57/178 Training loss: 3.3050 3.4405 sec/batch\n",
      "Epoch 1/1  Iteration 58/178 Training loss: 3.3021 3.5467 sec/batch\n",
      "Epoch 1/1  Iteration 59/178 Training loss: 3.2991 3.4754 sec/batch\n",
      "Epoch 1/1  Iteration 60/178 Training loss: 3.2965 3.4640 sec/batch\n",
      "Epoch 1/1  Iteration 61/178 Training loss: 3.2939 3.4591 sec/batch\n",
      "Epoch 1/1  Iteration 62/178 Training loss: 3.2917 3.4648 sec/batch\n",
      "Epoch 1/1  Iteration 63/178 Training loss: 3.2895 3.6096 sec/batch\n",
      "Epoch 1/1  Iteration 64/178 Training loss: 3.2868 3.9278 sec/batch\n",
      "Epoch 1/1  Iteration 65/178 Training loss: 3.2842 3.6824 sec/batch\n",
      "Epoch 1/1  Iteration 66/178 Training loss: 3.2821 3.5696 sec/batch\n",
      "Epoch 1/1  Iteration 67/178 Training loss: 3.2799 3.4304 sec/batch\n",
      "Epoch 1/1  Iteration 68/178 Training loss: 3.2772 3.4702 sec/batch\n",
      "Epoch 1/1  Iteration 69/178 Training loss: 3.2748 3.7814 sec/batch\n",
      "Epoch 1/1  Iteration 70/178 Training loss: 3.2728 3.7719 sec/batch\n",
      "Epoch 1/1  Iteration 71/178 Training loss: 3.2707 3.7035 sec/batch\n",
      "Epoch 1/1  Iteration 72/178 Training loss: 3.2689 3.7219 sec/batch\n",
      "Epoch 1/1  Iteration 73/178 Training loss: 3.2668 3.7589 sec/batch\n",
      "Epoch 1/1  Iteration 74/178 Training loss: 3.2648 3.6476 sec/batch\n",
      "Epoch 1/1  Iteration 75/178 Training loss: 3.2629 3.6345 sec/batch\n",
      "Epoch 1/1  Iteration 76/178 Training loss: 3.2612 4.0201 sec/batch\n",
      "Epoch 1/1  Iteration 77/178 Training loss: 3.2593 3.7713 sec/batch\n",
      "Epoch 1/1  Iteration 78/178 Training loss: 3.2575 3.9631 sec/batch\n",
      "Epoch 1/1  Iteration 79/178 Training loss: 3.2554 3.8591 sec/batch\n",
      "Epoch 1/1  Iteration 80/178 Training loss: 3.2534 3.7338 sec/batch\n",
      "Epoch 1/1  Iteration 81/178 Training loss: 3.2514 3.6432 sec/batch\n",
      "Epoch 1/1  Iteration 82/178 Training loss: 3.2497 3.6922 sec/batch\n",
      "Epoch 1/1  Iteration 83/178 Training loss: 3.2479 3.7517 sec/batch\n",
      "Epoch 1/1  Iteration 84/178 Training loss: 3.2461 3.6939 sec/batch\n",
      "Epoch 1/1  Iteration 85/178 Training loss: 3.2440 3.6970 sec/batch\n",
      "Epoch 1/1  Iteration 86/178 Training loss: 3.2421 3.6675 sec/batch\n",
      "Epoch 1/1  Iteration 87/178 Training loss: 3.2401 3.7218 sec/batch\n",
      "Epoch 1/1  Iteration 88/178 Training loss: 3.2381 3.6832 sec/batch\n",
      "Epoch 1/1  Iteration 89/178 Training loss: 3.2374 3.6786 sec/batch\n",
      "Epoch 1/1  Iteration 90/178 Training loss: 3.2365 3.6644 sec/batch\n",
      "Epoch 1/1  Iteration 91/178 Training loss: 3.2349 3.6693 sec/batch\n",
      "Epoch 1/1  Iteration 92/178 Training loss: 3.2333 3.7496 sec/batch\n",
      "Epoch 1/1  Iteration 93/178 Training loss: 3.2317 3.8454 sec/batch\n",
      "Epoch 1/1  Iteration 94/178 Training loss: 3.2301 3.9877 sec/batch\n",
      "Epoch 1/1  Iteration 95/178 Training loss: 3.2284 3.7925 sec/batch\n",
      "Epoch 1/1  Iteration 96/178 Training loss: 3.2267 3.7684 sec/batch\n",
      "Epoch 1/1  Iteration 97/178 Training loss: 3.2252 3.7385 sec/batch\n",
      "Epoch 1/1  Iteration 98/178 Training loss: 3.2236 3.7626 sec/batch\n",
      "Epoch 1/1  Iteration 99/178 Training loss: 3.2220 3.9297 sec/batch\n",
      "Epoch 1/1  Iteration 100/178 Training loss: 3.2203 3.8933 sec/batch\n",
      "Epoch 1/1  Iteration 101/178 Training loss: 3.2188 3.8939 sec/batch\n",
      "Epoch 1/1  Iteration 102/178 Training loss: 3.2172 3.6906 sec/batch\n",
      "Epoch 1/1  Iteration 103/178 Training loss: 3.2157 3.9452 sec/batch\n",
      "Epoch 1/1  Iteration 104/178 Training loss: 3.2141 4.0349 sec/batch\n",
      "Epoch 1/1  Iteration 105/178 Training loss: 3.2124 4.0147 sec/batch\n",
      "Epoch 1/1  Iteration 106/178 Training loss: 3.2108 4.2424 sec/batch\n",
      "Epoch 1/1  Iteration 107/178 Training loss: 3.2090 4.0060 sec/batch\n",
      "Epoch 1/1  Iteration 108/178 Training loss: 3.2073 3.7907 sec/batch\n",
      "Epoch 1/1  Iteration 109/178 Training loss: 3.2058 4.1009 sec/batch\n",
      "Epoch 1/1  Iteration 110/178 Training loss: 3.2038 3.7818 sec/batch\n",
      "Epoch 1/1  Iteration 111/178 Training loss: 3.2021 3.6914 sec/batch\n",
      "Epoch 1/1  Iteration 112/178 Training loss: 3.2003 3.7162 sec/batch\n",
      "Epoch 1/1  Iteration 113/178 Training loss: 3.1984 3.7221 sec/batch\n",
      "Epoch 1/1  Iteration 114/178 Training loss: 3.1964 3.8381 sec/batch\n",
      "Epoch 1/1  Iteration 115/178 Training loss: 3.1944 3.6514 sec/batch\n",
      "Epoch 1/1  Iteration 116/178 Training loss: 3.1927 3.6029 sec/batch\n",
      "Epoch 1/1  Iteration 117/178 Training loss: 3.1909 3.8697 sec/batch\n",
      "Epoch 1/1  Iteration 118/178 Training loss: 3.1891 3.9486 sec/batch\n",
      "Epoch 1/1  Iteration 119/178 Training loss: 3.1875 4.1379 sec/batch\n",
      "Epoch 1/1  Iteration 120/178 Training loss: 3.1856 3.7142 sec/batch\n",
      "Epoch 1/1  Iteration 121/178 Training loss: 3.1840 3.7184 sec/batch\n",
      "Epoch 1/1  Iteration 122/178 Training loss: 3.1822 3.7126 sec/batch\n",
      "Epoch 1/1  Iteration 123/178 Training loss: 3.1803 3.6930 sec/batch\n"
     ]
    },
    {
     "name": "stdout",
     "output_type": "stream",
     "text": [
      "Epoch 1/1  Iteration 124/178 Training loss: 3.1784 3.6774 sec/batch\n",
      "Epoch 1/1  Iteration 125/178 Training loss: 3.1764 3.7054 sec/batch\n",
      "Epoch 1/1  Iteration 126/178 Training loss: 3.1741 3.7611 sec/batch\n",
      "Epoch 1/1  Iteration 127/178 Training loss: 3.1722 3.7206 sec/batch\n",
      "Epoch 1/1  Iteration 128/178 Training loss: 3.1709 3.7292 sec/batch\n",
      "Epoch 1/1  Iteration 129/178 Training loss: 3.1690 3.7010 sec/batch\n",
      "Epoch 1/1  Iteration 130/178 Training loss: 3.1671 3.6908 sec/batch\n",
      "Epoch 1/1  Iteration 131/178 Training loss: 3.1653 3.6997 sec/batch\n",
      "Epoch 1/1  Iteration 132/178 Training loss: 3.1633 3.6886 sec/batch\n",
      "Epoch 1/1  Iteration 133/178 Training loss: 3.1614 3.7449 sec/batch\n",
      "Epoch 1/1  Iteration 134/178 Training loss: 3.1594 3.7173 sec/batch\n",
      "Epoch 1/1  Iteration 135/178 Training loss: 3.1571 3.6626 sec/batch\n",
      "Epoch 1/1  Iteration 136/178 Training loss: 3.1550 3.7079 sec/batch\n",
      "Epoch 1/1  Iteration 137/178 Training loss: 3.1528 3.6912 sec/batch\n",
      "Epoch 1/1  Iteration 138/178 Training loss: 3.1505 3.7120 sec/batch\n",
      "Epoch 1/1  Iteration 139/178 Training loss: 3.1485 3.7207 sec/batch\n",
      "Epoch 1/1  Iteration 140/178 Training loss: 3.1462 3.6883 sec/batch\n",
      "Epoch 1/1  Iteration 141/178 Training loss: 3.1439 3.7398 sec/batch\n",
      "Epoch 1/1  Iteration 142/178 Training loss: 3.1415 3.7613 sec/batch\n",
      "Epoch 1/1  Iteration 143/178 Training loss: 3.1390 3.7464 sec/batch\n",
      "Epoch 1/1  Iteration 144/178 Training loss: 3.1366 3.9462 sec/batch\n",
      "Epoch 1/1  Iteration 145/178 Training loss: 3.1341 3.9018 sec/batch\n",
      "Epoch 1/1  Iteration 146/178 Training loss: 3.1317 3.9542 sec/batch\n",
      "Epoch 1/1  Iteration 147/178 Training loss: 3.1291 3.6731 sec/batch\n",
      "Epoch 1/1  Iteration 148/178 Training loss: 3.1267 3.7382 sec/batch\n",
      "Epoch 1/1  Iteration 149/178 Training loss: 3.1240 4.1178 sec/batch\n",
      "Epoch 1/1  Iteration 150/178 Training loss: 3.1213 3.6712 sec/batch\n",
      "Epoch 1/1  Iteration 151/178 Training loss: 3.1189 3.7257 sec/batch\n",
      "Epoch 1/1  Iteration 152/178 Training loss: 3.1165 3.7487 sec/batch\n",
      "Epoch 1/1  Iteration 153/178 Training loss: 3.1140 4.0617 sec/batch\n",
      "Epoch 1/1  Iteration 154/178 Training loss: 3.1114 3.9797 sec/batch\n",
      "Epoch 1/1  Iteration 155/178 Training loss: 3.1086 3.7631 sec/batch\n",
      "Epoch 1/1  Iteration 156/178 Training loss: 3.1058 3.7375 sec/batch\n",
      "Epoch 1/1  Iteration 157/178 Training loss: 3.1030 3.9699 sec/batch\n",
      "Epoch 1/1  Iteration 158/178 Training loss: 3.1001 3.8811 sec/batch\n",
      "Epoch 1/1  Iteration 159/178 Training loss: 3.0972 3.7731 sec/batch\n",
      "Epoch 1/1  Iteration 160/178 Training loss: 3.0945 3.8678 sec/batch\n",
      "Epoch 1/1  Iteration 161/178 Training loss: 3.0917 4.0974 sec/batch\n",
      "Epoch 1/1  Iteration 162/178 Training loss: 3.0886 3.7943 sec/batch\n",
      "Epoch 1/1  Iteration 163/178 Training loss: 3.0856 3.7377 sec/batch\n",
      "Epoch 1/1  Iteration 164/178 Training loss: 3.0827 3.8418 sec/batch\n",
      "Epoch 1/1  Iteration 165/178 Training loss: 3.0798 3.9195 sec/batch\n",
      "Epoch 1/1  Iteration 166/178 Training loss: 3.0769 4.1984 sec/batch\n",
      "Epoch 1/1  Iteration 167/178 Training loss: 3.0740 4.0524 sec/batch\n",
      "Epoch 1/1  Iteration 168/178 Training loss: 3.0710 4.0662 sec/batch\n",
      "Epoch 1/1  Iteration 169/178 Training loss: 3.0681 4.5637 sec/batch\n",
      "Epoch 1/1  Iteration 170/178 Training loss: 3.0650 4.0411 sec/batch\n",
      "Epoch 1/1  Iteration 171/178 Training loss: 3.0621 4.0066 sec/batch\n",
      "Epoch 1/1  Iteration 172/178 Training loss: 3.0593 4.0075 sec/batch\n",
      "Epoch 1/1  Iteration 173/178 Training loss: 3.0568 3.8426 sec/batch\n",
      "Epoch 1/1  Iteration 174/178 Training loss: 3.0542 3.8033 sec/batch\n",
      "Epoch 1/1  Iteration 175/178 Training loss: 3.0515 3.9549 sec/batch\n",
      "Epoch 1/1  Iteration 176/178 Training loss: 3.0488 3.9752 sec/batch\n",
      "Epoch 1/1  Iteration 177/178 Training loss: 3.0459 3.6299 sec/batch\n",
      "Epoch 1/1  Iteration 178/178 Training loss: 3.0429 3.7011 sec/batch\n",
      "Validation loss: 2.43358 Saving checkpoint!\n"
     ]
    }
   ],
   "source": [
    "epochs = 1\n",
    "save_every_n = 200\n",
    "train_x, train_y, val_x, val_y = split_data(chars, batch_size, num_steps)\n",
    "\n",
    "model = build_rnn(len(vocab), \n",
    "                  batch_size=batch_size,\n",
    "                  num_steps=num_steps,\n",
    "                  learning_rate=learning_rate,\n",
    "                  lstm_size=lstm_size,\n",
    "                  num_layers=num_layers)\n",
    "\n",
    "saver = tf.train.Saver(max_to_keep=100)\n",
    "\n",
    "with tf.Session() as sess:\n",
    "    sess.run(tf.global_variables_initializer())\n",
    "    \n",
    "    # Use the line below to load a checkpoint and resume training\n",
    "    #saver.restore(sess, 'checkpoints/anna20.ckpt')\n",
    "    \n",
    "    n_batches = int(train_x.shape[1]/num_steps)\n",
    "    iterations = n_batches * epochs\n",
    "    for e in range(epochs):\n",
    "        \n",
    "        # Train network\n",
    "        new_state = sess.run(model.initial_state)\n",
    "        loss = 0\n",
    "        for b, (x, y) in enumerate(get_batch([train_x, train_y], num_steps), 1):\n",
    "            iteration = e*n_batches + b\n",
    "            start = time.time()\n",
    "            feed = {model.inputs: x,\n",
    "                    model.targets: y,\n",
    "                    model.keep_prob: 0.5,\n",
    "                    model.initial_state: new_state}\n",
    "            batch_loss, new_state, _ = sess.run([model.cost, model.final_state, model.optimizer], \n",
    "                                                 feed_dict=feed)\n",
    "            loss += batch_loss\n",
    "            end = time.time()\n",
    "            print('Epoch {}/{} '.format(e+1, epochs),\n",
    "                  'Iteration {}/{}'.format(iteration, iterations),\n",
    "                  'Training loss: {:.4f}'.format(loss/b),\n",
    "                  '{:.4f} sec/batch'.format((end-start)))\n",
    "        \n",
    "            \n",
    "            if (iteration%save_every_n == 0) or (iteration == iterations):\n",
    "                # Check performance, notice dropout has been set to 1\n",
    "                val_loss = []\n",
    "                new_state = sess.run(model.initial_state)\n",
    "                for x, y in get_batch([val_x, val_y], num_steps):\n",
    "                    feed = {model.inputs: x,\n",
    "                            model.targets: y,\n",
    "                            model.keep_prob: 1.,\n",
    "                            model.initial_state: new_state}\n",
    "                    batch_loss, new_state = sess.run([model.cost, model.final_state], feed_dict=feed)\n",
    "                    val_loss.append(batch_loss)\n",
    "\n",
    "                print('Validation loss:', np.mean(val_loss),\n",
    "                      'Saving checkpoint!')\n",
    "                saver.save(sess, \"checkpoints/anna/i{}_l{}_{:.3f}.ckpt\".format(iteration, lstm_size, np.mean(val_loss)))"
   ]
  },
  {
   "cell_type": "code",
   "execution_count": 24,
   "metadata": {},
   "outputs": [
    {
     "data": {
      "text/plain": [
       "model_checkpoint_path: \"checkpoints/anna/i178_l512_2.434.ckpt\"\n",
       "all_model_checkpoint_paths: \"checkpoints/anna/i178_l512_2.434.ckpt\""
      ]
     },
     "execution_count": 24,
     "metadata": {},
     "output_type": "execute_result"
    }
   ],
   "source": [
    "tf.train.get_checkpoint_state('checkpoints/anna')"
   ]
  },
  {
   "cell_type": "markdown",
   "metadata": {},
   "source": [
    "## Sampling\n",
    "\n",
    "Now that the network is trained, we'll can use it to generate new text. The idea is that we pass in a character, then the network will predict the next character. We can use the new one, to predict the next one. And we keep doing this to generate all new text. I also included some functionality to prime the network with some text by passing in a string and building up a state from that.\n",
    "\n",
    "The network gives us predictions for each character. To reduce noise and make things a little less random, I'm going to only choose a new character from the top N most likely characters.\n",
    "\n"
   ]
  },
  {
   "cell_type": "code",
   "execution_count": 17,
   "metadata": {
    "collapsed": true
   },
   "outputs": [],
   "source": [
    "def pick_top_n(preds, vocab_size, top_n=5):\n",
    "    p = np.squeeze(preds)\n",
    "    p[np.argsort(p)[:-top_n]] = 0\n",
    "    p = p / np.sum(p)\n",
    "    c = np.random.choice(vocab_size, 1, p=p)[0]\n",
    "    return c"
   ]
  },
  {
   "cell_type": "code",
   "execution_count": 41,
   "metadata": {
    "collapsed": true
   },
   "outputs": [],
   "source": [
    "def sample(checkpoint, n_samples, lstm_size, vocab_size, prime=\"The \"):\n",
    "    prime = \"Far\"\n",
    "    samples = [c for c in prime]\n",
    "    model = build_rnn(vocab_size, lstm_size=lstm_size, sampling=True)\n",
    "    saver = tf.train.Saver()\n",
    "    with tf.Session() as sess:\n",
    "        saver.restore(sess, checkpoint)\n",
    "        new_state = sess.run(model.initial_state)\n",
    "        for c in prime:\n",
    "            x = np.zeros((1, 1))\n",
    "            x[0,0] = vocab_to_int[c]\n",
    "            feed = {model.inputs: x,\n",
    "                    model.keep_prob: 1.,\n",
    "                    model.initial_state: new_state}\n",
    "            preds, new_state = sess.run([model.preds, model.final_state], \n",
    "                                         feed_dict=feed)\n",
    "\n",
    "        c = pick_top_n(preds, len(vocab))\n",
    "        samples.append(int_to_vocab[c])\n",
    "\n",
    "        for i in range(n_samples):\n",
    "            x[0,0] = c\n",
    "            feed = {model.inputs: x,\n",
    "                    model.keep_prob: 1.,\n",
    "                    model.initial_state: new_state}\n",
    "            preds, new_state = sess.run([model.preds, model.final_state], \n",
    "                                         feed_dict=feed)\n",
    "\n",
    "            c = pick_top_n(preds, len(vocab))\n",
    "            samples.append(int_to_vocab[c])\n",
    "        \n",
    "    return ''.join(samples)"
   ]
  },
  {
   "cell_type": "code",
   "execution_count": 44,
   "metadata": {},
   "outputs": [
    {
     "name": "stdout",
     "output_type": "stream",
     "text": [
      "Farlathit that if had so\n",
      "like it that it were. He could not trouble to his wife, and there was\n",
      "anything in them of the side of his weaky in the creature at his forteren\n",
      "to him.\n",
      "\n",
      "\"What is it? I can't bread to those,\" said Stepan Arkadyevitch. \"It's not\n",
      "my children, and there is an almost this arm, true it mays already,\n",
      "and tell you what I have say to you, and was not looking at the peasant,\n",
      "why is, I don't know him out, and she doesn't speak to me immediately, as\n",
      "you would say the countess and the more frest an angelembre, and time and\n",
      "things's silent, but I was not in my stand that is in my head. But if he\n",
      "say, and was so feeling with his soul. A child--in his soul of his\n",
      "soul of his soul. He should not see that any of that sense of. Here he\n",
      "had not been so composed and to speak for as in a whole picture, but\n",
      "all the setting and her excellent and society, who had been delighted\n",
      "and see to anywing had been being troed to thousand words on them,\n",
      "we liked him.\n",
      "\n",
      "That set in her money at the table, he came into the party. The capable\n",
      "of his she could not be as an old composure.\n",
      "\n",
      "\"That's all something there will be down becime by throe is\n",
      "such a silent, as in a countess, I should state it out and divorct.\n",
      "The discussion is not for me. I was that something was simply they are\n",
      "all three manshess of a sensitions of mind it all.\"\n",
      "\n",
      "\"No,\" he thought, shouted and lifting his soul. \"While it might see your\n",
      "honser and she, I could burst. And I had been a midelity. And I had a\n",
      "marnief are through the countess,\" he said, looking at him, a chosing\n",
      "which they had been carried out and still solied, and there was a sen that\n",
      "was to be completely, and that this matter of all the seconds of it, and\n",
      "a concipation were to her husband, who came up and conscaously, that he\n",
      "was not the station. All his fourse she was always at the country,,\n",
      "to speak oft, and though they were to hear the delightful throom and\n",
      "whether they came towards the morning, and his living and a coller and\n",
      "hold--the children. \n"
     ]
    }
   ],
   "source": [
    "checkpoint = \"checkpoints/anna/i3560_l512_1.122.ckpt\"\n",
    "samp = sample(checkpoint, 2000, lstm_size, len(vocab), prime=\"Far\")\n",
    "print(samp)"
   ]
  },
  {
   "cell_type": "code",
   "execution_count": 43,
   "metadata": {},
   "outputs": [
    {
     "name": "stdout",
     "output_type": "stream",
     "text": [
      "Farnt him oste wha sorind thans tout thint asd an sesand an hires on thime sind thit aled, ban thand and out hore as the ter hos ton ho te that, was tis tart al the hand sostint him sore an tit an son thes, win he se ther san ther hher tas tarereng,.\n",
      "\n",
      "Anl at an ades in ond hesiln, ad hhe torers teans, wast tar arering tho this sos alten sorer has hhas an siton ther him he had sin he ard ate te anling the sosin her ans and\n",
      "arins asd and ther ale te tot an tand tanginge wath and ho ald, so sot th asend sat hare sother horesinnd, he hesense wing ante her so tith tir sherinn, anded and to the toul anderin he sorit he torsith she se atere an ting ot hand and thit hhe so the te wile har\n",
      "ens ont in the sersise, and we he seres tar aterer, to ato tat or has he he wan ton here won and sen heren he sosering, to to theer oo adent har herere the wosh oute, was serild ward tous hed astend..\n",
      "\n",
      "I's sint on alt in har tor tit her asd hade shithans ored he talereng an soredendere tim tot hees. Tise sor and \n"
     ]
    }
   ],
   "source": [
    "checkpoint = \"checkpoints/anna/i200_l512_2.432.ckpt\"\n",
    "samp = sample(checkpoint, 1000, lstm_size, len(vocab), prime=\"Far\")\n",
    "print(samp)"
   ]
  },
  {
   "cell_type": "code",
   "execution_count": 46,
   "metadata": {},
   "outputs": [
    {
     "name": "stdout",
     "output_type": "stream",
     "text": [
      "Fard as astice her said he celatice of to seress in the raice, and to be the some and sere allats to that said to that the sark and a cast a the wither ald the pacinesse of her had astition, he said to the sount as she west at hissele. Af the cond it he was a fact onthis astisarianing.\n",
      "\n",
      "\n",
      "\"Or a ton to to be that's a more at aspestale as the sont of anstiring as\n",
      "thours and trey.\n",
      "\n",
      "The same wo dangring the\n",
      "raterst, who sore and somethy had ast out an of his book. \"We had's beane were that, and a morted a thay he had to tere. Then to\n",
      "her homent andertersed his his ancouted to the pirsted, the soution for of the pirsice inthirgest and stenciol, with the hard and and\n",
      "a colrice of to be oneres,\n",
      "the song to this anderssad.\n",
      "The could ounterss the said to serom of\n",
      "soment a carsed of sheres of she\n",
      "torded\n",
      "har and want in their of hould, but\n",
      "her told in that in he tad a the same to her. Serghing an her has and with the seed, and the camt ont his about of the\n",
      "sail, the her then all houg ant or to hus to \n"
     ]
    }
   ],
   "source": [
    "checkpoint = \"checkpoints/anna/i600_l512_1.750.ckpt\"\n",
    "samp = sample(checkpoint, 1000, lstm_size, len(vocab), prime=\"Far\")\n",
    "print(samp)"
   ]
  },
  {
   "cell_type": "code",
   "execution_count": 47,
   "metadata": {},
   "outputs": [
    {
     "name": "stdout",
     "output_type": "stream",
     "text": [
      "Farrat, his felt has at it.\n",
      "\n",
      "\"When the pose ther hor exceed\n",
      "to his sheant was,\" weat a sime of his sounsed. The coment and the facily that which had began terede a marilicaly whice whether the pose of his hand, at she was alligated herself the same on she had to\n",
      "taiking to his forthing and streath how to hand\n",
      "began in a lang at some at it, this he cholded not set all her. \"Wo love that is setthing. Him anstering as seen that.\"\n",
      "\n",
      "\"Yes in the man that say the mare a crances is it?\" said Sergazy Ivancatching. \"You doon think were somether is ifficult of a mone of\n",
      "though the most at the countes that the\n",
      "mean on the come to say the most, to\n",
      "his feesing of\n",
      "a man she, whilo he\n",
      "sained and well, that he would still at to said. He wind at his for the sore in the most\n",
      "of hoss and almoved to see him. They have betine the sumper into at he his stire, and what he was that at the so steate of the\n",
      "sound, and shin should have a geest of shall feet on the conderation to she had been at that imporsing the dre\n"
     ]
    }
   ],
   "source": [
    "checkpoint = \"checkpoints/anna/i1000_l512_1.484.ckpt\"\n",
    "samp = sample(checkpoint, 1000, lstm_size, len(vocab), prime=\"Far\")\n",
    "print(samp)"
   ]
  }
 ],
 "metadata": {
  "kernelspec": {
   "display_name": "Python 3",
   "language": "python",
   "name": "python3"
  },
  "language_info": {
   "codemirror_mode": {
    "name": "ipython",
    "version": 3
   },
   "file_extension": ".py",
   "mimetype": "text/x-python",
   "name": "python",
   "nbconvert_exporter": "python",
   "pygments_lexer": "ipython3",
   "version": "3.5.3"
  }
 },
 "nbformat": 4,
 "nbformat_minor": 2
}
