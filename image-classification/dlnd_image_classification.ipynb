{
 "cells": [
  {
   "cell_type": "markdown",
   "metadata": {
    "collapsed": true,
    "deletable": true,
    "editable": true
   },
   "source": [
    "# Image Classification\n",
    "In this project, you'll classify images from the [CIFAR-10 dataset](https://www.cs.toronto.edu/~kriz/cifar.html).  The dataset consists of airplanes, dogs, cats, and other objects. You'll preprocess the images, then train a convolutional neural network on all the samples. The images need to be normalized and the labels need to be one-hot encoded.  You'll get to apply what you learned and build a convolutional, max pooling, dropout, and fully connected layers.  At the end, you'll get to see your neural network's predictions on the sample images.\n",
    "## Get the Data\n",
    "Run the following cell to download the [CIFAR-10 dataset for python](https://www.cs.toronto.edu/~kriz/cifar-10-python.tar.gz)."
   ]
  },
  {
   "cell_type": "code",
   "execution_count": 1,
   "metadata": {
    "collapsed": false,
    "deletable": true,
    "editable": true
   },
   "outputs": [
    {
     "name": "stdout",
     "output_type": "stream",
     "text": [
      "All files found!\n"
     ]
    }
   ],
   "source": [
    "\"\"\"\n",
    "DON'T MODIFY ANYTHING IN THIS CELL THAT IS BELOW THIS LINE\n",
    "\"\"\"\n",
    "from urllib.request import urlretrieve\n",
    "from os.path import isfile, isdir\n",
    "from tqdm import tqdm\n",
    "import problem_unittests as tests\n",
    "import tarfile\n",
    "\n",
    "cifar10_dataset_folder_path = 'cifar-10-batches-py'\n",
    "\n",
    "# Use Floyd's cifar-10 dataset if present\n",
    "floyd_cifar10_location = '/input/cifar-10/python.tar.gz'\n",
    "if isfile(floyd_cifar10_location):\n",
    "    tar_gz_path = floyd_cifar10_location\n",
    "else:\n",
    "    tar_gz_path = 'cifar-10-python.tar.gz'\n",
    "\n",
    "class DLProgress(tqdm):\n",
    "    last_block = 0\n",
    "\n",
    "    def hook(self, block_num=1, block_size=1, total_size=None):\n",
    "        self.total = total_size\n",
    "        self.update((block_num - self.last_block) * block_size)\n",
    "        self.last_block = block_num\n",
    "\n",
    "if not isfile(tar_gz_path):\n",
    "    with DLProgress(unit='B', unit_scale=True, miniters=1, desc='CIFAR-10 Dataset') as pbar:\n",
    "        urlretrieve(\n",
    "            'https://www.cs.toronto.edu/~kriz/cifar-10-python.tar.gz',\n",
    "            tar_gz_path,\n",
    "            pbar.hook)\n",
    "\n",
    "if not isdir(cifar10_dataset_folder_path):\n",
    "    with tarfile.open(tar_gz_path) as tar:\n",
    "        tar.extractall()\n",
    "        tar.close()\n",
    "\n",
    "\n",
    "tests.test_folder_path(cifar10_dataset_folder_path)"
   ]
  },
  {
   "cell_type": "markdown",
   "metadata": {
    "deletable": true,
    "editable": true
   },
   "source": [
    "## Explore the Data\n",
    "The dataset is broken into batches to prevent your machine from running out of memory.  The CIFAR-10 dataset consists of 5 batches, named `data_batch_1`, `data_batch_2`, etc.. Each batch contains the labels and images that are one of the following:\n",
    "* airplane\n",
    "* automobile\n",
    "* bird\n",
    "* cat\n",
    "* deer\n",
    "* dog\n",
    "* frog\n",
    "* horse\n",
    "* ship\n",
    "* truck\n",
    "\n",
    "Understanding a dataset is part of making predictions on the data.  Play around with the code cell below by changing the `batch_id` and `sample_id`. The `batch_id` is the id for a batch (1-5). The `sample_id` is the id for a image and label pair in the batch.\n",
    "\n",
    "Ask yourself \"What are all possible labels?\", \"What is the range of values for the image data?\", \"Are the labels in order or random?\".  Answers to questions like these will help you preprocess the data and end up with better predictions."
   ]
  },
  {
   "cell_type": "code",
   "execution_count": 2,
   "metadata": {
    "collapsed": false,
    "deletable": true,
    "editable": true
   },
   "outputs": [
    {
     "name": "stdout",
     "output_type": "stream",
     "text": [
      "\n",
      "Stats of batch 1:\n",
      "Samples: 10000\n",
      "Label Counts: {0: 1005, 1: 974, 2: 1032, 3: 1016, 4: 999, 5: 937, 6: 1030, 7: 1001, 8: 1025, 9: 981}\n",
      "First 20 Labels: [6, 9, 9, 4, 1, 1, 2, 7, 8, 3, 4, 7, 7, 2, 9, 9, 9, 3, 2, 6]\n",
      "\n",
      "Example of Image 5:\n",
      "Image - Min Value: 0 Max Value: 252\n",
      "Image - Shape: (32, 32, 3)\n",
      "Label - Label Id: 1 Name: automobile\n"
     ]
    },
    {
     "data": {
      "image/png": "[encoded data removed]",
      "text/plain": [
       "<matplotlib.figure.Figure at 0x7f1fc0d88e48>"
      ]
     },
     "metadata": {
      "image/png": {
       "height": 250,
       "width": 253
      }
     },
     "output_type": "display_data"
    }
   ],
   "source": [
    "%matplotlib inline\n",
    "%config InlineBackend.figure_format = 'retina'\n",
    "\n",
    "import helper\n",
    "import numpy as np\n",
    "\n",
    "# Explore the dataset\n",
    "batch_id = 1\n",
    "sample_id = 5\n",
    "helper.display_stats(cifar10_dataset_folder_path, batch_id, sample_id)"
   ]
  },
  {
   "cell_type": "markdown",
   "metadata": {
    "deletable": true,
    "editable": true
   },
   "source": [
    "## Implement Preprocess Functions\n",
    "### Normalize\n",
    "In the cell below, implement the `normalize` function to take in image data, `x`, and return it as a normalized Numpy array. The values should be in the range of 0 to 1, inclusive.  The return object should be the same shape as `x`."
   ]
  },
  {
   "cell_type": "code",
   "execution_count": 3,
   "metadata": {
    "collapsed": false,
    "deletable": true,
    "editable": true
   },
   "outputs": [
    {
     "name": "stdout",
     "output_type": "stream",
     "text": [
      "Tests Passed\n"
     ]
    }
   ],
   "source": [
    "def calc_normalization(x, min, max):\n",
    "    return (x - min) / (max - min)\n",
    "\n",
    "def normalize(x):\n",
    "    \"\"\"\n",
    "    Normalize a list of sample image data in the range of 0 to 1\n",
    "    : x: List of image data.  The image shape is (32, 32, 3)\n",
    "    : return: Numpy array of normalize data\n",
    "    \"\"\"\n",
    "    # TODO: Implement Function\n",
    "    min = np.amin(x)\n",
    "    max = np.amax(x)\n",
    "    \n",
    "    vfunc = np.vectorize(calc_normalization)\n",
    "    new_array = vfunc(x, min, max)\n",
    "    return new_array\n",
    "\n",
    "\"\"\"\n",
    "DON'T MODIFY ANYTHING IN THIS CELL THAT IS BELOW THIS LINE\n",
    "\"\"\"\n",
    "tests.test_normalize(normalize)"
   ]
  },
  {
   "cell_type": "markdown",
   "metadata": {
    "deletable": true,
    "editable": true
   },
   "source": [
    "### One-hot encode\n",
    "Just like the previous code cell, you'll be implementing a function for preprocessing.  This time, you'll implement the `one_hot_encode` function. The input, `x`, are a list of labels.  Implement the function to return the list of labels as One-Hot encoded Numpy array.  The possible values for labels are 0 to 9. The one-hot encoding function should return the same encoding for each value between each call to `one_hot_encode`.  Make sure to save the map of encodings outside the function.\n",
    "\n",
    "Hint: Don't reinvent the wheel."
   ]
  },
  {
   "cell_type": "code",
   "execution_count": 4,
   "metadata": {
    "collapsed": false,
    "deletable": true,
    "editable": true
   },
   "outputs": [
    {
     "name": "stdout",
     "output_type": "stream",
     "text": [
      "Tests Passed\n"
     ]
    }
   ],
   "source": [
    "from sklearn import preprocessing\n",
    "\n",
    "def one_hot_encode(x):\n",
    "    \"\"\"\n",
    "    One hot encode a list of sample labels. Return a one-hot encoded vector for each label.\n",
    "    : x: List of sample Labels\n",
    "    : return: Numpy array of one-hot encoded labels\n",
    "    \"\"\"\n",
    "    # TODO: Implement Function\n",
    "    lb = preprocessing.LabelBinarizer()\n",
    "    lb.fit(np.array([0,1,2,3,4,5,6,7,8,9]))\n",
    "    ohe = lb.transform(x)\n",
    "    return ohe\n",
    "\n",
    "\n",
    "\"\"\"\n",
    "DON'T MODIFY ANYTHING IN THIS CELL THAT IS BELOW THIS LINE\n",
    "\"\"\"\n",
    "tests.test_one_hot_encode(one_hot_encode)"
   ]
  },
  {
   "cell_type": "markdown",
   "metadata": {
    "deletable": true,
    "editable": true
   },
   "source": [
    "### Randomize Data\n",
    "As you saw from exploring the data above, the order of the samples are randomized.  It doesn't hurt to randomize it again, but you don't need to for this dataset."
   ]
  },
  {
   "cell_type": "markdown",
   "metadata": {
    "deletable": true,
    "editable": true
   },
   "source": [
    "## Preprocess all the data and save it\n",
    "Running the code cell below will preprocess all the CIFAR-10 data and save it to file. The code below also uses 10% of the training data for validation."
   ]
  },
  {
   "cell_type": "code",
   "execution_count": 5,
   "metadata": {
    "collapsed": false,
    "deletable": true,
    "editable": true
   },
   "outputs": [],
   "source": [
    "\"\"\"\n",
    "DON'T MODIFY ANYTHING IN THIS CELL\n",
    "\"\"\"\n",
    "# Preprocess Training, Validation, and Testing Data\n",
    "helper.preprocess_and_save_data(cifar10_dataset_folder_path, normalize, one_hot_encode)"
   ]
  },
  {
   "cell_type": "markdown",
   "metadata": {
    "deletable": true,
    "editable": true
   },
   "source": [
    "# Check Point\n",
    "This is your first checkpoint.  If you ever decide to come back to this notebook or have to restart the notebook, you can start from here.  The preprocessed data has been saved to disk."
   ]
  },
  {
   "cell_type": "code",
   "execution_count": 6,
   "metadata": {
    "collapsed": true,
    "deletable": true,
    "editable": true
   },
   "outputs": [],
   "source": [
    "\"\"\"\n",
    "DON'T MODIFY ANYTHING IN THIS CELL\n",
    "\"\"\"\n",
    "import pickle\n",
    "import problem_unittests as tests\n",
    "import helper\n",
    "\n",
    "# Load the Preprocessed Validation data\n",
    "valid_features, valid_labels = pickle.load(open('preprocess_validation.p', mode='rb'))"
   ]
  },
  {
   "cell_type": "markdown",
   "metadata": {
    "deletable": true,
    "editable": true
   },
   "source": [
    "## Build the network\n",
    "For the neural network, you'll build each layer into a function.  Most of the code you've seen has been outside of functions. To test your code more thoroughly, we require that you put each layer in a function.  This allows us to give you better feedback and test for simple mistakes using our unittests before you submit your project.\n",
    "\n",
    ">**Note:** If you're finding it hard to dedicate enough time for this course each week, we've provided a small shortcut to this part of the project. In the next couple of problems, you'll have the option to use classes from the [TensorFlow Layers](https://www.tensorflow.org/api_docs/python/tf/layers) or [TensorFlow Layers (contrib)](https://www.tensorflow.org/api_guides/python/contrib.layers) packages to build each layer, except the layers you build in the \"Convolutional and Max Pooling Layer\" section.  TF Layers is similar to Keras's and TFLearn's abstraction to layers, so it's easy to pickup.\n",
    "\n",
    ">However, if you would like to get the most out of this course, try to solve all the problems _without_ using anything from the TF Layers packages. You **can** still use classes from other packages that happen to have the same name as ones you find in TF Layers! For example, instead of using the TF Layers version of the `conv2d` class, [tf.layers.conv2d](https://www.tensorflow.org/api_docs/python/tf/layers/conv2d), you would want to use the TF Neural Network version of `conv2d`, [tf.nn.conv2d](https://www.tensorflow.org/api_docs/python/tf/nn/conv2d). \n",
    "\n",
    "Let's begin!\n",
    "\n",
    "### Input\n",
    "The neural network needs to read the image data, one-hot encoded labels, and dropout keep probability. Implement the following functions\n",
    "* Implement `neural_net_image_input`\n",
    " * Return a [TF Placeholder](https://www.tensorflow.org/api_docs/python/tf/placeholder)\n",
    " * Set the shape using `image_shape` with batch size set to `None`.\n",
    " * Name the TensorFlow placeholder \"x\" using the TensorFlow `name` parameter in the [TF Placeholder](https://www.tensorflow.org/api_docs/python/tf/placeholder).\n",
    "* Implement `neural_net_label_input`\n",
    " * Return a [TF Placeholder](https://www.tensorflow.org/api_docs/python/tf/placeholder)\n",
    " * Set the shape using `n_classes` with batch size set to `None`.\n",
    " * Name the TensorFlow placeholder \"y\" using the TensorFlow `name` parameter in the [TF Placeholder](https://www.tensorflow.org/api_docs/python/tf/placeholder).\n",
    "* Implement `neural_net_keep_prob_input`\n",
    " * Return a [TF Placeholder](https://www.tensorflow.org/api_docs/python/tf/placeholder) for dropout keep probability.\n",
    " * Name the TensorFlow placeholder \"keep_prob\" using the TensorFlow `name` parameter in the [TF Placeholder](https://www.tensorflow.org/api_docs/python/tf/placeholder).\n",
    "\n",
    "These names will be used at the end of the project to load your saved model.\n",
    "\n",
    "Note: `None` for shapes in TensorFlow allow for a dynamic size."
   ]
  },
  {
   "cell_type": "code",
   "execution_count": 7,
   "metadata": {
    "collapsed": false,
    "deletable": true,
    "editable": true
   },
   "outputs": [
    {
     "name": "stdout",
     "output_type": "stream",
     "text": [
      "Image Input Tests Passed.\n",
      "Label Input Tests Passed.\n",
      "Keep Prob Tests Passed.\n"
     ]
    }
   ],
   "source": [
    "import tensorflow as tf\n",
    "\n",
    "def neural_net_image_input(image_shape):\n",
    "    \"\"\"\n",
    "    Return a Tensor for a batch of image input\n",
    "    : image_shape: Shape of the images\n",
    "    : return: Tensor for image input.\n",
    "    \"\"\"\n",
    "    # TODO: Implement Function\n",
    "    return tf.placeholder(tf.float32, shape=(None, image_shape[0], image_shape[1], image_shape[2]), name=\"x\")\n",
    "\n",
    "\n",
    "def neural_net_label_input(n_classes):\n",
    "    \"\"\"\n",
    "    Return a Tensor for a batch of label input\n",
    "    : n_classes: Number of classes\n",
    "    : return: Tensor for label input.\n",
    "    \"\"\"\n",
    "    # TODO: Implement Function\n",
    "    return tf.placeholder(tf.float32, (None, n_classes), name=\"y\")\n",
    "\n",
    "\n",
    "def neural_net_keep_prob_input():\n",
    "    \"\"\"\n",
    "    Return a Tensor for keep probability\n",
    "    : return: Tensor for keep probability.\n",
    "    \"\"\"\n",
    "    # TODO: Implement Function\n",
    "    return tf.placeholder(tf.float32, name=\"keep_prob\")\n",
    "\n",
    "\n",
    "\"\"\"\n",
    "DON'T MODIFY ANYTHING IN THIS CELL THAT IS BELOW THIS LINE\n",
    "\"\"\"\n",
    "tf.reset_default_graph()\n",
    "tests.test_nn_image_inputs(neural_net_image_input)\n",
    "tests.test_nn_label_inputs(neural_net_label_input)\n",
    "tests.test_nn_keep_prob_inputs(neural_net_keep_prob_input)"
   ]
  },
  {
   "cell_type": "markdown",
   "metadata": {
    "deletable": true,
    "editable": true
   },
   "source": [
    "### Convolution and Max Pooling Layer\n",
    "Convolution layers have a lot of success with images. For this code cell, you should implement the function `conv2d_maxpool` to apply convolution then max pooling:\n",
    "* Create the weight and bias using `conv_ksize`, `conv_num_outputs` and the shape of `x_tensor`.\n",
    "* Apply a convolution to `x_tensor` using weight and `conv_strides`.\n",
    " * We recommend you use same padding, but you're welcome to use any padding.\n",
    "* Add bias\n",
    "* Add a nonlinear activation to the convolution.\n",
    "* Apply Max Pooling using `pool_ksize` and `pool_strides`.\n",
    " * We recommend you use same padding, but you're welcome to use any padding.\n",
    "\n",
    "**Note:** You **can't** use [TensorFlow Layers](https://www.tensorflow.org/api_docs/python/tf/layers) or [TensorFlow Layers (contrib)](https://www.tensorflow.org/api_guides/python/contrib.layers) for **this** layer, but you can still use TensorFlow's [Neural Network](https://www.tensorflow.org/api_docs/python/tf/nn) package. You may still use the shortcut option for all the **other** layers."
   ]
  },
  {
   "cell_type": "code",
   "execution_count": 8,
   "metadata": {
    "collapsed": false,
    "deletable": true,
    "editable": true
   },
   "outputs": [
    {
     "name": "stdout",
     "output_type": "stream",
     "text": [
      "Tests Passed\n"
     ]
    }
   ],
   "source": [
    "def conv2d_maxpool(x_tensor, conv_num_outputs, conv_ksize, conv_strides, pool_ksize, pool_strides):\n",
    "    \"\"\"\n",
    "    Apply convolution then max pooling to x_tensor\n",
    "    :param x_tensor: TensorFlow Tensor\n",
    "    :param conv_num_outputs: Number of outputs for the convolutional layer\n",
    "    :param conv_ksize: kernal size 2-D Tuple for the convolutional layer\n",
    "    :param conv_strides: Stride 2-D Tuple for convolution\n",
    "    :param pool_ksize: kernal size 2-D Tuple for pool\n",
    "    :param pool_strides: Stride 2-D Tuple for pool\n",
    "    : return: A tensor that represents convolution and max pooling of x_tensor\n",
    "    \"\"\"\n",
    "    # TODO: Implement Function\n",
    "    x_tensor_shape = x_tensor.get_shape().as_list()\n",
    "    weight_shape = [conv_ksize[0], conv_ksize[1], x_tensor_shape[3], conv_num_outputs]\n",
    "    w = tf.Variable(tf.random_normal(weight_shape, stddev=0.1))\n",
    "    b = tf.Variable(tf.constant(0.05, shape=[conv_num_outputs]))\n",
    "    \n",
    "    # conv2d\n",
    "    x = tf.nn.conv2d(x_tensor, \n",
    "                     w, \n",
    "                     strides=[1, conv_strides[0], conv_strides[1], 1], \n",
    "                     padding=\"SAME\")\n",
    "    x = tf.nn.bias_add(x, b)\n",
    "    \n",
    "    x = tf.nn.relu(x)\n",
    "    \n",
    "    # maxpool\n",
    "    x = tf.nn.max_pool(x, \n",
    "                       ksize=[1, pool_ksize[0], pool_ksize[1], 1],\n",
    "                       strides=[1, pool_strides[0], pool_strides[1], 1], \n",
    "                       padding=\"SAME\")\n",
    "    \n",
    "    return x \n",
    "\n",
    "\n",
    "\"\"\"\n",
    "DON'T MODIFY ANYTHING IN THIS CELL THAT IS BELOW THIS LINE\n",
    "\"\"\"\n",
    "tests.test_con_pool(conv2d_maxpool)"
   ]
  },
  {
   "cell_type": "markdown",
   "metadata": {
    "deletable": true,
    "editable": true
   },
   "source": [
    "### Flatten Layer\n",
    "Implement the `flatten` function to change the dimension of `x_tensor` from a 4-D tensor to a 2-D tensor.  The output should be the shape (*Batch Size*, *Flattened Image Size*). Shortcut option: you can use classes from the [TensorFlow Layers](https://www.tensorflow.org/api_docs/python/tf/layers) or [TensorFlow Layers (contrib)](https://www.tensorflow.org/api_guides/python/contrib.layers) packages for this layer. For more of a challenge, only use other TensorFlow packages."
   ]
  },
  {
   "cell_type": "code",
   "execution_count": 9,
   "metadata": {
    "collapsed": false,
    "deletable": true,
    "editable": true
   },
   "outputs": [
    {
     "name": "stdout",
     "output_type": "stream",
     "text": [
      "Tests Passed\n"
     ]
    }
   ],
   "source": [
    "def flatten(x_tensor):\n",
    "    \"\"\"\n",
    "    Flatten x_tensor to (Batch Size, Flattened Image Size)\n",
    "    : x_tensor: A tensor of size (Batch Size, ...), where ... are the image dimensions.\n",
    "    : return: A tensor of size (Batch Size, Flattened Image Size).\n",
    "    \"\"\"\n",
    "    # TODO: Implement Function\n",
    "    return tf.contrib.layers.flatten(x_tensor)\n",
    "\n",
    "\n",
    "\"\"\"\n",
    "DON'T MODIFY ANYTHING IN THIS CELL THAT IS BELOW THIS LINE\n",
    "\"\"\"\n",
    "tests.test_flatten(flatten)"
   ]
  },
  {
   "cell_type": "markdown",
   "metadata": {
    "deletable": true,
    "editable": true
   },
   "source": [
    "### Fully-Connected Layer\n",
    "Implement the `fully_conn` function to apply a fully connected layer to `x_tensor` with the shape (*Batch Size*, *num_outputs*). Shortcut option: you can use classes from the [TensorFlow Layers](https://www.tensorflow.org/api_docs/python/tf/layers) or [TensorFlow Layers (contrib)](https://www.tensorflow.org/api_guides/python/contrib.layers) packages for this layer. For more of a challenge, only use other TensorFlow packages."
   ]
  },
  {
   "cell_type": "code",
   "execution_count": 10,
   "metadata": {
    "collapsed": false,
    "deletable": true,
    "editable": true
   },
   "outputs": [
    {
     "name": "stdout",
     "output_type": "stream",
     "text": [
      "Tests Passed\n"
     ]
    }
   ],
   "source": [
    "def fully_conn(x_tensor, num_outputs):\n",
    "    \"\"\"\n",
    "    Apply a fully connected layer to x_tensor using weight and bias\n",
    "    : x_tensor: A 2-D tensor where the first dimension is batch size.\n",
    "    : num_outputs: The number of output that the new tensor should be.\n",
    "    : return: A 2-D tensor where the second dimension is num_outputs.\n",
    "    \"\"\"\n",
    "    # TODO: Implement Function\n",
    "    return tf.contrib.layers.fully_connected(x_tensor, num_outputs=num_outputs, activation_fn=tf.nn.relu)\n",
    "\n",
    "\n",
    "\"\"\"\n",
    "DON'T MODIFY ANYTHING IN THIS CELL THAT IS BELOW THIS LINE\n",
    "\"\"\"\n",
    "tests.test_fully_conn(fully_conn)"
   ]
  },
  {
   "cell_type": "markdown",
   "metadata": {
    "deletable": true,
    "editable": true
   },
   "source": [
    "### Output Layer\n",
    "Implement the `output` function to apply a fully connected layer to `x_tensor` with the shape (*Batch Size*, *num_outputs*). Shortcut option: you can use classes from the [TensorFlow Layers](https://www.tensorflow.org/api_docs/python/tf/layers) or [TensorFlow Layers (contrib)](https://www.tensorflow.org/api_guides/python/contrib.layers) packages for this layer. For more of a challenge, only use other TensorFlow packages.\n",
    "\n",
    "**Note:** Activation, softmax, or cross entropy should **not** be applied to this."
   ]
  },
  {
   "cell_type": "code",
   "execution_count": 11,
   "metadata": {
    "collapsed": false,
    "deletable": true,
    "editable": true
   },
   "outputs": [
    {
     "name": "stdout",
     "output_type": "stream",
     "text": [
      "Tests Passed\n"
     ]
    }
   ],
   "source": [
    "def output(x_tensor, num_outputs):\n",
    "    \"\"\"\n",
    "    Apply a output layer to x_tensor using weight and bias\n",
    "    : x_tensor: A 2-D tensor where the first dimension is batch size.\n",
    "    : num_outputs: The number of output that the new tensor should be.\n",
    "    : return: A 2-D tensor where the second dimension is num_outputs.\n",
    "    \"\"\"\n",
    "    # TODO: Implement Function\n",
    "    return tf.contrib.layers.fully_connected(x_tensor, num_outputs=num_outputs)\n",
    "\n",
    "\n",
    "\"\"\"\n",
    "DON'T MODIFY ANYTHING IN THIS CELL THAT IS BELOW THIS LINE\n",
    "\"\"\"\n",
    "tests.test_output(output)"
   ]
  },
  {
   "cell_type": "markdown",
   "metadata": {
    "deletable": true,
    "editable": true
   },
   "source": [
    "### Create Convolutional Model\n",
    "Implement the function `conv_net` to create a convolutional neural network model. The function takes in a batch of images, `x`, and outputs logits.  Use the layers you created above to create this model:\n",
    "\n",
    "* Apply 1, 2, or 3 Convolution and Max Pool layers\n",
    "* Apply a Flatten Layer\n",
    "* Apply 1, 2, or 3 Fully Connected Layers\n",
    "* Apply an Output Layer\n",
    "* Return the output\n",
    "* Apply [TensorFlow's Dropout](https://www.tensorflow.org/api_docs/python/tf/nn/dropout) to one or more layers in the model using `keep_prob`. "
   ]
  },
  {
   "cell_type": "code",
   "execution_count": 12,
   "metadata": {
    "collapsed": false,
    "deletable": true,
    "editable": true
   },
   "outputs": [
    {
     "name": "stdout",
     "output_type": "stream",
     "text": [
      "Neural Network Built!\n"
     ]
    }
   ],
   "source": [
    "def conv_net(x, keep_prob):\n",
    "    \"\"\"\n",
    "    Create a convolutional neural network model\n",
    "    : x: Placeholder tensor that holds image data.\n",
    "    : keep_prob: Placeholder tensor that hold dropout keep probability.\n",
    "    : return: Tensor that represents logits\n",
    "    \"\"\"\n",
    "    # TODO: Apply 1, 2, or 3 Convolution and Max Pool layers\n",
    "    #    Play around with different number of outputs, kernel size and stride\n",
    "    # Function Definition from Above:\n",
    "    #    conv2d_maxpool(x_tensor, conv_num_outputs, conv_ksize, conv_strides, pool_ksize, pool_strides)\n",
    "    filter_size = (3, 3)\n",
    "    filter_strides = (1, 1)\n",
    "    \n",
    "    pool_size = (2, 2)\n",
    "    pool_strides = (2, 2)\n",
    "    \n",
    "    filter_depth1 = 16\n",
    "    x = conv2d_maxpool(x, filter_depth1, filter_size, filter_strides, pool_size, pool_strides)\n",
    "    \n",
    "    filter_depth2 = 32\n",
    "    x = conv2d_maxpool(x, filter_depth2, filter_size, filter_strides, pool_size, pool_strides)\n",
    "\n",
    "    filter_depth3 = 64\n",
    "    x = conv2d_maxpool(x, filter_depth3, filter_size, filter_strides, pool_size, pool_strides)\n",
    "    \n",
    "    # TODO: Apply a Flatten Layer\n",
    "    # Function Definition from Above:\n",
    "    #   flatten(x_tensor)\n",
    "    x = flatten(x)\n",
    "\n",
    "    # TODO: Apply 1, 2, or 3 Fully Connected Layers\n",
    "    #    Play around with different number of outputs\n",
    "    # Function Definition from Above:\n",
    "    #   fully_conn(x_tensor, num_outputs)\n",
    "#     x = fully_conn(x, 120)\n",
    "    x = fully_conn(x, 60)\n",
    "    x = tf.nn.dropout(x, keep_prob) # these belong after a fully_conn\n",
    "    x = fully_conn(x, 30)\n",
    "    x = tf.nn.dropout(x, keep_prob)\n",
    "    \n",
    "    # TODO: Apply an Output Layer\n",
    "    #    Set this to the number of classes\n",
    "    # Function Definition from Above:\n",
    "    #   output(x_tensor, num_outputs)\n",
    "    x = output(x, 10)\n",
    "    \n",
    "    # TODO: return output\n",
    "    return x\n",
    "\n",
    "\n",
    "\"\"\"\n",
    "DON'T MODIFY ANYTHING IN THIS CELL THAT IS BELOW THIS LINE\n",
    "\"\"\"\n",
    "\n",
    "##############################\n",
    "## Build the Neural Network ##\n",
    "##############################\n",
    "\n",
    "# Remove previous weights, bias, inputs, etc..\n",
    "tf.reset_default_graph()\n",
    "\n",
    "# Inputs\n",
    "x = neural_net_image_input((32, 32, 3))\n",
    "y = neural_net_label_input(10)\n",
    "keep_prob = neural_net_keep_prob_input()\n",
    "\n",
    "# Model\n",
    "logits = conv_net(x, keep_prob)\n",
    "\n",
    "# Name logits Tensor, so that is can be loaded from disk after training\n",
    "logits = tf.identity(logits, name='logits')\n",
    "\n",
    "# Loss and Optimizer\n",
    "cost = tf.reduce_mean(tf.nn.softmax_cross_entropy_with_logits(logits=logits, labels=y))\n",
    "optimizer = tf.train.AdamOptimizer().minimize(cost)\n",
    "\n",
    "# Accuracy\n",
    "correct_pred = tf.equal(tf.argmax(logits, 1), tf.argmax(y, 1))\n",
    "accuracy = tf.reduce_mean(tf.cast(correct_pred, tf.float32), name='accuracy')\n",
    "\n",
    "tests.test_conv_net(conv_net)"
   ]
  },
  {
   "cell_type": "markdown",
   "metadata": {
    "deletable": true,
    "editable": true
   },
   "source": [
    "## Train the Neural Network\n",
    "### Single Optimization\n",
    "Implement the function `train_neural_network` to do a single optimization.  The optimization should use `optimizer` to optimize in `session` with a `feed_dict` of the following:\n",
    "* `x` for image input\n",
    "* `y` for labels\n",
    "* `keep_prob` for keep probability for dropout\n",
    "\n",
    "This function will be called for each batch, so `tf.global_variables_initializer()` has already been called.\n",
    "\n",
    "Note: Nothing needs to be returned. This function is only optimizing the neural network."
   ]
  },
  {
   "cell_type": "code",
   "execution_count": 13,
   "metadata": {
    "collapsed": false,
    "deletable": true,
    "editable": true
   },
   "outputs": [
    {
     "name": "stdout",
     "output_type": "stream",
     "text": [
      "Tests Passed\n"
     ]
    }
   ],
   "source": [
    "def train_neural_network(session, optimizer, keep_probability, feature_batch, label_batch):\n",
    "    \"\"\"\n",
    "    Optimize the session on a batch of images and labels\n",
    "    : session: Current TensorFlow session\n",
    "    : optimizer: TensorFlow optimizer function\n",
    "    : keep_probability: keep probability\n",
    "    : feature_batch: Batch of Numpy image data\n",
    "    : label_batch: Batch of Numpy label data\n",
    "    \"\"\"\n",
    "    # TODO: Implement Function\n",
    "    return session.run(optimizer, feed_dict={x:feature_batch, y:label_batch, keep_prob:keep_probability})\n",
    "\n",
    "\n",
    "\"\"\"\n",
    "DON'T MODIFY ANYTHING IN THIS CELL THAT IS BELOW THIS LINE\n",
    "\"\"\"\n",
    "tests.test_train_nn(train_neural_network)"
   ]
  },
  {
   "cell_type": "markdown",
   "metadata": {
    "deletable": true,
    "editable": true
   },
   "source": [
    "### Show Stats\n",
    "Implement the function `print_stats` to print loss and validation accuracy.  Use the global variables `valid_features` and `valid_labels` to calculate validation accuracy.  Use a keep probability of `1.0` to calculate the loss and validation accuracy."
   ]
  },
  {
   "cell_type": "code",
   "execution_count": 14,
   "metadata": {
    "collapsed": false,
    "deletable": true,
    "editable": true
   },
   "outputs": [],
   "source": [
    "def print_stats(session, feature_batch, label_batch, cost, accuracy):\n",
    "    \"\"\"\n",
    "    Print information about loss and validation accuracy\n",
    "    : session: Current TensorFlow session\n",
    "    : feature_batch: Batch of Numpy image data\n",
    "    : label_batch: Batch of Numpy label data\n",
    "    : cost: TensorFlow cost function\n",
    "    : accuracy: TensorFlow accuracy function\n",
    "    \"\"\"\n",
    "    # TODO: Implement Function\n",
    "    loss = session.run(cost, feed_dict={x:feature_batch, y:label_batch, keep_prob:1.})\n",
    "    valid_acc = session.run(accuracy, feed_dict={x:valid_features, y:valid_labels, keep_prob:1.})\n",
    "    print('Loss: {} Validation Accuracy: {}'.format(loss, valid_acc))"
   ]
  },
  {
   "cell_type": "markdown",
   "metadata": {
    "deletable": true,
    "editable": true
   },
   "source": [
    "### Hyperparameters\n",
    "Tune the following parameters:\n",
    "* Set `epochs` to the number of iterations until the network stops learning or start overfitting\n",
    "* Set `batch_size` to the highest number that your machine has memory for.  Most people set them to common sizes of memory:\n",
    " * 64\n",
    " * 128\n",
    " * 256\n",
    " * ...\n",
    "* Set `keep_probability` to the probability of keeping a node using dropout"
   ]
  },
  {
   "cell_type": "code",
   "execution_count": 15,
   "metadata": {
    "collapsed": true,
    "deletable": true,
    "editable": true
   },
   "outputs": [],
   "source": [
    "# TODO: Tune Parameters\n",
    "epochs = 50\n",
    "batch_size = 128\n",
    "keep_probability = 0.5"
   ]
  },
  {
   "cell_type": "markdown",
   "metadata": {
    "deletable": true,
    "editable": true
   },
   "source": [
    "### Train on a Single CIFAR-10 Batch\n",
    "Instead of training the neural network on all the CIFAR-10 batches of data, let's use a single batch. This should save time while you iterate on the model to get a better accuracy.  Once the final validation accuracy is 50% or greater, run the model on all the data in the next section."
   ]
  },
  {
   "cell_type": "code",
   "execution_count": 16,
   "metadata": {
    "collapsed": false,
    "deletable": true,
    "editable": true
   },
   "outputs": [
    {
     "name": "stdout",
     "output_type": "stream",
     "text": [
      "Checking the Training on a Single Batch...\n",
      "Epoch  1, CIFAR-10 Batch 1:  Loss: 2.3017826080322266 Validation Accuracy: 0.14799998700618744\n",
      "Epoch  2, CIFAR-10 Batch 1:  Loss: 2.261904239654541 Validation Accuracy: 0.15719999372959137\n",
      "Epoch  3, CIFAR-10 Batch 1:  Loss: 2.187920093536377 Validation Accuracy: 0.20759999752044678\n",
      "Epoch  4, CIFAR-10 Batch 1:  Loss: 2.0874786376953125 Validation Accuracy: 0.3157999813556671\n",
      "Epoch  5, CIFAR-10 Batch 1:  Loss: 1.9979641437530518 Validation Accuracy: 0.3424000144004822\n",
      "Epoch  6, CIFAR-10 Batch 1:  Loss: 1.924217939376831 Validation Accuracy: 0.3522000014781952\n",
      "Epoch  7, CIFAR-10 Batch 1:  Loss: 1.8764324188232422 Validation Accuracy: 0.3871999979019165\n",
      "Epoch  8, CIFAR-10 Batch 1:  Loss: 1.829294204711914 Validation Accuracy: 0.3813999891281128\n",
      "Epoch  9, CIFAR-10 Batch 1:  Loss: 1.758807897567749 Validation Accuracy: 0.39719995856285095\n",
      "Epoch 10, CIFAR-10 Batch 1:  Loss: 1.7402698993682861 Validation Accuracy: 0.42479997873306274\n",
      "Epoch 11, CIFAR-10 Batch 1:  Loss: 1.6820039749145508 Validation Accuracy: 0.42959997057914734\n",
      "Epoch 12, CIFAR-10 Batch 1:  Loss: 1.650687336921692 Validation Accuracy: 0.42979997396469116\n",
      "Epoch 13, CIFAR-10 Batch 1:  Loss: 1.5600085258483887 Validation Accuracy: 0.44579994678497314\n",
      "Epoch 14, CIFAR-10 Batch 1:  Loss: 1.5473719835281372 Validation Accuracy: 0.43959999084472656\n",
      "Epoch 15, CIFAR-10 Batch 1:  Loss: 1.5720810890197754 Validation Accuracy: 0.42420002818107605\n",
      "Epoch 16, CIFAR-10 Batch 1:  Loss: 1.464861512184143 Validation Accuracy: 0.477199912071228\n",
      "Epoch 17, CIFAR-10 Batch 1:  Loss: 1.4144482612609863 Validation Accuracy: 0.4657999873161316\n",
      "Epoch 18, CIFAR-10 Batch 1:  Loss: 1.3604295253753662 Validation Accuracy: 0.4771999716758728\n",
      "Epoch 19, CIFAR-10 Batch 1:  Loss: 1.3155208826065063 Validation Accuracy: 0.4737999439239502\n",
      "Epoch 20, CIFAR-10 Batch 1:  Loss: 1.2848182916641235 Validation Accuracy: 0.45959997177124023\n",
      "Epoch 21, CIFAR-10 Batch 1:  Loss: 1.231905460357666 Validation Accuracy: 0.4901999533176422\n",
      "Epoch 22, CIFAR-10 Batch 1:  Loss: 1.235636830329895 Validation Accuracy: 0.47979992628097534\n",
      "Epoch 23, CIFAR-10 Batch 1:  Loss: 1.2143754959106445 Validation Accuracy: 0.4705999791622162\n",
      "Epoch 24, CIFAR-10 Batch 1:  Loss: 1.2109532356262207 Validation Accuracy: 0.4777999818325043\n",
      "Epoch 25, CIFAR-10 Batch 1:  Loss: 1.1369779109954834 Validation Accuracy: 0.4943999648094177\n",
      "Epoch 26, CIFAR-10 Batch 1:  Loss: 1.1084198951721191 Validation Accuracy: 0.5059999227523804\n",
      "Epoch 27, CIFAR-10 Batch 1:  Loss: 1.082301139831543 Validation Accuracy: 0.5087999105453491\n",
      "Epoch 28, CIFAR-10 Batch 1:  Loss: 1.0673032999038696 Validation Accuracy: 0.5033999681472778\n",
      "Epoch 29, CIFAR-10 Batch 1:  Loss: 1.0890957117080688 Validation Accuracy: 0.5153999328613281\n",
      "Epoch 30, CIFAR-10 Batch 1:  Loss: 1.041866660118103 Validation Accuracy: 0.5145999193191528\n",
      "Epoch 31, CIFAR-10 Batch 1:  Loss: 0.9756132364273071 Validation Accuracy: 0.5385999083518982\n",
      "Epoch 32, CIFAR-10 Batch 1:  Loss: 0.9485541582107544 Validation Accuracy: 0.5413999557495117\n",
      "Epoch 33, CIFAR-10 Batch 1:  Loss: 0.9480171203613281 Validation Accuracy: 0.5189999341964722\n",
      "Epoch 34, CIFAR-10 Batch 1:  Loss: 0.9363914728164673 Validation Accuracy: 0.5309999585151672\n",
      "Epoch 35, CIFAR-10 Batch 1:  Loss: 0.914070188999176 Validation Accuracy: 0.5301999449729919\n",
      "Epoch 36, CIFAR-10 Batch 1:  Loss: 0.9379621148109436 Validation Accuracy: 0.5245999693870544\n",
      "Epoch 37, CIFAR-10 Batch 1:  Loss: 0.9451314806938171 Validation Accuracy: 0.5231999754905701\n",
      "Epoch 38, CIFAR-10 Batch 1:  Loss: 0.8846322298049927 Validation Accuracy: 0.5235999822616577\n",
      "Epoch 39, CIFAR-10 Batch 1:  Loss: 0.8861854076385498 Validation Accuracy: 0.5357999801635742\n",
      "Epoch 40, CIFAR-10 Batch 1:  Loss: 0.8817409873008728 Validation Accuracy: 0.5337998867034912\n",
      "Epoch 41, CIFAR-10 Batch 1:  Loss: 0.8895763754844666 Validation Accuracy: 0.5365999341011047\n",
      "Epoch 42, CIFAR-10 Batch 1:  Loss: 0.8285559415817261 Validation Accuracy: 0.5269999504089355\n",
      "Epoch 43, CIFAR-10 Batch 1:  Loss: 0.8003449440002441 Validation Accuracy: 0.5395999550819397\n",
      "Epoch 44, CIFAR-10 Batch 1:  Loss: 0.8772232532501221 Validation Accuracy: 0.515999972820282\n",
      "Epoch 45, CIFAR-10 Batch 1:  Loss: 0.781075119972229 Validation Accuracy: 0.5255998969078064\n",
      "Epoch 46, CIFAR-10 Batch 1:  Loss: 0.797294557094574 Validation Accuracy: 0.53739994764328\n",
      "Epoch 47, CIFAR-10 Batch 1:  Loss: 0.7314881086349487 Validation Accuracy: 0.5357999205589294\n",
      "Epoch 48, CIFAR-10 Batch 1:  Loss: 0.788693368434906 Validation Accuracy: 0.5345999002456665\n",
      "Epoch 49, CIFAR-10 Batch 1:  Loss: 0.7962007522583008 Validation Accuracy: 0.512999951839447\n",
      "Epoch 50, CIFAR-10 Batch 1:  Loss: 0.7549585103988647 Validation Accuracy: 0.5273999571800232\n"
     ]
    }
   ],
   "source": [
    "\"\"\"\n",
    "DON'T MODIFY ANYTHING IN THIS CELL\n",
    "\"\"\"\n",
    "print('Checking the Training on a Single Batch...')\n",
    "with tf.Session() as sess:\n",
    "    # Initializing the variables\n",
    "    sess.run(tf.global_variables_initializer())\n",
    "    \n",
    "    # Training cycle\n",
    "    for epoch in range(epochs):\n",
    "        batch_i = 1\n",
    "        for batch_features, batch_labels in helper.load_preprocess_training_batch(batch_i, batch_size):\n",
    "            train_neural_network(sess, optimizer, keep_probability, batch_features, batch_labels)\n",
    "        print('Epoch {:>2}, CIFAR-10 Batch {}:  '.format(epoch + 1, batch_i), end='')\n",
    "        print_stats(sess, batch_features, batch_labels, cost, accuracy)"
   ]
  },
  {
   "cell_type": "markdown",
   "metadata": {
    "deletable": true,
    "editable": true
   },
   "source": [
    "### Fully Train the Model\n",
    "Now that you got a good accuracy with a single CIFAR-10 batch, try it with all five batches."
   ]
  },
  {
   "cell_type": "code",
   "execution_count": 17,
   "metadata": {
    "collapsed": false,
    "deletable": true,
    "editable": true
   },
   "outputs": [
    {
     "name": "stdout",
     "output_type": "stream",
     "text": [
      "Training...\n",
      "Epoch  1, CIFAR-10 Batch 1:  Loss: 2.288945436477661 Validation Accuracy: 0.16919997334480286\n",
      "Epoch  1, CIFAR-10 Batch 2:  Loss: 2.2546961307525635 Validation Accuracy: 0.21979999542236328\n",
      "Epoch  1, CIFAR-10 Batch 3:  Loss: 2.201051950454712 Validation Accuracy: 0.23259997367858887\n",
      "Epoch  1, CIFAR-10 Batch 4:  Loss: 2.164505958557129 Validation Accuracy: 0.2815999984741211\n",
      "Epoch  1, CIFAR-10 Batch 5:  Loss: 2.011289119720459 Validation Accuracy: 0.31360000371932983\n",
      "Epoch  2, CIFAR-10 Batch 1:  Loss: 1.932254433631897 Validation Accuracy: 0.361799955368042\n",
      "Epoch  2, CIFAR-10 Batch 2:  Loss: 1.89589262008667 Validation Accuracy: 0.37999996542930603\n",
      "Epoch  2, CIFAR-10 Batch 3:  Loss: 1.6591041088104248 Validation Accuracy: 0.366599977016449\n",
      "Epoch  2, CIFAR-10 Batch 4:  Loss: 1.809219479560852 Validation Accuracy: 0.39499998092651367\n",
      "Epoch  2, CIFAR-10 Batch 5:  Loss: 1.7453805208206177 Validation Accuracy: 0.41679996252059937\n",
      "Epoch  3, CIFAR-10 Batch 1:  Loss: 1.722813606262207 Validation Accuracy: 0.42619994282722473\n",
      "Epoch  3, CIFAR-10 Batch 2:  Loss: 1.730385184288025 Validation Accuracy: 0.44099998474121094\n",
      "Epoch  3, CIFAR-10 Batch 3:  Loss: 1.4036903381347656 Validation Accuracy: 0.45139995217323303\n",
      "Epoch  3, CIFAR-10 Batch 4:  Loss: 1.6125637292861938 Validation Accuracy: 0.4513999819755554\n",
      "Epoch  3, CIFAR-10 Batch 5:  Loss: 1.574925422668457 Validation Accuracy: 0.4655999541282654\n",
      "Epoch  4, CIFAR-10 Batch 1:  Loss: 1.5640593767166138 Validation Accuracy: 0.47419998049736023\n",
      "Epoch  4, CIFAR-10 Batch 2:  Loss: 1.6332063674926758 Validation Accuracy: 0.48579996824264526\n",
      "Epoch  4, CIFAR-10 Batch 3:  Loss: 1.3000919818878174 Validation Accuracy: 0.47079992294311523\n",
      "Epoch  4, CIFAR-10 Batch 4:  Loss: 1.471170425415039 Validation Accuracy: 0.4737999439239502\n",
      "Epoch  4, CIFAR-10 Batch 5:  Loss: 1.48165762424469 Validation Accuracy: 0.49059996008872986\n",
      "Epoch  5, CIFAR-10 Batch 1:  Loss: 1.4906435012817383 Validation Accuracy: 0.4789999723434448\n",
      "Epoch  5, CIFAR-10 Batch 2:  Loss: 1.5393762588500977 Validation Accuracy: 0.49279993772506714\n",
      "Epoch  5, CIFAR-10 Batch 3:  Loss: 1.2067558765411377 Validation Accuracy: 0.4943999648094177\n",
      "Epoch  5, CIFAR-10 Batch 4:  Loss: 1.3910548686981201 Validation Accuracy: 0.47999995946884155\n",
      "Epoch  5, CIFAR-10 Batch 5:  Loss: 1.399803638458252 Validation Accuracy: 0.506399929523468\n",
      "Epoch  6, CIFAR-10 Batch 1:  Loss: 1.4620565176010132 Validation Accuracy: 0.4699999988079071\n",
      "Epoch  6, CIFAR-10 Batch 2:  Loss: 1.4920594692230225 Validation Accuracy: 0.5095999240875244\n",
      "Epoch  6, CIFAR-10 Batch 3:  Loss: 1.0928224325180054 Validation Accuracy: 0.5197998881340027\n",
      "Epoch  6, CIFAR-10 Batch 4:  Loss: 1.383995771408081 Validation Accuracy: 0.519599974155426\n",
      "Epoch  6, CIFAR-10 Batch 5:  Loss: 1.2804371118545532 Validation Accuracy: 0.5137999057769775\n",
      "Epoch  7, CIFAR-10 Batch 1:  Loss: 1.3841633796691895 Validation Accuracy: 0.5201999545097351\n",
      "Epoch  7, CIFAR-10 Batch 2:  Loss: 1.397449016571045 Validation Accuracy: 0.5243999361991882\n",
      "Epoch  7, CIFAR-10 Batch 3:  Loss: 1.0761291980743408 Validation Accuracy: 0.5341998934745789\n",
      "Epoch  7, CIFAR-10 Batch 4:  Loss: 1.2995669841766357 Validation Accuracy: 0.5302000045776367\n",
      "Epoch  7, CIFAR-10 Batch 5:  Loss: 1.2671918869018555 Validation Accuracy: 0.5255999565124512\n",
      "Epoch  8, CIFAR-10 Batch 1:  Loss: 1.3539760112762451 Validation Accuracy: 0.5287999510765076\n",
      "Epoch  8, CIFAR-10 Batch 2:  Loss: 1.3101751804351807 Validation Accuracy: 0.5411999225616455\n",
      "Epoch  8, CIFAR-10 Batch 3:  Loss: 1.0262314081192017 Validation Accuracy: 0.5459999442100525\n",
      "Epoch  8, CIFAR-10 Batch 4:  Loss: 1.2620105743408203 Validation Accuracy: 0.5465999841690063\n",
      "Epoch  8, CIFAR-10 Batch 5:  Loss: 1.23065984249115 Validation Accuracy: 0.5349999666213989\n",
      "Epoch  9, CIFAR-10 Batch 1:  Loss: 1.3471564054489136 Validation Accuracy: 0.5365999341011047\n",
      "Epoch  9, CIFAR-10 Batch 2:  Loss: 1.3076207637786865 Validation Accuracy: 0.5409998893737793\n",
      "Epoch  9, CIFAR-10 Batch 3:  Loss: 0.9990374445915222 Validation Accuracy: 0.5555999279022217\n",
      "Epoch  9, CIFAR-10 Batch 4:  Loss: 1.3001868724822998 Validation Accuracy: 0.5267999768257141\n",
      "Epoch  9, CIFAR-10 Batch 5:  Loss: 1.193373203277588 Validation Accuracy: 0.5155999660491943\n",
      "Epoch 10, CIFAR-10 Batch 1:  Loss: 1.2360700368881226 Validation Accuracy: 0.5459999442100525\n",
      "Epoch 10, CIFAR-10 Batch 2:  Loss: 1.269016981124878 Validation Accuracy: 0.5567998886108398\n",
      "Epoch 10, CIFAR-10 Batch 3:  Loss: 0.9659966826438904 Validation Accuracy: 0.5497999787330627\n",
      "Epoch 10, CIFAR-10 Batch 4:  Loss: 1.294769525527954 Validation Accuracy: 0.556399941444397\n",
      "Epoch 10, CIFAR-10 Batch 5:  Loss: 1.152645468711853 Validation Accuracy: 0.545199990272522\n",
      "Epoch 11, CIFAR-10 Batch 1:  Loss: 1.251539707183838 Validation Accuracy: 0.5591999292373657\n",
      "Epoch 11, CIFAR-10 Batch 2:  Loss: 1.1448121070861816 Validation Accuracy: 0.5639999508857727\n",
      "Epoch 11, CIFAR-10 Batch 3:  Loss: 0.947036623954773 Validation Accuracy: 0.5769999623298645\n",
      "Epoch 11, CIFAR-10 Batch 4:  Loss: 1.2351387739181519 Validation Accuracy: 0.5577999353408813\n",
      "Epoch 11, CIFAR-10 Batch 5:  Loss: 1.107618808746338 Validation Accuracy: 0.5635999441146851\n",
      "Epoch 12, CIFAR-10 Batch 1:  Loss: 1.1781002283096313 Validation Accuracy: 0.5543999075889587\n",
      "Epoch 12, CIFAR-10 Batch 2:  Loss: 1.1015061140060425 Validation Accuracy: 0.554599940776825\n",
      "Epoch 12, CIFAR-10 Batch 3:  Loss: 0.9563150405883789 Validation Accuracy: 0.5757999420166016\n",
      "Epoch 12, CIFAR-10 Batch 4:  Loss: 1.1932456493377686 Validation Accuracy: 0.5597999095916748\n",
      "Epoch 12, CIFAR-10 Batch 5:  Loss: 1.0603883266448975 Validation Accuracy: 0.5715999007225037\n",
      "Epoch 13, CIFAR-10 Batch 1:  Loss: 1.1978774070739746 Validation Accuracy: 0.5731998682022095\n",
      "Epoch 13, CIFAR-10 Batch 2:  Loss: 1.0180760622024536 Validation Accuracy: 0.5755999088287354\n",
      "Epoch 13, CIFAR-10 Batch 3:  Loss: 0.9019261598587036 Validation Accuracy: 0.5881999731063843\n",
      "Epoch 13, CIFAR-10 Batch 4:  Loss: 1.118582010269165 Validation Accuracy: 0.5817998647689819\n",
      "Epoch 13, CIFAR-10 Batch 5:  Loss: 1.0582787990570068 Validation Accuracy: 0.5709999799728394\n",
      "Epoch 14, CIFAR-10 Batch 1:  Loss: 1.23478364944458 Validation Accuracy: 0.545199990272522\n",
      "Epoch 14, CIFAR-10 Batch 2:  Loss: 1.083500623703003 Validation Accuracy: 0.5751999020576477\n",
      "Epoch 14, CIFAR-10 Batch 3:  Loss: 0.8618555068969727 Validation Accuracy: 0.5915998816490173\n",
      "Epoch 14, CIFAR-10 Batch 4:  Loss: 1.0803391933441162 Validation Accuracy: 0.5905998945236206\n",
      "Epoch 14, CIFAR-10 Batch 5:  Loss: 1.0057402849197388 Validation Accuracy: 0.5949999094009399\n",
      "Epoch 15, CIFAR-10 Batch 1:  Loss: 1.0883201360702515 Validation Accuracy: 0.577799916267395\n",
      "Epoch 15, CIFAR-10 Batch 2:  Loss: 0.9964957237243652 Validation Accuracy: 0.5825998783111572\n",
      "Epoch 15, CIFAR-10 Batch 3:  Loss: 0.8325436115264893 Validation Accuracy: 0.5907999873161316\n",
      "Epoch 15, CIFAR-10 Batch 4:  Loss: 1.0676188468933105 Validation Accuracy: 0.595599889755249\n",
      "Epoch 15, CIFAR-10 Batch 5:  Loss: 0.9390937089920044 Validation Accuracy: 0.5931999087333679\n",
      "Epoch 16, CIFAR-10 Batch 1:  Loss: 1.071333646774292 Validation Accuracy: 0.5849999189376831\n",
      "Epoch 16, CIFAR-10 Batch 2:  Loss: 1.0013184547424316 Validation Accuracy: 0.5799999237060547\n",
      "Epoch 16, CIFAR-10 Batch 3:  Loss: 0.8478660583496094 Validation Accuracy: 0.5883998870849609\n",
      "Epoch 16, CIFAR-10 Batch 4:  Loss: 1.0004487037658691 Validation Accuracy: 0.5989998579025269\n",
      "Epoch 16, CIFAR-10 Batch 5:  Loss: 0.9238016605377197 Validation Accuracy: 0.5859999656677246\n",
      "Epoch 17, CIFAR-10 Batch 1:  Loss: 1.0237689018249512 Validation Accuracy: 0.58899986743927\n",
      "Epoch 17, CIFAR-10 Batch 2:  Loss: 0.9505956172943115 Validation Accuracy: 0.6023999452590942\n",
      "Epoch 17, CIFAR-10 Batch 3:  Loss: 0.8261684775352478 Validation Accuracy: 0.6059999465942383\n",
      "Epoch 17, CIFAR-10 Batch 4:  Loss: 0.9854500889778137 Validation Accuracy: 0.6017999053001404\n",
      "Epoch 17, CIFAR-10 Batch 5:  Loss: 0.860440731048584 Validation Accuracy: 0.5991999506950378\n",
      "Epoch 18, CIFAR-10 Batch 1:  Loss: 1.0158895254135132 Validation Accuracy: 0.6025999188423157\n",
      "Epoch 18, CIFAR-10 Batch 2:  Loss: 0.9648050665855408 Validation Accuracy: 0.5909999012947083\n",
      "Epoch 18, CIFAR-10 Batch 3:  Loss: 0.8290385007858276 Validation Accuracy: 0.5945999026298523\n",
      "Epoch 18, CIFAR-10 Batch 4:  Loss: 1.0590002536773682 Validation Accuracy: 0.6059999465942383\n",
      "Epoch 18, CIFAR-10 Batch 5:  Loss: 0.8718357086181641 Validation Accuracy: 0.6103999018669128\n",
      "Epoch 19, CIFAR-10 Batch 1:  Loss: 0.979663610458374 Validation Accuracy: 0.5938000082969666\n",
      "Epoch 19, CIFAR-10 Batch 2:  Loss: 0.8683074712753296 Validation Accuracy: 0.6045998930931091\n",
      "Epoch 19, CIFAR-10 Batch 3:  Loss: 0.7949383854866028 Validation Accuracy: 0.608799934387207\n",
      "Epoch 19, CIFAR-10 Batch 4:  Loss: 1.0149152278900146 Validation Accuracy: 0.613599956035614\n",
      "Epoch 19, CIFAR-10 Batch 5:  Loss: 0.8292334079742432 Validation Accuracy: 0.6161998510360718\n",
      "Epoch 20, CIFAR-10 Batch 1:  Loss: 0.9251528978347778 Validation Accuracy: 0.6049998998641968\n",
      "Epoch 20, CIFAR-10 Batch 2:  Loss: 0.9117268323898315 Validation Accuracy: 0.6151999235153198\n",
      "Epoch 20, CIFAR-10 Batch 3:  Loss: 0.8176479339599609 Validation Accuracy: 0.6115999221801758\n",
      "Epoch 20, CIFAR-10 Batch 4:  Loss: 0.8761585354804993 Validation Accuracy: 0.619399905204773\n",
      "Epoch 20, CIFAR-10 Batch 5:  Loss: 0.8577311038970947 Validation Accuracy: 0.615199863910675\n",
      "Epoch 21, CIFAR-10 Batch 1:  Loss: 0.9903979897499084 Validation Accuracy: 0.6141998767852783\n",
      "Epoch 21, CIFAR-10 Batch 2:  Loss: 0.8382277488708496 Validation Accuracy: 0.6063998937606812\n",
      "Epoch 21, CIFAR-10 Batch 3:  Loss: 0.7652484178543091 Validation Accuracy: 0.6153998970985413\n",
      "Epoch 21, CIFAR-10 Batch 4:  Loss: 0.963394820690155 Validation Accuracy: 0.6119999289512634\n",
      "Epoch 21, CIFAR-10 Batch 5:  Loss: 0.8348085284233093 Validation Accuracy: 0.6233999729156494\n",
      "Epoch 22, CIFAR-10 Batch 1:  Loss: 0.9388440847396851 Validation Accuracy: 0.601599931716919\n",
      "Epoch 22, CIFAR-10 Batch 2:  Loss: 0.8049741983413696 Validation Accuracy: 0.6161999702453613\n",
      "Epoch 22, CIFAR-10 Batch 3:  Loss: 0.7832473516464233 Validation Accuracy: 0.6007999181747437\n",
      "Epoch 22, CIFAR-10 Batch 4:  Loss: 0.8901234269142151 Validation Accuracy: 0.6085999608039856\n",
      "Epoch 22, CIFAR-10 Batch 5:  Loss: 0.7906209230422974 Validation Accuracy: 0.6223998665809631\n",
      "Epoch 23, CIFAR-10 Batch 1:  Loss: 0.9160857796669006 Validation Accuracy: 0.6007999181747437\n",
      "Epoch 23, CIFAR-10 Batch 2:  Loss: 0.7881563901901245 Validation Accuracy: 0.6219999194145203\n",
      "Epoch 23, CIFAR-10 Batch 3:  Loss: 0.7682252526283264 Validation Accuracy: 0.6095999479293823\n",
      "Epoch 23, CIFAR-10 Batch 4:  Loss: 0.9078258275985718 Validation Accuracy: 0.6215999126434326\n",
      "Epoch 23, CIFAR-10 Batch 5:  Loss: 0.8100370168685913 Validation Accuracy: 0.6099998950958252\n",
      "Epoch 24, CIFAR-10 Batch 1:  Loss: 0.9018376469612122 Validation Accuracy: 0.6185998916625977\n",
      "Epoch 24, CIFAR-10 Batch 2:  Loss: 0.7394188642501831 Validation Accuracy: 0.6237999200820923\n",
      "Epoch 24, CIFAR-10 Batch 3:  Loss: 0.7005480527877808 Validation Accuracy: 0.6151999235153198\n",
      "Epoch 24, CIFAR-10 Batch 4:  Loss: 0.9093687534332275 Validation Accuracy: 0.6291998624801636\n",
      "Epoch 24, CIFAR-10 Batch 5:  Loss: 0.7572382688522339 Validation Accuracy: 0.6299998760223389\n",
      "Epoch 25, CIFAR-10 Batch 1:  Loss: 0.8379781246185303 Validation Accuracy: 0.6219999194145203\n",
      "Epoch 25, CIFAR-10 Batch 2:  Loss: 0.8090521693229675 Validation Accuracy: 0.6177999377250671\n",
      "Epoch 25, CIFAR-10 Batch 3:  Loss: 0.642261803150177 Validation Accuracy: 0.6301998496055603\n",
      "Epoch 25, CIFAR-10 Batch 4:  Loss: 0.8897970914840698 Validation Accuracy: 0.61819988489151\n",
      "Epoch 25, CIFAR-10 Batch 5:  Loss: 0.7090966701507568 Validation Accuracy: 0.6281998753547668\n",
      "Epoch 26, CIFAR-10 Batch 1:  Loss: 0.8190229535102844 Validation Accuracy: 0.6103999018669128\n",
      "Epoch 26, CIFAR-10 Batch 2:  Loss: 0.7424635887145996 Validation Accuracy: 0.6283998489379883\n",
      "Epoch 26, CIFAR-10 Batch 3:  Loss: 0.6614328026771545 Validation Accuracy: 0.6329998970031738\n",
      "Epoch 26, CIFAR-10 Batch 4:  Loss: 0.8580068349838257 Validation Accuracy: 0.625999927520752\n",
      "Epoch 26, CIFAR-10 Batch 5:  Loss: 0.7021997570991516 Validation Accuracy: 0.6357998847961426\n",
      "Epoch 27, CIFAR-10 Batch 1:  Loss: 0.8275671005249023 Validation Accuracy: 0.6141998767852783\n",
      "Epoch 27, CIFAR-10 Batch 2:  Loss: 0.7062272429466248 Validation Accuracy: 0.6339998841285706\n",
      "Epoch 27, CIFAR-10 Batch 3:  Loss: 0.7125060558319092 Validation Accuracy: 0.6227999925613403\n",
      "Epoch 27, CIFAR-10 Batch 4:  Loss: 0.8242703080177307 Validation Accuracy: 0.6295998692512512\n",
      "Epoch 27, CIFAR-10 Batch 5:  Loss: 0.6882104873657227 Validation Accuracy: 0.6281999349594116\n",
      "Epoch 28, CIFAR-10 Batch 1:  Loss: 0.7914735674858093 Validation Accuracy: 0.6149999499320984\n",
      "Epoch 28, CIFAR-10 Batch 2:  Loss: 0.7402663230895996 Validation Accuracy: 0.6127999424934387\n",
      "Epoch 28, CIFAR-10 Batch 3:  Loss: 0.6400086879730225 Validation Accuracy: 0.621799886226654\n",
      "Epoch 28, CIFAR-10 Batch 4:  Loss: 0.7974883317947388 Validation Accuracy: 0.6281998753547668\n",
      "Epoch 28, CIFAR-10 Batch 5:  Loss: 0.6825376152992249 Validation Accuracy: 0.640799880027771\n",
      "Epoch 29, CIFAR-10 Batch 1:  Loss: 0.861386775970459 Validation Accuracy: 0.5899999141693115\n",
      "Epoch 29, CIFAR-10 Batch 2:  Loss: 0.7264429330825806 Validation Accuracy: 0.6251998543739319\n",
      "Epoch 29, CIFAR-10 Batch 3:  Loss: 0.6425448656082153 Validation Accuracy: 0.6333999633789062\n",
      "Epoch 29, CIFAR-10 Batch 4:  Loss: 0.7616349458694458 Validation Accuracy: 0.6343998908996582\n",
      "Epoch 29, CIFAR-10 Batch 5:  Loss: 0.6361953020095825 Validation Accuracy: 0.6381998062133789\n",
      "Epoch 30, CIFAR-10 Batch 1:  Loss: 0.7934824824333191 Validation Accuracy: 0.6337999701499939\n",
      "Epoch 30, CIFAR-10 Batch 2:  Loss: 0.7308244705200195 Validation Accuracy: 0.6227999329566956\n",
      "Epoch 30, CIFAR-10 Batch 3:  Loss: 0.6207672357559204 Validation Accuracy: 0.6299998164176941\n",
      "Epoch 30, CIFAR-10 Batch 4:  Loss: 0.7728691101074219 Validation Accuracy: 0.6325998902320862\n",
      "Epoch 30, CIFAR-10 Batch 5:  Loss: 0.6601531505584717 Validation Accuracy: 0.6331998705863953\n",
      "Epoch 31, CIFAR-10 Batch 1:  Loss: 0.7862535715103149 Validation Accuracy: 0.6177998781204224\n",
      "Epoch 31, CIFAR-10 Batch 2:  Loss: 0.6773541569709778 Validation Accuracy: 0.6397998929023743\n",
      "Epoch 31, CIFAR-10 Batch 3:  Loss: 0.6006360054016113 Validation Accuracy: 0.6355999112129211\n",
      "Epoch 31, CIFAR-10 Batch 4:  Loss: 0.7414880394935608 Validation Accuracy: 0.6399999260902405\n",
      "Epoch 31, CIFAR-10 Batch 5:  Loss: 0.627204954624176 Validation Accuracy: 0.6399998664855957\n",
      "Epoch 32, CIFAR-10 Batch 1:  Loss: 0.7974804639816284 Validation Accuracy: 0.6137998700141907\n",
      "Epoch 32, CIFAR-10 Batch 2:  Loss: 0.7327349781990051 Validation Accuracy: 0.6251999139785767\n",
      "Epoch 32, CIFAR-10 Batch 3:  Loss: 0.5560176372528076 Validation Accuracy: 0.6405999064445496\n",
      "Epoch 32, CIFAR-10 Batch 4:  Loss: 0.7580890655517578 Validation Accuracy: 0.6433999538421631\n",
      "Epoch 32, CIFAR-10 Batch 5:  Loss: 0.6215250492095947 Validation Accuracy: 0.642599880695343\n",
      "Epoch 33, CIFAR-10 Batch 1:  Loss: 0.7686857581138611 Validation Accuracy: 0.6241999268531799\n",
      "Epoch 33, CIFAR-10 Batch 2:  Loss: 0.6483623385429382 Validation Accuracy: 0.6237999200820923\n",
      "Epoch 33, CIFAR-10 Batch 3:  Loss: 0.6119851469993591 Validation Accuracy: 0.6185998916625977\n",
      "Epoch 33, CIFAR-10 Batch 4:  Loss: 0.722898006439209 Validation Accuracy: 0.637199878692627\n",
      "Epoch 33, CIFAR-10 Batch 5:  Loss: 0.6625135540962219 Validation Accuracy: 0.6409999132156372\n",
      "Epoch 34, CIFAR-10 Batch 1:  Loss: 0.7694439888000488 Validation Accuracy: 0.6339999437332153\n",
      "Epoch 34, CIFAR-10 Batch 2:  Loss: 0.6934570670127869 Validation Accuracy: 0.6253998875617981\n",
      "Epoch 34, CIFAR-10 Batch 3:  Loss: 0.5049141645431519 Validation Accuracy: 0.6443998217582703\n",
      "Epoch 34, CIFAR-10 Batch 4:  Loss: 0.7510896921157837 Validation Accuracy: 0.643799901008606\n",
      "Epoch 34, CIFAR-10 Batch 5:  Loss: 0.6325969099998474 Validation Accuracy: 0.6383999586105347\n",
      "Epoch 35, CIFAR-10 Batch 1:  Loss: 0.737156867980957 Validation Accuracy: 0.6329998970031738\n",
      "Epoch 35, CIFAR-10 Batch 2:  Loss: 0.6788520216941833 Validation Accuracy: 0.6217999458312988\n",
      "Epoch 35, CIFAR-10 Batch 3:  Loss: 0.5532402396202087 Validation Accuracy: 0.6215998530387878\n",
      "Epoch 35, CIFAR-10 Batch 4:  Loss: 0.7893195152282715 Validation Accuracy: 0.6379998922348022\n",
      "Epoch 35, CIFAR-10 Batch 5:  Loss: 0.678796648979187 Validation Accuracy: 0.6227998733520508\n",
      "Epoch 36, CIFAR-10 Batch 1:  Loss: 0.8322718143463135 Validation Accuracy: 0.6381998062133789\n",
      "Epoch 36, CIFAR-10 Batch 2:  Loss: 0.6720705032348633 Validation Accuracy: 0.6467998623847961\n",
      "Epoch 36, CIFAR-10 Batch 3:  Loss: 0.47903233766555786 Validation Accuracy: 0.6453999280929565\n",
      "Epoch 36, CIFAR-10 Batch 4:  Loss: 0.7086853384971619 Validation Accuracy: 0.6515998840332031\n",
      "Epoch 36, CIFAR-10 Batch 5:  Loss: 0.6392843723297119 Validation Accuracy: 0.6393998861312866\n",
      "Epoch 37, CIFAR-10 Batch 1:  Loss: 0.7692084908485413 Validation Accuracy: 0.6255999207496643\n",
      "Epoch 37, CIFAR-10 Batch 2:  Loss: 0.6611248850822449 Validation Accuracy: 0.6315998435020447\n",
      "Epoch 37, CIFAR-10 Batch 3:  Loss: 0.509644091129303 Validation Accuracy: 0.6423999071121216\n",
      "Epoch 37, CIFAR-10 Batch 4:  Loss: 0.7181724309921265 Validation Accuracy: 0.6407999396324158\n",
      "Epoch 37, CIFAR-10 Batch 5:  Loss: 0.5840765237808228 Validation Accuracy: 0.6479998826980591\n",
      "Epoch 38, CIFAR-10 Batch 1:  Loss: 0.742413341999054 Validation Accuracy: 0.6337999105453491\n",
      "Epoch 38, CIFAR-10 Batch 2:  Loss: 0.6321962475776672 Validation Accuracy: 0.6487998962402344\n",
      "Epoch 38, CIFAR-10 Batch 3:  Loss: 0.5275421142578125 Validation Accuracy: 0.6405999064445496\n",
      "Epoch 38, CIFAR-10 Batch 4:  Loss: 0.6976087093353271 Validation Accuracy: 0.640799880027771\n",
      "Epoch 38, CIFAR-10 Batch 5:  Loss: 0.581615686416626 Validation Accuracy: 0.6399998664855957\n",
      "Epoch 39, CIFAR-10 Batch 1:  Loss: 0.7328110933303833 Validation Accuracy: 0.6423999071121216\n",
      "Epoch 39, CIFAR-10 Batch 2:  Loss: 0.6621612310409546 Validation Accuracy: 0.6325998902320862\n",
      "Epoch 39, CIFAR-10 Batch 3:  Loss: 0.5042654275894165 Validation Accuracy: 0.6391999125480652\n",
      "Epoch 39, CIFAR-10 Batch 4:  Loss: 0.7638893723487854 Validation Accuracy: 0.6269998550415039\n",
      "Epoch 39, CIFAR-10 Batch 5:  Loss: 0.6298563480377197 Validation Accuracy: 0.6473998427391052\n",
      "Epoch 40, CIFAR-10 Batch 1:  Loss: 0.7833171486854553 Validation Accuracy: 0.6231999397277832\n",
      "Epoch 40, CIFAR-10 Batch 2:  Loss: 0.6221306324005127 Validation Accuracy: 0.6387999057769775\n",
      "Epoch 40, CIFAR-10 Batch 3:  Loss: 0.48467689752578735 Validation Accuracy: 0.6373998522758484\n",
      "Epoch 40, CIFAR-10 Batch 4:  Loss: 0.7112791538238525 Validation Accuracy: 0.6393998861312866\n",
      "Epoch 40, CIFAR-10 Batch 5:  Loss: 0.6035161018371582 Validation Accuracy: 0.6545999646186829\n",
      "Epoch 41, CIFAR-10 Batch 1:  Loss: 0.8127977252006531 Validation Accuracy: 0.6433998942375183\n",
      "Epoch 41, CIFAR-10 Batch 2:  Loss: 0.6060672998428345 Validation Accuracy: 0.6383998990058899\n",
      "Epoch 41, CIFAR-10 Batch 3:  Loss: 0.4882412850856781 Validation Accuracy: 0.6303999423980713\n",
      "Epoch 41, CIFAR-10 Batch 4:  Loss: 0.6884297728538513 Validation Accuracy: 0.6397998929023743\n",
      "Epoch 41, CIFAR-10 Batch 5:  Loss: 0.62251216173172 Validation Accuracy: 0.649199903011322\n",
      "Epoch 42, CIFAR-10 Batch 1:  Loss: 0.739672839641571 Validation Accuracy: 0.6361998915672302\n",
      "Epoch 42, CIFAR-10 Batch 2:  Loss: 0.5153735280036926 Validation Accuracy: 0.6357998847961426\n",
      "Epoch 42, CIFAR-10 Batch 3:  Loss: 0.45783743262290955 Validation Accuracy: 0.6447999477386475\n",
      "Epoch 42, CIFAR-10 Batch 4:  Loss: 0.7490993738174438 Validation Accuracy: 0.6409999132156372\n",
      "Epoch 42, CIFAR-10 Batch 5:  Loss: 0.6087164282798767 Validation Accuracy: 0.643799901008606\n",
      "Epoch 43, CIFAR-10 Batch 1:  Loss: 0.7914025783538818 Validation Accuracy: 0.6451998949050903\n",
      "Epoch 43, CIFAR-10 Batch 2:  Loss: 0.6115889549255371 Validation Accuracy: 0.6307998895645142\n",
      "Epoch 43, CIFAR-10 Batch 3:  Loss: 0.4402065873146057 Validation Accuracy: 0.6419999599456787\n",
      "Epoch 43, CIFAR-10 Batch 4:  Loss: 0.7583262920379639 Validation Accuracy: 0.6253999471664429\n",
      "Epoch 43, CIFAR-10 Batch 5:  Loss: 0.6109065413475037 Validation Accuracy: 0.6319998502731323\n",
      "Epoch 44, CIFAR-10 Batch 1:  Loss: 0.7589453458786011 Validation Accuracy: 0.650999903678894\n",
      "Epoch 44, CIFAR-10 Batch 2:  Loss: 0.5499884486198425 Validation Accuracy: 0.650999903678894\n",
      "Epoch 44, CIFAR-10 Batch 3:  Loss: 0.487160325050354 Validation Accuracy: 0.6315999031066895\n",
      "Epoch 44, CIFAR-10 Batch 4:  Loss: 0.6775386333465576 Validation Accuracy: 0.6337999105453491\n",
      "Epoch 44, CIFAR-10 Batch 5:  Loss: 0.5630443096160889 Validation Accuracy: 0.6541998386383057\n",
      "Epoch 45, CIFAR-10 Batch 1:  Loss: 0.6941160559654236 Validation Accuracy: 0.6381999254226685\n",
      "Epoch 45, CIFAR-10 Batch 2:  Loss: 0.5423702597618103 Validation Accuracy: 0.6417999267578125\n",
      "Epoch 45, CIFAR-10 Batch 3:  Loss: 0.4558500647544861 Validation Accuracy: 0.6373999118804932\n",
      "Epoch 45, CIFAR-10 Batch 4:  Loss: 0.6991347074508667 Validation Accuracy: 0.6289998292922974\n",
      "Epoch 45, CIFAR-10 Batch 5:  Loss: 0.5559375882148743 Validation Accuracy: 0.6433998942375183\n",
      "Epoch 46, CIFAR-10 Batch 1:  Loss: 0.721461296081543 Validation Accuracy: 0.6383998990058899\n",
      "Epoch 46, CIFAR-10 Batch 2:  Loss: 0.5641334056854248 Validation Accuracy: 0.6507998704910278\n",
      "Epoch 46, CIFAR-10 Batch 3:  Loss: 0.42876386642456055 Validation Accuracy: 0.6483999490737915\n",
      "Epoch 46, CIFAR-10 Batch 4:  Loss: 0.6586729288101196 Validation Accuracy: 0.6477999091148376\n",
      "Epoch 46, CIFAR-10 Batch 5:  Loss: 0.5408210158348083 Validation Accuracy: 0.6439999341964722\n",
      "Epoch 47, CIFAR-10 Batch 1:  Loss: 0.7170149087905884 Validation Accuracy: 0.6331998705863953\n",
      "Epoch 47, CIFAR-10 Batch 2:  Loss: 0.5366591215133667 Validation Accuracy: 0.6435998678207397\n",
      "Epoch 47, CIFAR-10 Batch 3:  Loss: 0.44257301092147827 Validation Accuracy: 0.6415998339653015\n",
      "Epoch 47, CIFAR-10 Batch 4:  Loss: 0.6434322595596313 Validation Accuracy: 0.6451998353004456\n",
      "Epoch 47, CIFAR-10 Batch 5:  Loss: 0.5768276453018188 Validation Accuracy: 0.6433998942375183\n",
      "Epoch 48, CIFAR-10 Batch 1:  Loss: 0.7142094373703003 Validation Accuracy: 0.6329998970031738\n",
      "Epoch 48, CIFAR-10 Batch 2:  Loss: 0.5223879218101501 Validation Accuracy: 0.6457998156547546\n",
      "Epoch 48, CIFAR-10 Batch 3:  Loss: 0.4366498291492462 Validation Accuracy: 0.6545999050140381\n",
      "Epoch 48, CIFAR-10 Batch 4:  Loss: 0.6649296283721924 Validation Accuracy: 0.634199857711792\n",
      "Epoch 48, CIFAR-10 Batch 5:  Loss: 0.5303875207901001 Validation Accuracy: 0.6493998765945435\n",
      "Epoch 49, CIFAR-10 Batch 1:  Loss: 0.6953389644622803 Validation Accuracy: 0.6429998874664307\n",
      "Epoch 49, CIFAR-10 Batch 2:  Loss: 0.538229763507843 Validation Accuracy: 0.6491998434066772\n",
      "Epoch 49, CIFAR-10 Batch 3:  Loss: 0.41061514616012573 Validation Accuracy: 0.6459999084472656\n",
      "Epoch 49, CIFAR-10 Batch 4:  Loss: 0.5729380249977112 Validation Accuracy: 0.654999852180481\n",
      "Epoch 49, CIFAR-10 Batch 5:  Loss: 0.5274540185928345 Validation Accuracy: 0.6575998663902283\n",
      "Epoch 50, CIFAR-10 Batch 1:  Loss: 0.6638731956481934 Validation Accuracy: 0.6391999125480652\n",
      "Epoch 50, CIFAR-10 Batch 2:  Loss: 0.5489619970321655 Validation Accuracy: 0.6499999165534973\n",
      "Epoch 50, CIFAR-10 Batch 3:  Loss: 0.44294843077659607 Validation Accuracy: 0.6385999321937561\n",
      "Epoch 50, CIFAR-10 Batch 4:  Loss: 0.641883909702301 Validation Accuracy: 0.6505998969078064\n",
      "Epoch 50, CIFAR-10 Batch 5:  Loss: 0.5256302952766418 Validation Accuracy: 0.6515998840332031\n"
     ]
    }
   ],
   "source": [
    "\"\"\"\n",
    "DON'T MODIFY ANYTHING IN THIS CELL\n",
    "\"\"\"\n",
    "save_model_path = './image_classification'\n",
    "\n",
    "print('Training...')\n",
    "with tf.Session() as sess:\n",
    "    # Initializing the variables\n",
    "    sess.run(tf.global_variables_initializer())\n",
    "    \n",
    "    # Training cycle\n",
    "    for epoch in range(epochs):\n",
    "        # Loop over all batches\n",
    "        n_batches = 5\n",
    "        for batch_i in range(1, n_batches + 1):\n",
    "            for batch_features, batch_labels in helper.load_preprocess_training_batch(batch_i, batch_size):\n",
    "                train_neural_network(sess, optimizer, keep_probability, batch_features, batch_labels)\n",
    "            print('Epoch {:>2}, CIFAR-10 Batch {}:  '.format(epoch + 1, batch_i), end='')\n",
    "            print_stats(sess, batch_features, batch_labels, cost, accuracy)\n",
    "            \n",
    "    # Save Model\n",
    "    saver = tf.train.Saver()\n",
    "    save_path = saver.save(sess, save_model_path)"
   ]
  },
  {
   "cell_type": "markdown",
   "metadata": {
    "deletable": true,
    "editable": true
   },
   "source": [
    "# Checkpoint\n",
    "The model has been saved to disk.\n",
    "## Test Model\n",
    "Test your model against the test dataset.  This will be your final accuracy. You should have an accuracy greater than 50%. If you don't, keep tweaking the model architecture and parameters."
   ]
  },
  {
   "cell_type": "code",
   "execution_count": 20,
   "metadata": {
    "collapsed": false,
    "deletable": true,
    "editable": true
   },
   "outputs": [
    {
     "name": "stdout",
     "output_type": "stream",
     "text": [
      "Testing Accuracy: 0.6446795886075949\n",
      "\n"
     ]
    },
    {
     "data": {
      "image/png": "[encoded data removed]",
      "text/plain": [
       "<matplotlib.figure.Figure at 0x7f1f60ff8358>"
      ]
     },
     "metadata": {
      "image/png": {
       "height": 319,
       "width": 355
      }
     },
     "output_type": "display_data"
    }
   ],
   "source": [
    "\"\"\"\n",
    "DON'T MODIFY ANYTHING IN THIS CELL\n",
    "\"\"\"\n",
    "%matplotlib inline\n",
    "%config InlineBackend.figure_format = 'retina'\n",
    "\n",
    "import tensorflow as tf\n",
    "import pickle\n",
    "import helper\n",
    "import random\n",
    "\n",
    "# Set batch size if not already set\n",
    "try:\n",
    "    if batch_size:\n",
    "        pass\n",
    "except NameError:\n",
    "    batch_size = 64\n",
    "\n",
    "save_model_path = './image_classification'\n",
    "n_samples = 4\n",
    "top_n_predictions = 3\n",
    "\n",
    "def test_model():\n",
    "    \"\"\"\n",
    "    Test the saved model against the test dataset\n",
    "    \"\"\"\n",
    "\n",
    "    test_features, test_labels = pickle.load(open('preprocess_test.p', mode='rb'))\n",
    "    loaded_graph = tf.Graph()\n",
    "\n",
    "    with tf.Session(graph=loaded_graph) as sess:\n",
    "        # Load model\n",
    "        loader = tf.train.import_meta_graph(save_model_path + '.meta')\n",
    "        loader.restore(sess, save_model_path)\n",
    "\n",
    "        # Get Tensors from loaded model\n",
    "        loaded_x = loaded_graph.get_tensor_by_name('x:0')\n",
    "        loaded_y = loaded_graph.get_tensor_by_name('y:0')\n",
    "        loaded_keep_prob = loaded_graph.get_tensor_by_name('keep_prob:0')\n",
    "        loaded_logits = loaded_graph.get_tensor_by_name('logits:0')\n",
    "        loaded_acc = loaded_graph.get_tensor_by_name('accuracy:0')\n",
    "        \n",
    "        # Get accuracy in batches for memory limitations\n",
    "        test_batch_acc_total = 0\n",
    "        test_batch_count = 0\n",
    "        \n",
    "        for test_feature_batch, test_label_batch in helper.batch_features_labels(test_features, test_labels, batch_size):\n",
    "            test_batch_acc_total += sess.run(\n",
    "                loaded_acc,\n",
    "                feed_dict={loaded_x: test_feature_batch, loaded_y: test_label_batch, loaded_keep_prob: 1.0})\n",
    "            test_batch_count += 1\n",
    "\n",
    "        print('Testing Accuracy: {}\\n'.format(test_batch_acc_total/test_batch_count))\n",
    "\n",
    "        # Print Random Samples\n",
    "        random_test_features, random_test_labels = tuple(zip(*random.sample(list(zip(test_features, test_labels)), n_samples)))\n",
    "        random_test_predictions = sess.run(\n",
    "            tf.nn.top_k(tf.nn.softmax(loaded_logits), top_n_predictions),\n",
    "            feed_dict={loaded_x: random_test_features, loaded_y: random_test_labels, loaded_keep_prob: 1.0})\n",
    "        helper.display_image_predictions(random_test_features, random_test_labels, random_test_predictions)\n",
    "\n",
    "\n",
    "test_model()"
   ]
  },
  {
   "cell_type": "markdown",
   "metadata": {
    "deletable": true,
    "editable": true
   },
   "source": [
    "## Why 50-80% Accuracy?\n",
    "You might be wondering why you can't get an accuracy any higher. First things first, 50% isn't bad for a simple CNN.  Pure guessing would get you 10% accuracy. However, you might notice people are getting scores [well above 80%](http://rodrigob.github.io/are_we_there_yet/build/classification_datasets_results.html#43494641522d3130).  That's because we haven't taught you all there is to know about neural networks. We still need to cover a few more techniques.\n",
    "## Submitting This Project\n",
    "When submitting this project, make sure to run all the cells before saving the notebook.  Save the notebook file as \"dlnd_image_classification.ipynb\" and save it as a HTML file under \"File\" -> \"Download as\".  Include the \"helper.py\" and \"problem_unittests.py\" files in your submission."
   ]
  }
 ],
 "metadata": {
  "kernelspec": {
   "display_name": "Python 3",
   "language": "python",
   "name": "python3"
  },
  "language_info": {
   "codemirror_mode": {
    "name": "ipython",
    "version": 3
   },
   "file_extension": ".py",
   "mimetype": "text/x-python",
   "name": "python",
   "nbconvert_exporter": "python",
   "pygments_lexer": "ipython3",
   "version": "3.5.2"
  }
 },
 "nbformat": 4,
 "nbformat_minor": 0
}
