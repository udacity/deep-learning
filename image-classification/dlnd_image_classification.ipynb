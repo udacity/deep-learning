{
 "cells": [
  {
   "cell_type": "markdown",
   "metadata": {
    "collapsed": true,
    "deletable": true,
    "editable": true
   },
   "source": [
    "# Image Classification\n",
    "In this project, you'll classify images from the [CIFAR-10 dataset](https://www.cs.toronto.edu/~kriz/cifar.html).  The dataset consists of airplanes, dogs, cats, and other objects. You'll preprocess the images, then train a convolutional neural network on all the samples. The images need to be normalized and the labels need to be one-hot encoded.  You'll get to apply what you learned and build a convolutional, max pooling, dropout, and fully connected layers.  At the end, you'll get to see your neural network's predictions on the sample images.\n",
    "## Get the Data\n",
    "Run the following cell to download the [CIFAR-10 dataset for python](https://www.cs.toronto.edu/~kriz/cifar-10-python.tar.gz)."
   ]
  },
  {
   "cell_type": "code",
   "execution_count": 21,
   "metadata": {
    "collapsed": false,
    "deletable": true,
    "editable": true
   },
   "outputs": [
    {
     "name": "stdout",
     "output_type": "stream",
     "text": [
      "All files found!\n"
     ]
    }
   ],
   "source": [
    "\"\"\"\n",
    "DON'T MODIFY ANYTHING IN THIS CELL THAT IS BELOW THIS LINE\n",
    "\"\"\"\n",
    "from urllib.request import urlretrieve\n",
    "from os.path import isfile, isdir\n",
    "from tqdm import tqdm\n",
    "import problem_unittests as tests\n",
    "import tarfile\n",
    "\n",
    "cifar10_dataset_folder_path = 'cifar-10-batches-py'\n",
    "\n",
    "# Use Floyd's cifar-10 dataset if present\n",
    "floyd_cifar10_location = '/input/cifar-10/python.tar.gz'\n",
    "if isfile(floyd_cifar10_location):\n",
    "    tar_gz_path = floyd_cifar10_location\n",
    "else:\n",
    "    tar_gz_path = 'cifar-10-python.tar.gz'\n",
    "\n",
    "class DLProgress(tqdm):\n",
    "    last_block = 0\n",
    "\n",
    "    def hook(self, block_num=1, block_size=1, total_size=None):\n",
    "        self.total = total_size\n",
    "        self.update((block_num - self.last_block) * block_size)\n",
    "        self.last_block = block_num\n",
    "\n",
    "if not isfile(tar_gz_path):\n",
    "    with DLProgress(unit='B', unit_scale=True, miniters=1, desc='CIFAR-10 Dataset') as pbar:\n",
    "        urlretrieve(\n",
    "            'https://www.cs.toronto.edu/~kriz/cifar-10-python.tar.gz',\n",
    "            tar_gz_path,\n",
    "            pbar.hook)\n",
    "\n",
    "if not isdir(cifar10_dataset_folder_path):\n",
    "    with tarfile.open(tar_gz_path) as tar:\n",
    "        tar.extractall()\n",
    "        tar.close()\n",
    "\n",
    "\n",
    "tests.test_folder_path(cifar10_dataset_folder_path)"
   ]
  },
  {
   "cell_type": "markdown",
   "metadata": {
    "deletable": true,
    "editable": true
   },
   "source": [
    "## Explore the Data\n",
    "The dataset is broken into batches to prevent your machine from running out of memory.  The CIFAR-10 dataset consists of 5 batches, named `data_batch_1`, `data_batch_2`, etc.. Each batch contains the labels and images that are one of the following:\n",
    "* airplane\n",
    "* automobile\n",
    "* bird\n",
    "* cat\n",
    "* deer\n",
    "* dog\n",
    "* frog\n",
    "* horse\n",
    "* ship\n",
    "* truck\n",
    "\n",
    "Understanding a dataset is part of making predictions on the data.  Play around with the code cell below by changing the `batch_id` and `sample_id`. The `batch_id` is the id for a batch (1-5). The `sample_id` is the id for a image and label pair in the batch.\n",
    "\n",
    "Ask yourself \"What are all possible labels?\", \"What is the range of values for the image data?\", \"Are the labels in order or random?\".  Answers to questions like these will help you preprocess the data and end up with better predictions."
   ]
  },
  {
   "cell_type": "code",
   "execution_count": 22,
   "metadata": {
    "collapsed": false,
    "deletable": true,
    "editable": true
   },
   "outputs": [
    {
     "name": "stdout",
     "output_type": "stream",
     "text": [
      "\n",
      "Stats of batch 1:\n",
      "Samples: 10000\n",
      "Label Counts: {0: 1005, 1: 974, 2: 1032, 3: 1016, 4: 999, 5: 937, 6: 1030, 7: 1001, 8: 1025, 9: 981}\n",
      "First 20 Labels: [6, 9, 9, 4, 1, 1, 2, 7, 8, 3, 4, 7, 7, 2, 9, 9, 9, 3, 2, 6]\n",
      "\n",
      "Example of Image 5:\n",
      "Image - Min Value: 0 Max Value: 252\n",
      "Image - Shape: (32, 32, 3)\n",
      "Label - Label Id: 1 Name: automobile\n"
     ]
    },
    {
     "data": {
      "image/png": "[encoded data removed]",
      "text/plain": [
       "<matplotlib.figure.Figure at 0x203e41a6eb8>"
      ]
     },
     "metadata": {
      "image/png": {
       "height": 250,
       "width": 253
      }
     },
     "output_type": "display_data"
    }
   ],
   "source": [
    "%matplotlib inline\n",
    "%config InlineBackend.figure_format = 'retina'\n",
    "\n",
    "import helper\n",
    "import numpy as np\n",
    "\n",
    "# Explore the dataset\n",
    "batch_id = 1\n",
    "sample_id = 5\n",
    "helper.display_stats(cifar10_dataset_folder_path, batch_id, sample_id)"
   ]
  },
  {
   "cell_type": "markdown",
   "metadata": {
    "deletable": true,
    "editable": true
   },
   "source": [
    "## Implement Preprocess Functions\n",
    "### Normalize\n",
    "In the cell below, implement the `normalize` function to take in image data, `x`, and return it as a normalized Numpy array. The values should be in the range of 0 to 1, inclusive.  The return object should be the same shape as `x`."
   ]
  },
  {
   "cell_type": "code",
   "execution_count": 23,
   "metadata": {
    "collapsed": false,
    "deletable": true,
    "editable": true
   },
   "outputs": [
    {
     "name": "stdout",
     "output_type": "stream",
     "text": [
      "Tests Passed\n"
     ]
    }
   ],
   "source": [
    "def normalize(x):\n",
    "    \"\"\"\n",
    "    Normalize a list of sample image data in the range of 0 to 1\n",
    "    : x: List of image data.  The image shape is (32, 32, 3)\n",
    "    : return: Numpy array of normalize data\n",
    "    \"\"\"\n",
    "    return x/255.0\n",
    "\n",
    "\n",
    "\"\"\"\n",
    "DON'T MODIFY ANYTHING IN THIS CELL THAT IS BELOW THIS LINE\n",
    "\"\"\"\n",
    "tests.test_normalize(normalize)"
   ]
  },
  {
   "cell_type": "markdown",
   "metadata": {
    "deletable": true,
    "editable": true
   },
   "source": [
    "### One-hot encode\n",
    "Just like the previous code cell, you'll be implementing a function for preprocessing.  This time, you'll implement the `one_hot_encode` function. The input, `x`, are a list of labels.  Implement the function to return the list of labels as One-Hot encoded Numpy array.  The possible values for labels are 0 to 9. The one-hot encoding function should return the same encoding for each value between each call to `one_hot_encode`.  Make sure to save the map of encodings outside the function.\n",
    "\n",
    "Hint: Don't reinvent the wheel."
   ]
  },
  {
   "cell_type": "code",
   "execution_count": 24,
   "metadata": {
    "collapsed": false,
    "deletable": true,
    "editable": true
   },
   "outputs": [
    {
     "name": "stdout",
     "output_type": "stream",
     "text": [
      "Tests Passed\n"
     ]
    }
   ],
   "source": [
    "def one_hot_encode(x):\n",
    "    \"\"\"\n",
    "    One hot encode a list of sample labels. Return a one-hot encoded vector for each label.\n",
    "    : x: List of sample Labels\n",
    "    : return: Numpy array of one-hot encoded labels\n",
    "    \"\"\"\n",
    "    # TODO: Implement Function\n",
    "    one_hot = np.zeros(shape=(len(x), 10))\n",
    "    for i in range(len(x)):\n",
    "        for j in range(10):\n",
    "            one_hot[i][j] = (j == x[i])\n",
    "    return one_hot\n",
    "\n",
    "\n",
    "\"\"\"\n",
    "DON'T MODIFY ANYTHING IN THIS CELL THAT IS BELOW THIS LINE\n",
    "\"\"\"\n",
    "tests.test_one_hot_encode(one_hot_encode)"
   ]
  },
  {
   "cell_type": "markdown",
   "metadata": {
    "deletable": true,
    "editable": true
   },
   "source": [
    "### Randomize Data\n",
    "As you saw from exploring the data above, the order of the samples are randomized.  It doesn't hurt to randomize it again, but you don't need to for this dataset."
   ]
  },
  {
   "cell_type": "markdown",
   "metadata": {
    "deletable": true,
    "editable": true
   },
   "source": [
    "## Preprocess all the data and save it\n",
    "Running the code cell below will preprocess all the CIFAR-10 data and save it to file. The code below also uses 10% of the training data for validation."
   ]
  },
  {
   "cell_type": "code",
   "execution_count": 25,
   "metadata": {
    "collapsed": false,
    "deletable": true,
    "editable": true
   },
   "outputs": [],
   "source": [
    "\"\"\"\n",
    "DON'T MODIFY ANYTHING IN THIS CELL\n",
    "\"\"\"\n",
    "# Preprocess Training, Validation, and Testing Data\n",
    "helper.preprocess_and_save_data(cifar10_dataset_folder_path, normalize, one_hot_encode)"
   ]
  },
  {
   "cell_type": "markdown",
   "metadata": {
    "deletable": true,
    "editable": true
   },
   "source": [
    "# Check Point\n",
    "This is your first checkpoint.  If you ever decide to come back to this notebook or have to restart the notebook, you can start from here.  The preprocessed data has been saved to disk."
   ]
  },
  {
   "cell_type": "code",
   "execution_count": 26,
   "metadata": {
    "collapsed": false,
    "deletable": true,
    "editable": true
   },
   "outputs": [],
   "source": [
    "\"\"\"\n",
    "DON'T MODIFY ANYTHING IN THIS CELL\n",
    "\"\"\"\n",
    "import pickle\n",
    "import problem_unittests as tests\n",
    "import helper\n",
    "\n",
    "# Load the Preprocessed Validation data\n",
    "valid_features, valid_labels = pickle.load(open('preprocess_validation.p', mode='rb'))"
   ]
  },
  {
   "cell_type": "markdown",
   "metadata": {
    "deletable": true,
    "editable": true
   },
   "source": [
    "# Build the network\n",
    "For the neural network, you'll build each layer into a function.  Most of the code you've seen has been outside of functions. To test your code more thoroughly, we require that you put each layer in a function.  This allows us to give you better feedback and test for simple mistakes using our unittests before you submit your project.\n",
    "\n",
    ">**Note:** If you're finding it hard to dedicate enough time for this course each week, we've provided a small shortcut to this part of the project. In the next couple of problems, you'll have the option to use classes from the [TensorFlow Layers](https://www.tensorflow.org/api_docs/python/tf/layers) or [TensorFlow Layers (contrib)](https://www.tensorflow.org/api_guides/python/contrib.layers) packages to build each layer, except the layers you build in the \"Convolutional and Max Pooling Layer\" section.  TF Layers is similar to Keras's and TFLearn's abstraction to layers, so it's easy to pickup.\n",
    "\n",
    ">However, if you would like to get the most out of this course, try to solve all the problems _without_ using anything from the TF Layers packages. You **can** still use classes from other packages that happen to have the same name as ones you find in TF Layers! For example, instead of using the TF Layers version of the `conv2d` class, [tf.layers.conv2d](https://www.tensorflow.org/api_docs/python/tf/layers/conv2d), you would want to use the TF Neural Network version of `conv2d`, [tf.nn.conv2d](https://www.tensorflow.org/api_docs/python/tf/nn/conv2d). \n",
    "\n",
    "Let's begin!\n",
    "\n",
    "### Input\n",
    "The neural network needs to read the image data, one-hot encoded labels, and dropout keep probability. Implement the following functions\n",
    "* Implement `neural_net_image_input`\n",
    " * Return a [TF Placeholder](https://www.tensorflow.org/api_docs/python/tf/placeholder)\n",
    " * Set the shape using `image_shape` with batch size set to `None`.\n",
    " * Name the TensorFlow placeholder \"x\" using the TensorFlow `name` parameter in the [TF Placeholder](https://www.tensorflow.org/api_docs/python/tf/placeholder).\n",
    "* Implement `neural_net_label_input`\n",
    " * Return a [TF Placeholder](https://www.tensorflow.org/api_docs/python/tf/placeholder)\n",
    " * Set the shape using `n_classes` with batch size set to `None`.\n",
    " * Name the TensorFlow placeholder \"y\" using the TensorFlow `name` parameter in the [TF Placeholder](https://www.tensorflow.org/api_docs/python/tf/placeholder).\n",
    "* Implement `neural_net_keep_prob_input`\n",
    " * Return a [TF Placeholder](https://www.tensorflow.org/api_docs/python/tf/placeholder) for dropout keep probability.\n",
    " * Name the TensorFlow placeholder \"keep_prob\" using the TensorFlow `name` parameter in the [TF Placeholder](https://www.tensorflow.org/api_docs/python/tf/placeholder).\n",
    "\n",
    "These names will be used at the end of the project to load your saved model.\n",
    "\n",
    "Note: `None` for shapes in TensorFlow allow for a dynamic size."
   ]
  },
  {
   "cell_type": "code",
   "execution_count": 27,
   "metadata": {
    "collapsed": false,
    "deletable": true,
    "editable": true
   },
   "outputs": [
    {
     "name": "stdout",
     "output_type": "stream",
     "text": [
      "Image Input Tests Passed.\n",
      "Label Input Tests Passed.\n",
      "Keep Prob Tests Passed.\n"
     ]
    }
   ],
   "source": [
    "import tensorflow as tf\n",
    "\n",
    "def neural_net_image_input(image_shape):\n",
    "    \"\"\"\n",
    "    Return a Tensor for a batch of image input\n",
    "    : image_shape: Shape of the images\n",
    "    : return: Tensor for image input.\n",
    "    \"\"\"\n",
    "    # TODO: Implement Function\n",
    "    \n",
    "    return tf.placeholder(tf.float32, shape=(None,image_shape[0], image_shape[1], image_shape[2]), name='x')\n",
    "\n",
    "\n",
    "def neural_net_label_input(n_classes):\n",
    "    \"\"\"\n",
    "    Return a Tensor for a batch of label input\n",
    "    : n_classes: Number of classes\n",
    "    : return: Tensor for label input.\n",
    "    \"\"\"\n",
    "    # TODO: Implement Function    \n",
    "    return tf.placeholder(tf.float32, shape=(None, n_classes), name='y')\n",
    "\n",
    "\n",
    "def neural_net_keep_prob_input():\n",
    "    \"\"\"\n",
    "    Return a Tensor for keep probability\n",
    "    : return: Tensor for keep probability.\n",
    "    \"\"\"\n",
    "    # TODO: Implement Function\n",
    "    keep_prob = tf.placeholder(tf.float32, name='keep_prob')\n",
    "    return keep_prob\n",
    "\n",
    "\n",
    "\"\"\"\n",
    "DON'T MODIFY ANYTHING IN THIS CELL THAT IS BELOW THIS LINE\n",
    "\"\"\"\n",
    "tf.reset_default_graph()\n",
    "tests.test_nn_image_inputs(neural_net_image_input)\n",
    "tests.test_nn_label_inputs(neural_net_label_input)\n",
    "tests.test_nn_keep_prob_inputs(neural_net_keep_prob_input)"
   ]
  },
  {
   "cell_type": "markdown",
   "metadata": {
    "deletable": true,
    "editable": true
   },
   "source": [
    "### Convolution and Max Pooling Layer\n",
    "Convolution layers have a lot of success with images. For this code cell, you should implement the function `conv2d_maxpool` to apply convolution then max pooling:\n",
    "* Create the weight and bias using `conv_ksize`, `conv_num_outputs` and the shape of `x_tensor`.\n",
    "* Apply a convolution to `x_tensor` using weight and `conv_strides`.\n",
    " * We recommend you use same padding, but you're welcome to use any padding.\n",
    "* Add bias\n",
    "* Add a nonlinear activation to the convolution.\n",
    "* Apply Max Pooling using `pool_ksize` and `pool_strides`.\n",
    " * We recommend you use same padding, but you're welcome to use any padding.\n",
    "\n",
    "**Note:** You **can't** use [TensorFlow Layers](https://www.tensorflow.org/api_docs/python/tf/layers) or [TensorFlow Layers (contrib)](https://www.tensorflow.org/api_guides/python/contrib.layers) for **this** layer, but you can still use TensorFlow's [Neural Network](https://www.tensorflow.org/api_docs/python/tf/nn) package. You may still use the shortcut option for all the **other** layers."
   ]
  },
  {
   "cell_type": "code",
   "execution_count": 52,
   "metadata": {
    "collapsed": false,
    "deletable": true,
    "editable": true
   },
   "outputs": [
    {
     "name": "stdout",
     "output_type": "stream",
     "text": [
      "Tests Passed\n"
     ]
    }
   ],
   "source": [
    "def conv2d_maxpool(x_tensor, conv_num_outputs, conv_ksize, conv_strides, pool_ksize, pool_strides):\n",
    "    \"\"\"\n",
    "    Apply convolution then max pooling to x_tensor\n",
    "    :param x_tensor: TensorFlow Tensor\n",
    "    :param conv_num_outputs: Number of outputs for the convolutional layer\n",
    "    :param conv_ksize: kernal size 2-D Tuple for the convolutional layer\n",
    "    :param conv_strides: Stride 2-D Tuple for convolution\n",
    "    :param pool_ksize: kernal size 2-D Tuple for pool\n",
    "    :param pool_strides: Stride 2-D Tuple for pool\n",
    "    : return: A tensor that represents convolution and max pooling of x_tensor\n",
    "    \"\"\"\n",
    "    # TODO: Implement Function\n",
    "    input_channel_depth = int(x_tensor.get_shape()[3])\n",
    "    # The shape of the filter weight is (height, width, input_depth, output_depth)\n",
    "    filter_weights = tf.Variable(tf.truncated_normal([*conv_ksize, input_channel_depth, conv_num_outputs], dtype=tf.float32))\n",
    "    # The shape of the biases is equal the the number of outputs of the conv layer\n",
    "    filter_biases = tf.Variable(tf.constant(0, shape=[conv_num_outputs], dtype=tf.float32))\n",
    "    \n",
    "    layer = tf.nn.conv2d(input=x_tensor, filter=filter_weights, strides=[1, *conv_strides, 1], padding='SAME')\n",
    "    layer += filter_biases\n",
    "    layer = tf.nn.relu(layer)\n",
    "    layer = tf.nn.max_pool(layer, [1, *pool_ksize, 1], strides=[1, *pool_strides, 1], padding='SAME')\n",
    "    return layer\n",
    "\n",
    "\"\"\"\n",
    "DON'T MODIFY ANYTHING IN THIS CELL THAT IS BELOW THIS LINE\n",
    "\"\"\"\n",
    "tests.test_con_pool(conv2d_maxpool)"
   ]
  },
  {
   "cell_type": "markdown",
   "metadata": {
    "deletable": true,
    "editable": true
   },
   "source": [
    "### Flatten Layer\n",
    "Implement the `flatten` function to change the dimension of `x_tensor` from a 4-D tensor to a 2-D tensor.  The output should be the shape (*Batch Size*, *Flattened Image Size*). Shortcut option: you can use classes from the [TensorFlow Layers](https://www.tensorflow.org/api_docs/python/tf/layers) or [TensorFlow Layers (contrib)](https://www.tensorflow.org/api_guides/python/contrib.layers) packages for this layer. For more of a challenge, only use other TensorFlow packages."
   ]
  },
  {
   "cell_type": "code",
   "execution_count": 43,
   "metadata": {
    "collapsed": false,
    "deletable": true,
    "editable": true
   },
   "outputs": [
    {
     "name": "stdout",
     "output_type": "stream",
     "text": [
      "Tests Passed\n"
     ]
    }
   ],
   "source": [
    "def flatten(x_tensor):\n",
    "    \"\"\"\n",
    "    Flatten x_tensor to (Batch Size, Flattened Image Size)\n",
    "    : x_tensor: A tensor of size (Batch Size, ...), where ... are the image dimensions.\n",
    "    : return: A tensor of size (Batch Size, Flattened Image Size).\n",
    "    \"\"\"\n",
    "    # TODO: Implement Function\n",
    "    return tf.contrib.layers.flatten(x_tensor)\n",
    "\n",
    "\n",
    "\"\"\"\n",
    "DON'T MODIFY ANYTHING IN THIS CELL THAT IS BELOW THIS LINE\n",
    "\"\"\"\n",
    "tests.test_flatten(flatten)"
   ]
  },
  {
   "cell_type": "markdown",
   "metadata": {
    "deletable": true,
    "editable": true
   },
   "source": [
    "### Fully-Connected Layer\n",
    "Implement the `fully_conn` function to apply a fully connected layer to `x_tensor` with the shape (*Batch Size*, *num_outputs*). Shortcut option: you can use classes from the [TensorFlow Layers](https://www.tensorflow.org/api_docs/python/tf/layers) or [TensorFlow Layers (contrib)](https://www.tensorflow.org/api_guides/python/contrib.layers) packages for this layer. For more of a challenge, only use other TensorFlow packages."
   ]
  },
  {
   "cell_type": "code",
   "execution_count": 44,
   "metadata": {
    "collapsed": false,
    "deletable": true,
    "editable": true
   },
   "outputs": [
    {
     "name": "stdout",
     "output_type": "stream",
     "text": [
      "Tests Passed\n"
     ]
    }
   ],
   "source": [
    "def fully_conn(x_tensor, num_outputs):\n",
    "    \"\"\"\n",
    "    Apply a fully connected layer to x_tensor using weight and bias\n",
    "    : x_tensor: A 2-D tensor where the first dimension is batch size.\n",
    "    : num_outputs: The number of output that the new tensor should be.\n",
    "    : return: A 2-D tensor where the second dimension is num_outputs.\n",
    "    \"\"\"\n",
    "    # TODO: Implement Function\n",
    "    shape = x_tensor.get_shape().as_list()\n",
    "    weights = tf.Variable(tf.truncated_normal(\n",
    "        [shape[1], num_outputs],\n",
    "        mean=0.0, stddev=0.08\n",
    "    ))\n",
    "    biases = tf.Variable(tf.zeros([num_outputs]))\n",
    "    \n",
    "    result = tf.add(tf.matmul(x_tensor, weights), biases)    \n",
    "    return tf.nn.relu(result)\n",
    "\n",
    "\n",
    "\"\"\"\n",
    "DON'T MODIFY ANYTHING IN THIS CELL THAT IS BELOW THIS LINE\n",
    "\"\"\"\n",
    "tests.test_fully_conn(fully_conn)"
   ]
  },
  {
   "cell_type": "markdown",
   "metadata": {
    "deletable": true,
    "editable": true
   },
   "source": [
    "### Output Layer\n",
    "Implement the `output` function to apply a fully connected layer to `x_tensor` with the shape (*Batch Size*, *num_outputs*). Shortcut option: you can use classes from the [TensorFlow Layers](https://www.tensorflow.org/api_docs/python/tf/layers) or [TensorFlow Layers (contrib)](https://www.tensorflow.org/api_guides/python/contrib.layers) packages for this layer. For more of a challenge, only use other TensorFlow packages.\n",
    "\n",
    "**Note:** Activation, softmax, or cross entropy should **not** be applied to this."
   ]
  },
  {
   "cell_type": "code",
   "execution_count": 45,
   "metadata": {
    "collapsed": false,
    "deletable": true,
    "editable": true
   },
   "outputs": [
    {
     "name": "stdout",
     "output_type": "stream",
     "text": [
      "Tests Passed\n"
     ]
    }
   ],
   "source": [
    "def output(x_tensor, num_outputs):\n",
    "    \"\"\"\n",
    "    Apply a output layer to x_tensor using weight and bias\n",
    "    : x_tensor: A 2-D tensor where the first dimension is batch size.\n",
    "    : num_outputs: The number of output that the new tensor should be.\n",
    "    : return: A 2-D tensor where the second dimension is num_outputs.\n",
    "    \"\"\"\n",
    "    # TODO: Implement Function\n",
    "    weights = tf.Variable(tf.truncated_normal([x_tensor.get_shape().as_list()[1],num_outputs],mean=0.0, stddev=0.08)) \n",
    "    mul = tf.matmul(x_tensor,weights,name='mul')\n",
    "    bias = tf.Variable(tf.zeros(num_outputs))\n",
    "    y = tf.add(mul,bias)\n",
    "    return y\n",
    "    \n",
    "\n",
    "\"\"\"\n",
    "DON'T MODIFY ANYTHING IN THIS CELL THAT IS BELOW THIS LINE\n",
    "\"\"\"\n",
    "tests.test_output(output)"
   ]
  },
  {
   "cell_type": "markdown",
   "metadata": {
    "deletable": true,
    "editable": true
   },
   "source": [
    "### Create Convolutional Model\n",
    "Implement the function `conv_net` to create a convolutional neural network model. The function takes in a batch of images, `x`, and outputs logits.  Use the layers you created above to create this model:\n",
    "\n",
    "* Apply 1, 2, or 3 Convolution and Max Pool layers\n",
    "* Apply a Flatten Layer\n",
    "* Apply 1, 2, or 3 Fully Connected Layers\n",
    "* Apply an Output Layer\n",
    "* Return the output\n",
    "* Apply [TensorFlow's Dropout](https://www.tensorflow.org/api_docs/python/tf/nn/dropout) to one or more layers in the model using `keep_prob`. "
   ]
  },
  {
   "cell_type": "code",
   "execution_count": 46,
   "metadata": {
    "collapsed": false,
    "deletable": true,
    "editable": true
   },
   "outputs": [
    {
     "name": "stdout",
     "output_type": "stream",
     "text": [
      "Neural Network Built!\n"
     ]
    }
   ],
   "source": [
    "def conv_net(x, keep_prob):\n",
    "    \"\"\"\n",
    "    Create a convolutional neural network model\n",
    "    : x: Placeholder tensor that holds image data.\n",
    "    : keep_prob: Placeholder tensor that hold dropout keep probability.\n",
    "    : return: Tensor that represents logits\n",
    "    \"\"\"    \n",
    "    # TODO: Apply 1, 2, or 3 Convolution and Max Pool layers\n",
    "    #    Play around with different number of outputs, kernel size and stride\n",
    "    # Function Definition from Above:\n",
    "    \n",
    "    conv_num_outputs = 32\n",
    "    num_outputs = 10\n",
    "    conv_ksize = (3, 3)\n",
    "    conv_strides = (3, 3)\n",
    "    pool_ksize = (3, 3)\n",
    "    pool_strides = (3, 3)\n",
    "    x_tensor = conv2d_maxpool(x, conv_num_outputs, conv_ksize, conv_strides, pool_ksize, pool_strides)\n",
    "    \n",
    "    # TODO: Apply a Flatten Layer\n",
    "    # Function Definition from Above:\n",
    "    x_tensor = flatten(x_tensor)\n",
    "    \n",
    "    \n",
    "    # TODO: Apply 1, 2, or 3 Fully Connected Layers\n",
    "    #    Play around with different number of outputs\n",
    "    # Function Definition from Above:\n",
    "    x_tensor = fully_conn(x_tensor, conv_num_outputs)\n",
    "\n",
    "    #apply dropout\n",
    "    x_tensor = tf.nn.dropout(x_tensor, keep_prob)\n",
    "    \n",
    "    # TODO: Apply an Output Layer\n",
    "    #    Set this to the number of classes\n",
    "    # Function Definition from Above:\n",
    "    x_tensor = output(x_tensor, num_outputs)\n",
    "            \n",
    "    # TODO: return output\n",
    "    return x_tensor\n",
    "\n",
    "\n",
    "\"\"\"\n",
    "DON'T MODIFY ANYTHING IN THIS CELL THAT IS BELOW THIS LINE\n",
    "\"\"\"\n",
    "\n",
    "##############################\n",
    "## Build the Neural Network ##\n",
    "##############################\n",
    "\n",
    "# Remove previous weights, bias, inputs, etc..\n",
    "tf.reset_default_graph()\n",
    "\n",
    "# Inputs\n",
    "x = neural_net_image_input((32, 32, 3))\n",
    "y = neural_net_label_input(10)\n",
    "keep_prob = neural_net_keep_prob_input()\n",
    "\n",
    "# Model\n",
    "logits = conv_net(x, keep_prob)\n",
    "\n",
    "# Name logits Tensor, so that is can be loaded from disk after training\n",
    "logits = tf.identity(logits, name='logits')\n",
    "\n",
    "# Loss and Optimizer\n",
    "cost = tf.reduce_mean(tf.nn.softmax_cross_entropy_with_logits(logits=logits, labels=y))\n",
    "optimizer = tf.train.AdamOptimizer().minimize(cost)\n",
    "\n",
    "# Accuracy\n",
    "correct_pred = tf.equal(tf.argmax(logits, 1), tf.argmax(y, 1))\n",
    "accuracy = tf.reduce_mean(tf.cast(correct_pred, tf.float32), name='accuracy')\n",
    "\n",
    "tests.test_conv_net(conv_net)"
   ]
  },
  {
   "cell_type": "markdown",
   "metadata": {
    "deletable": true,
    "editable": true
   },
   "source": [
    "## Train the Neural Network\n",
    "### Single Optimization\n",
    "Implement the function `train_neural_network` to do a single optimization.  The optimization should use `optimizer` to optimize in `session` with a `feed_dict` of the following:\n",
    "* `x` for image input\n",
    "* `y` for labels\n",
    "* `keep_prob` for keep probability for dropout\n",
    "\n",
    "This function will be called for each batch, so `tf.global_variables_initializer()` has already been called.\n",
    "\n",
    "Note: Nothing needs to be returned. This function is only optimizing the neural network."
   ]
  },
  {
   "cell_type": "code",
   "execution_count": 47,
   "metadata": {
    "collapsed": false,
    "deletable": true,
    "editable": true
   },
   "outputs": [
    {
     "name": "stdout",
     "output_type": "stream",
     "text": [
      "Tests Passed\n"
     ]
    }
   ],
   "source": [
    "def train_neural_network(session, optimizer, keep_probability, feature_batch, label_batch):\n",
    "    \"\"\"\n",
    "    Optimize the session on a batch of images and labels\n",
    "    : session: Current TensorFlow session\n",
    "    : optimizer: TensorFlow optimizer function\n",
    "    : keep_probability: keep probability\n",
    "    : feature_batch: Batch of Numpy image data\n",
    "    : label_batch: Batch of Numpy label data\n",
    "    \"\"\"\n",
    "    # TODO: Implement Function\n",
    "    session.run(optimizer, feed_dict={x: feature_batch, y: label_batch, keep_prob: keep_probability})\n",
    "\n",
    "\n",
    "\"\"\"\n",
    "DON'T MODIFY ANYTHING IN THIS CELL THAT IS BELOW THIS LINE\n",
    "\"\"\"\n",
    "tests.test_train_nn(train_neural_network)"
   ]
  },
  {
   "cell_type": "markdown",
   "metadata": {
    "deletable": true,
    "editable": true
   },
   "source": [
    "### Show Stats\n",
    "Implement the function `print_stats` to print loss and validation accuracy.  Use the global variables `valid_features` and `valid_labels` to calculate validation accuracy.  Use a keep probability of `1.0` to calculate the loss and validation accuracy."
   ]
  },
  {
   "cell_type": "code",
   "execution_count": 48,
   "metadata": {
    "collapsed": false,
    "deletable": true,
    "editable": true
   },
   "outputs": [],
   "source": [
    "def print_stats(session, feature_batch, label_batch, cost, accuracy):\n",
    "    \"\"\"\n",
    "    Print information about loss and validation accuracy\n",
    "    : session: Current TensorFlow session\n",
    "    : feature_batch: Batch of Numpy image data\n",
    "    : label_batch: Batch of Numpy label data\n",
    "    : cost: TensorFlow cost function\n",
    "    : accuracy: TensorFlow accuracy function\n",
    "    \"\"\"\n",
    "    # TODO: Implement Function\n",
    "    loss = sess.run(cost, feed_dict={x: feature_batch, y: label_batch, keep_prob: 1.})\n",
    "    valid_acc = sess.run(accuracy, feed_dict={x:valid_features, y: valid_labels, keep_prob: 1.})\n",
    "    print('Loss: {:>10.4f} Validation Accuracy: {:.6f}'.format(loss, valid_acc))\n"
   ]
  },
  {
   "cell_type": "markdown",
   "metadata": {
    "deletable": true,
    "editable": true
   },
   "source": [
    "### Hyperparameters\n",
    "Tune the following parameters:\n",
    "* Set `epochs` to the number of iterations until the network stops learning or start overfitting\n",
    "* Set `batch_size` to the highest number that your machine has memory for.  Most people set them to common sizes of memory:\n",
    " * 64\n",
    " * 128\n",
    " * 256\n",
    " * ...\n",
    "* Set `keep_probability` to the probability of keeping a node using dropout"
   ]
  },
  {
   "cell_type": "code",
   "execution_count": 49,
   "metadata": {
    "collapsed": true,
    "deletable": true,
    "editable": true
   },
   "outputs": [],
   "source": [
    "# TODO: Tune Parameters\n",
    "epochs = 30\n",
    "batch_size = 512\n",
    "keep_probability = 1.0"
   ]
  },
  {
   "cell_type": "markdown",
   "metadata": {
    "deletable": true,
    "editable": true
   },
   "source": [
    "### Train on a Single CIFAR-10 Batch\n",
    "Instead of training the neural network on all the CIFAR-10 batches of data, let's use a single batch. This should save time while you iterate on the model to get a better accuracy.  Once the final validation accuracy is 50% or greater, run the model on all the data in the next section."
   ]
  },
  {
   "cell_type": "code",
   "execution_count": 53,
   "metadata": {
    "collapsed": false,
    "deletable": true,
    "editable": true
   },
   "outputs": [
    {
     "name": "stdout",
     "output_type": "stream",
     "text": [
      "Checking the Training on a Single Batch...\n",
      "Epoch  1, CIFAR-10 Batch 1:  Loss:     2.2854 Validation Accuracy: 0.163400\n",
      "Epoch  2, CIFAR-10 Batch 1:  Loss:     2.2553 Validation Accuracy: 0.232000\n",
      "Epoch  3, CIFAR-10 Batch 1:  Loss:     2.2078 Validation Accuracy: 0.249200\n",
      "Epoch  4, CIFAR-10 Batch 1:  Loss:     2.1498 Validation Accuracy: 0.261600\n",
      "Epoch  5, CIFAR-10 Batch 1:  Loss:     2.0977 Validation Accuracy: 0.280400\n",
      "Epoch  6, CIFAR-10 Batch 1:  Loss:     2.0599 Validation Accuracy: 0.296200\n",
      "Epoch  7, CIFAR-10 Batch 1:  Loss:     2.0312 Validation Accuracy: 0.311600\n",
      "Epoch  8, CIFAR-10 Batch 1:  Loss:     2.0026 Validation Accuracy: 0.325200\n",
      "Epoch  9, CIFAR-10 Batch 1:  Loss:     1.9722 Validation Accuracy: 0.333600\n",
      "Epoch 10, CIFAR-10 Batch 1:  Loss:     1.9399 Validation Accuracy: 0.342600\n",
      "Epoch 11, CIFAR-10 Batch 1:  Loss:     1.9067 Validation Accuracy: 0.353600\n",
      "Epoch 12, CIFAR-10 Batch 1:  Loss:     1.8730 Validation Accuracy: 0.361400\n",
      "Epoch 13, CIFAR-10 Batch 1:  Loss:     1.8390 Validation Accuracy: 0.373800\n",
      "Epoch 14, CIFAR-10 Batch 1:  Loss:     1.8060 Validation Accuracy: 0.384400\n",
      "Epoch 15, CIFAR-10 Batch 1:  Loss:     1.7740 Validation Accuracy: 0.393800\n",
      "Epoch 16, CIFAR-10 Batch 1:  Loss:     1.7453 Validation Accuracy: 0.399800\n",
      "Epoch 17, CIFAR-10 Batch 1:  Loss:     1.7180 Validation Accuracy: 0.409200\n",
      "Epoch 18, CIFAR-10 Batch 1:  Loss:     1.6921 Validation Accuracy: 0.419800\n",
      "Epoch 19, CIFAR-10 Batch 1:  Loss:     1.6678 Validation Accuracy: 0.425200\n",
      "Epoch 20, CIFAR-10 Batch 1:  Loss:     1.6444 Validation Accuracy: 0.430600\n",
      "Epoch 21, CIFAR-10 Batch 1:  Loss:     1.6225 Validation Accuracy: 0.433000\n",
      "Epoch 22, CIFAR-10 Batch 1:  Loss:     1.6021 Validation Accuracy: 0.440000\n",
      "Epoch 23, CIFAR-10 Batch 1:  Loss:     1.5831 Validation Accuracy: 0.444800\n",
      "Epoch 24, CIFAR-10 Batch 1:  Loss:     1.5654 Validation Accuracy: 0.451200\n",
      "Epoch 25, CIFAR-10 Batch 1:  Loss:     1.5491 Validation Accuracy: 0.453200\n",
      "Epoch 26, CIFAR-10 Batch 1:  Loss:     1.5337 Validation Accuracy: 0.459400\n",
      "Epoch 27, CIFAR-10 Batch 1:  Loss:     1.5195 Validation Accuracy: 0.462000\n",
      "Epoch 28, CIFAR-10 Batch 1:  Loss:     1.5057 Validation Accuracy: 0.467600\n",
      "Epoch 29, CIFAR-10 Batch 1:  Loss:     1.4929 Validation Accuracy: 0.469800\n",
      "Epoch 30, CIFAR-10 Batch 1:  Loss:     1.4801 Validation Accuracy: 0.474400\n"
     ]
    }
   ],
   "source": [
    "\"\"\"\n",
    "DON'T MODIFY ANYTHING IN THIS CELL\n",
    "\"\"\"\n",
    "print('Checking the Training on a Single Batch...')\n",
    "with tf.Session() as sess:\n",
    "    # Initializing the variables\n",
    "    sess.run(tf.global_variables_initializer())\n",
    "    \n",
    "    # Training cycle\n",
    "    for epoch in range(epochs):\n",
    "        batch_i = 1\n",
    "        for batch_features, batch_labels in helper.load_preprocess_training_batch(batch_i, batch_size):\n",
    "            train_neural_network(sess, optimizer, keep_probability, batch_features, batch_labels)\n",
    "        print('Epoch {:>2}, CIFAR-10 Batch {}:  '.format(epoch + 1, batch_i), end='')\n",
    "        print_stats(sess, batch_features, batch_labels, cost, accuracy)"
   ]
  },
  {
   "cell_type": "markdown",
   "metadata": {
    "deletable": true,
    "editable": true
   },
   "source": [
    "### Fully Train the Model\n",
    "Now that you got a good accuracy with a single CIFAR-10 batch, try it with all five batches."
   ]
  },
  {
   "cell_type": "code",
   "execution_count": 54,
   "metadata": {
    "collapsed": false,
    "deletable": true,
    "editable": true
   },
   "outputs": [
    {
     "name": "stdout",
     "output_type": "stream",
     "text": [
      "Training...\n",
      "Epoch  1, CIFAR-10 Batch 1:  Loss:     2.2911 Validation Accuracy: 0.115600\n",
      "Epoch  1, CIFAR-10 Batch 2:  Loss:     2.2596 Validation Accuracy: 0.205400\n",
      "Epoch  1, CIFAR-10 Batch 3:  Loss:     2.2204 Validation Accuracy: 0.237000\n",
      "Epoch  1, CIFAR-10 Batch 4:  Loss:     2.1480 Validation Accuracy: 0.253000\n",
      "Epoch  1, CIFAR-10 Batch 5:  Loss:     2.0870 Validation Accuracy: 0.271400\n",
      "Epoch  2, CIFAR-10 Batch 1:  Loss:     2.0625 Validation Accuracy: 0.297200\n",
      "Epoch  2, CIFAR-10 Batch 2:  Loss:     1.9537 Validation Accuracy: 0.307000\n",
      "Epoch  2, CIFAR-10 Batch 3:  Loss:     1.9389 Validation Accuracy: 0.318200\n",
      "Epoch  2, CIFAR-10 Batch 4:  Loss:     1.8368 Validation Accuracy: 0.336000\n",
      "Epoch  2, CIFAR-10 Batch 5:  Loss:     1.8693 Validation Accuracy: 0.333200\n",
      "Epoch  3, CIFAR-10 Batch 1:  Loss:     1.9105 Validation Accuracy: 0.356200\n",
      "Epoch  3, CIFAR-10 Batch 2:  Loss:     1.7792 Validation Accuracy: 0.359200\n",
      "Epoch  3, CIFAR-10 Batch 3:  Loss:     1.7756 Validation Accuracy: 0.366800\n",
      "Epoch  3, CIFAR-10 Batch 4:  Loss:     1.6836 Validation Accuracy: 0.379800\n",
      "Epoch  3, CIFAR-10 Batch 5:  Loss:     1.7444 Validation Accuracy: 0.380800\n",
      "Epoch  4, CIFAR-10 Batch 1:  Loss:     1.8172 Validation Accuracy: 0.395600\n",
      "Epoch  4, CIFAR-10 Batch 2:  Loss:     1.6875 Validation Accuracy: 0.395600\n",
      "Epoch  4, CIFAR-10 Batch 3:  Loss:     1.6764 Validation Accuracy: 0.400200\n",
      "Epoch  4, CIFAR-10 Batch 4:  Loss:     1.5898 Validation Accuracy: 0.408000\n",
      "Epoch  4, CIFAR-10 Batch 5:  Loss:     1.6516 Validation Accuracy: 0.411400\n",
      "Epoch  5, CIFAR-10 Batch 1:  Loss:     1.7413 Validation Accuracy: 0.417000\n",
      "Epoch  5, CIFAR-10 Batch 2:  Loss:     1.6031 Validation Accuracy: 0.423600\n",
      "Epoch  5, CIFAR-10 Batch 3:  Loss:     1.5993 Validation Accuracy: 0.424600\n",
      "Epoch  5, CIFAR-10 Batch 4:  Loss:     1.5166 Validation Accuracy: 0.429800\n",
      "Epoch  5, CIFAR-10 Batch 5:  Loss:     1.5721 Validation Accuracy: 0.432400\n",
      "Epoch  6, CIFAR-10 Batch 1:  Loss:     1.6731 Validation Accuracy: 0.440000\n",
      "Epoch  6, CIFAR-10 Batch 2:  Loss:     1.5266 Validation Accuracy: 0.443800\n",
      "Epoch  6, CIFAR-10 Batch 3:  Loss:     1.5384 Validation Accuracy: 0.443800\n",
      "Epoch  6, CIFAR-10 Batch 4:  Loss:     1.4557 Validation Accuracy: 0.450200\n",
      "Epoch  6, CIFAR-10 Batch 5:  Loss:     1.5174 Validation Accuracy: 0.453800\n",
      "Epoch  7, CIFAR-10 Batch 1:  Loss:     1.6261 Validation Accuracy: 0.460400\n",
      "Epoch  7, CIFAR-10 Batch 2:  Loss:     1.4709 Validation Accuracy: 0.457400\n",
      "Epoch  7, CIFAR-10 Batch 3:  Loss:     1.4855 Validation Accuracy: 0.458200\n",
      "Epoch  7, CIFAR-10 Batch 4:  Loss:     1.4058 Validation Accuracy: 0.463400\n",
      "Epoch  7, CIFAR-10 Batch 5:  Loss:     1.4755 Validation Accuracy: 0.469800\n",
      "Epoch  8, CIFAR-10 Batch 1:  Loss:     1.5898 Validation Accuracy: 0.470600\n",
      "Epoch  8, CIFAR-10 Batch 2:  Loss:     1.4288 Validation Accuracy: 0.473400\n",
      "Epoch  8, CIFAR-10 Batch 3:  Loss:     1.4400 Validation Accuracy: 0.471800\n",
      "Epoch  8, CIFAR-10 Batch 4:  Loss:     1.3651 Validation Accuracy: 0.475600\n",
      "Epoch  8, CIFAR-10 Batch 5:  Loss:     1.4411 Validation Accuracy: 0.476800\n",
      "Epoch  9, CIFAR-10 Batch 1:  Loss:     1.5615 Validation Accuracy: 0.479800\n",
      "Epoch  9, CIFAR-10 Batch 2:  Loss:     1.3960 Validation Accuracy: 0.484400\n",
      "Epoch  9, CIFAR-10 Batch 3:  Loss:     1.4019 Validation Accuracy: 0.486200\n",
      "Epoch  9, CIFAR-10 Batch 4:  Loss:     1.3317 Validation Accuracy: 0.483600\n",
      "Epoch  9, CIFAR-10 Batch 5:  Loss:     1.4132 Validation Accuracy: 0.486800\n",
      "Epoch 10, CIFAR-10 Batch 1:  Loss:     1.5387 Validation Accuracy: 0.488600\n",
      "Epoch 10, CIFAR-10 Batch 2:  Loss:     1.3694 Validation Accuracy: 0.489000\n",
      "Epoch 10, CIFAR-10 Batch 3:  Loss:     1.3714 Validation Accuracy: 0.493400\n",
      "Epoch 10, CIFAR-10 Batch 4:  Loss:     1.3044 Validation Accuracy: 0.490800\n",
      "Epoch 10, CIFAR-10 Batch 5:  Loss:     1.3902 Validation Accuracy: 0.491800\n",
      "Epoch 11, CIFAR-10 Batch 1:  Loss:     1.5206 Validation Accuracy: 0.494400\n",
      "Epoch 11, CIFAR-10 Batch 2:  Loss:     1.3476 Validation Accuracy: 0.497600\n",
      "Epoch 11, CIFAR-10 Batch 3:  Loss:     1.3469 Validation Accuracy: 0.500800\n",
      "Epoch 11, CIFAR-10 Batch 4:  Loss:     1.2815 Validation Accuracy: 0.497000\n",
      "Epoch 11, CIFAR-10 Batch 5:  Loss:     1.3708 Validation Accuracy: 0.499800\n",
      "Epoch 12, CIFAR-10 Batch 1:  Loss:     1.5051 Validation Accuracy: 0.503200\n",
      "Epoch 12, CIFAR-10 Batch 2:  Loss:     1.3284 Validation Accuracy: 0.500200\n",
      "Epoch 12, CIFAR-10 Batch 3:  Loss:     1.3266 Validation Accuracy: 0.504000\n",
      "Epoch 12, CIFAR-10 Batch 4:  Loss:     1.2614 Validation Accuracy: 0.504200\n",
      "Epoch 12, CIFAR-10 Batch 5:  Loss:     1.3531 Validation Accuracy: 0.504800\n",
      "Epoch 13, CIFAR-10 Batch 1:  Loss:     1.4918 Validation Accuracy: 0.510400\n",
      "Epoch 13, CIFAR-10 Batch 2:  Loss:     1.3113 Validation Accuracy: 0.504400\n",
      "Epoch 13, CIFAR-10 Batch 3:  Loss:     1.3097 Validation Accuracy: 0.508000\n",
      "Epoch 13, CIFAR-10 Batch 4:  Loss:     1.2440 Validation Accuracy: 0.508200\n",
      "Epoch 13, CIFAR-10 Batch 5:  Loss:     1.3379 Validation Accuracy: 0.508400\n",
      "Epoch 14, CIFAR-10 Batch 1:  Loss:     1.4780 Validation Accuracy: 0.512800\n",
      "Epoch 14, CIFAR-10 Batch 2:  Loss:     1.2967 Validation Accuracy: 0.511000\n",
      "Epoch 14, CIFAR-10 Batch 3:  Loss:     1.2950 Validation Accuracy: 0.511800\n",
      "Epoch 14, CIFAR-10 Batch 4:  Loss:     1.2285 Validation Accuracy: 0.509200\n",
      "Epoch 14, CIFAR-10 Batch 5:  Loss:     1.3239 Validation Accuracy: 0.513000\n",
      "Epoch 15, CIFAR-10 Batch 1:  Loss:     1.4659 Validation Accuracy: 0.515800\n",
      "Epoch 15, CIFAR-10 Batch 2:  Loss:     1.2828 Validation Accuracy: 0.517200\n",
      "Epoch 15, CIFAR-10 Batch 3:  Loss:     1.2821 Validation Accuracy: 0.515800\n",
      "Epoch 15, CIFAR-10 Batch 4:  Loss:     1.2139 Validation Accuracy: 0.511400\n",
      "Epoch 15, CIFAR-10 Batch 5:  Loss:     1.3114 Validation Accuracy: 0.517600\n",
      "Epoch 16, CIFAR-10 Batch 1:  Loss:     1.4536 Validation Accuracy: 0.518600\n",
      "Epoch 16, CIFAR-10 Batch 2:  Loss:     1.2701 Validation Accuracy: 0.520200\n",
      "Epoch 16, CIFAR-10 Batch 3:  Loss:     1.2704 Validation Accuracy: 0.520000\n",
      "Epoch 16, CIFAR-10 Batch 4:  Loss:     1.2011 Validation Accuracy: 0.515800\n",
      "Epoch 16, CIFAR-10 Batch 5:  Loss:     1.3000 Validation Accuracy: 0.520800\n",
      "Epoch 17, CIFAR-10 Batch 1:  Loss:     1.4429 Validation Accuracy: 0.521200\n",
      "Epoch 17, CIFAR-10 Batch 2:  Loss:     1.2585 Validation Accuracy: 0.527000\n",
      "Epoch 17, CIFAR-10 Batch 3:  Loss:     1.2598 Validation Accuracy: 0.521600\n",
      "Epoch 17, CIFAR-10 Batch 4:  Loss:     1.1894 Validation Accuracy: 0.521200\n",
      "Epoch 17, CIFAR-10 Batch 5:  Loss:     1.2884 Validation Accuracy: 0.524200\n",
      "Epoch 18, CIFAR-10 Batch 1:  Loss:     1.4324 Validation Accuracy: 0.523800\n",
      "Epoch 18, CIFAR-10 Batch 2:  Loss:     1.2481 Validation Accuracy: 0.529600\n",
      "Epoch 18, CIFAR-10 Batch 3:  Loss:     1.2505 Validation Accuracy: 0.526000\n",
      "Epoch 18, CIFAR-10 Batch 4:  Loss:     1.1794 Validation Accuracy: 0.524200\n",
      "Epoch 18, CIFAR-10 Batch 5:  Loss:     1.2783 Validation Accuracy: 0.529200\n",
      "Epoch 19, CIFAR-10 Batch 1:  Loss:     1.4227 Validation Accuracy: 0.527000\n",
      "Epoch 19, CIFAR-10 Batch 2:  Loss:     1.2377 Validation Accuracy: 0.530800\n",
      "Epoch 19, CIFAR-10 Batch 3:  Loss:     1.2417 Validation Accuracy: 0.529400\n",
      "Epoch 19, CIFAR-10 Batch 4:  Loss:     1.1704 Validation Accuracy: 0.528000\n",
      "Epoch 19, CIFAR-10 Batch 5:  Loss:     1.2684 Validation Accuracy: 0.532200\n",
      "Epoch 20, CIFAR-10 Batch 1:  Loss:     1.4131 Validation Accuracy: 0.531800\n",
      "Epoch 20, CIFAR-10 Batch 2:  Loss:     1.2281 Validation Accuracy: 0.534200\n",
      "Epoch 20, CIFAR-10 Batch 3:  Loss:     1.2332 Validation Accuracy: 0.532200\n",
      "Epoch 20, CIFAR-10 Batch 4:  Loss:     1.1624 Validation Accuracy: 0.530800\n",
      "Epoch 20, CIFAR-10 Batch 5:  Loss:     1.2595 Validation Accuracy: 0.534200\n",
      "Epoch 21, CIFAR-10 Batch 1:  Loss:     1.4043 Validation Accuracy: 0.533400\n",
      "Epoch 21, CIFAR-10 Batch 2:  Loss:     1.2195 Validation Accuracy: 0.538800\n",
      "Epoch 21, CIFAR-10 Batch 3:  Loss:     1.2255 Validation Accuracy: 0.536600\n",
      "Epoch 21, CIFAR-10 Batch 4:  Loss:     1.1553 Validation Accuracy: 0.533400\n",
      "Epoch 21, CIFAR-10 Batch 5:  Loss:     1.2506 Validation Accuracy: 0.537400\n",
      "Epoch 22, CIFAR-10 Batch 1:  Loss:     1.3957 Validation Accuracy: 0.538000\n",
      "Epoch 22, CIFAR-10 Batch 2:  Loss:     1.2112 Validation Accuracy: 0.540800\n",
      "Epoch 22, CIFAR-10 Batch 3:  Loss:     1.2183 Validation Accuracy: 0.539800\n",
      "Epoch 22, CIFAR-10 Batch 4:  Loss:     1.1491 Validation Accuracy: 0.539000\n",
      "Epoch 22, CIFAR-10 Batch 5:  Loss:     1.2424 Validation Accuracy: 0.540800\n",
      "Epoch 23, CIFAR-10 Batch 1:  Loss:     1.3877 Validation Accuracy: 0.544200\n",
      "Epoch 23, CIFAR-10 Batch 2:  Loss:     1.2038 Validation Accuracy: 0.544400\n",
      "Epoch 23, CIFAR-10 Batch 3:  Loss:     1.2115 Validation Accuracy: 0.542400\n",
      "Epoch 23, CIFAR-10 Batch 4:  Loss:     1.1427 Validation Accuracy: 0.543000\n",
      "Epoch 23, CIFAR-10 Batch 5:  Loss:     1.2345 Validation Accuracy: 0.543800\n",
      "Epoch 24, CIFAR-10 Batch 1:  Loss:     1.3806 Validation Accuracy: 0.545800\n",
      "Epoch 24, CIFAR-10 Batch 2:  Loss:     1.1966 Validation Accuracy: 0.547000\n",
      "Epoch 24, CIFAR-10 Batch 3:  Loss:     1.2047 Validation Accuracy: 0.544200\n",
      "Epoch 24, CIFAR-10 Batch 4:  Loss:     1.1367 Validation Accuracy: 0.544400\n",
      "Epoch 24, CIFAR-10 Batch 5:  Loss:     1.2269 Validation Accuracy: 0.545400\n",
      "Epoch 25, CIFAR-10 Batch 1:  Loss:     1.3738 Validation Accuracy: 0.547000\n",
      "Epoch 25, CIFAR-10 Batch 2:  Loss:     1.1898 Validation Accuracy: 0.548800\n",
      "Epoch 25, CIFAR-10 Batch 3:  Loss:     1.1980 Validation Accuracy: 0.545200\n",
      "Epoch 25, CIFAR-10 Batch 4:  Loss:     1.1301 Validation Accuracy: 0.546800\n",
      "Epoch 25, CIFAR-10 Batch 5:  Loss:     1.2198 Validation Accuracy: 0.548400\n",
      "Epoch 26, CIFAR-10 Batch 1:  Loss:     1.3673 Validation Accuracy: 0.548800\n",
      "Epoch 26, CIFAR-10 Batch 2:  Loss:     1.1834 Validation Accuracy: 0.550600\n",
      "Epoch 26, CIFAR-10 Batch 3:  Loss:     1.1923 Validation Accuracy: 0.548000\n",
      "Epoch 26, CIFAR-10 Batch 4:  Loss:     1.1237 Validation Accuracy: 0.548000\n",
      "Epoch 26, CIFAR-10 Batch 5:  Loss:     1.2130 Validation Accuracy: 0.548800\n",
      "Epoch 27, CIFAR-10 Batch 1:  Loss:     1.3606 Validation Accuracy: 0.550800\n",
      "Epoch 27, CIFAR-10 Batch 2:  Loss:     1.1775 Validation Accuracy: 0.553200\n",
      "Epoch 27, CIFAR-10 Batch 3:  Loss:     1.1867 Validation Accuracy: 0.550400\n",
      "Epoch 27, CIFAR-10 Batch 4:  Loss:     1.1179 Validation Accuracy: 0.548800\n",
      "Epoch 27, CIFAR-10 Batch 5:  Loss:     1.2066 Validation Accuracy: 0.550600\n",
      "Epoch 28, CIFAR-10 Batch 1:  Loss:     1.3546 Validation Accuracy: 0.552200\n",
      "Epoch 28, CIFAR-10 Batch 2:  Loss:     1.1720 Validation Accuracy: 0.553400\n",
      "Epoch 28, CIFAR-10 Batch 3:  Loss:     1.1812 Validation Accuracy: 0.550800\n",
      "Epoch 28, CIFAR-10 Batch 4:  Loss:     1.1121 Validation Accuracy: 0.549800\n",
      "Epoch 28, CIFAR-10 Batch 5:  Loss:     1.1999 Validation Accuracy: 0.551000\n",
      "Epoch 29, CIFAR-10 Batch 1:  Loss:     1.3486 Validation Accuracy: 0.552800\n",
      "Epoch 29, CIFAR-10 Batch 2:  Loss:     1.1674 Validation Accuracy: 0.554000\n",
      "Epoch 29, CIFAR-10 Batch 3:  Loss:     1.1760 Validation Accuracy: 0.551200\n",
      "Epoch 29, CIFAR-10 Batch 4:  Loss:     1.1071 Validation Accuracy: 0.551200\n",
      "Epoch 29, CIFAR-10 Batch 5:  Loss:     1.1935 Validation Accuracy: 0.551400\n",
      "Epoch 30, CIFAR-10 Batch 1:  Loss:     1.3425 Validation Accuracy: 0.554000\n",
      "Epoch 30, CIFAR-10 Batch 2:  Loss:     1.1628 Validation Accuracy: 0.553200\n",
      "Epoch 30, CIFAR-10 Batch 3:  Loss:     1.1715 Validation Accuracy: 0.550600\n",
      "Epoch 30, CIFAR-10 Batch 4:  Loss:     1.1017 Validation Accuracy: 0.551400\n",
      "Epoch 30, CIFAR-10 Batch 5:  Loss:     1.1872 Validation Accuracy: 0.552600\n"
     ]
    }
   ],
   "source": [
    "\"\"\"\n",
    "DON'T MODIFY ANYTHING IN THIS CELL\n",
    "\"\"\"\n",
    "save_model_path = './image_classification'\n",
    "\n",
    "print('Training...')\n",
    "with tf.Session() as sess:\n",
    "    # Initializing the variables\n",
    "    sess.run(tf.global_variables_initializer())\n",
    "    \n",
    "    # Training cycle\n",
    "    for epoch in range(epochs):\n",
    "        # Loop over all batches\n",
    "        n_batches = 5\n",
    "        for batch_i in range(1, n_batches + 1):\n",
    "            for batch_features, batch_labels in helper.load_preprocess_training_batch(batch_i, batch_size):\n",
    "                train_neural_network(sess, optimizer, keep_probability, batch_features, batch_labels)\n",
    "            print('Epoch {:>2}, CIFAR-10 Batch {}:  '.format(epoch + 1, batch_i), end='')\n",
    "            print_stats(sess, batch_features, batch_labels, cost, accuracy)\n",
    "            \n",
    "    # Save Model\n",
    "    saver = tf.train.Saver()\n",
    "    save_path = saver.save(sess, save_model_path)"
   ]
  },
  {
   "cell_type": "markdown",
   "metadata": {
    "deletable": true,
    "editable": true
   },
   "source": [
    "# Checkpoint\n",
    "The model has been saved to disk.\n",
    "## Test Model\n",
    "Test your model against the test dataset.  This will be your final accuracy. You should have an accuracy greater than 50%. If you don't, keep tweaking the model architecture and parameters."
   ]
  },
  {
   "cell_type": "code",
   "execution_count": 55,
   "metadata": {
    "collapsed": false,
    "deletable": true,
    "editable": true
   },
   "outputs": [
    {
     "name": "stdout",
     "output_type": "stream",
     "text": [
      "Testing Accuracy: 0.5469898894429207\n",
      "\n"
     ]
    },
    {
     "data": {
      "image/png": "[encoded data removed]",
      "text/plain": [
       "<matplotlib.figure.Figure at 0x20380258198>"
      ]
     },
     "metadata": {
      "image/png": {
       "height": 319,
       "width": 355
      }
     },
     "output_type": "display_data"
    }
   ],
   "source": [
    "\"\"\"\n",
    "DON'T MODIFY ANYTHING IN THIS CELL\n",
    "\"\"\"\n",
    "%matplotlib inline\n",
    "%config InlineBackend.figure_format = 'retina'\n",
    "\n",
    "import tensorflow as tf\n",
    "import pickle\n",
    "import helper\n",
    "import random\n",
    "\n",
    "# Set batch size if not already set\n",
    "try:\n",
    "    if batch_size:\n",
    "        pass\n",
    "except NameError:\n",
    "    batch_size = 64\n",
    "\n",
    "save_model_path = './image_classification'\n",
    "n_samples = 4\n",
    "top_n_predictions = 3\n",
    "\n",
    "def test_model():\n",
    "    \"\"\"\n",
    "    Test the saved model against the test dataset\n",
    "    \"\"\"\n",
    "\n",
    "    test_features, test_labels = pickle.load(open('preprocess_test.p', mode='rb'))\n",
    "    loaded_graph = tf.Graph()\n",
    "\n",
    "    with tf.Session(graph=loaded_graph) as sess:\n",
    "        # Load model\n",
    "        loader = tf.train.import_meta_graph(save_model_path + '.meta')\n",
    "        loader.restore(sess, save_model_path)\n",
    "\n",
    "        # Get Tensors from loaded model\n",
    "        loaded_x = loaded_graph.get_tensor_by_name('x:0')\n",
    "        loaded_y = loaded_graph.get_tensor_by_name('y:0')\n",
    "        loaded_keep_prob = loaded_graph.get_tensor_by_name('keep_prob:0')\n",
    "        loaded_logits = loaded_graph.get_tensor_by_name('logits:0')\n",
    "        loaded_acc = loaded_graph.get_tensor_by_name('accuracy:0')\n",
    "        \n",
    "        # Get accuracy in batches for memory limitations\n",
    "        test_batch_acc_total = 0\n",
    "        test_batch_count = 0\n",
    "        \n",
    "        for test_feature_batch, test_label_batch in helper.batch_features_labels(test_features, test_labels, batch_size):\n",
    "            test_batch_acc_total += sess.run(\n",
    "                loaded_acc,\n",
    "                feed_dict={loaded_x: test_feature_batch, loaded_y: test_label_batch, loaded_keep_prob: 1.0})\n",
    "            test_batch_count += 1\n",
    "\n",
    "        print('Testing Accuracy: {}\\n'.format(test_batch_acc_total/test_batch_count))\n",
    "\n",
    "        # Print Random Samples\n",
    "        random_test_features, random_test_labels = tuple(zip(*random.sample(list(zip(test_features, test_labels)), n_samples)))\n",
    "        random_test_predictions = sess.run(\n",
    "            tf.nn.top_k(tf.nn.softmax(loaded_logits), top_n_predictions),\n",
    "            feed_dict={loaded_x: random_test_features, loaded_y: random_test_labels, loaded_keep_prob: 1.0})\n",
    "        helper.display_image_predictions(random_test_features, random_test_labels, random_test_predictions)\n",
    "\n",
    "\n",
    "test_model()"
   ]
  },
  {
   "cell_type": "markdown",
   "metadata": {
    "deletable": true,
    "editable": true
   },
   "source": [
    "## Why 50-80% Accuracy?\n",
    "You might be wondering why you can't get an accuracy any higher. First things first, 50% isn't bad for a simple CNN.  Pure guessing would get you 10% accuracy. However, you might notice people are getting scores [well above 80%](http://rodrigob.github.io/are_we_there_yet/build/classification_datasets_results.html#43494641522d3130).  That's because we haven't taught you all there is to know about neural networks. We still need to cover a few more techniques.\n",
    "## Submitting This Project\n",
    "When submitting this project, make sure to run all the cells before saving the notebook.  Save the notebook file as \"dlnd_image_classification.ipynb\" and save it as a HTML file under \"File\" -> \"Download as\".  Include the \"helper.py\" and \"problem_unittests.py\" files in your submission."
   ]
  }
 ],
 "metadata": {
  "kernelspec": {
   "display_name": "Python 3",
   "language": "python",
   "name": "python3"
  },
  "language_info": {
   "codemirror_mode": {
    "name": "ipython",
    "version": 3
   },
   "file_extension": ".py",
   "mimetype": "text/x-python",
   "name": "python",
   "nbconvert_exporter": "python",
   "pygments_lexer": "ipython3",
   "version": "3.5.3"
  }
 },
 "nbformat": 4,
 "nbformat_minor": 0
}
