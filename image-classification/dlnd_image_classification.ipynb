{
 "cells": [
  {
   "cell_type": "markdown",
   "metadata": {
    "collapsed": true,
    "deletable": true,
    "editable": true
   },
   "source": [
    "# Image Classification\n",
    "In this project, you'll classify images from the [CIFAR-10 dataset](https://www.cs.toronto.edu/~kriz/cifar.html).  The dataset consists of airplanes, dogs, cats, and other objects. You'll preprocess the images, then train a convolutional neural network on all the samples. The images need to be normalized and the labels need to be one-hot encoded.  You'll get to apply what you learned and build a convolutional, max pooling, dropout, and fully connected layers.  At the end, you'll get to see your neural network's predictions on the sample images.\n",
    "## Get the Data\n",
    "Run the following cell to download the [CIFAR-10 dataset for python](https://www.cs.toronto.edu/~kriz/cifar-10-python.tar.gz)."
   ]
  },
  {
   "cell_type": "code",
   "execution_count": 13,
   "metadata": {
    "collapsed": false,
    "deletable": true,
    "editable": true
   },
   "outputs": [
    {
     "name": "stdout",
     "output_type": "stream",
     "text": [
      "All files found!\n"
     ]
    }
   ],
   "source": [
    "\"\"\"\n",
    "DON'T MODIFY ANYTHING IN THIS CELL THAT IS BELOW THIS LINE\n",
    "\"\"\"\n",
    "from urllib.request import urlretrieve\n",
    "from os.path import isfile, isdir\n",
    "from tqdm import tqdm\n",
    "import problem_unittests as tests\n",
    "import tarfile\n",
    "\n",
    "cifar10_dataset_folder_path = 'cifar-10-batches-py'\n",
    "\n",
    "class DLProgress(tqdm):\n",
    "    last_block = 0\n",
    "\n",
    "    def hook(self, block_num=1, block_size=1, total_size=None):\n",
    "        self.total = total_size\n",
    "        self.update((block_num - self.last_block) * block_size)\n",
    "        self.last_block = block_num\n",
    "\n",
    "if not isfile('cifar-10-python.tar.gz'):\n",
    "    with DLProgress(unit='B', unit_scale=True, miniters=1, desc='CIFAR-10 Dataset') as pbar:\n",
    "        urlretrieve(\n",
    "            'https://www.cs.toronto.edu/~kriz/cifar-10-python.tar.gz',\n",
    "            'cifar-10-python.tar.gz',\n",
    "            pbar.hook)\n",
    "\n",
    "if not isdir(cifar10_dataset_folder_path):\n",
    "    with tarfile.open('cifar-10-python.tar.gz') as tar:\n",
    "        tar.extractall()\n",
    "        tar.close()\n",
    "\n",
    "\n",
    "tests.test_folder_path(cifar10_dataset_folder_path)"
   ]
  },
  {
   "cell_type": "markdown",
   "metadata": {
    "deletable": true,
    "editable": true
   },
   "source": [
    "## Explore the Data\n",
    "The dataset is broken into batches to prevent your machine from running out of memory.  The CIFAR-10 dataset consists of 5 batches, named `data_batch_1`, `data_batch_2`, etc.. Each batch contains the labels and images that are one of the following:\n",
    "* airplane\n",
    "* automobile\n",
    "* bird\n",
    "* cat\n",
    "* deer\n",
    "* dog\n",
    "* frog\n",
    "* horse\n",
    "* ship\n",
    "* truck\n",
    "\n",
    "Understanding a dataset is part of making predictions on the data.  Play around with the code cell below by changing the `batch_id` and `sample_id`. The `batch_id` is the id for a batch (1-5). The `sample_id` is the id for a image and label pair in the batch.\n",
    "\n",
    "Ask yourself \"What are all possible labels?\", \"What is the range of values for the image data?\", \"Are the labels in order or random?\".  Answers to questions like these will help you preprocess the data and end up with better predictions."
   ]
  },
  {
   "cell_type": "code",
   "execution_count": 14,
   "metadata": {
    "collapsed": false,
    "deletable": true,
    "editable": true
   },
   "outputs": [
    {
     "name": "stdout",
     "output_type": "stream",
     "text": [
      "\n",
      "Stats of batch 1:\n",
      "Samples: 10000\n",
      "Label Counts: {0: 1005, 1: 974, 2: 1032, 3: 1016, 4: 999, 5: 937, 6: 1030, 7: 1001, 8: 1025, 9: 981}\n",
      "First 20 Labels: [6, 9, 9, 4, 1, 1, 2, 7, 8, 3, 4, 7, 7, 2, 9, 9, 9, 3, 2, 6]\n",
      "\n",
      "Example of Image 5:\n",
      "Image - Min Value: 0 Max Value: 252\n",
      "Image - Shape: (32, 32, 3)\n",
      "Label - Label Id: 1 Name: automobile\n"
     ]
    },
    {
     "data": {
      "image/png": "[encoded data removed]",
      "text/plain": [
       "<matplotlib.figure.Figure at 0x7f5dfabcb860>"
      ]
     },
     "metadata": {
      "image/png": {
       "height": 250,
       "width": 253
      }
     },
     "output_type": "display_data"
    }
   ],
   "source": [
    "%matplotlib inline\n",
    "%config InlineBackend.figure_format = 'retina'\n",
    "\n",
    "import helper\n",
    "import numpy as np\n",
    "\n",
    "# Explore the dataset\n",
    "batch_id = 1\n",
    "sample_id = 5\n",
    "helper.display_stats(cifar10_dataset_folder_path, batch_id, sample_id)"
   ]
  },
  {
   "cell_type": "markdown",
   "metadata": {
    "deletable": true,
    "editable": true
   },
   "source": [
    "## Implement Preprocess Functions\n",
    "### Normalize\n",
    "In the cell below, implement the `normalize` function to take in image data, `x`, and return it as a normalized Numpy array. The values should be in the range of 0 to 1, inclusive.  The return object should be the same shape as `x`."
   ]
  },
  {
   "cell_type": "code",
   "execution_count": 15,
   "metadata": {
    "collapsed": false,
    "deletable": true,
    "editable": true
   },
   "outputs": [
    {
     "name": "stdout",
     "output_type": "stream",
     "text": [
      "Tests Passed\n"
     ]
    }
   ],
   "source": [
    "def calc_normalization(x, min, max):\n",
    "    return (x - min) / (max - min)\n",
    "\n",
    "def normalize(x):\n",
    "    \"\"\"\n",
    "    Normalize a list of sample image data in the range of 0 to 1\n",
    "    : x: List of image data.  The image shape is (32, 32, 3)\n",
    "    : return: Numpy array of normalize data\n",
    "    \"\"\"\n",
    "    # TODO: Implement Function\n",
    "    min = np.amin(x)\n",
    "    max = np.amax(x)\n",
    "    \n",
    "    vfunc = np.vectorize(calc_normalization)\n",
    "    new_array = vfunc(x, min, max)\n",
    "    return new_array\n",
    "\n",
    "\"\"\"\n",
    "DON'T MODIFY ANYTHING IN THIS CELL THAT IS BELOW THIS LINE\n",
    "\"\"\"\n",
    "tests.test_normalize(normalize)"
   ]
  },
  {
   "cell_type": "markdown",
   "metadata": {
    "deletable": true,
    "editable": true
   },
   "source": [
    "### One-hot encode\n",
    "Just like the previous code cell, you'll be implementing a function for preprocessing.  This time, you'll implement the `one_hot_encode` function. The input, `x`, are a list of labels.  Implement the function to return the list of labels as One-Hot encoded Numpy array.  The possible values for labels are 0 to 9. The one-hot encoding function should return the same encoding for each value between each call to `one_hot_encode`.  Make sure to save the map of encodings outside the function.\n",
    "\n",
    "Hint: Don't reinvent the wheel."
   ]
  },
  {
   "cell_type": "code",
   "execution_count": 16,
   "metadata": {
    "collapsed": false,
    "deletable": true,
    "editable": true
   },
   "outputs": [
    {
     "name": "stdout",
     "output_type": "stream",
     "text": [
      "Tests Passed\n"
     ]
    }
   ],
   "source": [
    "from sklearn import preprocessing\n",
    "\n",
    "def one_hot_encode(x):\n",
    "    \"\"\"\n",
    "    One hot encode a list of sample labels. Return a one-hot encoded vector for each label.\n",
    "    : x: List of sample Labels\n",
    "    : return: Numpy array of one-hot encoded labels\n",
    "    \"\"\"\n",
    "    # TODO: Implement Function\n",
    "    lb = preprocessing.LabelBinarizer()\n",
    "    lb.fit(np.array([0,1,2,3,4,5,6,7,8,9]))\n",
    "    ohe = lb.transform(x)\n",
    "    return ohe\n",
    "\n",
    "\n",
    "\"\"\"\n",
    "DON'T MODIFY ANYTHING IN THIS CELL THAT IS BELOW THIS LINE\n",
    "\"\"\"\n",
    "tests.test_one_hot_encode(one_hot_encode)"
   ]
  },
  {
   "cell_type": "markdown",
   "metadata": {
    "deletable": true,
    "editable": true
   },
   "source": [
    "### Randomize Data\n",
    "As you saw from exploring the data above, the order of the samples are randomized.  It doesn't hurt to randomize it again, but you don't need to for this dataset."
   ]
  },
  {
   "cell_type": "markdown",
   "metadata": {
    "deletable": true,
    "editable": true
   },
   "source": [
    "## Preprocess all the data and save it\n",
    "Running the code cell below will preprocess all the CIFAR-10 data and save it to file. The code below also uses 10% of the training data for validation."
   ]
  },
  {
   "cell_type": "code",
   "execution_count": 17,
   "metadata": {
    "collapsed": false,
    "deletable": true,
    "editable": true
   },
   "outputs": [],
   "source": [
    "\"\"\"\n",
    "DON'T MODIFY ANYTHING IN THIS CELL\n",
    "\"\"\"\n",
    "# Preprocess Training, Validation, and Testing Data\n",
    "helper.preprocess_and_save_data(cifar10_dataset_folder_path, normalize, one_hot_encode)"
   ]
  },
  {
   "cell_type": "markdown",
   "metadata": {
    "deletable": true,
    "editable": true
   },
   "source": [
    "# Check Point\n",
    "This is your first checkpoint.  If you ever decide to come back to this notebook or have to restart the notebook, you can start from here.  The preprocessed data has been saved to disk."
   ]
  },
  {
   "cell_type": "code",
   "execution_count": 13,
   "metadata": {
    "collapsed": true,
    "deletable": true,
    "editable": true
   },
   "outputs": [],
   "source": [
    "\"\"\"\n",
    "DON'T MODIFY ANYTHING IN THIS CELL\n",
    "\"\"\"\n",
    "import pickle\n",
    "import problem_unittests as tests\n",
    "import helper\n",
    "\n",
    "# Load the Preprocessed Validation data\n",
    "valid_features, valid_labels = pickle.load(open('preprocess_validation.p', mode='rb'))"
   ]
  },
  {
   "cell_type": "markdown",
   "metadata": {
    "deletable": true,
    "editable": true
   },
   "source": [
    "## Build the network\n",
    "For the neural network, you'll build each layer into a function.  Most of the code you've seen has been outside of functions. To test your code more thoroughly, we require that you put each layer in a function.  This allows us to give you better feedback and test for simple mistakes using our unittests before you submit your project.\n",
    "\n",
    ">**Note:** If you're finding it hard to dedicate enough time for this course each week, we've provided a small shortcut to this part of the project. In the next couple of problems, you'll have the option to use classes from the [TensorFlow Layers](https://www.tensorflow.org/api_docs/python/tf/layers) or [TensorFlow Layers (contrib)](https://www.tensorflow.org/api_guides/python/contrib.layers) packages to build each layer, except the layers you build in the \"Convolutional and Max Pooling Layer\" section.  TF Layers is similar to Keras's and TFLearn's abstraction to layers, so it's easy to pickup.\n",
    "\n",
    ">However, if you would like to get the most out of this course, try to solve all the problems _without_ using anything from the TF Layers packages. You **can** still use classes from other packages that happen to have the same name as ones you find in TF Layers! For example, instead of using the TF Layers version of the `conv2d` class, [tf.layers.conv2d](https://www.tensorflow.org/api_docs/python/tf/layers/conv2d), you would want to use the TF Neural Network version of `conv2d`, [tf.nn.conv2d](https://www.tensorflow.org/api_docs/python/tf/nn/conv2d). \n",
    "\n",
    "Let's begin!\n",
    "\n",
    "### Input\n",
    "The neural network needs to read the image data, one-hot encoded labels, and dropout keep probability. Implement the following functions\n",
    "* Implement `neural_net_image_input`\n",
    " * Return a [TF Placeholder](https://www.tensorflow.org/api_docs/python/tf/placeholder)\n",
    " * Set the shape using `image_shape` with batch size set to `None`.\n",
    " * Name the TensorFlow placeholder \"x\" using the TensorFlow `name` parameter in the [TF Placeholder](https://www.tensorflow.org/api_docs/python/tf/placeholder).\n",
    "* Implement `neural_net_label_input`\n",
    " * Return a [TF Placeholder](https://www.tensorflow.org/api_docs/python/tf/placeholder)\n",
    " * Set the shape using `n_classes` with batch size set to `None`.\n",
    " * Name the TensorFlow placeholder \"y\" using the TensorFlow `name` parameter in the [TF Placeholder](https://www.tensorflow.org/api_docs/python/tf/placeholder).\n",
    "* Implement `neural_net_keep_prob_input`\n",
    " * Return a [TF Placeholder](https://www.tensorflow.org/api_docs/python/tf/placeholder) for dropout keep probability.\n",
    " * Name the TensorFlow placeholder \"keep_prob\" using the TensorFlow `name` parameter in the [TF Placeholder](https://www.tensorflow.org/api_docs/python/tf/placeholder).\n",
    "\n",
    "These names will be used at the end of the project to load your saved model.\n",
    "\n",
    "Note: `None` for shapes in TensorFlow allow for a dynamic size."
   ]
  },
  {
   "cell_type": "code",
   "execution_count": 14,
   "metadata": {
    "collapsed": false,
    "deletable": true,
    "editable": true
   },
   "outputs": [
    {
     "name": "stdout",
     "output_type": "stream",
     "text": [
      "Image Input Tests Passed.\n",
      "Label Input Tests Passed.\n",
      "Keep Prob Tests Passed.\n"
     ]
    }
   ],
   "source": [
    "import tensorflow as tf\n",
    "\n",
    "def neural_net_image_input(image_shape):\n",
    "    \"\"\"\n",
    "    Return a Tensor for a bach of image input\n",
    "    : image_shape: Shape of the images\n",
    "    : return: Tensor for image input.\n",
    "    \"\"\"\n",
    "    # TODO: Implement Function\n",
    "    return tf.placeholder(tf.float32, shape=(None, image_shape[0], image_shape[1], image_shape[2]), name=\"x\")\n",
    "\n",
    "\n",
    "def neural_net_label_input(n_classes):\n",
    "    \"\"\"\n",
    "    Return a Tensor for a batch of label input\n",
    "    : n_classes: Number of classes\n",
    "    : return: Tensor for label input.\n",
    "    \"\"\"\n",
    "    # TODO: Implement Function\n",
    "    return tf.placeholder(tf.float32, (None, n_classes), name=\"y\")\n",
    "\n",
    "\n",
    "def neural_net_keep_prob_input():\n",
    "    \"\"\"\n",
    "    Return a Tensor for keep probability\n",
    "    : return: Tensor for keep probability.\n",
    "    \"\"\"\n",
    "    # TODO: Implement Function\n",
    "    return tf.placeholder(tf.float32, name=\"keep_prob\")\n",
    "\n",
    "\n",
    "\"\"\"\n",
    "DON'T MODIFY ANYTHING IN THIS CELL THAT IS BELOW THIS LINE\n",
    "\"\"\"\n",
    "tf.reset_default_graph()\n",
    "tests.test_nn_image_inputs(neural_net_image_input)\n",
    "tests.test_nn_label_inputs(neural_net_label_input)\n",
    "tests.test_nn_keep_prob_inputs(neural_net_keep_prob_input)"
   ]
  },
  {
   "cell_type": "markdown",
   "metadata": {
    "deletable": true,
    "editable": true
   },
   "source": [
    "### Convolution and Max Pooling Layer\n",
    "Convolution layers have a lot of success with images. For this code cell, you should implement the function `conv2d_maxpool` to apply convolution then max pooling:\n",
    "* Create the weight and bias using `conv_ksize`, `conv_num_outputs` and the shape of `x_tensor`.\n",
    "* Apply a convolution to `x_tensor` using weight and `conv_strides`.\n",
    " * We recommend you use same padding, but you're welcome to use any padding.\n",
    "* Add bias\n",
    "* Add a nonlinear activation to the convolution.\n",
    "* Apply Max Pooling using `pool_ksize` and `pool_strides`.\n",
    " * We recommend you use same padding, but you're welcome to use any padding.\n",
    "\n",
    "**Note:** You **can't** use [TensorFlow Layers](https://www.tensorflow.org/api_docs/python/tf/layers) or [TensorFlow Layers (contrib)](https://www.tensorflow.org/api_guides/python/contrib.layers) for **this** layer, but you can still use TensorFlow's [Neural Network](https://www.tensorflow.org/api_docs/python/tf/nn) package. You may still use the shortcut option for all the **other** layers."
   ]
  },
  {
   "cell_type": "code",
   "execution_count": 15,
   "metadata": {
    "collapsed": false,
    "deletable": true,
    "editable": true
   },
   "outputs": [
    {
     "name": "stdout",
     "output_type": "stream",
     "text": [
      "Tests Passed\n"
     ]
    }
   ],
   "source": [
    "def conv2d_maxpool(x_tensor, conv_num_outputs, conv_ksize, conv_strides, pool_ksize, pool_strides):\n",
    "    \"\"\"\n",
    "    Apply convolution then max pooling to x_tensor\n",
    "    :param x_tensor: TensorFlow Tensor\n",
    "    :param conv_num_outputs: Number of outputs for the convolutional layer\n",
    "    :param conv_ksize: kernal size 2-D Tuple for the convolutional layer\n",
    "    :param conv_strides: Stride 2-D Tuple for convolution\n",
    "    :param pool_ksize: kernal size 2-D Tuple for pool\n",
    "    :param pool_strides: Stride 2-D Tuple for pool\n",
    "    : return: A tensor that represents convolution and max pooling of x_tensor\n",
    "    \"\"\"\n",
    "    # TODO: Implement Function\n",
    "    x_tensor_shape = x_tensor.get_shape().as_list()\n",
    "    weight_shape = [conv_ksize[0], conv_ksize[1], x_tensor_shape[3], conv_num_outputs]\n",
    "    w = tf.Variable(tf.random_normal(weight_shape, stddev=0.1))\n",
    "    b = tf.Variable(tf.constant(0.05, shape=[conv_num_outputs]))\n",
    "    \n",
    "    # conv2d\n",
    "    x = tf.nn.conv2d(x_tensor, \n",
    "                     w, \n",
    "                     strides=[1, conv_strides[0], conv_strides[1], 1], \n",
    "                     padding=\"SAME\")\n",
    "    x = tf.nn.bias_add(x, b)\n",
    "    \n",
    "    x = tf.nn.relu(x)\n",
    "    \n",
    "    # maxpool\n",
    "    x = tf.nn.max_pool(x, \n",
    "                       ksize=[1, pool_ksize[0], pool_ksize[1], 1],\n",
    "                       strides=[1, pool_strides[0], pool_strides[1], 1], \n",
    "                       padding=\"SAME\")\n",
    "    \n",
    "    return x \n",
    "\n",
    "\n",
    "\"\"\"\n",
    "DON'T MODIFY ANYTHING IN THIS CELL THAT IS BELOW THIS LINE\n",
    "\"\"\"\n",
    "tests.test_con_pool(conv2d_maxpool)"
   ]
  },
  {
   "cell_type": "markdown",
   "metadata": {
    "deletable": true,
    "editable": true
   },
   "source": [
    "### Flatten Layer\n",
    "Implement the `flatten` function to change the dimension of `x_tensor` from a 4-D tensor to a 2-D tensor.  The output should be the shape (*Batch Size*, *Flattened Image Size*). Shortcut option: you can use classes from the [TensorFlow Layers](https://www.tensorflow.org/api_docs/python/tf/layers) or [TensorFlow Layers (contrib)](https://www.tensorflow.org/api_guides/python/contrib.layers) packages for this layer. For more of a challenge, only use other TensorFlow packages."
   ]
  },
  {
   "cell_type": "code",
   "execution_count": 16,
   "metadata": {
    "collapsed": false,
    "deletable": true,
    "editable": true
   },
   "outputs": [
    {
     "name": "stdout",
     "output_type": "stream",
     "text": [
      "Tests Passed\n"
     ]
    }
   ],
   "source": [
    "def flatten(x_tensor):\n",
    "    \"\"\"\n",
    "    Flatten x_tensor to (Batch Size, Flattened Image Size)\n",
    "    : x_tensor: A tensor of size (Batch Size, ...), where ... are the image dimensions.\n",
    "    : return: A tensor of size (Batch Size, Flattened Image Size).\n",
    "    \"\"\"\n",
    "    # TODO: Implement Function\n",
    "    return tf.contrib.layers.flatten(x_tensor)\n",
    "\n",
    "\n",
    "\"\"\"\n",
    "DON'T MODIFY ANYTHING IN THIS CELL THAT IS BELOW THIS LINE\n",
    "\"\"\"\n",
    "tests.test_flatten(flatten)"
   ]
  },
  {
   "cell_type": "markdown",
   "metadata": {
    "deletable": true,
    "editable": true
   },
   "source": [
    "### Fully-Connected Layer\n",
    "Implement the `fully_conn` function to apply a fully connected layer to `x_tensor` with the shape (*Batch Size*, *num_outputs*). Shortcut option: you can use classes from the [TensorFlow Layers](https://www.tensorflow.org/api_docs/python/tf/layers) or [TensorFlow Layers (contrib)](https://www.tensorflow.org/api_guides/python/contrib.layers) packages for this layer. For more of a challenge, only use other TensorFlow packages."
   ]
  },
  {
   "cell_type": "code",
   "execution_count": 17,
   "metadata": {
    "collapsed": false,
    "deletable": true,
    "editable": true
   },
   "outputs": [
    {
     "name": "stdout",
     "output_type": "stream",
     "text": [
      "Tests Passed\n"
     ]
    }
   ],
   "source": [
    "def fully_conn(x_tensor, num_outputs):\n",
    "    \"\"\"\n",
    "    Apply a fully connected layer to x_tensor using weight and bias\n",
    "    : x_tensor: A 2-D tensor where the first dimension is batch size.\n",
    "    : num_outputs: The number of output that the new tensor should be.\n",
    "    : return: A 2-D tensor where the second dimension is num_outputs.\n",
    "    \"\"\"\n",
    "    # TODO: Implement Function\n",
    "    return tf.contrib.layers.fully_connected(x_tensor, num_outputs=num_outputs, activation_fn=tf.nn.relu)\n",
    "\n",
    "\n",
    "\"\"\"\n",
    "DON'T MODIFY ANYTHING IN THIS CELL THAT IS BELOW THIS LINE\n",
    "\"\"\"\n",
    "tests.test_fully_conn(fully_conn)"
   ]
  },
  {
   "cell_type": "markdown",
   "metadata": {
    "deletable": true,
    "editable": true
   },
   "source": [
    "### Output Layer\n",
    "Implement the `output` function to apply a fully connected layer to `x_tensor` with the shape (*Batch Size*, *num_outputs*). Shortcut option: you can use classes from the [TensorFlow Layers](https://www.tensorflow.org/api_docs/python/tf/layers) or [TensorFlow Layers (contrib)](https://www.tensorflow.org/api_guides/python/contrib.layers) packages for this layer. For more of a challenge, only use other TensorFlow packages.\n",
    "\n",
    "**Note:** Activation, softmax, or cross entropy should **not** be applied to this."
   ]
  },
  {
   "cell_type": "code",
   "execution_count": 18,
   "metadata": {
    "collapsed": false,
    "deletable": true,
    "editable": true
   },
   "outputs": [
    {
     "name": "stdout",
     "output_type": "stream",
     "text": [
      "Tests Passed\n"
     ]
    }
   ],
   "source": [
    "def output(x_tensor, num_outputs):\n",
    "    \"\"\"\n",
    "    Apply a output layer to x_tensor using weight and bias\n",
    "    : x_tensor: A 2-D tensor where the first dimension is batch size.\n",
    "    : num_outputs: The number of output that the new tensor should be.\n",
    "    : return: A 2-D tensor where the second dimension is num_outputs.\n",
    "    \"\"\"\n",
    "    # TODO: Implement Function\n",
    "    return tf.contrib.layers.fully_connected(x_tensor, num_outputs=num_outputs)\n",
    "\n",
    "\n",
    "\"\"\"\n",
    "DON'T MODIFY ANYTHING IN THIS CELL THAT IS BELOW THIS LINE\n",
    "\"\"\"\n",
    "tests.test_output(output)"
   ]
  },
  {
   "cell_type": "markdown",
   "metadata": {
    "deletable": true,
    "editable": true
   },
   "source": [
    "### Create Convolutional Model\n",
    "Implement the function `conv_net` to create a convolutional neural network model. The function takes in a batch of images, `x`, and outputs logits.  Use the layers you created above to create this model:\n",
    "\n",
    "* Apply 1, 2, or 3 Convolution and Max Pool layers\n",
    "* Apply a Flatten Layer\n",
    "* Apply 1, 2, or 3 Fully Connected Layers\n",
    "* Apply an Output Layer\n",
    "* Return the output\n",
    "* Apply [TensorFlow's Dropout](https://www.tensorflow.org/api_docs/python/tf/nn/dropout) to one or more layers in the model using `keep_prob`. "
   ]
  },
  {
   "cell_type": "code",
   "execution_count": 24,
   "metadata": {
    "collapsed": false,
    "deletable": true,
    "editable": true
   },
   "outputs": [
    {
     "name": "stdout",
     "output_type": "stream",
     "text": [
      "Neural Network Built!\n"
     ]
    }
   ],
   "source": [
    "def conv_net(x, keep_prob):\n",
    "    \"\"\"\n",
    "    Create a convolutional neural network model\n",
    "    : x: Placeholder tensor that holds image data.\n",
    "    : keep_prob: Placeholder tensor that hold dropout keep probability.\n",
    "    : return: Tensor that represents logits\n",
    "    \"\"\"\n",
    "    # TODO: Apply 1, 2, or 3 Convolution and Max Pool layers\n",
    "    #    Play around with different number of outputs, kernel size and stride\n",
    "    # Function Definition from Above:\n",
    "    #    conv2d_maxpool(x_tensor, conv_num_outputs, conv_ksize, conv_strides, pool_ksize, pool_strides)\n",
    "    filter_size = (3, 3)\n",
    "    filter_strides = (1, 1)\n",
    "    \n",
    "    pool_size = (2, 2)\n",
    "    pool_strides = (2, 2)\n",
    "    \n",
    "    filter_depth1 = 16\n",
    "    x = conv2d_maxpool(x, filter_depth1, filter_size, filter_strides, pool_size, pool_strides)\n",
    "    \n",
    "    filter_depth2 = 32\n",
    "    x = conv2d_maxpool(x, filter_depth2, filter_size, filter_strides, pool_size, pool_strides)\n",
    "\n",
    "    filter_depth3 = 64\n",
    "    x = conv2d_maxpool(x, filter_depth3, filter_size, filter_strides, pool_size, pool_strides)\n",
    "    \n",
    "    # TODO: Apply a Flatten Layer\n",
    "    # Function Definition from Above:\n",
    "    #   flatten(x_tensor)\n",
    "    x = flatten(x)\n",
    "\n",
    "    # TODO: Apply 1, 2, or 3 Fully Connected Layers\n",
    "    #    Play around with different number of outputs\n",
    "    # Function Definition from Above:\n",
    "    #   fully_conn(x_tensor, num_outputs)\n",
    "#     x = fully_conn(x, 120)\n",
    "    x = fully_conn(x, 60)\n",
    "    x = tf.nn.dropout(x, keep_prob) # these belong after a fully_conn\n",
    "    x = fully_conn(x, 30)\n",
    "    x = tf.nn.dropout(x, keep_prob)\n",
    "    \n",
    "    # TODO: Apply an Output Layer\n",
    "    #    Set this to the number of classes\n",
    "    # Function Definition from Above:\n",
    "    #   output(x_tensor, num_outputs)\n",
    "    x = output(x, 10)\n",
    "    \n",
    "    # TODO: return output\n",
    "    return x\n",
    "\n",
    "\n",
    "\"\"\"\n",
    "DON'T MODIFY ANYTHING IN THIS CELL THAT IS BELOW THIS LINE\n",
    "\"\"\"\n",
    "\n",
    "##############################\n",
    "## Build the Neural Network ##\n",
    "##############################\n",
    "\n",
    "# Remove previous weights, bias, inputs, etc..\n",
    "tf.reset_default_graph()\n",
    "\n",
    "# Inputs\n",
    "x = neural_net_image_input((32, 32, 3))\n",
    "y = neural_net_label_input(10)\n",
    "keep_prob = neural_net_keep_prob_input()\n",
    "\n",
    "# Model\n",
    "logits = conv_net(x, keep_prob)\n",
    "\n",
    "# Name logits Tensor, so that is can be loaded from disk after training\n",
    "logits = tf.identity(logits, name='logits')\n",
    "\n",
    "# Loss and Optimizer\n",
    "cost = tf.reduce_mean(tf.nn.softmax_cross_entropy_with_logits(logits=logits, labels=y))\n",
    "optimizer = tf.train.AdamOptimizer().minimize(cost)\n",
    "\n",
    "# Accuracy\n",
    "correct_pred = tf.equal(tf.argmax(logits, 1), tf.argmax(y, 1))\n",
    "accuracy = tf.reduce_mean(tf.cast(correct_pred, tf.float32), name='accuracy')\n",
    "\n",
    "tests.test_conv_net(conv_net)"
   ]
  },
  {
   "cell_type": "markdown",
   "metadata": {
    "deletable": true,
    "editable": true
   },
   "source": [
    "## Train the Neural Network\n",
    "### Single Optimization\n",
    "Implement the function `train_neural_network` to do a single optimization.  The optimization should use `optimizer` to optimize in `session` with a `feed_dict` of the following:\n",
    "* `x` for image input\n",
    "* `y` for labels\n",
    "* `keep_prob` for keep probability for dropout\n",
    "\n",
    "This function will be called for each batch, so `tf.global_variables_initializer()` has already been called.\n",
    "\n",
    "Note: Nothing needs to be returned. This function is only optimizing the neural network."
   ]
  },
  {
   "cell_type": "code",
   "execution_count": 25,
   "metadata": {
    "collapsed": false,
    "deletable": true,
    "editable": true
   },
   "outputs": [
    {
     "name": "stdout",
     "output_type": "stream",
     "text": [
      "Tests Passed\n"
     ]
    }
   ],
   "source": [
    "def train_neural_network(session, optimizer, keep_probability, feature_batch, label_batch):\n",
    "    \"\"\"\n",
    "    Optimize the session on a batch of images and labels\n",
    "    : session: Current TensorFlow session\n",
    "    : optimizer: TensorFlow optimizer function\n",
    "    : keep_probability: keep probability\n",
    "    : feature_batch: Batch of Numpy image data\n",
    "    : label_batch: Batch of Numpy label data\n",
    "    \"\"\"\n",
    "    # TODO: Implement Function\n",
    "    return session.run(optimizer, feed_dict={x:feature_batch, y:label_batch, keep_prob:keep_probability})\n",
    "\n",
    "\n",
    "\"\"\"\n",
    "DON'T MODIFY ANYTHING IN THIS CELL THAT IS BELOW THIS LINE\n",
    "\"\"\"\n",
    "tests.test_train_nn(train_neural_network)"
   ]
  },
  {
   "cell_type": "markdown",
   "metadata": {
    "deletable": true,
    "editable": true
   },
   "source": [
    "### Show Stats\n",
    "Implement the function `print_stats` to print loss and validation accuracy.  Use the global variables `valid_features` and `valid_labels` to calculate validation accuracy.  Use a keep probability of `1.0` to calculate the loss and validation accuracy."
   ]
  },
  {
   "cell_type": "code",
   "execution_count": 26,
   "metadata": {
    "collapsed": false,
    "deletable": true,
    "editable": true
   },
   "outputs": [],
   "source": [
    "def print_stats(session, feature_batch, label_batch, cost, accuracy):\n",
    "    \"\"\"\n",
    "    Print information about loss and validation accuracy\n",
    "    : session: Current TensorFlow session\n",
    "    : feature_batch: Batch of Numpy image data\n",
    "    : label_batch: Batch of Numpy label data\n",
    "    : cost: TensorFlow cost function\n",
    "    : accuracy: TensorFlow accuracy function\n",
    "    \"\"\"\n",
    "    # TODO: Implement Function\n",
    "    loss = session.run(cost, feed_dict={x:feature_batch, y:label_batch, keep_prob:1.})\n",
    "    valid_acc = session.run(accuracy, feed_dict={x:valid_features, y:valid_labels, keep_prob:1.})\n",
    "    print('Loss: {} Validation Accuracy: {}'.format(loss, valid_acc))"
   ]
  },
  {
   "cell_type": "markdown",
   "metadata": {
    "deletable": true,
    "editable": true
   },
   "source": [
    "### Hyperparameters\n",
    "Tune the following parameters:\n",
    "* Set `epochs` to the number of iterations until the network stops learning or start overfitting\n",
    "* Set `batch_size` to the highest number that your machine has memory for.  Most people set them to common sizes of memory:\n",
    " * 64\n",
    " * 128\n",
    " * 256\n",
    " * ...\n",
    "* Set `keep_probability` to the probability of keeping a node using dropout"
   ]
  },
  {
   "cell_type": "code",
   "execution_count": 27,
   "metadata": {
    "collapsed": true,
    "deletable": true,
    "editable": true
   },
   "outputs": [],
   "source": [
    "# TODO: Tune Parameters\n",
    "epochs = 50\n",
    "batch_size = 128\n",
    "keep_probability = 0.5"
   ]
  },
  {
   "cell_type": "markdown",
   "metadata": {
    "deletable": true,
    "editable": true
   },
   "source": [
    "### Train on a Single CIFAR-10 Batch\n",
    "Instead of training the neural network on all the CIFAR-10 batches of data, let's use a single batch. This should save time while you iterate on the model to get a better accuracy.  Once the final validation accuracy is 50% or greater, run the model on all the data in the next section."
   ]
  },
  {
   "cell_type": "code",
   "execution_count": 28,
   "metadata": {
    "collapsed": false,
    "deletable": true,
    "editable": true
   },
   "outputs": [
    {
     "name": "stdout",
     "output_type": "stream",
     "text": [
      "Checking the Training on a Single Batch...\n",
      "Epoch  1, CIFAR-10 Batch 1:  Loss: 2.2984490394592285 Validation Accuracy: 0.12319999933242798\n",
      "Epoch  2, CIFAR-10 Batch 1:  Loss: 2.2146754264831543 Validation Accuracy: 0.20900000631809235\n",
      "Epoch  3, CIFAR-10 Batch 1:  Loss: 2.206221342086792 Validation Accuracy: 0.24819999933242798\n",
      "Epoch  4, CIFAR-10 Batch 1:  Loss: 2.0127644538879395 Validation Accuracy: 0.3215999901294708\n",
      "Epoch  5, CIFAR-10 Batch 1:  Loss: 1.9196186065673828 Validation Accuracy: 0.3790000081062317\n",
      "Epoch  6, CIFAR-10 Batch 1:  Loss: 1.7919540405273438 Validation Accuracy: 0.38999998569488525\n",
      "Epoch  7, CIFAR-10 Batch 1:  Loss: 1.7647316455841064 Validation Accuracy: 0.4214000105857849\n",
      "Epoch  8, CIFAR-10 Batch 1:  Loss: 1.6617181301116943 Validation Accuracy: 0.4357999861240387\n",
      "Epoch  9, CIFAR-10 Batch 1:  Loss: 1.6330044269561768 Validation Accuracy: 0.44440001249313354\n",
      "Epoch 10, CIFAR-10 Batch 1:  Loss: 1.636574149131775 Validation Accuracy: 0.42239999771118164\n",
      "Epoch 11, CIFAR-10 Batch 1:  Loss: 1.60223388671875 Validation Accuracy: 0.44020000100135803\n",
      "Epoch 12, CIFAR-10 Batch 1:  Loss: 1.5262415409088135 Validation Accuracy: 0.4480000138282776\n",
      "Epoch 13, CIFAR-10 Batch 1:  Loss: 1.444413423538208 Validation Accuracy: 0.47279998660087585\n",
      "Epoch 14, CIFAR-10 Batch 1:  Loss: 1.4464995861053467 Validation Accuracy: 0.46779999136924744\n",
      "Epoch 15, CIFAR-10 Batch 1:  Loss: 1.4119163751602173 Validation Accuracy: 0.4747999906539917\n",
      "Epoch 16, CIFAR-10 Batch 1:  Loss: 1.3689544200897217 Validation Accuracy: 0.4731999933719635\n",
      "Epoch 17, CIFAR-10 Batch 1:  Loss: 1.3817894458770752 Validation Accuracy: 0.4726000130176544\n",
      "Epoch 18, CIFAR-10 Batch 1:  Loss: 1.2728524208068848 Validation Accuracy: 0.46880000829696655\n",
      "Epoch 19, CIFAR-10 Batch 1:  Loss: 1.2229974269866943 Validation Accuracy: 0.5027999877929688\n",
      "Epoch 20, CIFAR-10 Batch 1:  Loss: 1.2200725078582764 Validation Accuracy: 0.4957999885082245\n",
      "Epoch 21, CIFAR-10 Batch 1:  Loss: 1.1459929943084717 Validation Accuracy: 0.4986000061035156\n",
      "Epoch 22, CIFAR-10 Batch 1:  Loss: 1.1738684177398682 Validation Accuracy: 0.4733999967575073\n",
      "Epoch 23, CIFAR-10 Batch 1:  Loss: 1.1624624729156494 Validation Accuracy: 0.5091999769210815\n",
      "Epoch 24, CIFAR-10 Batch 1:  Loss: 1.1543976068496704 Validation Accuracy: 0.5138000249862671\n",
      "Epoch 25, CIFAR-10 Batch 1:  Loss: 1.1468957662582397 Validation Accuracy: 0.5099999904632568\n",
      "Epoch 26, CIFAR-10 Batch 1:  Loss: 1.094768762588501 Validation Accuracy: 0.5188000202178955\n",
      "Epoch 27, CIFAR-10 Batch 1:  Loss: 1.0508155822753906 Validation Accuracy: 0.515999972820282\n",
      "Epoch 28, CIFAR-10 Batch 1:  Loss: 1.0146671533584595 Validation Accuracy: 0.5152000188827515\n",
      "Epoch 29, CIFAR-10 Batch 1:  Loss: 0.9945240020751953 Validation Accuracy: 0.5192000269889832\n",
      "Epoch 30, CIFAR-10 Batch 1:  Loss: 1.0255858898162842 Validation Accuracy: 0.5289999842643738\n",
      "Epoch 31, CIFAR-10 Batch 1:  Loss: 1.0545703172683716 Validation Accuracy: 0.5235999822616577\n",
      "Epoch 32, CIFAR-10 Batch 1:  Loss: 0.9701784253120422 Validation Accuracy: 0.5242000222206116\n",
      "Epoch 33, CIFAR-10 Batch 1:  Loss: 0.9842656254768372 Validation Accuracy: 0.5306000113487244\n",
      "Epoch 34, CIFAR-10 Batch 1:  Loss: 0.9490867853164673 Validation Accuracy: 0.5260000228881836\n",
      "Epoch 35, CIFAR-10 Batch 1:  Loss: 0.9530836343765259 Validation Accuracy: 0.5198000073432922\n",
      "Epoch 36, CIFAR-10 Batch 1:  Loss: 0.9270235300064087 Validation Accuracy: 0.5320000052452087\n",
      "Epoch 37, CIFAR-10 Batch 1:  Loss: 0.917951762676239 Validation Accuracy: 0.534600019454956\n",
      "Epoch 38, CIFAR-10 Batch 1:  Loss: 0.9044550061225891 Validation Accuracy: 0.5170000195503235\n",
      "Epoch 39, CIFAR-10 Batch 1:  Loss: 0.9140936136245728 Validation Accuracy: 0.5289999842643738\n",
      "Epoch 40, CIFAR-10 Batch 1:  Loss: 0.9267341494560242 Validation Accuracy: 0.5284000039100647\n",
      "Epoch 41, CIFAR-10 Batch 1:  Loss: 0.8503321409225464 Validation Accuracy: 0.5350000262260437\n",
      "Epoch 42, CIFAR-10 Batch 1:  Loss: 0.8646897077560425 Validation Accuracy: 0.5375999808311462\n",
      "Epoch 43, CIFAR-10 Batch 1:  Loss: 0.8416584134101868 Validation Accuracy: 0.5257999897003174\n",
      "Epoch 44, CIFAR-10 Batch 1:  Loss: 0.8265913128852844 Validation Accuracy: 0.5389999747276306\n",
      "Epoch 45, CIFAR-10 Batch 1:  Loss: 0.8335928916931152 Validation Accuracy: 0.5393999814987183\n",
      "Epoch 46, CIFAR-10 Batch 1:  Loss: 0.9149380922317505 Validation Accuracy: 0.5123999714851379\n",
      "Epoch 47, CIFAR-10 Batch 1:  Loss: 0.9385976791381836 Validation Accuracy: 0.5049999952316284\n",
      "Epoch 48, CIFAR-10 Batch 1:  Loss: 0.8213359713554382 Validation Accuracy: 0.5389999747276306\n",
      "Epoch 49, CIFAR-10 Batch 1:  Loss: 0.821388840675354 Validation Accuracy: 0.5189999938011169\n",
      "Epoch 50, CIFAR-10 Batch 1:  Loss: 0.776258111000061 Validation Accuracy: 0.5436000227928162\n"
     ]
    }
   ],
   "source": [
    "\"\"\"\n",
    "DON'T MODIFY ANYTHING IN THIS CELL\n",
    "\"\"\"\n",
    "print('Checking the Training on a Single Batch...')\n",
    "with tf.Session() as sess:\n",
    "    # Initializing the variables\n",
    "    sess.run(tf.global_variables_initializer())\n",
    "    \n",
    "    # Training cycle\n",
    "    for epoch in range(epochs):\n",
    "        batch_i = 1\n",
    "        for batch_features, batch_labels in helper.load_preprocess_training_batch(batch_i, batch_size):\n",
    "            train_neural_network(sess, optimizer, keep_probability, batch_features, batch_labels)\n",
    "        print('Epoch {:>2}, CIFAR-10 Batch {}:  '.format(epoch + 1, batch_i), end='')\n",
    "        print_stats(sess, batch_features, batch_labels, cost, accuracy)"
   ]
  },
  {
   "cell_type": "markdown",
   "metadata": {
    "deletable": true,
    "editable": true
   },
   "source": [
    "### Fully Train the Model\n",
    "Now that you got a good accuracy with a single CIFAR-10 batch, try it with all five batches."
   ]
  },
  {
   "cell_type": "code",
   "execution_count": 120,
   "metadata": {
    "collapsed": false,
    "deletable": true,
    "editable": true
   },
   "outputs": [
    {
     "name": "stdout",
     "output_type": "stream",
     "text": [
      "Training...\n",
      "Epoch  1, CIFAR-10 Batch 1:  Loss: 2.0721399784088135 Validation Accuracy: 0.31520000100135803\n",
      "Epoch  1, CIFAR-10 Batch 2:  Loss: 1.7910401821136475 Validation Accuracy: 0.34459999203681946\n",
      "Epoch  1, CIFAR-10 Batch 3:  Loss: 1.4779129028320312 Validation Accuracy: 0.3779999911785126\n",
      "Epoch  1, CIFAR-10 Batch 4:  Loss: 1.6260201930999756 Validation Accuracy: 0.3937999904155731\n",
      "Epoch  1, CIFAR-10 Batch 5:  Loss: 1.8129589557647705 Validation Accuracy: 0.41419997811317444\n",
      "Epoch  2, CIFAR-10 Batch 1:  Loss: 1.6345081329345703 Validation Accuracy: 0.44279995560646057\n",
      "Epoch  2, CIFAR-10 Batch 2:  Loss: 1.4381853342056274 Validation Accuracy: 0.4715999662876129\n",
      "Epoch  2, CIFAR-10 Batch 3:  Loss: 1.0351378917694092 Validation Accuracy: 0.5145999193191528\n",
      "Epoch  2, CIFAR-10 Batch 4:  Loss: 1.2380311489105225 Validation Accuracy: 0.5341999530792236\n",
      "Epoch  2, CIFAR-10 Batch 5:  Loss: 1.3177595138549805 Validation Accuracy: 0.5527999401092529\n",
      "Epoch  3, CIFAR-10 Batch 1:  Loss: 1.252426028251648 Validation Accuracy: 0.5532000064849854\n",
      "Epoch  3, CIFAR-10 Batch 2:  Loss: 1.1746573448181152 Validation Accuracy: 0.5493999123573303\n",
      "Epoch  3, CIFAR-10 Batch 3:  Loss: 0.970568060874939 Validation Accuracy: 0.5703999996185303\n",
      "Epoch  3, CIFAR-10 Batch 4:  Loss: 1.038082242012024 Validation Accuracy: 0.5965999364852905\n",
      "Epoch  3, CIFAR-10 Batch 5:  Loss: 1.11147141456604 Validation Accuracy: 0.6007999181747437\n",
      "Epoch  4, CIFAR-10 Batch 1:  Loss: 1.0459808111190796 Validation Accuracy: 0.6079999208450317\n",
      "Epoch  4, CIFAR-10 Batch 2:  Loss: 0.9423717260360718 Validation Accuracy: 0.5911999344825745\n",
      "Epoch  4, CIFAR-10 Batch 3:  Loss: 0.8106498122215271 Validation Accuracy: 0.6111999154090881\n",
      "Epoch  4, CIFAR-10 Batch 4:  Loss: 0.8513112664222717 Validation Accuracy: 0.6313998699188232\n",
      "Epoch  4, CIFAR-10 Batch 5:  Loss: 0.9005892872810364 Validation Accuracy: 0.6329998970031738\n",
      "Epoch  5, CIFAR-10 Batch 1:  Loss: 0.9079225063323975 Validation Accuracy: 0.6249998807907104\n",
      "Epoch  5, CIFAR-10 Batch 2:  Loss: 0.8138768672943115 Validation Accuracy: 0.6247999668121338\n",
      "Epoch  5, CIFAR-10 Batch 3:  Loss: 0.6236230731010437 Validation Accuracy: 0.6445999145507812\n",
      "Epoch  5, CIFAR-10 Batch 4:  Loss: 0.7274067401885986 Validation Accuracy: 0.6463999152183533\n",
      "Epoch  5, CIFAR-10 Batch 5:  Loss: 0.7741334438323975 Validation Accuracy: 0.6449998617172241\n",
      "Epoch  6, CIFAR-10 Batch 1:  Loss: 0.8445742130279541 Validation Accuracy: 0.6427998542785645\n",
      "Epoch  6, CIFAR-10 Batch 2:  Loss: 0.6980618834495544 Validation Accuracy: 0.635999858379364\n",
      "Epoch  6, CIFAR-10 Batch 3:  Loss: 0.5138928890228271 Validation Accuracy: 0.6577999591827393\n",
      "Epoch  6, CIFAR-10 Batch 4:  Loss: 0.6251474618911743 Validation Accuracy: 0.6515998840332031\n",
      "Epoch  6, CIFAR-10 Batch 5:  Loss: 0.700472354888916 Validation Accuracy: 0.6535998582839966\n",
      "Epoch  7, CIFAR-10 Batch 1:  Loss: 0.7129283547401428 Validation Accuracy: 0.6515998840332031\n",
      "Epoch  7, CIFAR-10 Batch 2:  Loss: 0.5421851873397827 Validation Accuracy: 0.6567999124526978\n",
      "Epoch  7, CIFAR-10 Batch 3:  Loss: 0.41377273201942444 Validation Accuracy: 0.6629999279975891\n",
      "Epoch  7, CIFAR-10 Batch 4:  Loss: 0.5441712141036987 Validation Accuracy: 0.6613998413085938\n",
      "Epoch  7, CIFAR-10 Batch 5:  Loss: 0.6132262945175171 Validation Accuracy: 0.6619999408721924\n",
      "Epoch  8, CIFAR-10 Batch 1:  Loss: 0.5638675093650818 Validation Accuracy: 0.6511998772621155\n",
      "Epoch  8, CIFAR-10 Batch 2:  Loss: 0.4503335952758789 Validation Accuracy: 0.6729998588562012\n",
      "Epoch  8, CIFAR-10 Batch 3:  Loss: 0.348206102848053 Validation Accuracy: 0.6683999300003052\n",
      "Epoch  8, CIFAR-10 Batch 4:  Loss: 0.473541259765625 Validation Accuracy: 0.6637998819351196\n",
      "Epoch  8, CIFAR-10 Batch 5:  Loss: 0.5357403755187988 Validation Accuracy: 0.6661998629570007\n",
      "Epoch  9, CIFAR-10 Batch 1:  Loss: 0.45334577560424805 Validation Accuracy: 0.6685999035835266\n",
      "Epoch  9, CIFAR-10 Batch 2:  Loss: 0.39153188467025757 Validation Accuracy: 0.6765998601913452\n",
      "Epoch  9, CIFAR-10 Batch 3:  Loss: 0.27487048506736755 Validation Accuracy: 0.6721998453140259\n",
      "Epoch  9, CIFAR-10 Batch 4:  Loss: 0.4022930860519409 Validation Accuracy: 0.6697998642921448\n",
      "Epoch  9, CIFAR-10 Batch 5:  Loss: 0.4870838224887848 Validation Accuracy: 0.6727998852729797\n",
      "Epoch 10, CIFAR-10 Batch 1:  Loss: 0.38289880752563477 Validation Accuracy: 0.6655998229980469\n",
      "Epoch 10, CIFAR-10 Batch 2:  Loss: 0.3667963743209839 Validation Accuracy: 0.6663998365402222\n",
      "Epoch 10, CIFAR-10 Batch 3:  Loss: 0.24082769453525543 Validation Accuracy: 0.6691999435424805\n",
      "Epoch 10, CIFAR-10 Batch 4:  Loss: 0.3703029453754425 Validation Accuracy: 0.6707999110221863\n",
      "Epoch 10, CIFAR-10 Batch 5:  Loss: 0.43108391761779785 Validation Accuracy: 0.6695999503135681\n",
      "Epoch 11, CIFAR-10 Batch 1:  Loss: 0.36361461877822876 Validation Accuracy: 0.6695998907089233\n",
      "Epoch 11, CIFAR-10 Batch 2:  Loss: 0.33476388454437256 Validation Accuracy: 0.6663998961448669\n",
      "Epoch 11, CIFAR-10 Batch 3:  Loss: 0.22312031686306 Validation Accuracy: 0.6623998284339905\n",
      "Epoch 11, CIFAR-10 Batch 4:  Loss: 0.30807948112487793 Validation Accuracy: 0.674799919128418\n",
      "Epoch 11, CIFAR-10 Batch 5:  Loss: 0.3531954288482666 Validation Accuracy: 0.6711999177932739\n",
      "Epoch 12, CIFAR-10 Batch 1:  Loss: 0.336005300283432 Validation Accuracy: 0.6727998852729797\n",
      "Epoch 12, CIFAR-10 Batch 2:  Loss: 0.31532609462738037 Validation Accuracy: 0.6703998446464539\n",
      "Epoch 12, CIFAR-10 Batch 3:  Loss: 0.21184654533863068 Validation Accuracy: 0.6611998081207275\n",
      "Epoch 12, CIFAR-10 Batch 4:  Loss: 0.25262215733528137 Validation Accuracy: 0.66159987449646\n",
      "Epoch 12, CIFAR-10 Batch 5:  Loss: 0.3136524558067322 Validation Accuracy: 0.668799877166748\n",
      "Epoch 13, CIFAR-10 Batch 1:  Loss: 0.350169837474823 Validation Accuracy: 0.6605998873710632\n",
      "Epoch 13, CIFAR-10 Batch 2:  Loss: 0.2483883649110794 Validation Accuracy: 0.6665999293327332\n",
      "Epoch 13, CIFAR-10 Batch 3:  Loss: 0.1869882345199585 Validation Accuracy: 0.6759998798370361\n",
      "Epoch 13, CIFAR-10 Batch 4:  Loss: 0.24299323558807373 Validation Accuracy: 0.6563998460769653\n",
      "Epoch 13, CIFAR-10 Batch 5:  Loss: 0.33412107825279236 Validation Accuracy: 0.6593998670578003\n",
      "Epoch 14, CIFAR-10 Batch 1:  Loss: 0.2994297742843628 Validation Accuracy: 0.6723999381065369\n",
      "Epoch 14, CIFAR-10 Batch 2:  Loss: 0.2785182595252991 Validation Accuracy: 0.6403998732566833\n",
      "Epoch 14, CIFAR-10 Batch 3:  Loss: 0.16130512952804565 Validation Accuracy: 0.6883999109268188\n",
      "Epoch 14, CIFAR-10 Batch 4:  Loss: 0.2123057246208191 Validation Accuracy: 0.6755998134613037\n",
      "Epoch 14, CIFAR-10 Batch 5:  Loss: 0.3182521164417267 Validation Accuracy: 0.6451998353004456\n",
      "Epoch 15, CIFAR-10 Batch 1:  Loss: 0.2556685209274292 Validation Accuracy: 0.6761997938156128\n",
      "Epoch 15, CIFAR-10 Batch 2:  Loss: 0.2554798722267151 Validation Accuracy: 0.6319998502731323\n",
      "Epoch 15, CIFAR-10 Batch 3:  Loss: 0.1627812534570694 Validation Accuracy: 0.6779999732971191\n",
      "Epoch 15, CIFAR-10 Batch 4:  Loss: 0.20729923248291016 Validation Accuracy: 0.6777998805046082\n",
      "Epoch 15, CIFAR-10 Batch 5:  Loss: 0.2647075653076172 Validation Accuracy: 0.6579999327659607\n",
      "Epoch 16, CIFAR-10 Batch 1:  Loss: 0.2303861379623413 Validation Accuracy: 0.6737998127937317\n",
      "Epoch 16, CIFAR-10 Batch 2:  Loss: 0.26479724049568176 Validation Accuracy: 0.6237999200820923\n",
      "Epoch 16, CIFAR-10 Batch 3:  Loss: 0.12280847132205963 Validation Accuracy: 0.6657998561859131\n",
      "Epoch 16, CIFAR-10 Batch 4:  Loss: 0.20566898584365845 Validation Accuracy: 0.6575998663902283\n",
      "Epoch 16, CIFAR-10 Batch 5:  Loss: 0.19177332520484924 Validation Accuracy: 0.6725998520851135\n",
      "Epoch 17, CIFAR-10 Batch 1:  Loss: 0.19577594101428986 Validation Accuracy: 0.67659991979599\n",
      "Epoch 17, CIFAR-10 Batch 2:  Loss: 0.2024015188217163 Validation Accuracy: 0.6475998759269714\n",
      "Epoch 17, CIFAR-10 Batch 3:  Loss: 0.11796797811985016 Validation Accuracy: 0.6709999442100525\n",
      "Epoch 17, CIFAR-10 Batch 4:  Loss: 0.17510324716567993 Validation Accuracy: 0.6387999057769775\n",
      "Epoch 17, CIFAR-10 Batch 5:  Loss: 0.19103199243545532 Validation Accuracy: 0.6713998913764954\n",
      "Epoch 18, CIFAR-10 Batch 1:  Loss: 0.16309760510921478 Validation Accuracy: 0.6853998899459839\n",
      "Epoch 18, CIFAR-10 Batch 2:  Loss: 0.15705564618110657 Validation Accuracy: 0.6439999341964722\n",
      "Epoch 18, CIFAR-10 Batch 3:  Loss: 0.1309007853269577 Validation Accuracy: 0.6781998872756958\n",
      "Epoch 18, CIFAR-10 Batch 4:  Loss: 0.1622823178768158 Validation Accuracy: 0.6431998610496521\n",
      "Epoch 18, CIFAR-10 Batch 5:  Loss: 0.18147768080234528 Validation Accuracy: 0.6627998948097229\n",
      "Epoch 19, CIFAR-10 Batch 1:  Loss: 0.14655256271362305 Validation Accuracy: 0.675399899482727\n",
      "Epoch 19, CIFAR-10 Batch 2:  Loss: 0.14992275834083557 Validation Accuracy: 0.6333999037742615\n",
      "Epoch 19, CIFAR-10 Batch 3:  Loss: 0.12225805222988129 Validation Accuracy: 0.6809998750686646\n",
      "Epoch 19, CIFAR-10 Batch 4:  Loss: 0.1316564977169037 Validation Accuracy: 0.6525999307632446\n",
      "Epoch 19, CIFAR-10 Batch 5:  Loss: 0.15568876266479492 Validation Accuracy: 0.6739999055862427\n",
      "Epoch 20, CIFAR-10 Batch 1:  Loss: 0.1474253535270691 Validation Accuracy: 0.6825998425483704\n",
      "Epoch 20, CIFAR-10 Batch 2:  Loss: 0.11516756564378738 Validation Accuracy: 0.6521998643875122\n",
      "Epoch 20, CIFAR-10 Batch 3:  Loss: 0.10706928372383118 Validation Accuracy: 0.675399899482727\n",
      "Epoch 20, CIFAR-10 Batch 4:  Loss: 0.12796100974082947 Validation Accuracy: 0.6543999314308167\n",
      "Epoch 20, CIFAR-10 Batch 5:  Loss: 0.12941214442253113 Validation Accuracy: 0.6663998365402222\n",
      "Epoch 21, CIFAR-10 Batch 1:  Loss: 0.13509103655815125 Validation Accuracy: 0.6707998514175415\n",
      "Epoch 21, CIFAR-10 Batch 2:  Loss: 0.11811956763267517 Validation Accuracy: 0.6541998982429504\n",
      "Epoch 21, CIFAR-10 Batch 3:  Loss: 0.10246093571186066 Validation Accuracy: 0.6579998731613159\n",
      "Epoch 21, CIFAR-10 Batch 4:  Loss: 0.12526293098926544 Validation Accuracy: 0.6545999050140381\n",
      "Epoch 21, CIFAR-10 Batch 5:  Loss: 0.11203603446483612 Validation Accuracy: 0.6559999585151672\n",
      "Epoch 22, CIFAR-10 Batch 1:  Loss: 0.1877109557390213 Validation Accuracy: 0.658599853515625\n",
      "Epoch 22, CIFAR-10 Batch 2:  Loss: 0.0809749960899353 Validation Accuracy: 0.6615999341011047\n",
      "Epoch 22, CIFAR-10 Batch 3:  Loss: 0.10764031857252121 Validation Accuracy: 0.645599901676178\n",
      "Epoch 22, CIFAR-10 Batch 4:  Loss: 0.14237132668495178 Validation Accuracy: 0.6441998481750488\n",
      "Epoch 22, CIFAR-10 Batch 5:  Loss: 0.12215940654277802 Validation Accuracy: 0.6553999185562134\n",
      "Epoch 23, CIFAR-10 Batch 1:  Loss: 0.16609399020671844 Validation Accuracy: 0.6577998399734497\n",
      "Epoch 23, CIFAR-10 Batch 2:  Loss: 0.09292646497488022 Validation Accuracy: 0.6557998657226562\n",
      "Epoch 23, CIFAR-10 Batch 3:  Loss: 0.09039807319641113 Validation Accuracy: 0.640799880027771\n",
      "Epoch 23, CIFAR-10 Batch 4:  Loss: 0.11544939875602722 Validation Accuracy: 0.6563999056816101\n",
      "Epoch 23, CIFAR-10 Batch 5:  Loss: 0.11478596180677414 Validation Accuracy: 0.6477998495101929\n",
      "Epoch 24, CIFAR-10 Batch 1:  Loss: 0.1152830496430397 Validation Accuracy: 0.6709998846054077\n",
      "Epoch 24, CIFAR-10 Batch 2:  Loss: 0.07953658699989319 Validation Accuracy: 0.6673998832702637\n",
      "Epoch 24, CIFAR-10 Batch 3:  Loss: 0.09051448851823807 Validation Accuracy: 0.6375998854637146\n",
      "Epoch 24, CIFAR-10 Batch 4:  Loss: 0.09033303707838058 Validation Accuracy: 0.664199948310852\n",
      "Epoch 24, CIFAR-10 Batch 5:  Loss: 0.10689457505941391 Validation Accuracy: 0.6513997912406921\n",
      "Epoch 25, CIFAR-10 Batch 1:  Loss: 0.10272623598575592 Validation Accuracy: 0.6655998826026917\n",
      "Epoch 25, CIFAR-10 Batch 2:  Loss: 0.07602662593126297 Validation Accuracy: 0.6741998195648193\n",
      "Epoch 25, CIFAR-10 Batch 3:  Loss: 0.08458629250526428 Validation Accuracy: 0.6541998386383057\n",
      "Epoch 25, CIFAR-10 Batch 4:  Loss: 0.05908522754907608 Validation Accuracy: 0.6649999022483826\n",
      "Epoch 25, CIFAR-10 Batch 5:  Loss: 0.07463399320840836 Validation Accuracy: 0.6625998616218567\n",
      "Epoch 26, CIFAR-10 Batch 1:  Loss: 0.09169838577508926 Validation Accuracy: 0.6627998948097229\n",
      "Epoch 26, CIFAR-10 Batch 2:  Loss: 0.06860330700874329 Validation Accuracy: 0.6699998378753662\n",
      "Epoch 26, CIFAR-10 Batch 3:  Loss: 0.050816502422094345 Validation Accuracy: 0.6607998609542847\n",
      "Epoch 26, CIFAR-10 Batch 4:  Loss: 0.06599044799804688 Validation Accuracy: 0.6627998352050781\n",
      "Epoch 26, CIFAR-10 Batch 5:  Loss: 0.053941935300827026 Validation Accuracy: 0.6691998839378357\n",
      "Epoch 27, CIFAR-10 Batch 1:  Loss: 0.06262136250734329 Validation Accuracy: 0.6609998941421509\n",
      "Epoch 27, CIFAR-10 Batch 2:  Loss: 0.06000567972660065 Validation Accuracy: 0.6677998900413513\n",
      "Epoch 27, CIFAR-10 Batch 3:  Loss: 0.052724242210388184 Validation Accuracy: 0.6657998561859131\n",
      "Epoch 27, CIFAR-10 Batch 4:  Loss: 0.049261920154094696 Validation Accuracy: 0.6587998867034912\n",
      "Epoch 27, CIFAR-10 Batch 5:  Loss: 0.046762026846408844 Validation Accuracy: 0.6637998819351196\n",
      "Epoch 28, CIFAR-10 Batch 1:  Loss: 0.058987535536289215 Validation Accuracy: 0.6713998317718506\n",
      "Epoch 28, CIFAR-10 Batch 2:  Loss: 0.05979747325181961 Validation Accuracy: 0.6737998127937317\n",
      "Epoch 28, CIFAR-10 Batch 3:  Loss: 0.04860217496752739 Validation Accuracy: 0.6627998352050781\n",
      "Epoch 28, CIFAR-10 Batch 4:  Loss: 0.07495878636837006 Validation Accuracy: 0.6461999416351318\n",
      "Epoch 28, CIFAR-10 Batch 5:  Loss: 0.05581872910261154 Validation Accuracy: 0.6703999042510986\n",
      "Epoch 29, CIFAR-10 Batch 1:  Loss: 0.09943011403083801 Validation Accuracy: 0.6661999225616455\n",
      "Epoch 29, CIFAR-10 Batch 2:  Loss: 0.062155432999134064 Validation Accuracy: 0.6685998439788818\n",
      "Epoch 29, CIFAR-10 Batch 3:  Loss: 0.05230917036533356 Validation Accuracy: 0.6623998880386353\n",
      "Epoch 29, CIFAR-10 Batch 4:  Loss: 0.076249860227108 Validation Accuracy: 0.6487999558448792\n",
      "Epoch 29, CIFAR-10 Batch 5:  Loss: 0.04495491832494736 Validation Accuracy: 0.6569998860359192\n",
      "Epoch 30, CIFAR-10 Batch 1:  Loss: 0.07777169346809387 Validation Accuracy: 0.6595999002456665\n",
      "Epoch 30, CIFAR-10 Batch 2:  Loss: 0.0641971156001091 Validation Accuracy: 0.6729997992515564\n",
      "Epoch 30, CIFAR-10 Batch 3:  Loss: 0.056047700345516205 Validation Accuracy: 0.6635999083518982\n",
      "Epoch 30, CIFAR-10 Batch 4:  Loss: 0.05147169902920723 Validation Accuracy: 0.6493998765945435\n",
      "Epoch 30, CIFAR-10 Batch 5:  Loss: 0.05711729824542999 Validation Accuracy: 0.6525999307632446\n",
      "Epoch 31, CIFAR-10 Batch 1:  Loss: 0.10144279152154922 Validation Accuracy: 0.669999897480011\n",
      "Epoch 31, CIFAR-10 Batch 2:  Loss: 0.10962904989719391 Validation Accuracy: 0.6653998494148254\n",
      "Epoch 31, CIFAR-10 Batch 3:  Loss: 0.04113031551241875 Validation Accuracy: 0.6701998114585876\n",
      "Epoch 31, CIFAR-10 Batch 4:  Loss: 0.057531844824552536 Validation Accuracy: 0.657599925994873\n",
      "Epoch 31, CIFAR-10 Batch 5:  Loss: 0.09133724868297577 Validation Accuracy: 0.6343998908996582\n",
      "Epoch 32, CIFAR-10 Batch 1:  Loss: 0.056995537132024765 Validation Accuracy: 0.6631999015808105\n",
      "Epoch 32, CIFAR-10 Batch 2:  Loss: 0.04292944446206093 Validation Accuracy: 0.663399875164032\n",
      "Epoch 32, CIFAR-10 Batch 3:  Loss: 0.046286821365356445 Validation Accuracy: 0.6649998426437378\n",
      "Epoch 32, CIFAR-10 Batch 4:  Loss: 0.028343887999653816 Validation Accuracy: 0.6687998175621033\n",
      "Epoch 32, CIFAR-10 Batch 5:  Loss: 0.046306490898132324 Validation Accuracy: 0.6481999158859253\n",
      "Epoch 33, CIFAR-10 Batch 1:  Loss: 0.044632572680711746 Validation Accuracy: 0.653999924659729\n",
      "Epoch 33, CIFAR-10 Batch 2:  Loss: 0.04706288501620293 Validation Accuracy: 0.6693998575210571\n",
      "Epoch 33, CIFAR-10 Batch 3:  Loss: 0.04329546540975571 Validation Accuracy: 0.6563998460769653\n",
      "Epoch 33, CIFAR-10 Batch 4:  Loss: 0.02276875637471676 Validation Accuracy: 0.6677999496459961\n",
      "Epoch 33, CIFAR-10 Batch 5:  Loss: 0.04393598437309265 Validation Accuracy: 0.6553998589515686\n",
      "Epoch 34, CIFAR-10 Batch 1:  Loss: 0.061065640300512314 Validation Accuracy: 0.6533998847007751\n",
      "Epoch 34, CIFAR-10 Batch 2:  Loss: 0.05130882188677788 Validation Accuracy: 0.6527998447418213\n",
      "Epoch 34, CIFAR-10 Batch 3:  Loss: 0.02428768202662468 Validation Accuracy: 0.663399875164032\n",
      "Epoch 34, CIFAR-10 Batch 4:  Loss: 0.036565057933330536 Validation Accuracy: 0.6619998216629028\n",
      "Epoch 34, CIFAR-10 Batch 5:  Loss: 0.04263870045542717 Validation Accuracy: 0.6401998400688171\n",
      "Epoch 35, CIFAR-10 Batch 1:  Loss: 0.09748871624469757 Validation Accuracy: 0.6501998901367188\n",
      "Epoch 35, CIFAR-10 Batch 2:  Loss: 0.02718282863497734 Validation Accuracy: 0.6659998893737793\n",
      "Epoch 35, CIFAR-10 Batch 3:  Loss: 0.024845827370882034 Validation Accuracy: 0.6689999103546143\n",
      "Epoch 35, CIFAR-10 Batch 4:  Loss: 0.047718338668346405 Validation Accuracy: 0.6537998914718628\n",
      "Epoch 35, CIFAR-10 Batch 5:  Loss: 0.029721196740865707 Validation Accuracy: 0.6601998805999756\n",
      "Epoch 36, CIFAR-10 Batch 1:  Loss: 0.08545242249965668 Validation Accuracy: 0.6283999681472778\n",
      "Epoch 36, CIFAR-10 Batch 2:  Loss: 0.03776680678129196 Validation Accuracy: 0.6577998399734497\n",
      "Epoch 36, CIFAR-10 Batch 3:  Loss: 0.01606370508670807 Validation Accuracy: 0.6673998832702637\n",
      "Epoch 36, CIFAR-10 Batch 4:  Loss: 0.03961951658129692 Validation Accuracy: 0.6371999382972717\n",
      "Epoch 36, CIFAR-10 Batch 5:  Loss: 0.027121614664793015 Validation Accuracy: 0.6607998609542847\n",
      "Epoch 37, CIFAR-10 Batch 1:  Loss: 0.048897769302129745 Validation Accuracy: 0.6621999144554138\n",
      "Epoch 37, CIFAR-10 Batch 2:  Loss: 0.03359479829668999 Validation Accuracy: 0.650999903678894\n",
      "Epoch 37, CIFAR-10 Batch 3:  Loss: 0.027940327301621437 Validation Accuracy: 0.6613999605178833\n",
      "Epoch 37, CIFAR-10 Batch 4:  Loss: 0.06778447329998016 Validation Accuracy: 0.6463998556137085\n",
      "Epoch 37, CIFAR-10 Batch 5:  Loss: 0.042096082121133804 Validation Accuracy: 0.6635998487472534\n",
      "Epoch 38, CIFAR-10 Batch 1:  Loss: 0.0719086304306984 Validation Accuracy: 0.6645998954772949\n",
      "Epoch 38, CIFAR-10 Batch 2:  Loss: 0.02125140279531479 Validation Accuracy: 0.66159987449646\n",
      "Epoch 38, CIFAR-10 Batch 3:  Loss: 0.024379286915063858 Validation Accuracy: 0.6637998819351196\n",
      "Epoch 38, CIFAR-10 Batch 4:  Loss: 0.05082288011908531 Validation Accuracy: 0.6463999152183533\n",
      "Epoch 38, CIFAR-10 Batch 5:  Loss: 0.06100154668092728 Validation Accuracy: 0.6591998338699341\n",
      "Epoch 39, CIFAR-10 Batch 1:  Loss: 0.04556380212306976 Validation Accuracy: 0.6623998284339905\n",
      "Epoch 39, CIFAR-10 Batch 2:  Loss: 0.019911421462893486 Validation Accuracy: 0.6407998204231262\n",
      "Epoch 39, CIFAR-10 Batch 3:  Loss: 0.019247230142354965 Validation Accuracy: 0.6703998446464539\n",
      "Epoch 39, CIFAR-10 Batch 4:  Loss: 0.053347647190093994 Validation Accuracy: 0.6463998556137085\n",
      "Epoch 39, CIFAR-10 Batch 5:  Loss: 0.02980920858681202 Validation Accuracy: 0.6505998969078064\n",
      "Epoch 40, CIFAR-10 Batch 1:  Loss: 0.030251607298851013 Validation Accuracy: 0.652199923992157\n",
      "Epoch 40, CIFAR-10 Batch 2:  Loss: 0.02292289026081562 Validation Accuracy: 0.6339998841285706\n",
      "Epoch 40, CIFAR-10 Batch 3:  Loss: 0.016935616731643677 Validation Accuracy: 0.6711998581886292\n",
      "Epoch 40, CIFAR-10 Batch 4:  Loss: 0.01714363321661949 Validation Accuracy: 0.640799880027771\n",
      "Epoch 40, CIFAR-10 Batch 5:  Loss: 0.0336151123046875 Validation Accuracy: 0.6455998420715332\n",
      "Epoch 41, CIFAR-10 Batch 1:  Loss: 0.015275458805263042 Validation Accuracy: 0.6545999050140381\n",
      "Epoch 41, CIFAR-10 Batch 2:  Loss: 0.018002985045313835 Validation Accuracy: 0.6517999172210693\n",
      "Epoch 41, CIFAR-10 Batch 3:  Loss: 0.02174842171370983 Validation Accuracy: 0.6679998636245728\n",
      "Epoch 41, CIFAR-10 Batch 4:  Loss: 0.013988012447953224 Validation Accuracy: 0.6503998637199402\n",
      "Epoch 41, CIFAR-10 Batch 5:  Loss: 0.023762907832860947 Validation Accuracy: 0.6577998399734497\n",
      "Epoch 42, CIFAR-10 Batch 1:  Loss: 0.013949573040008545 Validation Accuracy: 0.6439998745918274\n",
      "Epoch 42, CIFAR-10 Batch 2:  Loss: 0.0291579719632864 Validation Accuracy: 0.6465998888015747\n",
      "Epoch 42, CIFAR-10 Batch 3:  Loss: 0.009699839167296886 Validation Accuracy: 0.6683998703956604\n",
      "Epoch 42, CIFAR-10 Batch 4:  Loss: 0.018511462956666946 Validation Accuracy: 0.6405998468399048\n",
      "Epoch 42, CIFAR-10 Batch 5:  Loss: 0.03429069370031357 Validation Accuracy: 0.6589999198913574\n",
      "Epoch 43, CIFAR-10 Batch 1:  Loss: 0.016294045373797417 Validation Accuracy: 0.6453999280929565\n",
      "Epoch 43, CIFAR-10 Batch 2:  Loss: 0.021122697740793228 Validation Accuracy: 0.6545998454093933\n",
      "Epoch 43, CIFAR-10 Batch 3:  Loss: 0.012993625365197659 Validation Accuracy: 0.6625998616218567\n",
      "Epoch 43, CIFAR-10 Batch 4:  Loss: 0.03403463214635849 Validation Accuracy: 0.6427999138832092\n",
      "Epoch 43, CIFAR-10 Batch 5:  Loss: 0.06012837588787079 Validation Accuracy: 0.6467998623847961\n",
      "Epoch 44, CIFAR-10 Batch 1:  Loss: 0.019122740253806114 Validation Accuracy: 0.6461998820304871\n",
      "Epoch 44, CIFAR-10 Batch 2:  Loss: 0.021750841289758682 Validation Accuracy: 0.6533999443054199\n",
      "Epoch 44, CIFAR-10 Batch 3:  Loss: 0.01919354684650898 Validation Accuracy: 0.650999903678894\n",
      "Epoch 44, CIFAR-10 Batch 4:  Loss: 0.01854129135608673 Validation Accuracy: 0.6421998739242554\n",
      "Epoch 44, CIFAR-10 Batch 5:  Loss: 0.019869448617100716 Validation Accuracy: 0.6593998670578003\n",
      "Epoch 45, CIFAR-10 Batch 1:  Loss: 0.01621135137975216 Validation Accuracy: 0.6567999124526978\n",
      "Epoch 45, CIFAR-10 Batch 2:  Loss: 0.022538509219884872 Validation Accuracy: 0.6577998995780945\n",
      "Epoch 45, CIFAR-10 Batch 3:  Loss: 0.03216467797756195 Validation Accuracy: 0.6423998475074768\n",
      "Epoch 45, CIFAR-10 Batch 4:  Loss: 0.02053515985608101 Validation Accuracy: 0.6375998258590698\n",
      "Epoch 45, CIFAR-10 Batch 5:  Loss: 0.04524816945195198 Validation Accuracy: 0.6413998603820801\n",
      "Epoch 46, CIFAR-10 Batch 1:  Loss: 0.013445353135466576 Validation Accuracy: 0.6453998684883118\n",
      "Epoch 46, CIFAR-10 Batch 2:  Loss: 0.04639003425836563 Validation Accuracy: 0.6423999071121216\n",
      "Epoch 46, CIFAR-10 Batch 3:  Loss: 0.019737083464860916 Validation Accuracy: 0.6465998888015747\n",
      "Epoch 46, CIFAR-10 Batch 4:  Loss: 0.05686548724770546 Validation Accuracy: 0.6295998692512512\n",
      "Epoch 46, CIFAR-10 Batch 5:  Loss: 0.019789790734648705 Validation Accuracy: 0.6537998914718628\n",
      "Epoch 47, CIFAR-10 Batch 1:  Loss: 0.008554482832551003 Validation Accuracy: 0.6513998508453369\n",
      "Epoch 47, CIFAR-10 Batch 2:  Loss: 0.026225527748465538 Validation Accuracy: 0.6463999152183533\n",
      "Epoch 47, CIFAR-10 Batch 3:  Loss: 0.02861821837723255 Validation Accuracy: 0.6577998995780945\n",
      "Epoch 47, CIFAR-10 Batch 4:  Loss: 0.02675788104534149 Validation Accuracy: 0.6391999125480652\n",
      "Epoch 47, CIFAR-10 Batch 5:  Loss: 0.019723059609532356 Validation Accuracy: 0.6567999124526978\n",
      "Epoch 48, CIFAR-10 Batch 1:  Loss: 0.013831897638738155 Validation Accuracy: 0.6529998779296875\n",
      "Epoch 48, CIFAR-10 Batch 2:  Loss: 0.03391599655151367 Validation Accuracy: 0.6387999057769775\n",
      "Epoch 48, CIFAR-10 Batch 3:  Loss: 0.015296733006834984 Validation Accuracy: 0.6467998623847961\n",
      "Epoch 48, CIFAR-10 Batch 4:  Loss: 0.013423273339867592 Validation Accuracy: 0.6379998922348022\n",
      "Epoch 48, CIFAR-10 Batch 5:  Loss: 0.022915884852409363 Validation Accuracy: 0.660399854183197\n",
      "Epoch 49, CIFAR-10 Batch 1:  Loss: 0.023971183225512505 Validation Accuracy: 0.6561999320983887\n",
      "Epoch 49, CIFAR-10 Batch 2:  Loss: 0.011841054074466228 Validation Accuracy: 0.6513999104499817\n",
      "Epoch 49, CIFAR-10 Batch 3:  Loss: 0.028372816741466522 Validation Accuracy: 0.6505998373031616\n",
      "Epoch 49, CIFAR-10 Batch 4:  Loss: 0.008417553268373013 Validation Accuracy: 0.6343998908996582\n",
      "Epoch 49, CIFAR-10 Batch 5:  Loss: 0.02100219763815403 Validation Accuracy: 0.658599853515625\n",
      "Epoch 50, CIFAR-10 Batch 1:  Loss: 0.032876256853342056 Validation Accuracy: 0.6477999091148376\n",
      "Epoch 50, CIFAR-10 Batch 2:  Loss: 0.01025828905403614 Validation Accuracy: 0.6483999490737915\n",
      "Epoch 50, CIFAR-10 Batch 3:  Loss: 0.007507307920604944 Validation Accuracy: 0.6549999117851257\n",
      "Epoch 50, CIFAR-10 Batch 4:  Loss: 0.0068756090477108955 Validation Accuracy: 0.6353998780250549\n",
      "Epoch 50, CIFAR-10 Batch 5:  Loss: 0.017552552744746208 Validation Accuracy: 0.6577998399734497\n"
     ]
    }
   ],
   "source": [
    "\"\"\"\n",
    "DON'T MODIFY ANYTHING IN THIS CELL\n",
    "\"\"\"\n",
    "save_model_path = './image_classification'\n",
    "\n",
    "print('Training...')\n",
    "with tf.Session() as sess:\n",
    "    # Initializing the variables\n",
    "    sess.run(tf.global_variables_initializer())\n",
    "    \n",
    "    # Training cycle\n",
    "    for epoch in range(epochs):\n",
    "        # Loop over all batches\n",
    "        n_batches = 5\n",
    "        for batch_i in range(1, n_batches + 1):\n",
    "            for batch_features, batch_labels in helper.load_preprocess_training_batch(batch_i, batch_size):\n",
    "                train_neural_network(sess, optimizer, keep_probability, batch_features, batch_labels)\n",
    "            print('Epoch {:>2}, CIFAR-10 Batch {}:  '.format(epoch + 1, batch_i), end='')\n",
    "            print_stats(sess, batch_features, batch_labels, cost, accuracy)\n",
    "            \n",
    "    # Save Model\n",
    "    saver = tf.train.Saver()\n",
    "    save_path = saver.save(sess, save_model_path)"
   ]
  },
  {
   "cell_type": "markdown",
   "metadata": {
    "deletable": true,
    "editable": true
   },
   "source": [
    "# Checkpoint\n",
    "The model has been saved to disk.\n",
    "## Test Model\n",
    "Test your model against the test dataset.  This will be your final accuracy. You should have an accuracy greater than 50%. If you don't, keep tweaking the model architecture and parameters."
   ]
  },
  {
   "cell_type": "code",
   "execution_count": 122,
   "metadata": {
    "collapsed": false,
    "deletable": true,
    "editable": true
   },
   "outputs": [
    {
     "name": "stdout",
     "output_type": "stream",
     "text": [
      "Testing Accuracy: 0.6448773734177216\n",
      "\n"
     ]
    },
    {
     "data": {
      "image/png": "[encoded data removed]",
      "text/plain": [
       "<matplotlib.figure.Figure at 0x7f5de43c6fd0>"
      ]
     },
     "metadata": {
      "image/png": {
       "height": 319,
       "width": 355
      }
     },
     "output_type": "display_data"
    }
   ],
   "source": [
    "\"\"\"\n",
    "DON'T MODIFY ANYTHING IN THIS CELL\n",
    "\"\"\"\n",
    "%matplotlib inline\n",
    "%config InlineBackend.figure_format = 'retina'\n",
    "\n",
    "import tensorflow as tf\n",
    "import pickle\n",
    "import helper\n",
    "import random\n",
    "\n",
    "# Set batch size if not already set\n",
    "try:\n",
    "    if batch_size:\n",
    "        pass\n",
    "except NameError:\n",
    "    batch_size = 64\n",
    "\n",
    "save_model_path = './image_classification'\n",
    "n_samples = 4\n",
    "top_n_predictions = 3\n",
    "\n",
    "def test_model():\n",
    "    \"\"\"\n",
    "    Test the saved model against the test dataset\n",
    "    \"\"\"\n",
    "\n",
    "    test_features, test_labels = pickle.load(open('preprocess_training.p', mode='rb'))\n",
    "    loaded_graph = tf.Graph()\n",
    "\n",
    "    with tf.Session(graph=loaded_graph) as sess:\n",
    "        # Load model\n",
    "        loader = tf.train.import_meta_graph(save_model_path + '.meta')\n",
    "        loader.restore(sess, save_model_path)\n",
    "\n",
    "        # Get Tensors from loaded model\n",
    "        loaded_x = loaded_graph.get_tensor_by_name('x:0')\n",
    "        loaded_y = loaded_graph.get_tensor_by_name('y:0')\n",
    "        loaded_keep_prob = loaded_graph.get_tensor_by_name('keep_prob:0')\n",
    "        loaded_logits = loaded_graph.get_tensor_by_name('logits:0')\n",
    "        loaded_acc = loaded_graph.get_tensor_by_name('accuracy:0')\n",
    "        \n",
    "        # Get accuracy in batches for memory limitations\n",
    "        test_batch_acc_total = 0\n",
    "        test_batch_count = 0\n",
    "        \n",
    "        for train_feature_batch, train_label_batch in helper.batch_features_labels(test_features, test_labels, batch_size):\n",
    "            test_batch_acc_total += sess.run(\n",
    "                loaded_acc,\n",
    "                feed_dict={loaded_x: train_feature_batch, loaded_y: train_label_batch, loaded_keep_prob: 1.0})\n",
    "            test_batch_count += 1\n",
    "\n",
    "        print('Testing Accuracy: {}\\n'.format(test_batch_acc_total/test_batch_count))\n",
    "\n",
    "        # Print Random Samples\n",
    "        random_test_features, random_test_labels = tuple(zip(*random.sample(list(zip(test_features, test_labels)), n_samples)))\n",
    "        random_test_predictions = sess.run(\n",
    "            tf.nn.top_k(tf.nn.softmax(loaded_logits), top_n_predictions),\n",
    "            feed_dict={loaded_x: random_test_features, loaded_y: random_test_labels, loaded_keep_prob: 1.0})\n",
    "        helper.display_image_predictions(random_test_features, random_test_labels, random_test_predictions)\n",
    "\n",
    "\n",
    "test_model()"
   ]
  },
  {
   "cell_type": "markdown",
   "metadata": {
    "deletable": true,
    "editable": true
   },
   "source": [
    "## Why 50-70% Accuracy?\n",
    "You might be wondering why you can't get an accuracy any higher. First things first, 50% isn't bad for a simple CNN.  Pure guessing would get you 10% accuracy. However, you might notice people are getting scores [well above 70%](http://rodrigob.github.io/are_we_there_yet/build/classification_datasets_results.html#43494641522d3130).  That's because we haven't taught you all there is to know about neural networks. We still need to cover a few more techniques.\n",
    "## Submitting This Project\n",
    "When submitting this project, make sure to run all the cells before saving the notebook.  Save the notebook file as \"dlnd_image_classification.ipynb\" and save it as a HTML file under \"File\" -> \"Download as\".  Include the \"helper.py\" and \"problem_unittests.py\" files in your submission."
   ]
  }
 ],
 "metadata": {
  "kernelspec": {
   "display_name": "Python 3",
   "language": "python",
   "name": "python3"
  },
  "language_info": {
   "codemirror_mode": {
    "name": "ipython",
    "version": 3
   },
   "file_extension": ".py",
   "mimetype": "text/x-python",
   "name": "python",
   "nbconvert_exporter": "python",
   "pygments_lexer": "ipython3",
   "version": "3.5.2"
  },
  "widgets": {
   "state": {},
   "version": "1.1.2"
  }
 },
 "nbformat": 4,
 "nbformat_minor": 0
}
