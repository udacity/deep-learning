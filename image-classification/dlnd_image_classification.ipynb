{
 "cells": [
  {
   "cell_type": "markdown",
   "metadata": {
    "collapsed": true,
    "deletable": true,
    "editable": true
   },
   "source": [
    "# Image Classification\n",
    "In this project, you'll classify images from the [CIFAR-10 dataset](https://www.cs.toronto.edu/~kriz/cifar.html).  The dataset consists of airplanes, dogs, cats, and other objects. You'll preprocess the images, then train a convolutional neural network on all the samples. The images need to be normalized and the labels need to be one-hot encoded.  You'll get to apply what you learned and build a convolutional, max pooling, dropout, and fully connected layers.  At the end, you'll get to see your neural network's predictions on the sample images.\n",
    "## Get the Data\n",
    "Run the following cell to download the [CIFAR-10 dataset for python](https://www.cs.toronto.edu/~kriz/cifar-10-python.tar.gz)."
   ]
  },
  {
   "cell_type": "code",
   "execution_count": 1,
   "metadata": {
    "collapsed": false,
    "deletable": true,
    "editable": true
   },
   "outputs": [
    {
     "name": "stdout",
     "output_type": "stream",
     "text": [
      "All files found!\n"
     ]
    }
   ],
   "source": [
    "\"\"\"\n",
    "DON'T MODIFY ANYTHING IN THIS CELL THAT IS BELOW THIS LINE\n",
    "\"\"\"\n",
    "from urllib.request import urlretrieve\n",
    "from os.path import isfile, isdir\n",
    "from tqdm import tqdm\n",
    "import problem_unittests as tests\n",
    "import tarfile\n",
    "\n",
    "cifar10_dataset_folder_path = 'cifar-10-batches-py'\n",
    "\n",
    "class DLProgress(tqdm):\n",
    "    last_block = 0\n",
    "\n",
    "    def hook(self, block_num=1, block_size=1, total_size=None):\n",
    "        self.total = total_size\n",
    "        self.update((block_num - self.last_block) * block_size)\n",
    "        self.last_block = block_num\n",
    "\n",
    "if not isfile('cifar-10-python.tar.gz'):\n",
    "    with DLProgress(unit='B', unit_scale=True, miniters=1, desc='CIFAR-10 Dataset') as pbar:\n",
    "        urlretrieve(\n",
    "            'https://www.cs.toronto.edu/~kriz/cifar-10-python.tar.gz',\n",
    "            'cifar-10-python.tar.gz',\n",
    "            pbar.hook)\n",
    "\n",
    "if not isdir(cifar10_dataset_folder_path):\n",
    "    with tarfile.open('cifar-10-python.tar.gz') as tar:\n",
    "        tar.extractall()\n",
    "        tar.close()\n",
    "\n",
    "\n",
    "tests.test_folder_path(cifar10_dataset_folder_path)"
   ]
  },
  {
   "cell_type": "markdown",
   "metadata": {
    "deletable": true,
    "editable": true
   },
   "source": [
    "## Explore the Data\n",
    "The dataset is broken into batches to prevent your machine from running out of memory.  The CIFAR-10 dataset consists of 5 batches, named `data_batch_1`, `data_batch_2`, etc.. Each batch contains the labels and images that are one of the following:\n",
    "* airplane\n",
    "* automobile\n",
    "* bird\n",
    "* cat\n",
    "* deer\n",
    "* dog\n",
    "* frog\n",
    "* horse\n",
    "* ship\n",
    "* truck\n",
    "\n",
    "Understanding a dataset is part of making predictions on the data.  Play around with the code cell below by changing the `batch_id` and `sample_id`. The `batch_id` is the id for a batch (1-5). The `sample_id` is the id for a image and label pair in the batch.\n",
    "\n",
    "Ask yourself \"What are all possible labels?\", \"What is the range of values for the image data?\", \"Are the labels in order or random?\".  Answers to questions like these will help you preprocess the data and end up with better predictions."
   ]
  },
  {
   "cell_type": "code",
   "execution_count": 9,
   "metadata": {
    "collapsed": false,
    "deletable": true,
    "editable": true
   },
   "outputs": [
    {
     "name": "stdout",
     "output_type": "stream",
     "text": [
      "\n",
      "Stats of batch 5:\n",
      "Samples: 10000\n",
      "Label Counts: {0: 1014, 1: 1014, 2: 952, 3: 1016, 4: 997, 5: 1025, 6: 980, 7: 977, 8: 1003, 9: 1022}\n",
      "First 20 Labels: [1, 8, 5, 1, 5, 7, 4, 3, 8, 2, 7, 2, 0, 1, 5, 9, 6, 2, 0, 8]\n",
      "\n",
      "Example of Image 500:\n",
      "Image - Min Value: 20 Max Value: 226\n",
      "Image - Shape: (32, 32, 3)\n",
      "Label - Label Id: 8 Name: ship\n"
     ]
    },
    {
     "data": {
      "image/png": "[encoded data removed]",
      "text/plain": [
       "<matplotlib.figure.Figure at 0x11adf0908>"
      ]
     },
     "metadata": {
      "image/png": {
       "height": 250,
       "width": 253
      }
     },
     "output_type": "display_data"
    }
   ],
   "source": [
    "%matplotlib inline\n",
    "%config InlineBackend.figure_format = 'retina'\n",
    "\n",
    "import helper\n",
    "import numpy as np\n",
    "\n",
    "# Explore the dataset\n",
    "batch_id = 5\n",
    "sample_id = 500\n",
    "helper.display_stats(cifar10_dataset_folder_path, batch_id, sample_id)"
   ]
  },
  {
   "cell_type": "markdown",
   "metadata": {
    "deletable": true,
    "editable": true
   },
   "source": [
    "## Implement Preprocess Functions\n",
    "### Normalize\n",
    "In the cell below, implement the `normalize` function to take in image data, `x`, and return it as a normalized Numpy array. The values should be in the range of 0 to 1, inclusive.  The return object should be the same shape as `x`."
   ]
  },
  {
   "cell_type": "code",
   "execution_count": 12,
   "metadata": {
    "collapsed": false,
    "deletable": true,
    "editable": true
   },
   "outputs": [
    {
     "name": "stdout",
     "output_type": "stream",
     "text": [
      "Tests Passed\n"
     ]
    }
   ],
   "source": [
    "def normalize(x):\n",
    "    \"\"\"\n",
    "    Normalize a list of sample image data in the range of 0 to 1\n",
    "    : x: List of image data.  The image shape is (32, 32, 3)\n",
    "    : return: Numpy array of normalize data\n",
    "    \"\"\"\n",
    "    # TODO: Implement Function\n",
    "    return x / 255\n",
    "\n",
    "\n",
    "\"\"\"\n",
    "DON'T MODIFY ANYTHING IN THIS CELL THAT IS BELOW THIS LINE\n",
    "\"\"\"\n",
    "tests.test_normalize(normalize)"
   ]
  },
  {
   "cell_type": "markdown",
   "metadata": {
    "deletable": true,
    "editable": true
   },
   "source": [
    "### One-hot encode\n",
    "Just like the previous code cell, you'll be implementing a function for preprocessing.  This time, you'll implement the `one_hot_encode` function. The input, `x`, are a list of labels.  Implement the function to return the list of labels as One-Hot encoded Numpy array.  The possible values for labels are 0 to 9. The one-hot encoding function should return the same encoding for each value between each call to `one_hot_encode`.  Make sure to save the map of encodings outside the function.\n",
    "\n",
    "Hint: Don't reinvent the wheel."
   ]
  },
  {
   "cell_type": "code",
   "execution_count": 27,
   "metadata": {
    "collapsed": false,
    "deletable": true,
    "editable": true
   },
   "outputs": [
    {
     "name": "stdout",
     "output_type": "stream",
     "text": [
      "Tests Passed\n"
     ]
    }
   ],
   "source": [
    "def one_hot_encode(x):\n",
    "    \"\"\"\n",
    "    One hot encode a list of sample labels. Return a one-hot encoded vector for each label.\n",
    "    : x: List of sample Labels\n",
    "    : return: Numpy array of one-hot encoded labels\n",
    "    \"\"\"\n",
    "    # TODO: Implement Function\n",
    "    one_hots = np.zeros((len(x), 10))\n",
    "    for i, label in enumerate(x):\n",
    "        one_hots[i][label] = 1\n",
    "    return one_hots\n",
    "\n",
    "\"\"\"\n",
    "DON'T MODIFY ANYTHING IN THIS CELL THAT IS BELOW THIS LINE\n",
    "\"\"\"\n",
    "tests.test_one_hot_encode(one_hot_encode)"
   ]
  },
  {
   "cell_type": "markdown",
   "metadata": {
    "deletable": true,
    "editable": true
   },
   "source": [
    "### Randomize Data\n",
    "As you saw from exploring the data above, the order of the samples are randomized.  It doesn't hurt to randomize it again, but you don't need to for this dataset."
   ]
  },
  {
   "cell_type": "markdown",
   "metadata": {
    "deletable": true,
    "editable": true
   },
   "source": [
    "## Preprocess all the data and save it\n",
    "Running the code cell below will preprocess all the CIFAR-10 data and save it to file. The code below also uses 10% of the training data for validation."
   ]
  },
  {
   "cell_type": "code",
   "execution_count": 28,
   "metadata": {
    "collapsed": false,
    "deletable": true,
    "editable": true
   },
   "outputs": [],
   "source": [
    "\"\"\"\n",
    "DON'T MODIFY ANYTHING IN THIS CELL\n",
    "\"\"\"\n",
    "# Preprocess Training, Validation, and Testing Data\n",
    "helper.preprocess_and_save_data(cifar10_dataset_folder_path, normalize, one_hot_encode)"
   ]
  },
  {
   "cell_type": "markdown",
   "metadata": {
    "deletable": true,
    "editable": true
   },
   "source": [
    "# Check Point\n",
    "This is your first checkpoint.  If you ever decide to come back to this notebook or have to restart the notebook, you can start from here.  The preprocessed data has been saved to disk."
   ]
  },
  {
   "cell_type": "code",
   "execution_count": 1,
   "metadata": {
    "collapsed": true,
    "deletable": true,
    "editable": true
   },
   "outputs": [],
   "source": [
    "\"\"\"\n",
    "DON'T MODIFY ANYTHING IN THIS CELL\n",
    "\"\"\"\n",
    "import pickle\n",
    "import problem_unittests as tests\n",
    "import helper\n",
    "\n",
    "# Load the Preprocessed Validation data\n",
    "valid_features, valid_labels = pickle.load(open('preprocess_validation.p', mode='rb'))"
   ]
  },
  {
   "cell_type": "markdown",
   "metadata": {
    "deletable": true,
    "editable": true
   },
   "source": [
    "## Build the network\n",
    "For the neural network, you'll build each layer into a function.  Most of the code you've seen has been outside of functions. To test your code more thoroughly, we require that you put each layer in a function.  This allows us to give you better feedback and test for simple mistakes using our unittests before you submit your project.\n",
    "\n",
    "If you're finding it hard to dedicate enough time for this course a week, we've provided a small shortcut to this part of the project. In the next couple of problems, you'll have the option to use [TensorFlow Layers](https://www.tensorflow.org/api_docs/python/tf/layers) or [TensorFlow Layers (contrib)](https://www.tensorflow.org/api_guides/python/contrib.layers) to build each layer, except \"Convolutional & Max Pooling\" layer.  TF Layers is similar to Keras's and TFLearn's abstraction to layers, so it's easy to pickup.\n",
    "\n",
    "If you would like to get the most of this course, try to solve all the problems without TF Layers.  Let's begin!\n",
    "### Input\n",
    "The neural network needs to read the image data, one-hot encoded labels, and dropout keep probability. Implement the following functions\n",
    "* Implement `neural_net_image_input`\n",
    " * Return a [TF Placeholder](https://www.tensorflow.org/api_docs/python/tf/placeholder)\n",
    " * Set the shape using `image_shape` with batch size set to `None`.\n",
    " * Name the TensorFlow placeholder \"x\" using the TensorFlow `name` parameter in the [TF Placeholder](https://www.tensorflow.org/api_docs/python/tf/placeholder).\n",
    "* Implement `neural_net_label_input`\n",
    " * Return a [TF Placeholder](https://www.tensorflow.org/api_docs/python/tf/placeholder)\n",
    " * Set the shape using `n_classes` with batch size set to `None`.\n",
    " * Name the TensorFlow placeholder \"y\" using the TensorFlow `name` parameter in the [TF Placeholder](https://www.tensorflow.org/api_docs/python/tf/placeholder).\n",
    "* Implement `neural_net_keep_prob_input`\n",
    " * Return a [TF Placeholder](https://www.tensorflow.org/api_docs/python/tf/placeholder) for dropout keep probability.\n",
    " * Name the TensorFlow placeholder \"keep_prob\" using the TensorFlow `name` parameter in the [TF Placeholder](https://www.tensorflow.org/api_docs/python/tf/placeholder).\n",
    "\n",
    "These names will be used at the end of the project to load your saved model.\n",
    "\n",
    "Note: `None` for shapes in TensorFlow allow for a dynamic size."
   ]
  },
  {
   "cell_type": "code",
   "execution_count": 12,
   "metadata": {
    "collapsed": false,
    "deletable": true,
    "editable": true
   },
   "outputs": [
    {
     "name": "stdout",
     "output_type": "stream",
     "text": [
      "Image Input Tests Passed.\n",
      "Label Input Tests Passed.\n",
      "Keep Prob Tests Passed.\n"
     ]
    }
   ],
   "source": [
    "import tensorflow as tf\n",
    "\n",
    "def neural_net_image_input(image_shape):\n",
    "    \"\"\"\n",
    "    Return a Tensor for a bach of image input\n",
    "    : image_shape: Shape of the images\n",
    "    : return: Tensor for image input.\n",
    "    \"\"\"\n",
    "    # TODO: Implement Function\n",
    "    return tf.placeholder(dtype=tf.float32, shape=(None, *image_shape), name='x')\n",
    "\n",
    "\n",
    "def neural_net_label_input(n_classes):\n",
    "    \"\"\"\n",
    "    Return a Tensor for a batch of label input\n",
    "    : n_classes: Number of classes\n",
    "    : return: Tensor for label input.\n",
    "    \"\"\"\n",
    "    # TODO: Implement Function\n",
    "    return tf.placeholder(dtype=tf.float32, shape=(None, n_classes), name='y')\n",
    "\n",
    "\n",
    "def neural_net_keep_prob_input():\n",
    "    \"\"\"\n",
    "    Return a Tensor for keep probability\n",
    "    : return: Tensor for keep probability.\n",
    "    \"\"\"\n",
    "    # TODO: Implement Function\n",
    "    return tf.placeholder(dtype=tf.float32, name='keep_prob')\n",
    "\n",
    "\n",
    "\"\"\"\n",
    "DON'T MODIFY ANYTHING IN THIS CELL THAT IS BELOW THIS LINE\n",
    "\"\"\"\n",
    "tf.reset_default_graph()\n",
    "tests.test_nn_image_inputs(neural_net_image_input)\n",
    "tests.test_nn_label_inputs(neural_net_label_input)\n",
    "tests.test_nn_keep_prob_inputs(neural_net_keep_prob_input)"
   ]
  },
  {
   "cell_type": "markdown",
   "metadata": {
    "deletable": true,
    "editable": true
   },
   "source": [
    "### Convolution and Max Pooling Layer\n",
    "Convolution layers have a lot of success with images. For this code cell, you should implement the function `conv2d_maxpool` to apply convolution then max pooling:\n",
    "* Create the weight and bias using `conv_ksize`, `conv_num_outputs` and the shape of `x_tensor`.\n",
    "* Apply a convolution to `x_tensor` using weight and `conv_strides`.\n",
    " * We recommend you use same padding, but you're welcome to use any padding.\n",
    "* Add bias\n",
    "* Add a nonlinear activation to the convolution.\n",
    "* Apply Max Pooling using `pool_ksize` and `pool_strides`.\n",
    " * We recommend you use same padding, but you're welcome to use any padding.\n",
    "\n",
    "Note: You **can't** use [TensorFlow Layers](https://www.tensorflow.org/api_docs/python/tf/layers) or [TensorFlow Layers (contrib)](https://www.tensorflow.org/api_guides/python/contrib.layers) for this layer.  You're free to use any TensorFlow package for all the other layers."
   ]
  },
  {
   "cell_type": "code",
   "execution_count": 15,
   "metadata": {
    "collapsed": false,
    "deletable": true,
    "editable": true
   },
   "outputs": [
    {
     "name": "stdout",
     "output_type": "stream",
     "text": [
      "Tests Passed\n"
     ]
    }
   ],
   "source": [
    "def conv2d_maxpool(x_tensor, conv_num_outputs, conv_ksize, conv_strides, pool_ksize, pool_strides):\n",
    "    \"\"\"\n",
    "    Apply convolution then max pooling to x_tensor\n",
    "    :param x_tensor: TensorFlow Tensor\n",
    "    :param conv_num_outputs: Number of outputs for the convolutional layer\n",
    "    :param conv_strides: Stride 2-D Tuple for convolution\n",
    "    :param pool_ksize: kernal size 2-D Tuple for pool\n",
    "    :param pool_strides: Stride 2-D Tuple for pool\n",
    "    : return: A tensor that represents convolution and max pooling of x_tensor\n",
    "    \"\"\"\n",
    "    # TODO: Implement Function\n",
    "    channels = x_tensor.shape[3].value\n",
    "    conv_weights = tf.Variable(tf.truncated_normal((*conv_ksize, channels, conv_num_outputs)))\n",
    "    conv_bias = tf.Variable(tf.zeros(conv_num_outputs))\n",
    "    \n",
    "    conv_layer = tf.nn.conv2d(x_tensor, conv_weights, strides=(1, *conv_strides, 1), padding='SAME')\n",
    "    conv_layer = tf.nn.bias_add(conv_layer, conv_bias)\n",
    "    \n",
    "    pool_layer = tf.nn.max_pool(conv_layer, ksize=(1, *pool_ksize, 1), strides=(1, *pool_strides, 1), padding='SAME')\n",
    "    return pool_layer \n",
    "\n",
    "\n",
    "\"\"\"\n",
    "DON'T MODIFY ANYTHING IN THIS CELL THAT IS BELOW THIS LINE\n",
    "\"\"\"\n",
    "tests.test_con_pool(conv2d_maxpool)"
   ]
  },
  {
   "cell_type": "markdown",
   "metadata": {
    "deletable": true,
    "editable": true
   },
   "source": [
    "### Flatten Layer\n",
    "Implement the `flatten` function to change the dimension of `x_tensor` from a 4-D tensor to a 2-D tensor.  The output should be the shape (*Batch Size*, *Flattened Image Size*). You can use [TensorFlow Layers](https://www.tensorflow.org/api_docs/python/tf/layers) or [TensorFlow Layers (contrib)](https://www.tensorflow.org/api_guides/python/contrib.layers) for this layer."
   ]
  },
  {
   "cell_type": "code",
   "execution_count": 22,
   "metadata": {
    "collapsed": false,
    "deletable": true,
    "editable": true
   },
   "outputs": [
    {
     "name": "stdout",
     "output_type": "stream",
     "text": [
      "Tests Passed\n"
     ]
    }
   ],
   "source": [
    "def flatten(x_tensor):\n",
    "    \"\"\"\n",
    "    Flatten x_tensor to (Batch Size, Flattened Image Size)\n",
    "    : x_tensor: A tensor of size (Batch Size, ...), where ... are the image dimensions.\n",
    "    : return: A tensor of size (Batch Size, Flattened Image Size).\n",
    "    \"\"\"\n",
    "    # TODO: Implement Function\n",
    "    shape = x_tensor.shape\n",
    "    flattened_size = shape[1].value*shape[2].value*shape[3].value\n",
    "    return tf.reshape(x_tensor, (-1, flattened_size))\n",
    "\n",
    "\n",
    "\"\"\"\n",
    "DON'T MODIFY ANYTHING IN THIS CELL THAT IS BELOW THIS LINE\n",
    "\"\"\"\n",
    "tests.test_flatten(flatten)"
   ]
  },
  {
   "cell_type": "markdown",
   "metadata": {
    "deletable": true,
    "editable": true
   },
   "source": [
    "### Fully-Connected Layer\n",
    "Implement the `fully_conn` function to apply a fully connected layer to `x_tensor` with the shape (*Batch Size*, *num_outputs*). You can use [TensorFlow Layers](https://www.tensorflow.org/api_docs/python/tf/layers) or [TensorFlow Layers (contrib)](https://www.tensorflow.org/api_guides/python/contrib.layers) for this layer."
   ]
  },
  {
   "cell_type": "code",
   "execution_count": 29,
   "metadata": {
    "collapsed": false,
    "deletable": true,
    "editable": true
   },
   "outputs": [
    {
     "name": "stdout",
     "output_type": "stream",
     "text": [
      "Tests Passed\n"
     ]
    }
   ],
   "source": [
    "def fully_conn(x_tensor, num_outputs):\n",
    "    \"\"\"\n",
    "    Apply a fully connected layer to x_tensor using weight and bias\n",
    "    : x_tensor: A 2-D tensor where the first dimension is batch size.\n",
    "    : num_outputs: The number of output that the new tensor should be.\n",
    "    : return: A 2-D tensor where the second dimension is num_outputs.\n",
    "    \"\"\"\n",
    "    # TODO: Implement Function\n",
    "    weights_size = (x_tensor.shape[1].value, num_outputs)\n",
    "    weights = tf.Variable(tf.truncated_normal(weights_size))\n",
    "    \n",
    "    return tf.matmul(x_tensor, weights)\n",
    "\n",
    "\n",
    "\"\"\"\n",
    "DON'T MODIFY ANYTHING IN THIS CELL THAT IS BELOW THIS LINE\n",
    "\"\"\"\n",
    "tests.test_fully_conn(fully_conn)"
   ]
  },
  {
   "cell_type": "markdown",
   "metadata": {
    "deletable": true,
    "editable": true
   },
   "source": [
    "### Output Layer\n",
    "Implement the `output` function to apply a fully connected layer to `x_tensor` with the shape (*Batch Size*, *num_outputs*). You can use [TensorFlow Layers](https://www.tensorflow.org/api_docs/python/tf/layers) or [TensorFlow Layers (contrib)](https://www.tensorflow.org/api_guides/python/contrib.layers) for this layer.\n",
    "\n",
    "Note: Activation, softmax, or cross entropy shouldn't be applied to this."
   ]
  },
  {
   "cell_type": "code",
   "execution_count": 30,
   "metadata": {
    "collapsed": false,
    "deletable": true,
    "editable": true
   },
   "outputs": [
    {
     "name": "stdout",
     "output_type": "stream",
     "text": [
      "Tests Passed\n"
     ]
    }
   ],
   "source": [
    "def output(x_tensor, num_outputs):\n",
    "    \"\"\"\n",
    "    Apply a output layer to x_tensor using weight and bias\n",
    "    : x_tensor: A 2-D tensor where the first dimension is batch size.\n",
    "    : num_outputs: The number of output that the new tensor should be.\n",
    "    : return: A 2-D tensor where the second dimension is num_outputs.\n",
    "    \"\"\"\n",
    "    # TODO: Implement Function\n",
    "    weights_size = (x_tensor.shape[1].value, num_outputs)\n",
    "    weights = tf.Variable(tf.truncated_normal(weights_size))\n",
    "    \n",
    "    return tf.matmul(x_tensor, weights)\n",
    "\n",
    "\n",
    "\"\"\"\n",
    "DON'T MODIFY ANYTHING IN THIS CELL THAT IS BELOW THIS LINE\n",
    "\"\"\"\n",
    "tests.test_output(output)"
   ]
  },
  {
   "cell_type": "markdown",
   "metadata": {
    "deletable": true,
    "editable": true
   },
   "source": [
    "### Create Convolutional Model\n",
    "Implement the function `conv_net` to create a convolutional neural network model. The function takes in a batch of images, `x`, and outputs logits.  Use the layers you created above to create this model:\n",
    "\n",
    "* Apply 1, 2, or 3 Convolution and Max Pool layers\n",
    "* Apply a Flatten Layer\n",
    "* Apply 1, 2, or 3 Fully Connected Layers\n",
    "* Apply an Output Layer\n",
    "* Return the output\n",
    "* Apply [TensorFlow's Dropout](https://www.tensorflow.org/api_docs/python/tf/nn/dropout) to one or more layers in the model using `keep_prob`. "
   ]
  },
  {
   "cell_type": "code",
   "execution_count": 47,
   "metadata": {
    "collapsed": false,
    "deletable": true,
    "editable": true
   },
   "outputs": [
    {
     "name": "stdout",
     "output_type": "stream",
     "text": [
      "Neural Network Built!\n"
     ]
    }
   ],
   "source": [
    "def conv_net(x, keep_prob):\n",
    "    \"\"\"\n",
    "    Create a convolutional neural network model\n",
    "    : x: Placeholder tensor that holds image data.\n",
    "    : keep_prob: Placeholder tensor that hold dropout keep probability.\n",
    "    : return: Tensor that represents logits\n",
    "    \"\"\"\n",
    "    # TODO: Apply 1, 2, or 3 Convolution and Max Pool layers\n",
    "    #    Play around with different number of outputs, kernel size and stride\n",
    "    # Function Definition from Above:\n",
    "    #    conv2d_maxpool(x_tensor, conv_num_outputs, conv_ksize, conv_strides, pool_ksize, pool_strides)\n",
    "    \n",
    "    net = conv2d_maxpool(x, conv_num_outputs=6, conv_ksize=(4,4), \n",
    "                         conv_strides=(1,1), pool_ksize=(2,2), pool_strides=(2,2))\n",
    "\n",
    "    # TODO: Apply a Flatten Layer\n",
    "    # Function Definition from Above:\n",
    "    #   flatten(x_tensor)\n",
    "    \n",
    "    net = flatten(net)\n",
    "\n",
    "    # TODO: Apply 1, 2, or 3 Fully Connected Layers\n",
    "    #    Play around with different number of outputs\n",
    "    # Function Definition from Above:\n",
    "    #   fully_conn(x_tensor, num_outputs)\n",
    "    \n",
    "    net = fully_conn(net, 100)\n",
    "    \n",
    "    # TODO: Apply an Output Layer\n",
    "    #    Set this to the number of classes\n",
    "    # Function Definition from Above:\n",
    "    #   output(x_tensor, num_outputs)\n",
    "    \n",
    "    net = output(net, 10)\n",
    "    \n",
    "    # TODO: return output\n",
    "    return net\n",
    "\n",
    "\n",
    "\"\"\"\n",
    "DON'T MODIFY ANYTHING IN THIS CELL THAT IS BELOW THIS LINE\n",
    "\"\"\"\n",
    "\n",
    "##############################\n",
    "## Build the Neural Network ##\n",
    "##############################\n",
    "\n",
    "# Remove previous weights, bias, inputs, etc..\n",
    "tf.reset_default_graph()\n",
    "\n",
    "# Inputs\n",
    "x = neural_net_image_input((32, 32, 3))\n",
    "y = neural_net_label_input(10)\n",
    "keep_prob = neural_net_keep_prob_input()\n",
    "\n",
    "# Model\n",
    "logits = conv_net(x, keep_prob)\n",
    "\n",
    "# Name logits Tensor, so that is can be loaded from disk after training\n",
    "logits = tf.identity(logits, name='logits')\n",
    "\n",
    "# Loss and Optimizer\n",
    "cost = tf.reduce_mean(tf.nn.softmax_cross_entropy_with_logits(logits=logits, labels=y))\n",
    "optimizer = tf.train.AdamOptimizer().minimize(cost)\n",
    "\n",
    "# Accuracy\n",
    "correct_pred = tf.equal(tf.argmax(logits, 1), tf.argmax(y, 1))\n",
    "accuracy = tf.reduce_mean(tf.cast(correct_pred, tf.float32), name='accuracy')\n",
    "\n",
    "tests.test_conv_net(conv_net)"
   ]
  },
  {
   "cell_type": "markdown",
   "metadata": {
    "deletable": true,
    "editable": true
   },
   "source": [
    "## Train the Neural Network\n",
    "### Single Optimization\n",
    "Implement the function `train_neural_network` to do a single optimization.  The optimization should use `optimizer` to optimize in `session` with a `feed_dict` of the following:\n",
    "* `x` for image input\n",
    "* `y` for labels\n",
    "* `keep_prob` for keep probability for dropout\n",
    "\n",
    "This function will be called for each batch, so `tf.global_variables_initializer()` has already been called.\n",
    "\n",
    "Note: Nothing needs to be returned. This function is only optimizing the neural network."
   ]
  },
  {
   "cell_type": "code",
   "execution_count": 48,
   "metadata": {
    "collapsed": false,
    "deletable": true,
    "editable": true
   },
   "outputs": [
    {
     "name": "stdout",
     "output_type": "stream",
     "text": [
      "Tests Passed\n"
     ]
    }
   ],
   "source": [
    "def train_neural_network(session, optimizer, keep_probability, feature_batch, label_batch):\n",
    "    \"\"\"\n",
    "    Optimize the session on a batch of images and labels\n",
    "    : session: Current TensorFlow session\n",
    "    : optimizer: TensorFlow optimizer function\n",
    "    : keep_probability: keep probability\n",
    "    : feature_batch: Batch of Numpy image data\n",
    "    : label_batch: Batch of Numpy label data\n",
    "    \"\"\"\n",
    "    # TODO: Implement Function\n",
    "    session.run(optimizer, feed_dict={keep_prob:keep_probability, x:feature_batch, y:label_batch})\n",
    "    pass\n",
    "\n",
    "\n",
    "\"\"\"\n",
    "DON'T MODIFY ANYTHING IN THIS CELL THAT IS BELOW THIS LINE\n",
    "\"\"\"\n",
    "tests.test_train_nn(train_neural_network)"
   ]
  },
  {
   "cell_type": "markdown",
   "metadata": {
    "deletable": true,
    "editable": true
   },
   "source": [
    "### Show Stats\n",
    "Implement the function `print_stats` to print loss and validation accuracy.  Use the global variables `valid_features` and `valid_labels` to calculate validation accuracy.  Use a keep probability of `1.0` to calculate the loss and validation accuracy."
   ]
  },
  {
   "cell_type": "code",
   "execution_count": 49,
   "metadata": {
    "collapsed": false,
    "deletable": true,
    "editable": true
   },
   "outputs": [],
   "source": [
    "def print_stats(session, feature_batch, label_batch, cost, accuracy):\n",
    "    \"\"\"\n",
    "    Print information about loss and validation accuracy\n",
    "    : session: Current TensorFlow session\n",
    "    : feature_batch: Batch of Numpy image data\n",
    "    : label_batch: Batch of Numpy label data\n",
    "    : cost: TensorFlow cost function\n",
    "    : accuracy: TensorFlow accuracy function\n",
    "    \"\"\"\n",
    "    # TODO: Implement Function\n",
    "    cost = session.run(cost, feed_dict={keep_prob:keep_probability, x:feature_batch, y:label_batch})\n",
    "    accuracy = session.run(accuracy, feed_dict={keep_prob:keep_probability, x:feature_batch, y:label_batch})\n",
    "    \n",
    "    print(\"cost: %s; accuracy: %s\" % (cost, accuracy))\n",
    "    pass"
   ]
  },
  {
   "cell_type": "markdown",
   "metadata": {
    "deletable": true,
    "editable": true
   },
   "source": [
    "### Hyperparameters\n",
    "Tune the following parameters:\n",
    "* Set `epochs` to the number of iterations until the network stops learning or start overfitting\n",
    "* Set `batch_size` to the highest number that your machine has memory for.  Most people set them to common sizes of memory:\n",
    " * 64\n",
    " * 128\n",
    " * 256\n",
    " * ...\n",
    "* Set `keep_probability` to the probability of keeping a node using dropout"
   ]
  },
  {
   "cell_type": "code",
   "execution_count": 51,
   "metadata": {
    "collapsed": true,
    "deletable": true,
    "editable": true
   },
   "outputs": [],
   "source": [
    "# TODO: Tune Parameters\n",
    "epochs = 100\n",
    "batch_size = 128\n",
    "keep_probability = 0.5"
   ]
  },
  {
   "cell_type": "markdown",
   "metadata": {
    "deletable": true,
    "editable": true
   },
   "source": [
    "### Train on a Single CIFAR-10 Batch\n",
    "Instead of training the neural network on all the CIFAR-10 batches of data, let's use a single batch. This should save time while you iterate on the model to get a better accuracy.  Once the final validation accuracy is 50% or greater, run the model on all the data in the next section."
   ]
  },
  {
   "cell_type": "code",
   "execution_count": 52,
   "metadata": {
    "collapsed": false,
    "deletable": true,
    "editable": true
   },
   "outputs": [
    {
     "name": "stdout",
     "output_type": "stream",
     "text": [
      "Checking the Training on a Single Batch...\n",
      "Epoch  1, CIFAR-10 Batch 1:  cost: 393.544; accuracy: 0.075\n",
      "Epoch  2, CIFAR-10 Batch 1:  cost: 311.572; accuracy: 0.125\n",
      "Epoch  3, CIFAR-10 Batch 1:  cost: 268.847; accuracy: 0.175\n",
      "Epoch  4, CIFAR-10 Batch 1:  cost: 229.167; accuracy: 0.225\n",
      "Epoch  5, CIFAR-10 Batch 1:  cost: 196.683; accuracy: 0.2\n",
      "Epoch  6, CIFAR-10 Batch 1:  cost: 169.613; accuracy: 0.2\n",
      "Epoch  7, CIFAR-10 Batch 1:  cost: 149.492; accuracy: 0.225\n",
      "Epoch  8, CIFAR-10 Batch 1:  cost: 134.327; accuracy: 0.25\n",
      "Epoch  9, CIFAR-10 Batch 1:  cost: 118.636; accuracy: 0.275\n",
      "Epoch 10, CIFAR-10 Batch 1:  cost: 106.764; accuracy: 0.325\n",
      "Epoch 11, CIFAR-10 Batch 1:  cost: 96.3588; accuracy: 0.325\n",
      "Epoch 12, CIFAR-10 Batch 1:  cost: 86.5578; accuracy: 0.35\n",
      "Epoch 13, CIFAR-10 Batch 1:  cost: 78.0958; accuracy: 0.35\n",
      "Epoch 14, CIFAR-10 Batch 1:  cost: 70.4979; accuracy: 0.425\n",
      "Epoch 15, CIFAR-10 Batch 1:  cost: 64.808; accuracy: 0.45\n",
      "Epoch 16, CIFAR-10 Batch 1:  cost: 60.1707; accuracy: 0.45\n",
      "Epoch 17, CIFAR-10 Batch 1:  cost: 55.4028; accuracy: 0.45\n",
      "Epoch 18, CIFAR-10 Batch 1:  cost: 50.8847; accuracy: 0.45\n",
      "Epoch 19, CIFAR-10 Batch 1:  cost: 47.1852; accuracy: 0.4\n",
      "Epoch 20, CIFAR-10 Batch 1:  cost: 43.7698; accuracy: 0.4\n",
      "Epoch 21, CIFAR-10 Batch 1:  cost: 40.5772; accuracy: 0.425\n",
      "Epoch 22, CIFAR-10 Batch 1:  cost: 37.9656; accuracy: 0.5\n",
      "Epoch 23, CIFAR-10 Batch 1:  cost: 35.2759; accuracy: 0.5\n",
      "Epoch 24, CIFAR-10 Batch 1:  cost: 33.6808; accuracy: 0.5\n",
      "Epoch 25, CIFAR-10 Batch 1:  cost: 32.4883; accuracy: 0.5\n",
      "Epoch 26, CIFAR-10 Batch 1:  cost: 30.6434; accuracy: 0.55\n",
      "Epoch 27, CIFAR-10 Batch 1:  cost: 29.3712; accuracy: 0.575\n",
      "Epoch 28, CIFAR-10 Batch 1:  cost: 27.7086; accuracy: 0.575\n",
      "Epoch 29, CIFAR-10 Batch 1:  cost: 26.1297; accuracy: 0.575\n",
      "Epoch 30, CIFAR-10 Batch 1:  cost: 24.6801; accuracy: 0.55\n",
      "Epoch 31, CIFAR-10 Batch 1:  cost: 23.3123; accuracy: 0.525\n",
      "Epoch 32, CIFAR-10 Batch 1:  cost: 22.0158; accuracy: 0.525\n",
      "Epoch 33, CIFAR-10 Batch 1:  cost: 20.5687; accuracy: 0.575\n",
      "Epoch 34, CIFAR-10 Batch 1:  cost: 19.4773; accuracy: 0.575\n",
      "Epoch 35, CIFAR-10 Batch 1:  cost: 18.3884; accuracy: 0.6\n",
      "Epoch 36, CIFAR-10 Batch 1:  cost: 17.2907; accuracy: 0.575\n",
      "Epoch 37, CIFAR-10 Batch 1:  cost: 16.4366; accuracy: 0.525\n",
      "Epoch 38, CIFAR-10 Batch 1:  cost: 15.7982; accuracy: 0.575\n",
      "Epoch 39, CIFAR-10 Batch 1:  cost: 15.1298; accuracy: 0.55\n",
      "Epoch 40, CIFAR-10 Batch 1:  cost: 14.3639; accuracy: 0.525\n",
      "Epoch 41, CIFAR-10 Batch 1:  cost: 13.5873; accuracy: 0.5\n",
      "Epoch 42, CIFAR-10 Batch 1:  cost: 12.335; accuracy: 0.625\n",
      "Epoch 43, CIFAR-10 Batch 1:  cost: 12.0014; accuracy: 0.6\n",
      "Epoch 44, CIFAR-10 Batch 1:  cost: 11.6501; accuracy: 0.625\n",
      "Epoch 45, CIFAR-10 Batch 1:  cost: 11.2703; accuracy: 0.675\n",
      "Epoch 46, CIFAR-10 Batch 1:  cost: 10.7027; accuracy: 0.675\n",
      "Epoch 47, CIFAR-10 Batch 1:  cost: 10.1927; accuracy: 0.675\n",
      "Epoch 48, CIFAR-10 Batch 1:  cost: 9.95878; accuracy: 0.6\n",
      "Epoch 49, CIFAR-10 Batch 1:  cost: 9.92474; accuracy: 0.575\n",
      "Epoch 50, CIFAR-10 Batch 1:  cost: 9.83149; accuracy: 0.55\n",
      "Epoch 51, CIFAR-10 Batch 1:  cost: 9.38792; accuracy: 0.5\n",
      "Epoch 52, CIFAR-10 Batch 1:  cost: 8.60642; accuracy: 0.625\n",
      "Epoch 53, CIFAR-10 Batch 1:  cost: 8.21679; accuracy: 0.725\n",
      "Epoch 54, CIFAR-10 Batch 1:  cost: 8.02705; accuracy: 0.7\n",
      "Epoch 55, CIFAR-10 Batch 1:  cost: 7.64614; accuracy: 0.675\n",
      "Epoch 56, CIFAR-10 Batch 1:  cost: 7.0386; accuracy: 0.7\n",
      "Epoch 57, CIFAR-10 Batch 1:  cost: 6.46923; accuracy: 0.725\n",
      "Epoch 58, CIFAR-10 Batch 1:  cost: 6.07179; accuracy: 0.725\n",
      "Epoch 59, CIFAR-10 Batch 1:  cost: 5.7727; accuracy: 0.725\n",
      "Epoch 60, CIFAR-10 Batch 1:  cost: 5.46548; accuracy: 0.75\n",
      "Epoch 61, CIFAR-10 Batch 1:  cost: 5.26415; accuracy: 0.75\n",
      "Epoch 62, CIFAR-10 Batch 1:  cost: 5.00259; accuracy: 0.75\n",
      "Epoch 63, CIFAR-10 Batch 1:  cost: 4.79155; accuracy: 0.775\n",
      "Epoch 64, CIFAR-10 Batch 1:  cost: 4.54882; accuracy: 0.775\n",
      "Epoch 65, CIFAR-10 Batch 1:  cost: 4.36043; accuracy: 0.8\n",
      "Epoch 66, CIFAR-10 Batch 1:  cost: 4.2614; accuracy: 0.775\n",
      "Epoch 67, CIFAR-10 Batch 1:  cost: 4.19858; accuracy: 0.775\n",
      "Epoch 68, CIFAR-10 Batch 1:  cost: 4.13985; accuracy: 0.75\n",
      "Epoch 69, CIFAR-10 Batch 1:  cost: 4.01159; accuracy: 0.75\n",
      "Epoch 70, CIFAR-10 Batch 1:  cost: 3.97151; accuracy: 0.7\n",
      "Epoch 71, CIFAR-10 Batch 1:  cost: 3.81646; accuracy: 0.725\n",
      "Epoch 72, CIFAR-10 Batch 1:  cost: 3.587; accuracy: 0.725\n",
      "Epoch 73, CIFAR-10 Batch 1:  cost: 3.48138; accuracy: 0.725\n",
      "Epoch 74, CIFAR-10 Batch 1:  cost: 3.28128; accuracy: 0.75\n",
      "Epoch 75, CIFAR-10 Batch 1:  cost: 3.17125; accuracy: 0.75\n",
      "Epoch 76, CIFAR-10 Batch 1:  cost: 2.9238; accuracy: 0.8\n",
      "Epoch 77, CIFAR-10 Batch 1:  cost: 2.69074; accuracy: 0.85\n",
      "Epoch 78, CIFAR-10 Batch 1:  cost: 2.63685; accuracy: 0.85\n",
      "Epoch 79, CIFAR-10 Batch 1:  cost: 2.81402; accuracy: 0.825\n",
      "Epoch 80, CIFAR-10 Batch 1:  cost: 2.67893; accuracy: 0.85\n",
      "Epoch 81, CIFAR-10 Batch 1:  cost: 2.50732; accuracy: 0.85\n",
      "Epoch 82, CIFAR-10 Batch 1:  cost: 2.23589; accuracy: 0.9\n",
      "Epoch 83, CIFAR-10 Batch 1:  cost: 2.09585; accuracy: 0.9\n",
      "Epoch 84, CIFAR-10 Batch 1:  cost: 2.03228; accuracy: 0.875\n",
      "Epoch 85, CIFAR-10 Batch 1:  cost: 2.02721; accuracy: 0.9\n",
      "Epoch 86, CIFAR-10 Batch 1:  cost: 1.99952; accuracy: 0.9\n",
      "Epoch 87, CIFAR-10 Batch 1:  cost: 1.91533; accuracy: 0.95\n",
      "Epoch 88, CIFAR-10 Batch 1:  cost: 1.84255; accuracy: 0.9\n",
      "Epoch 89, CIFAR-10 Batch 1:  cost: 1.81629; accuracy: 0.875\n",
      "Epoch 90, CIFAR-10 Batch 1:  cost: 1.80606; accuracy: 0.9\n",
      "Epoch 91, CIFAR-10 Batch 1:  cost: 1.82547; accuracy: 0.925\n",
      "Epoch 92, CIFAR-10 Batch 1:  cost: 1.88971; accuracy: 0.925\n",
      "Epoch 93, CIFAR-10 Batch 1:  cost: 1.92547; accuracy: 0.85\n",
      "Epoch 94, CIFAR-10 Batch 1:  cost: 1.84652; accuracy: 0.825\n",
      "Epoch 95, CIFAR-10 Batch 1:  cost: 1.86418; accuracy: 0.775\n",
      "Epoch 96, CIFAR-10 Batch 1:  cost: 1.94787; accuracy: 0.75\n",
      "Epoch 97, CIFAR-10 Batch 1:  cost: 1.58954; accuracy: 0.9\n",
      "Epoch 98, CIFAR-10 Batch 1:  cost: 1.72956; accuracy: 0.875\n",
      "Epoch 99, CIFAR-10 Batch 1:  cost: 1.54937; accuracy: 0.875\n",
      "Epoch 100, CIFAR-10 Batch 1:  cost: 1.496; accuracy: 0.9\n"
     ]
    }
   ],
   "source": [
    "\"\"\"\n",
    "DON'T MODIFY ANYTHING IN THIS CELL\n",
    "\"\"\"\n",
    "print('Checking the Training on a Single Batch...')\n",
    "with tf.Session() as sess:\n",
    "    # Initializing the variables\n",
    "    sess.run(tf.global_variables_initializer())\n",
    "    \n",
    "    # Training cycle\n",
    "    for epoch in range(epochs):\n",
    "        batch_i = 1\n",
    "        for batch_features, batch_labels in helper.load_preprocess_training_batch(batch_i, batch_size):\n",
    "            train_neural_network(sess, optimizer, keep_probability, batch_features, batch_labels)\n",
    "        print('Epoch {:>2}, CIFAR-10 Batch {}:  '.format(epoch + 1, batch_i), end='')\n",
    "        print_stats(sess, batch_features, batch_labels, cost, accuracy)"
   ]
  },
  {
   "cell_type": "markdown",
   "metadata": {
    "deletable": true,
    "editable": true
   },
   "source": [
    "### Fully Train the Model\n",
    "Now that you got a good accuracy with a single CIFAR-10 batch, try it with all five batches."
   ]
  },
  {
   "cell_type": "code",
   "execution_count": null,
   "metadata": {
    "collapsed": false,
    "deletable": true,
    "editable": true
   },
   "outputs": [
    {
     "name": "stdout",
     "output_type": "stream",
     "text": [
      "Training...\n",
      "Epoch  1, CIFAR-10 Batch 1:  cost: 409.501; accuracy: 0.15\n",
      "Epoch  1, CIFAR-10 Batch 2:  cost: 284.99; accuracy: 0.2\n",
      "Epoch  1, CIFAR-10 Batch 3:  cost: 188.756; accuracy: 0.275\n",
      "Epoch  1, CIFAR-10 Batch 4:  cost: 147.346; accuracy: 0.275\n",
      "Epoch  1, CIFAR-10 Batch 5:  cost: 158.669; accuracy: 0.175\n",
      "Epoch  2, CIFAR-10 Batch 1:  cost: 158.081; accuracy: 0.225\n",
      "Epoch  2, CIFAR-10 Batch 2:  cost: 111.254; accuracy: 0.275\n",
      "Epoch  2, CIFAR-10 Batch 3:  cost: 111.851; accuracy: 0.175\n",
      "Epoch  2, CIFAR-10 Batch 4:  cost: 73.8943; accuracy: 0.3\n",
      "Epoch  2, CIFAR-10 Batch 5:  cost: 102.052; accuracy: 0.2\n",
      "Epoch  3, CIFAR-10 Batch 1:  cost: 99.4594; accuracy: 0.175\n",
      "Epoch  3, CIFAR-10 Batch 2:  cost: 66.2302; accuracy: 0.325\n",
      "Epoch  3, CIFAR-10 Batch 3:  cost: 76.0295; accuracy: 0.25\n",
      "Epoch  3, CIFAR-10 Batch 4:  cost: 54.9661; accuracy: 0.375\n",
      "Epoch  3, CIFAR-10 Batch 5:  cost: 74.7434; accuracy: 0.2\n",
      "Epoch  4, CIFAR-10 Batch 1:  cost: 68.1; accuracy: 0.225\n",
      "Epoch  4, CIFAR-10 Batch 2:  cost: 47.3288; accuracy: 0.4\n",
      "Epoch  4, CIFAR-10 Batch 3:  cost: 56.466; accuracy: 0.3\n",
      "Epoch  4, CIFAR-10 Batch 4:  cost: 42.2418; accuracy: 0.35\n",
      "Epoch  4, CIFAR-10 Batch 5:  cost: 56.8174; accuracy: 0.275\n",
      "Epoch  5, CIFAR-10 Batch 1:  cost: 51.1537; accuracy: 0.275\n",
      "Epoch  5, CIFAR-10 Batch 2:  cost: 36.8192; accuracy: 0.475\n",
      "Epoch  5, CIFAR-10 Batch 3:  cost: 43.8367; accuracy: 0.3\n",
      "Epoch  5, CIFAR-10 Batch 4:  cost: 35.5209; accuracy: 0.35\n",
      "Epoch  5, CIFAR-10 Batch 5:  cost: 44.7997; accuracy: 0.275\n",
      "Epoch  6, CIFAR-10 Batch 1:  cost: 41.0738; accuracy: 0.3\n",
      "Epoch  6, CIFAR-10 Batch 2:  cost: 30.1438; accuracy: 0.525\n",
      "Epoch  6, CIFAR-10 Batch 3:  cost: 33.4199; accuracy: 0.325\n",
      "Epoch  6, CIFAR-10 Batch 4:  cost: 29.9168; accuracy: 0.4\n",
      "Epoch  6, CIFAR-10 Batch 5:  cost: 36.1848; accuracy: 0.325\n",
      "Epoch  7, CIFAR-10 Batch 1:  cost: 33.6254; accuracy: 0.325\n",
      "Epoch  7, CIFAR-10 Batch 2:  cost: 25.2029; accuracy: 0.5\n",
      "Epoch  7, CIFAR-10 Batch 3:  cost: 26.0622; accuracy: 0.375\n",
      "Epoch  7, CIFAR-10 Batch 4:  cost: 25.6143; accuracy: 0.425\n",
      "Epoch  7, CIFAR-10 Batch 5:  cost: 29.4645; accuracy: 0.325\n",
      "Epoch  8, CIFAR-10 Batch 1:  cost: 27.3812; accuracy: 0.375\n",
      "Epoch  8, CIFAR-10 Batch 2:  cost: 20.7576; accuracy: 0.5\n",
      "Epoch  8, CIFAR-10 Batch 3:  cost: 21.1048; accuracy: 0.375\n",
      "Epoch  8, CIFAR-10 Batch 4:  cost: 22.0278; accuracy: 0.4\n",
      "Epoch  8, CIFAR-10 Batch 5:  cost: 24.3081; accuracy: 0.325\n",
      "Epoch  9, CIFAR-10 Batch 1:  cost: 22.544; accuracy: 0.4\n",
      "Epoch  9, CIFAR-10 Batch 2:  cost: 17.3057; accuracy: 0.5\n",
      "Epoch  9, CIFAR-10 Batch 3:  cost: 16.7716; accuracy: 0.4\n",
      "Epoch  9, CIFAR-10 Batch 4:  cost: 19.1575; accuracy: 0.4\n",
      "Epoch  9, CIFAR-10 Batch 5:  cost: 20.2076; accuracy: 0.4\n",
      "Epoch 10, CIFAR-10 Batch 1:  cost: 18.625; accuracy: 0.425\n",
      "Epoch 10, CIFAR-10 Batch 2:  cost: 14.2837; accuracy: 0.525\n",
      "Epoch 10, CIFAR-10 Batch 3:  cost: 13.5701; accuracy: 0.45\n",
      "Epoch 10, CIFAR-10 Batch 4:  cost: 16.7811; accuracy: 0.4\n",
      "Epoch 10, CIFAR-10 Batch 5:  cost: 16.8478; accuracy: 0.4\n",
      "Epoch 11, CIFAR-10 Batch 1:  cost: 15.5605; accuracy: 0.475\n",
      "Epoch 11, CIFAR-10 Batch 2:  cost: 11.8853; accuracy: 0.525\n",
      "Epoch 11, CIFAR-10 Batch 3:  cost: 11.1146; accuracy: 0.45\n",
      "Epoch 11, CIFAR-10 Batch 4:  cost: 14.5693; accuracy: 0.425\n",
      "Epoch 11, CIFAR-10 Batch 5:  cost: 14.1512; accuracy: 0.35\n",
      "Epoch 12, CIFAR-10 Batch 1:  cost: 12.6086; accuracy: 0.45\n",
      "Epoch 12, CIFAR-10 Batch 2:  cost: 9.93478; accuracy: 0.525\n",
      "Epoch 12, CIFAR-10 Batch 3:  cost: 9.11216; accuracy: 0.45\n",
      "Epoch 12, CIFAR-10 Batch 4:  cost: 12.5903; accuracy: 0.4\n",
      "Epoch 12, CIFAR-10 Batch 5:  cost: 11.7047; accuracy: 0.375\n",
      "Epoch 13, CIFAR-10 Batch 1:  cost: 10.3284; accuracy: 0.55\n",
      "Epoch 13, CIFAR-10 Batch 2:  cost: 8.30972; accuracy: 0.575\n",
      "Epoch 13, CIFAR-10 Batch 3:  cost: 7.69204; accuracy: 0.45\n",
      "Epoch 13, CIFAR-10 Batch 4:  cost: 10.8856; accuracy: 0.425\n",
      "Epoch 13, CIFAR-10 Batch 5:  cost: 9.85753; accuracy: 0.35\n",
      "Epoch 14, CIFAR-10 Batch 1:  cost: 8.73646; accuracy: 0.55\n",
      "Epoch 14, CIFAR-10 Batch 2:  cost: 6.85468; accuracy: 0.575\n",
      "Epoch 14, CIFAR-10 Batch 3:  cost: 6.44442; accuracy: 0.45\n",
      "Epoch 14, CIFAR-10 Batch 4:  cost: 9.31029; accuracy: 0.475\n",
      "Epoch 14, CIFAR-10 Batch 5:  cost: 8.15648; accuracy: 0.325\n",
      "Epoch 15, CIFAR-10 Batch 1:  cost: 7.48697; accuracy: 0.6\n",
      "Epoch 15, CIFAR-10 Batch 2:  cost: 5.71835; accuracy: 0.625\n",
      "Epoch 15, CIFAR-10 Batch 3:  cost: 5.34903; accuracy: 0.45\n",
      "Epoch 15, CIFAR-10 Batch 4:  cost: 7.9068; accuracy: 0.425\n",
      "Epoch 15, CIFAR-10 Batch 5:  cost: 6.78309; accuracy: 0.35\n",
      "Epoch 16, CIFAR-10 Batch 1:  cost: 6.30021; accuracy: 0.6\n",
      "Epoch 16, CIFAR-10 Batch 2:  cost: 4.83472; accuracy: 0.625\n",
      "Epoch 16, CIFAR-10 Batch 3:  cost: 4.56082; accuracy: 0.45\n",
      "Epoch 16, CIFAR-10 Batch 4:  cost: 6.61226; accuracy: 0.475\n",
      "Epoch 16, CIFAR-10 Batch 5:  cost: 5.63071; accuracy: 0.425\n",
      "Epoch 17, CIFAR-10 Batch 1:  cost: 5.43379; accuracy: 0.625\n",
      "Epoch 17, CIFAR-10 Batch 2:  cost: 4.14894; accuracy: 0.6\n",
      "Epoch 17, CIFAR-10 Batch 3:  cost: 3.8372; accuracy: 0.475\n",
      "Epoch 17, CIFAR-10 Batch 4:  cost: 5.57444; accuracy: 0.5\n",
      "Epoch 17, CIFAR-10 Batch 5:  cost: 4.66478; accuracy: 0.425\n",
      "Epoch 18, CIFAR-10 Batch 1:  cost: 4.73324; accuracy: 0.6\n",
      "Epoch 18, CIFAR-10 Batch 2:  cost: 3.59497; accuracy: 0.625\n",
      "Epoch 18, CIFAR-10 Batch 3:  cost: 3.26417; accuracy: 0.45\n",
      "Epoch 18, CIFAR-10 Batch 4:  cost: 4.7127; accuracy: 0.475\n",
      "Epoch 18, CIFAR-10 Batch 5:  cost: 3.91467; accuracy: 0.425\n",
      "Epoch 19, CIFAR-10 Batch 1:  cost: 4.18373; accuracy: 0.575\n",
      "Epoch 19, CIFAR-10 Batch 2:  cost: 3.13673; accuracy: 0.625\n",
      "Epoch 19, CIFAR-10 Batch 3:  cost: 2.83198; accuracy: 0.525\n",
      "Epoch 19, CIFAR-10 Batch 4:  cost: 3.94916; accuracy: 0.5\n",
      "Epoch 19, CIFAR-10 Batch 5:  cost: 3.25729; accuracy: 0.425\n",
      "Epoch 20, CIFAR-10 Batch 1:  cost: 3.74748; accuracy: 0.6\n",
      "Epoch 20, CIFAR-10 Batch 2:  cost: 2.7999; accuracy: 0.6\n",
      "Epoch 20, CIFAR-10 Batch 3:  cost: 2.56643; accuracy: 0.5\n",
      "Epoch 20, CIFAR-10 Batch 4:  cost: 3.34731; accuracy: 0.525\n",
      "Epoch 20, CIFAR-10 Batch 5:  cost: 2.73745; accuracy: 0.45\n",
      "Epoch 21, CIFAR-10 Batch 1:  cost: 3.36699; accuracy: 0.65\n",
      "Epoch 21, CIFAR-10 Batch 2:  cost: 2.48388; accuracy: 0.6\n",
      "Epoch 21, CIFAR-10 Batch 3:  cost: 2.3369; accuracy: 0.55\n",
      "Epoch 21, CIFAR-10 Batch 4:  cost: 2.87464; accuracy: 0.55\n",
      "Epoch 21, CIFAR-10 Batch 5:  cost: 2.39419; accuracy: 0.45\n",
      "Epoch 22, CIFAR-10 Batch 1:  cost: 3.01408; accuracy: 0.65\n",
      "Epoch 22, CIFAR-10 Batch 2:  cost: 2.19515; accuracy: 0.675\n",
      "Epoch 22, CIFAR-10 Batch 3:  cost: 2.11156; accuracy: 0.55\n",
      "Epoch 22, CIFAR-10 Batch 4:  cost: 2.51614; accuracy: 0.625\n",
      "Epoch 22, CIFAR-10 Batch 5:  cost: 2.15488; accuracy: 0.5\n",
      "Epoch 23, CIFAR-10 Batch 1:  cost: 2.73009; accuracy: 0.625\n",
      "Epoch 23, CIFAR-10 Batch 2:  cost: 1.90497; accuracy: 0.675\n",
      "Epoch 23, CIFAR-10 Batch 3:  cost: 1.92186; accuracy: 0.575\n",
      "Epoch 23, CIFAR-10 Batch 4:  cost: 2.20878; accuracy: 0.625\n",
      "Epoch 23, CIFAR-10 Batch 5:  cost: 1.94561; accuracy: 0.5\n",
      "Epoch 24, CIFAR-10 Batch 1:  cost: 2.50773; accuracy: 0.575\n",
      "Epoch 24, CIFAR-10 Batch 2:  cost: 1.66287; accuracy: 0.675\n",
      "Epoch 24, CIFAR-10 Batch 3:  cost: 1.7621; accuracy: 0.55\n",
      "Epoch 24, CIFAR-10 Batch 4:  cost: 1.9384; accuracy: 0.6\n",
      "Epoch 24, CIFAR-10 Batch 5:  cost: 1.77607; accuracy: 0.525\n",
      "Epoch 25, CIFAR-10 Batch 1:  cost: 2.28846; accuracy: 0.55\n",
      "Epoch 25, CIFAR-10 Batch 2:  cost: 1.45857; accuracy: 0.675\n",
      "Epoch 25, CIFAR-10 Batch 3:  cost: 1.61339; accuracy: 0.575\n",
      "Epoch 25, CIFAR-10 Batch 4:  cost: 1.71271; accuracy: 0.6\n",
      "Epoch 25, CIFAR-10 Batch 5:  cost: 1.64192; accuracy: 0.5\n",
      "Epoch 26, CIFAR-10 Batch 1:  cost: 2.06497; accuracy: 0.55\n",
      "Epoch 26, CIFAR-10 Batch 2:  cost: 1.28726; accuracy: 0.675\n",
      "Epoch 26, CIFAR-10 Batch 3:  cost: 1.48347; accuracy: 0.625\n",
      "Epoch 26, CIFAR-10 Batch 4:  cost: 1.53542; accuracy: 0.6\n",
      "Epoch 26, CIFAR-10 Batch 5:  cost: 1.54098; accuracy: 0.525\n",
      "Epoch 27, CIFAR-10 Batch 1:  cost: 1.86718; accuracy: 0.525\n",
      "Epoch 27, CIFAR-10 Batch 2:  cost: 1.13684; accuracy: 0.675\n",
      "Epoch 27, CIFAR-10 Batch 3:  cost: 1.35953; accuracy: 0.6\n",
      "Epoch 27, CIFAR-10 Batch 4:  cost: 1.39097; accuracy: 0.625\n",
      "Epoch 27, CIFAR-10 Batch 5:  cost: 1.43943; accuracy: 0.55\n",
      "Epoch 28, CIFAR-10 Batch 1:  cost: 1.71426; accuracy: 0.55\n",
      "Epoch 28, CIFAR-10 Batch 2:  cost: 1.02774; accuracy: 0.65\n",
      "Epoch 28, CIFAR-10 Batch 3:  cost: 1.25496; accuracy: 0.575\n",
      "Epoch 28, CIFAR-10 Batch 4:  cost: 1.27698; accuracy: 0.625\n",
      "Epoch 28, CIFAR-10 Batch 5:  cost: 1.34819; accuracy: 0.525\n",
      "Epoch 29, CIFAR-10 Batch 1:  cost: 1.59417; accuracy: 0.525\n",
      "Epoch 29, CIFAR-10 Batch 2:  cost: 0.944047; accuracy: 0.6\n",
      "Epoch 29, CIFAR-10 Batch 3:  cost: 1.16575; accuracy: 0.6\n",
      "Epoch 29, CIFAR-10 Batch 4:  cost: 1.18168; accuracy: 0.625\n",
      "Epoch 29, CIFAR-10 Batch 5:  cost: 1.27947; accuracy: 0.6\n",
      "Epoch 30, CIFAR-10 Batch 1:  cost: 1.50525; accuracy: 0.525\n",
      "Epoch 30, CIFAR-10 Batch 2:  cost: 0.882427; accuracy: 0.575\n",
      "Epoch 30, CIFAR-10 Batch 3:  cost: 1.07393; accuracy: 0.625\n",
      "Epoch 30, CIFAR-10 Batch 4:  cost: 1.10506; accuracy: 0.625\n",
      "Epoch 30, CIFAR-10 Batch 5:  cost: 1.22597; accuracy: 0.625\n",
      "Epoch 31, CIFAR-10 Batch 1:  cost: 1.42965; accuracy: 0.55\n",
      "Epoch 31, CIFAR-10 Batch 2:  cost: 0.844751; accuracy: 0.6\n",
      "Epoch 31, CIFAR-10 Batch 3:  cost: 1.02321; accuracy: 0.675\n",
      "Epoch 31, CIFAR-10 Batch 4:  cost: 1.04707; accuracy: 0.65\n",
      "Epoch 31, CIFAR-10 Batch 5:  cost: 1.1887; accuracy: 0.625\n",
      "Epoch 32, CIFAR-10 Batch 1:  cost: 1.36389; accuracy: 0.525\n",
      "Epoch 32, CIFAR-10 Batch 2:  cost: 0.814857; accuracy: 0.65\n",
      "Epoch 32, CIFAR-10 Batch 3:  cost: 0.993135; accuracy: 0.7\n",
      "Epoch 32, CIFAR-10 Batch 4:  cost: 0.999783; accuracy: 0.675\n",
      "Epoch 32, CIFAR-10 Batch 5:  cost: 1.16732; accuracy: 0.625\n",
      "Epoch 33, CIFAR-10 Batch 1:  cost: 1.29965; accuracy: 0.525\n",
      "Epoch 33, CIFAR-10 Batch 2:  cost: 0.794684; accuracy: 0.7\n",
      "Epoch 33, CIFAR-10 Batch 3:  cost: 0.970954; accuracy: 0.725\n",
      "Epoch 33, CIFAR-10 Batch 4:  cost: 0.963989; accuracy: 0.725\n",
      "Epoch 33, CIFAR-10 Batch 5:  cost: 1.15351; accuracy: 0.6\n",
      "Epoch 34, CIFAR-10 Batch 1:  cost: 1.24812; accuracy: 0.525\n",
      "Epoch 34, CIFAR-10 Batch 2:  cost: 0.777932; accuracy: 0.7\n",
      "Epoch 34, CIFAR-10 Batch 3:  cost: 0.952115; accuracy: 0.7\n",
      "Epoch 34, CIFAR-10 Batch 4:  cost: 0.940128; accuracy: 0.725\n",
      "Epoch 34, CIFAR-10 Batch 5:  cost: 1.14092; accuracy: 0.625\n",
      "Epoch 35, CIFAR-10 Batch 1:  cost: 1.20538; accuracy: 0.55\n",
      "Epoch 35, CIFAR-10 Batch 2:  cost: 0.76882; accuracy: 0.725\n",
      "Epoch 35, CIFAR-10 Batch 3:  cost: 0.936903; accuracy: 0.7\n",
      "Epoch 35, CIFAR-10 Batch 4:  cost: 0.918808; accuracy: 0.725\n",
      "Epoch 35, CIFAR-10 Batch 5:  cost: 1.1285; accuracy: 0.625\n",
      "Epoch 36, CIFAR-10 Batch 1:  cost: 1.17128; accuracy: 0.575\n",
      "Epoch 36, CIFAR-10 Batch 2:  cost: 0.762455; accuracy: 0.725\n",
      "Epoch 36, CIFAR-10 Batch 3:  cost: 0.923767; accuracy: 0.7\n",
      "Epoch 36, CIFAR-10 Batch 4:  cost: 0.902665; accuracy: 0.725\n",
      "Epoch 36, CIFAR-10 Batch 5:  cost: 1.11695; accuracy: 0.65\n",
      "Epoch 37, CIFAR-10 Batch 1:  cost: 1.14087; accuracy: 0.6\n",
      "Epoch 37, CIFAR-10 Batch 2:  cost: 0.757972; accuracy: 0.725\n",
      "Epoch 37, CIFAR-10 Batch 3:  cost: 0.913191; accuracy: 0.675\n",
      "Epoch 37, CIFAR-10 Batch 4:  cost: 0.890999; accuracy: 0.75\n",
      "Epoch 37, CIFAR-10 Batch 5:  cost: 1.10645; accuracy: 0.625\n",
      "Epoch 38, CIFAR-10 Batch 1:  cost: 1.11548; accuracy: 0.625\n",
      "Epoch 38, CIFAR-10 Batch 2:  cost: 0.756269; accuracy: 0.775\n",
      "Epoch 38, CIFAR-10 Batch 3:  cost: 0.904278; accuracy: 0.675\n",
      "Epoch 38, CIFAR-10 Batch 4:  cost: 0.877276; accuracy: 0.775\n",
      "Epoch 38, CIFAR-10 Batch 5:  cost: 1.1032; accuracy: 0.625\n",
      "Epoch 39, CIFAR-10 Batch 1:  cost: 1.09233; accuracy: 0.65\n",
      "Epoch 39, CIFAR-10 Batch 2:  cost: 0.751283; accuracy: 0.775\n",
      "Epoch 39, CIFAR-10 Batch 3:  cost: 0.895791; accuracy: 0.7\n",
      "Epoch 39, CIFAR-10 Batch 4:  cost: 0.862837; accuracy: 0.775\n",
      "Epoch 39, CIFAR-10 Batch 5:  cost: 1.09871; accuracy: 0.6\n",
      "Epoch 40, CIFAR-10 Batch 1:  cost: 1.07748; accuracy: 0.675\n",
      "Epoch 40, CIFAR-10 Batch 2:  cost: 0.749982; accuracy: 0.8\n",
      "Epoch 40, CIFAR-10 Batch 3:  cost: 0.883223; accuracy: 0.7\n",
      "Epoch 40, CIFAR-10 Batch 4:  cost: 0.851551; accuracy: 0.75\n",
      "Epoch 40, CIFAR-10 Batch 5:  cost: 1.0995; accuracy: 0.6\n",
      "Epoch 41, CIFAR-10 Batch 1:  cost: 1.07017; accuracy: 0.675\n",
      "Epoch 41, CIFAR-10 Batch 2:  cost: 0.749076; accuracy: 0.775\n",
      "Epoch 41, CIFAR-10 Batch 3:  cost: 0.866583; accuracy: 0.7\n",
      "Epoch 41, CIFAR-10 Batch 4:  cost: 0.843205; accuracy: 0.75\n",
      "Epoch 41, CIFAR-10 Batch 5:  cost: 1.09562; accuracy: 0.6\n",
      "Epoch 42, CIFAR-10 Batch 1:  cost: 1.06993; accuracy: 0.675\n",
      "Epoch 42, CIFAR-10 Batch 2:  cost: 0.745981; accuracy: 0.775\n",
      "Epoch 42, CIFAR-10 Batch 3:  cost: 0.852671; accuracy: 0.725\n",
      "Epoch 42, CIFAR-10 Batch 4:  cost: 0.831366; accuracy: 0.75\n",
      "Epoch 42, CIFAR-10 Batch 5:  cost: 1.09155; accuracy: 0.6\n",
      "Epoch 43, CIFAR-10 Batch 1:  cost: 1.06141; accuracy: 0.675\n",
      "Epoch 43, CIFAR-10 Batch 2:  cost: 0.743153; accuracy: 0.775\n",
      "Epoch 43, CIFAR-10 Batch 3:  cost: 0.843117; accuracy: 0.725\n",
      "Epoch 43, CIFAR-10 Batch 4:  cost: 0.823075; accuracy: 0.75\n",
      "Epoch 43, CIFAR-10 Batch 5:  cost: 1.08213; accuracy: 0.6\n",
      "Epoch 44, CIFAR-10 Batch 1:  cost: 1.04745; accuracy: 0.7\n",
      "Epoch 44, CIFAR-10 Batch 2:  cost: 0.73931; accuracy: 0.775\n",
      "Epoch 44, CIFAR-10 Batch 3:  cost: 0.834311; accuracy: 0.725\n",
      "Epoch 44, CIFAR-10 Batch 4:  cost: 0.813581; accuracy: 0.775\n",
      "Epoch 44, CIFAR-10 Batch 5:  cost: 1.07569; accuracy: 0.6\n",
      "Epoch 45, CIFAR-10 Batch 1:  cost: 1.02924; accuracy: 0.7\n",
      "Epoch 45, CIFAR-10 Batch 2:  cost: 0.737336; accuracy: 0.775\n",
      "Epoch 45, CIFAR-10 Batch 3:  cost: 0.829399; accuracy: 0.725\n",
      "Epoch 45, CIFAR-10 Batch 4:  cost: 0.80643; accuracy: 0.775\n",
      "Epoch 45, CIFAR-10 Batch 5:  cost: 1.06773; accuracy: 0.625\n",
      "Epoch 46, CIFAR-10 Batch 1:  cost: 1.01024; accuracy: 0.7\n",
      "Epoch 46, CIFAR-10 Batch 2:  cost: 0.73573; accuracy: 0.775\n",
      "Epoch 46, CIFAR-10 Batch 3:  cost: 0.825992; accuracy: 0.7\n",
      "Epoch 46, CIFAR-10 Batch 4:  cost: 0.799808; accuracy: 0.775\n",
      "Epoch 46, CIFAR-10 Batch 5:  cost: 1.05944; accuracy: 0.625\n",
      "Epoch 47, CIFAR-10 Batch 1:  cost: 0.993618; accuracy: 0.7\n",
      "Epoch 47, CIFAR-10 Batch 2:  cost: 0.733876; accuracy: 0.8\n",
      "Epoch 47, CIFAR-10 Batch 3:  cost: 0.822199; accuracy: 0.7\n",
      "Epoch 47, CIFAR-10 Batch 4:  cost: 0.793094; accuracy: 0.775\n",
      "Epoch 47, CIFAR-10 Batch 5:  cost: 1.05392; accuracy: 0.65\n",
      "Epoch 48, CIFAR-10 Batch 1:  cost: 0.974986; accuracy: 0.7\n",
      "Epoch 48, CIFAR-10 Batch 2:  cost: 0.732969; accuracy: 0.8\n",
      "Epoch 48, CIFAR-10 Batch 3:  cost: 0.818068; accuracy: 0.725\n",
      "Epoch 48, CIFAR-10 Batch 4:  cost: 0.787251; accuracy: 0.775\n",
      "Epoch 48, CIFAR-10 Batch 5:  cost: 1.04447; accuracy: 0.65\n",
      "Epoch 49, CIFAR-10 Batch 1:  cost: 0.960864; accuracy: 0.725\n",
      "Epoch 49, CIFAR-10 Batch 2:  cost: 0.732888; accuracy: 0.8\n",
      "Epoch 49, CIFAR-10 Batch 3:  cost: 0.814012; accuracy: 0.725\n",
      "Epoch 49, CIFAR-10 Batch 4:  cost: 0.780931; accuracy: 0.775\n",
      "Epoch 49, CIFAR-10 Batch 5:  cost: 1.03456; accuracy: 0.675\n",
      "Epoch 50, CIFAR-10 Batch 1:  cost: 0.946826; accuracy: 0.725\n",
      "Epoch 50, CIFAR-10 Batch 2:  cost: 0.732778; accuracy: 0.8\n",
      "Epoch 50, CIFAR-10 Batch 3:  cost: 0.8081; accuracy: 0.725\n",
      "Epoch 50, CIFAR-10 Batch 4:  cost: 0.77584; accuracy: 0.775\n",
      "Epoch 50, CIFAR-10 Batch 5:  cost: 1.02326; accuracy: 0.675\n",
      "Epoch 51, CIFAR-10 Batch 1:  cost: 0.934907; accuracy: 0.75\n",
      "Epoch 51, CIFAR-10 Batch 2:  cost: 0.732358; accuracy: 0.775\n",
      "Epoch 51, CIFAR-10 Batch 3:  cost: 0.80428; accuracy: 0.725\n",
      "Epoch 51, CIFAR-10 Batch 4:  cost: 0.770047; accuracy: 0.775\n",
      "Epoch 51, CIFAR-10 Batch 5:  cost: 1.01301; accuracy: 0.675\n",
      "Epoch 52, CIFAR-10 Batch 1:  cost: 0.923683; accuracy: 0.775\n",
      "Epoch 52, CIFAR-10 Batch 2:  cost: 0.730374; accuracy: 0.775\n",
      "Epoch 52, CIFAR-10 Batch 3:  cost: 0.799864; accuracy: 0.725\n",
      "Epoch 52, CIFAR-10 Batch 4:  cost: 0.764396; accuracy: 0.775\n",
      "Epoch 52, CIFAR-10 Batch 5:  cost: 1.00169; accuracy: 0.7\n",
      "Epoch 53, CIFAR-10 Batch 1:  cost: 0.914188; accuracy: 0.775\n",
      "Epoch 53, CIFAR-10 Batch 2:  cost: 0.729426; accuracy: 0.775\n",
      "Epoch 53, CIFAR-10 Batch 3:  cost: 0.796912; accuracy: 0.725\n",
      "Epoch 53, CIFAR-10 Batch 4:  cost: 0.759572; accuracy: 0.775\n",
      "Epoch 53, CIFAR-10 Batch 5:  cost: 0.990537; accuracy: 0.725\n",
      "Epoch 54, CIFAR-10 Batch 1:  cost: 0.905394; accuracy: 0.775\n",
      "Epoch 54, CIFAR-10 Batch 2:  cost: 0.728254; accuracy: 0.775\n",
      "Epoch 54, CIFAR-10 Batch 3:  cost: 0.792334; accuracy: 0.725\n",
      "Epoch 54, CIFAR-10 Batch 4:  cost: 0.755123; accuracy: 0.775\n",
      "Epoch 54, CIFAR-10 Batch 5:  cost: 0.979753; accuracy: 0.75\n",
      "Epoch 55, CIFAR-10 Batch 1:  cost: 0.899495; accuracy: 0.775\n",
      "Epoch 55, CIFAR-10 Batch 2:  cost: 0.726559; accuracy: 0.775\n",
      "Epoch 55, CIFAR-10 Batch 3:  cost: 0.789013; accuracy: 0.725\n",
      "Epoch 55, CIFAR-10 Batch 4:  cost: 0.749506; accuracy: 0.775\n",
      "Epoch 55, CIFAR-10 Batch 5:  cost: 0.970455; accuracy: 0.75\n",
      "Epoch 56, CIFAR-10 Batch 1:  cost: 0.890595; accuracy: 0.775\n",
      "Epoch 56, CIFAR-10 Batch 2:  cost: 0.723538; accuracy: 0.775\n",
      "Epoch 56, CIFAR-10 Batch 3:  cost: 0.787463; accuracy: 0.75\n",
      "Epoch 56, CIFAR-10 Batch 4:  cost: 0.74309; accuracy: 0.775\n",
      "Epoch 56, CIFAR-10 Batch 5:  cost: 0.961197; accuracy: 0.75\n",
      "Epoch 57, CIFAR-10 Batch 1:  cost: 0.884918; accuracy: 0.775\n",
      "Epoch 57, CIFAR-10 Batch 2:  cost: 0.720765; accuracy: 0.775\n",
      "Epoch 57, CIFAR-10 Batch 3:  cost: 0.785647; accuracy: 0.75\n",
      "Epoch 57, CIFAR-10 Batch 4:  cost: 0.73645; accuracy: 0.775\n",
      "Epoch 57, CIFAR-10 Batch 5:  cost: 0.953135; accuracy: 0.75\n",
      "Epoch 58, CIFAR-10 Batch 1:  cost: 0.880036; accuracy: 0.775\n",
      "Epoch 58, CIFAR-10 Batch 2:  cost: 0.716034; accuracy: 0.775\n",
      "Epoch 58, CIFAR-10 Batch 3:  cost: 0.783165; accuracy: 0.75\n",
      "Epoch 58, CIFAR-10 Batch 4:  cost: 0.731043; accuracy: 0.775\n",
      "Epoch 58, CIFAR-10 Batch 5:  cost: 0.945157; accuracy: 0.775\n",
      "Epoch 59, CIFAR-10 Batch 1:  cost: 0.875345; accuracy: 0.775\n",
      "Epoch 59, CIFAR-10 Batch 2:  cost: 0.712565; accuracy: 0.775\n",
      "Epoch 59, CIFAR-10 Batch 3:  cost: 0.780881; accuracy: 0.75\n",
      "Epoch 59, CIFAR-10 Batch 4:  cost: 0.725954; accuracy: 0.825\n",
      "Epoch 59, CIFAR-10 Batch 5:  cost: 0.937396; accuracy: 0.775\n",
      "Epoch 60, CIFAR-10 Batch 1:  cost: 0.870811; accuracy: 0.775\n",
      "Epoch 60, CIFAR-10 Batch 2:  cost: 0.707734; accuracy: 0.775\n",
      "Epoch 60, CIFAR-10 Batch 3:  cost: 0.777923; accuracy: 0.75\n",
      "Epoch 60, CIFAR-10 Batch 4:  cost: 0.721134; accuracy: 0.825\n",
      "Epoch 60, CIFAR-10 Batch 5:  cost: 0.930098; accuracy: 0.775\n",
      "Epoch 61, CIFAR-10 Batch 1:  cost: 0.866338; accuracy: 0.775\n",
      "Epoch 61, CIFAR-10 Batch 2:  cost: 0.702791; accuracy: 0.8\n",
      "Epoch 61, CIFAR-10 Batch 3:  cost: 0.775249; accuracy: 0.725\n",
      "Epoch 61, CIFAR-10 Batch 4:  cost: 0.716948; accuracy: 0.825\n",
      "Epoch 61, CIFAR-10 Batch 5:  cost: 0.92355; accuracy: 0.775\n",
      "Epoch 62, CIFAR-10 Batch 1:  cost: 0.86229; accuracy: 0.775\n",
      "Epoch 62, CIFAR-10 Batch 2:  cost: 0.696556; accuracy: 0.8\n",
      "Epoch 62, CIFAR-10 Batch 3:  cost: 0.774506; accuracy: 0.725\n",
      "Epoch 62, CIFAR-10 Batch 4:  cost: 0.712634; accuracy: 0.825\n",
      "Epoch 62, CIFAR-10 Batch 5:  cost: 0.91528; accuracy: 0.775\n",
      "Epoch 63, CIFAR-10 Batch 1:  cost: 0.857729; accuracy: 0.775\n",
      "Epoch 63, CIFAR-10 Batch 2:  cost: 0.690993; accuracy: 0.8\n",
      "Epoch 63, CIFAR-10 Batch 3:  cost: 0.774944; accuracy: 0.725\n",
      "Epoch 63, CIFAR-10 Batch 4:  cost: 0.706731; accuracy: 0.825\n",
      "Epoch 63, CIFAR-10 Batch 5:  cost: 0.90718; accuracy: 0.775\n",
      "Epoch 64, CIFAR-10 Batch 1:  cost: 0.85482; accuracy: 0.775\n",
      "Epoch 64, CIFAR-10 Batch 2:  cost: 0.68523; accuracy: 0.8\n",
      "Epoch 64, CIFAR-10 Batch 3:  cost: 0.776242; accuracy: 0.725\n",
      "Epoch 64, CIFAR-10 Batch 4:  cost: 0.700502; accuracy: 0.825\n",
      "Epoch 64, CIFAR-10 Batch 5:  cost: 0.89973; accuracy: 0.775\n",
      "Epoch 65, CIFAR-10 Batch 1:  cost: 0.851228; accuracy: 0.8\n",
      "Epoch 65, CIFAR-10 Batch 2:  cost: 0.680485; accuracy: 0.8\n",
      "Epoch 65, CIFAR-10 Batch 3:  cost: 0.776106; accuracy: 0.725\n",
      "Epoch 65, CIFAR-10 Batch 4:  cost: 0.695922; accuracy: 0.825\n",
      "Epoch 65, CIFAR-10 Batch 5:  cost: 0.893263; accuracy: 0.775\n",
      "Epoch 66, CIFAR-10 Batch 1:  cost: 0.849234; accuracy: 0.8\n",
      "Epoch 66, CIFAR-10 Batch 2:  cost: 0.676371; accuracy: 0.8\n",
      "Epoch 66, CIFAR-10 Batch 3:  cost: 0.775527; accuracy: 0.725\n",
      "Epoch 66, CIFAR-10 Batch 4:  cost: 0.690565; accuracy: 0.825\n",
      "Epoch 66, CIFAR-10 Batch 5:  cost: 0.886341; accuracy: 0.775\n",
      "Epoch 67, CIFAR-10 Batch 1:  cost: 0.847439; accuracy: 0.8\n",
      "Epoch 67, CIFAR-10 Batch 2:  cost: 0.671302; accuracy: 0.8\n",
      "Epoch 67, CIFAR-10 Batch 3:  cost: 0.77467; accuracy: 0.725\n",
      "Epoch 67, CIFAR-10 Batch 4:  cost: 0.685926; accuracy: 0.825\n",
      "Epoch 67, CIFAR-10 Batch 5:  cost: 0.879297; accuracy: 0.775\n",
      "Epoch 68, CIFAR-10 Batch 1:  cost: 0.844438; accuracy: 0.8\n",
      "Epoch 68, CIFAR-10 Batch 2:  cost: 0.666573; accuracy: 0.8\n",
      "Epoch 68, CIFAR-10 Batch 3:  cost: 0.773385; accuracy: 0.725\n",
      "Epoch 68, CIFAR-10 Batch 4:  cost: 0.680515; accuracy: 0.825\n",
      "Epoch 68, CIFAR-10 Batch 5:  cost: 0.871813; accuracy: 0.775\n",
      "Epoch 69, CIFAR-10 Batch 1:  cost: 0.843546; accuracy: 0.8\n",
      "Epoch 69, CIFAR-10 Batch 2:  cost: 0.661344; accuracy: 0.8\n",
      "Epoch 69, CIFAR-10 Batch 3:  cost: 0.771943; accuracy: 0.725\n",
      "Epoch 69, CIFAR-10 Batch 4:  cost: 0.674759; accuracy: 0.825\n",
      "Epoch 69, CIFAR-10 Batch 5:  cost: 0.864964; accuracy: 0.75\n",
      "Epoch 70, CIFAR-10 Batch 1:  cost: 0.841472; accuracy: 0.8\n",
      "Epoch 70, CIFAR-10 Batch 2:  cost: 0.656774; accuracy: 0.8\n",
      "Epoch 70, CIFAR-10 Batch 3:  cost: 0.769687; accuracy: 0.725\n",
      "Epoch 70, CIFAR-10 Batch 4:  cost: 0.670219; accuracy: 0.825\n",
      "Epoch 70, CIFAR-10 Batch 5:  cost: 0.858306; accuracy: 0.75\n",
      "Epoch 71, CIFAR-10 Batch 1:  cost: 0.839981; accuracy: 0.8\n",
      "Epoch 71, CIFAR-10 Batch 2:  cost: 0.65202; accuracy: 0.8\n",
      "Epoch 71, CIFAR-10 Batch 3:  cost: 0.766627; accuracy: 0.725\n",
      "Epoch 71, CIFAR-10 Batch 4:  cost: 0.665244; accuracy: 0.825\n",
      "Epoch 71, CIFAR-10 Batch 5:  cost: 0.851761; accuracy: 0.75\n"
     ]
    }
   ],
   "source": [
    "\"\"\"\n",
    "DON'T MODIFY ANYTHING IN THIS CELL\n",
    "\"\"\"\n",
    "save_model_path = './image_classification'\n",
    "\n",
    "print('Training...')\n",
    "with tf.Session() as sess:\n",
    "    # Initializing the variables\n",
    "    sess.run(tf.global_variables_initializer())\n",
    "    \n",
    "    # Training cycle\n",
    "    for epoch in range(epochs):\n",
    "        # Loop over all batches\n",
    "        n_batches = 5\n",
    "        for batch_i in range(1, n_batches + 1):\n",
    "            for batch_features, batch_labels in helper.load_preprocess_training_batch(batch_i, batch_size):\n",
    "                train_neural_network(sess, optimizer, keep_probability, batch_features, batch_labels)\n",
    "            print('Epoch {:>2}, CIFAR-10 Batch {}:  '.format(epoch + 1, batch_i), end='')\n",
    "            print_stats(sess, batch_features, batch_labels, cost, accuracy)\n",
    "            \n",
    "    # Save Model\n",
    "    saver = tf.train.Saver()\n",
    "    save_path = saver.save(sess, save_model_path)"
   ]
  },
  {
   "cell_type": "markdown",
   "metadata": {
    "deletable": true,
    "editable": true
   },
   "source": [
    "# Checkpoint\n",
    "The model has been saved to disk.\n",
    "## Test Model\n",
    "Test your model against the test dataset.  This will be your final accuracy. You should have an accuracy greater than 50%. If you don't, keep tweaking the model architecture and parameters."
   ]
  },
  {
   "cell_type": "code",
   "execution_count": null,
   "metadata": {
    "collapsed": false,
    "deletable": true,
    "editable": true
   },
   "outputs": [],
   "source": [
    "\"\"\"\n",
    "DON'T MODIFY ANYTHING IN THIS CELL\n",
    "\"\"\"\n",
    "%matplotlib inline\n",
    "%config InlineBackend.figure_format = 'retina'\n",
    "\n",
    "import tensorflow as tf\n",
    "import pickle\n",
    "import helper\n",
    "import random\n",
    "\n",
    "# Set batch size if not already set\n",
    "try:\n",
    "    if batch_size:\n",
    "        pass\n",
    "except NameError:\n",
    "    batch_size = 64\n",
    "\n",
    "save_model_path = './image_classification'\n",
    "n_samples = 4\n",
    "top_n_predictions = 3\n",
    "\n",
    "def test_model():\n",
    "    \"\"\"\n",
    "    Test the saved model against the test dataset\n",
    "    \"\"\"\n",
    "\n",
    "    test_features, test_labels = pickle.load(open('preprocess_training.p', mode='rb'))\n",
    "    loaded_graph = tf.Graph()\n",
    "\n",
    "    with tf.Session(graph=loaded_graph) as sess:\n",
    "        # Load model\n",
    "        loader = tf.train.import_meta_graph(save_model_path + '.meta')\n",
    "        loader.restore(sess, save_model_path)\n",
    "\n",
    "        # Get Tensors from loaded model\n",
    "        loaded_x = loaded_graph.get_tensor_by_name('x:0')\n",
    "        loaded_y = loaded_graph.get_tensor_by_name('y:0')\n",
    "        loaded_keep_prob = loaded_graph.get_tensor_by_name('keep_prob:0')\n",
    "        loaded_logits = loaded_graph.get_tensor_by_name('logits:0')\n",
    "        loaded_acc = loaded_graph.get_tensor_by_name('accuracy:0')\n",
    "        \n",
    "        # Get accuracy in batches for memory limitations\n",
    "        test_batch_acc_total = 0\n",
    "        test_batch_count = 0\n",
    "        \n",
    "        for train_feature_batch, train_label_batch in helper.batch_features_labels(test_features, test_labels, batch_size):\n",
    "            test_batch_acc_total += sess.run(\n",
    "                loaded_acc,\n",
    "                feed_dict={loaded_x: train_feature_batch, loaded_y: train_label_batch, loaded_keep_prob: 1.0})\n",
    "            test_batch_count += 1\n",
    "\n",
    "        print('Testing Accuracy: {}\\n'.format(test_batch_acc_total/test_batch_count))\n",
    "\n",
    "        # Print Random Samples\n",
    "        random_test_features, random_test_labels = tuple(zip(*random.sample(list(zip(test_features, test_labels)), n_samples)))\n",
    "        random_test_predictions = sess.run(\n",
    "            tf.nn.top_k(tf.nn.softmax(loaded_logits), top_n_predictions),\n",
    "            feed_dict={loaded_x: random_test_features, loaded_y: random_test_labels, loaded_keep_prob: 1.0})\n",
    "        helper.display_image_predictions(random_test_features, random_test_labels, random_test_predictions)\n",
    "\n",
    "\n",
    "test_model()"
   ]
  },
  {
   "cell_type": "markdown",
   "metadata": {
    "deletable": true,
    "editable": true
   },
   "source": [
    "## Why 50-70% Accuracy?\n",
    "You might be wondering why you can't get an accuracy any higher. First things first, 50% isn't bad for a simple CNN.  Pure guessing would get you 10% accuracy. However, you might notice people are getting scores [well above 70%](http://rodrigob.github.io/are_we_there_yet/build/classification_datasets_results.html#43494641522d3130).  That's because we haven't taught you all there is to know about neural networks. We still need to cover a few more techniques.\n",
    "## Submitting This Project\n",
    "When submitting this project, make sure to run all the cells before saving the notebook.  Save the notebook file as \"dlnd_image_classification.ipynb\" and save it as a HTML file under \"File\" -> \"Download as\".  Include the \"helper.py\" and \"problem_unittests.py\" files in your submission."
   ]
  }
 ],
 "metadata": {
  "kernelspec": {
   "display_name": "Python 3",
   "language": "python",
   "name": "python3"
  },
  "language_info": {
   "codemirror_mode": {
    "name": "ipython",
    "version": 3
   },
   "file_extension": ".py",
   "mimetype": "text/x-python",
   "name": "python",
   "nbconvert_exporter": "python",
   "pygments_lexer": "ipython3",
   "version": "3.6.0"
  },
  "widgets": {
   "state": {},
   "version": "1.1.2"
  }
 },
 "nbformat": 4,
 "nbformat_minor": 0
}
