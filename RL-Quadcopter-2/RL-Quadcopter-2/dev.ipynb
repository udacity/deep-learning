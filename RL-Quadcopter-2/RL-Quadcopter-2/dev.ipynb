{
 "cells": [
  {
   "cell_type": "code",
   "execution_count": 1,
   "metadata": {
    "scrolled": true
   },
   "outputs": [
    {
     "name": "stderr",
     "output_type": "stream",
     "text": [
      "Using TensorFlow backend.\n"
     ]
    }
   ],
   "source": [
    "## TODO: Train your agent here.\n",
    "import sys\n",
    "import random\n",
    "import numpy as np\n",
    "import tensorflow as tf\n",
    "from keras import layers, models, optimizers, losses\n",
    "from keras.models import Sequential\n",
    "from keras.layers import Dense, Activation\n",
    "from keras import backend as K\n",
    "\n",
    "from keras.utils.np_utils import to_categorical\n",
    "\n",
    "from agents.agent import DDPG\n",
    "from task_cust import Task"
   ]
  },
  {
   "cell_type": "code",
   "execution_count": 2,
   "metadata": {},
   "outputs": [
    {
     "ename": "NameError",
     "evalue": "name 'self' is not defined",
     "output_type": "error",
     "traceback": [
      "\u001b[0;31m---------------------------------------------------------------------------\u001b[0m",
      "\u001b[0;31mNameError\u001b[0m                                 Traceback (most recent call last)",
      "\u001b[0;32m<ipython-input-2-402b89b90180>\u001b[0m in \u001b[0;36m<module>\u001b[0;34m()\u001b[0m\n\u001b[1;32m     32\u001b[0m \u001b[0maction_high\u001b[0m \u001b[0;34m=\u001b[0m \u001b[0mtask\u001b[0m\u001b[0;34m.\u001b[0m\u001b[0maction_high\u001b[0m\u001b[0;34m\u001b[0m\u001b[0m\n\u001b[1;32m     33\u001b[0m \u001b[0;34m\u001b[0m\u001b[0m\n\u001b[0;32m---> 34\u001b[0;31m \u001b[0magent\u001b[0m \u001b[0;34m=\u001b[0m \u001b[0mDDPG\u001b[0m\u001b[0;34m(\u001b[0m\u001b[0mtask\u001b[0m\u001b[0;34m,\u001b[0m \u001b[0mbuffer_size\u001b[0m\u001b[0;34m,\u001b[0m \u001b[0mbatch_size\u001b[0m\u001b[0;34m)\u001b[0m\u001b[0;34m\u001b[0m\u001b[0m\n\u001b[0m",
      "\u001b[0;32m~/__projects/udacity/RL-Quadcopter-2/agents/agent.py\u001b[0m in \u001b[0;36m__init__\u001b[0;34m(self, task, buffer_size, batch_size)\u001b[0m\n\u001b[1;32m     40\u001b[0m         \u001b[0;31m# Critic (Value) Model\u001b[0m\u001b[0;34m\u001b[0m\u001b[0;34m\u001b[0m\u001b[0m\n\u001b[1;32m     41\u001b[0m         \u001b[0;31m## self, task, scope_name='critic', learning_rate=0.001\u001b[0m\u001b[0;34m\u001b[0m\u001b[0;34m\u001b[0m\u001b[0m\n\u001b[0;32m---> 42\u001b[0;31m         \u001b[0mself\u001b[0m\u001b[0;34m.\u001b[0m\u001b[0mcritic\u001b[0m \u001b[0;34m=\u001b[0m \u001b[0mCritic\u001b[0m\u001b[0;34m(\u001b[0m\u001b[0mself\u001b[0m\u001b[0;34m,\u001b[0m \u001b[0mtask\u001b[0m\u001b[0;34m=\u001b[0m\u001b[0mself\u001b[0m\u001b[0;34m.\u001b[0m\u001b[0mtask\u001b[0m\u001b[0;34m,\u001b[0m \u001b[0minput_actions\u001b[0m\u001b[0;34m=\u001b[0m\u001b[0mself\u001b[0m\u001b[0;34m.\u001b[0m\u001b[0minput_actions\u001b[0m\u001b[0;34m,\u001b[0m \u001b[0mscope_name\u001b[0m\u001b[0;34m=\u001b[0m\u001b[0;34m'critic'\u001b[0m\u001b[0;34m)\u001b[0m\u001b[0;34m\u001b[0m\u001b[0m\n\u001b[0m\u001b[1;32m     43\u001b[0m         \u001b[0;31m# Actor (Policy) Model\u001b[0m\u001b[0;34m\u001b[0m\u001b[0;34m\u001b[0m\u001b[0m\n\u001b[1;32m     44\u001b[0m         \u001b[0mself\u001b[0m\u001b[0;34m.\u001b[0m\u001b[0mactor\u001b[0m \u001b[0;34m=\u001b[0m \u001b[0mActor\u001b[0m\u001b[0;34m(\u001b[0m\u001b[0mself\u001b[0m\u001b[0;34m,\u001b[0m \u001b[0mself\u001b[0m\u001b[0;34m.\u001b[0m\u001b[0mtask\u001b[0m\u001b[0;34m,\u001b[0m \u001b[0mself\u001b[0m\u001b[0;34m.\u001b[0m\u001b[0mcritic\u001b[0m\u001b[0;34m,\u001b[0m \u001b[0mgamma\u001b[0m\u001b[0;34m=\u001b[0m\u001b[0mself\u001b[0m\u001b[0;34m.\u001b[0m\u001b[0mgamma\u001b[0m\u001b[0;34m,\u001b[0m \u001b[0mtau\u001b[0m\u001b[0;34m=\u001b[0m\u001b[0mself\u001b[0m\u001b[0;34m.\u001b[0m\u001b[0mtau\u001b[0m\u001b[0;34m)\u001b[0m\u001b[0;34m\u001b[0m\u001b[0m\n",
      "\u001b[0;32m~/__projects/udacity/RL-Quadcopter-2/agents/critic.py\u001b[0m in \u001b[0;36m__init__\u001b[0;34m(self, input_states, input_actions, task, scope_name, training, reuse)\u001b[0m\n\u001b[1;32m     66\u001b[0m         \u001b[0mself\u001b[0m\u001b[0;34m.\u001b[0m\u001b[0mtau\u001b[0m \u001b[0;34m=\u001b[0m \u001b[0mtf\u001b[0m\u001b[0;34m.\u001b[0m\u001b[0mplaceholder\u001b[0m\u001b[0;34m(\u001b[0m\u001b[0mtf\u001b[0m\u001b[0;34m.\u001b[0m\u001b[0mfloat32\u001b[0m\u001b[0;34m,\u001b[0m \u001b[0mname\u001b[0m\u001b[0;34m=\u001b[0m\u001b[0;34m'critic/tau'\u001b[0m\u001b[0;34m)\u001b[0m\u001b[0;34m\u001b[0m\u001b[0m\n\u001b[1;32m     67\u001b[0m         self.assignments = [tf.assign(t, c * self.tau + (1-self.tau) * t)\n\u001b[0;32m---> 68\u001b[0;31m                             for c, t in scope_variables_mapping(scope_name + '_current', scope_name + '_target')]\n\u001b[0m\u001b[1;32m     69\u001b[0m \u001b[0;34m\u001b[0m\u001b[0m\n\u001b[1;32m     70\u001b[0m         self.init = [tf.assign(t, c)\n",
      "\u001b[0;32m~/__projects/udacity/RL-Quadcopter-2/agents/utils.py\u001b[0m in \u001b[0;36mscope_variables_mapping\u001b[0;34m(from_scope_name, to_scope_name)\u001b[0m\n\u001b[1;32m      4\u001b[0m \u001b[0;34m\u001b[0m\u001b[0m\n\u001b[1;32m      5\u001b[0m \u001b[0;32mdef\u001b[0m \u001b[0mscope_variables_mapping\u001b[0m\u001b[0;34m(\u001b[0m\u001b[0mfrom_scope_name\u001b[0m\u001b[0;34m,\u001b[0m \u001b[0mto_scope_name\u001b[0m\u001b[0;34m)\u001b[0m\u001b[0;34m:\u001b[0m\u001b[0;34m\u001b[0m\u001b[0m\n\u001b[0;32m----> 6\u001b[0;31m     \u001b[0mvars_from\u001b[0m \u001b[0;34m=\u001b[0m \u001b[0;34m{\u001b[0m\u001b[0mvar\u001b[0m\u001b[0;34m.\u001b[0m\u001b[0mname\u001b[0m\u001b[0;34m[\u001b[0m\u001b[0mlen\u001b[0m\u001b[0;34m(\u001b[0m\u001b[0mfrom_scope_name\u001b[0m\u001b[0;34m)\u001b[0m \u001b[0;34m+\u001b[0m \u001b[0;36m1\u001b[0m\u001b[0;34m:\u001b[0m\u001b[0;34m]\u001b[0m\u001b[0;34m:\u001b[0m \u001b[0mvar\u001b[0m \u001b[0;32mfor\u001b[0m \u001b[0mvar\u001b[0m \u001b[0;32min\u001b[0m \u001b[0mtf\u001b[0m\u001b[0;34m.\u001b[0m\u001b[0mtrainable_variables\u001b[0m\u001b[0;34m(\u001b[0m\u001b[0mself\u001b[0m\u001b[0;34m,\u001b[0m\u001b[0mfrom_scope_name\u001b[0m\u001b[0;34m)\u001b[0m\u001b[0;34m}\u001b[0m\u001b[0;34m\u001b[0m\u001b[0m\n\u001b[0m\u001b[1;32m      7\u001b[0m     \u001b[0mvars_to\u001b[0m \u001b[0;34m=\u001b[0m \u001b[0;34m{\u001b[0m\u001b[0mvar\u001b[0m\u001b[0;34m.\u001b[0m\u001b[0mname\u001b[0m\u001b[0;34m[\u001b[0m\u001b[0mlen\u001b[0m\u001b[0;34m(\u001b[0m\u001b[0mto_scope_name\u001b[0m\u001b[0;34m)\u001b[0m \u001b[0;34m+\u001b[0m \u001b[0;36m1\u001b[0m\u001b[0;34m:\u001b[0m\u001b[0;34m]\u001b[0m\u001b[0;34m:\u001b[0m \u001b[0mvar\u001b[0m \u001b[0;32mfor\u001b[0m \u001b[0mvar\u001b[0m \u001b[0;32min\u001b[0m \u001b[0mtf\u001b[0m\u001b[0;34m.\u001b[0m\u001b[0mtrainable_variables\u001b[0m\u001b[0;34m(\u001b[0m\u001b[0mto_scope_name\u001b[0m\u001b[0;34m)\u001b[0m\u001b[0;34m}\u001b[0m\u001b[0;34m\u001b[0m\u001b[0m\n\u001b[1;32m      8\u001b[0m \u001b[0;34m\u001b[0m\u001b[0m\n",
      "\u001b[0;31mNameError\u001b[0m: name 'self' is not defined"
     ]
    }
   ],
   "source": [
    "## Setup GLOBAL parameters\n",
    "\n",
    "# Parameters for starting position of the quadcopter.\n",
    "runtime = 5.                                     # time limit of the episode\n",
    "init_pose = np.array([0., 0., 10., 0., 0., 0.])  # initial pose\n",
    "init_velocities = np.array([0., 0., 0.])         # initial velocities\n",
    "init_angle_velocities = np.array([0., 0., 0.])   # initial angle velocities\n",
    "file_output = 'data-copter.txt'                  # file name for saved results\n",
    "\n",
    "# Targeted Position to be reached by quadcopter\n",
    "# target_pos = np.array([0., 0., 10.])             # targeted position fix\n",
    "range_pos = np.random.randint(15, size=(1, 3))\n",
    "target_pos = np.random.rand(1, 3) * range_pos          # targeted position generated randomly\n",
    "## print(target_pos)\n",
    "\n",
    "# Episodes cover by quadcopter\n",
    "num_episodes = 3\n",
    "\n",
    "# Parameters to bear in mind by quadcopter flying though environment\n",
    "learning_rate = 0.001\n",
    "gamma = 0.99  # discount factor\n",
    "tau = 0.01  # for soft update of target parameters\n",
    "buffer_size = 100000\n",
    "batch_size = 64\n",
    "\n",
    "# Setup env and agent objects feeding with right params\n",
    "task = Task(init_pose, init_velocities, init_angle_velocities, runtime, target_pos=target_pos)  \n",
    "\n",
    "state_size = task.state_size\n",
    "action_size = task.action_size\n",
    "action_low = task.action_low\n",
    "action_high = task.action_high\n",
    "\n",
    "agent = DDPG(task, buffer_size, batch_size)\n"
   ]
  },
  {
   "cell_type": "code",
   "execution_count": null,
   "metadata": {},
<<<<<<< HEAD
   "outputs": [],
=======
   "outputs": [
    {
     "name": "stdout",
     "output_type": "stream",
     "text": [
      "DDPG Episode =    1, score = 8 \n",
      "DDPG Episode =    2, score = 16 \n",
      "DDPG Episode =    3, score = 25 \n"
     ]
    }
   ],
>>>>>>> 1879d0312e2f255ee08f8c1cd8681f4c26b2d653
   "source": [
    "#Setup params to catch the rewards, if so\n",
    "rewards = [target_pos for i in range(num_episodes)]\n",
    "total_rewards = []\n",
    "\n",
    "# Computing Main Algorighm\n",
    "for i_episode in range(1, num_episodes+1):\n",
    "    # state = task.reset()\n",
    "    state = agent.reset_episode() # start a new episode\n",
    "    total_reward = 0\n",
    "    while True:\n",
    "        action = agent.act(state)\n",
    "        #print(action)\n",
    "        next_state, reward, done = task.step(action)\n",
    "        #print(reward[0][1])\n",
    "        agent.step(action, reward, next_state, done) \n",
    "        #reward = agent.episode_score\n",
    "        #total_reward += reward\n",
    "        total_reward += agent.episode_score\n",
    "        #print(total_reward)\n",
    "        state = next_state\n",
    "        if done:\n",
    "            total_rewards.append(total_reward)\n",
    "            print(\"DDPG Episode = {:4d}, score = {} \\n\".format(\n",
    "                i_episode, agent.episode_score ), end=\"\")  # [debug]\n",
    "            #print(\"DDPG Episode = {:4d}, score = {}, total reward = {} \\n\".format(\n",
    "            #    i_episode, agent.episode_score, total_reward ), end=\"\")  # [debug]\n",
    "            break\n",
    "    sys.stdout.flush()"
   ]
  },
  {
   "cell_type": "code",
   "execution_count": null,
   "metadata": {},
   "outputs": [],
   "source": [
    "%reload_ext autoreload\n",
    "%autoreload 2\n",
    "\n",
    "import csv\n",
    "import numpy as np\n",
    "\n",
    "done = False\n",
    "labels = ['time', 'x', 'y', 'z', 'phi', 'theta', 'psi', 'x_velocity',\n",
    "          'y_velocity', 'z_velocity', 'phi_velocity', 'theta_velocity',\n",
    "          'psi_velocity', 'rotor_speed1', 'rotor_speed2', 'rotor_speed3', 'rotor_speed4']\n",
    "results = {x : [] for x in labels}\n",
    "\n",
    "# Run the simulation, and save the results.\n",
    "with open(file_output, 'w') as csvfile:\n",
    "    writer = csv.writer(csvfile)\n",
    "    writer.writerow(labels)\n",
    "    while True:\n",
    "        rotor_speeds = agent.act(state)\n",
    "        _, _, done = task.step(rotor_speeds)\n",
    "        to_write = [task.sim.time] + list(task.sim.pose) + list(task.sim.v) + list(task.sim.angular_v) + list(rotor_speeds)\n",
    "        for ii in range(len(labels)):\n",
    "            results[labels[ii]].append(to_write[ii])\n",
    "        writer.writerow(to_write)\n",
    "        if done:\n",
    "            break"
   ]
  },
  {
   "cell_type": "code",
   "execution_count": null,
   "metadata": {},
<<<<<<< HEAD
   "outputs": [],
=======
   "outputs": [
    {
     "name": "stdout",
     "output_type": "stream",
     "text": [
      "[[25. 25. 25.]]\n",
      "[[25. 25. 25.]]\n",
      "[[25. 25. 25.]]\n",
      "[[25. 25. 25.]]\n",
      "[[25. 25. 25.]]\n",
      "[[25. 25. 25.]]\n",
      "[[25. 25. 25.]]\n",
      "[[25. 25. 25.]]\n",
      "[[25. 25. 25.]]\n",
      "[[25. 25. 25.]]\n",
      "[[25. 25. 25.]]\n",
      "[[25. 25. 25.]]\n",
      "[[25. 25. 25.]]\n",
      "[[25. 25. 25.]]\n",
      "[[25. 25. 25.]]\n",
      "[[25. 25. 25.]]\n",
      "[[25. 25. 25.]]\n",
      "[[25. 25. 25.]]\n",
      "[[25. 25. 25.]]\n",
      "[[25. 25. 25.]]\n",
      "[[25. 25. 25.]]\n",
      "[[25. 25. 25.]]\n",
      "[[25. 25. 25.]]\n",
      "[[25. 25. 25.]]\n",
      "[[25. 25. 25.]]\n",
      "[[25. 25. 25.]]\n",
      "[[25. 25. 25.]]\n",
      "[[25. 25. 25.]]\n",
      "[[25. 25. 25.]]\n",
      "[[25. 25. 25.]]\n",
      "[[25. 25. 25.]]\n",
      "[[25. 25. 25.]]\n",
      "[[25. 25. 25.]]\n",
      "[[25. 25. 25.]]\n",
      "[[25. 25. 25.]]\n",
      "[[25. 25. 25.]]\n",
      "[[25. 25. 25.]]\n",
      "[[25. 25. 25.]]\n",
      "[[25. 25. 25.]]\n",
      "[[25. 25. 25.]]\n",
      "[[25. 25. 25.]]\n",
      "[[25. 25. 25.]]\n",
      "[[25. 25. 25.]]\n",
      "[[25. 25. 25.]]\n",
      "[[25. 25. 25.]]\n",
      "[[25. 25. 25.]]\n",
      "[[25. 25. 25.]]\n",
      "[[25. 25. 25.]]\n",
      "[[25. 25. 25.]]\n",
      "[[25. 25. 25.]]\n",
      "[[25. 25. 25.]]\n",
      "[[25. 25. 25.]]\n",
      "[[25. 25. 25.]]\n",
      "[[25. 25. 25.]]\n",
      "[[25. 25. 25.]]\n",
      "[[25. 25. 25.]]\n",
      "[[25. 25. 25.]]\n",
      "[[25. 25. 25.]]\n",
      "[[25. 25. 25.]]\n",
      "[[25. 25. 25.]]\n",
      "[[25. 25. 25.]]\n",
      "[[25. 25. 25.]]\n",
      "[[25. 25. 25.]]\n",
      "[[25. 25. 25.]]\n",
      "[[25. 25. 25.]]\n",
      "[[25. 25. 25.]]\n",
      "[[25. 25. 25.]]\n",
      "[[25. 25. 25.]]\n",
      "[[25. 25. 25.]]\n",
      "[[25. 25. 25.]]\n",
      "[[25. 25. 25.]]\n",
      "[[25. 25. 25.]]\n",
      "[[25. 25. 25.]]\n",
      "[[25. 25. 25.]]\n",
      "[[25. 25. 25.]]\n",
      "[[25. 25. 25.]]\n",
      "[[25. 25. 25.]]\n",
      "[[25. 25. 25.]]\n",
      "[[25. 25. 25.]]\n",
      "[[25. 25. 25.]]\n",
      "[[25. 25. 25.]]\n",
      "[[25. 25. 25.]]\n",
      "[[25. 25. 25.]]\n",
      "[[25. 25. 25.]]\n"
     ]
    },
    {
     "data": {
      "text/plain": [
       "<matplotlib.legend.Legend at 0x2a2e33709e8>"
      ]
     },
     "execution_count": 5,
     "metadata": {},
     "output_type": "execute_result"
    },
    {
     "data": {
      "image/png": "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\n",
      "text/plain": [
       "<matplotlib.figure.Figure at 0x2a2e22695f8>"
      ]
     },
     "metadata": {},
     "output_type": "display_data"
    }
   ],
>>>>>>> 1879d0312e2f255ee08f8c1cd8681f4c26b2d653
   "source": [
    "#%reload_ext autoreload\n",
    "#%autoreload 3\n",
    "%matplotlib inline\n",
    "import matplotlib.pyplot as plt\n",
    "\n",
    "labels = ['time', 'reward', 'x', 'y', 'z', 'phi', 'theta', 'psi', 'x_velocity',\n",
    "          'y_velocity', 'z_velocity', 'phi_velocity', 'theta_velocity',\n",
    "          'psi_velocity', 'rotor_speed1', 'rotor_speed2', 'rotor_speed3', 'rotor_speed4']\n",
    "\n",
    "results = {x : [] for x in labels}\n",
    "\n",
    "#for ii in range(1, num_episodes+1):\n",
    "state = task.reset()\n",
    "done = False\n",
    "total_rewards = 0\n",
    "while not done:\n",
    "    #action = agent.act(state)\n",
    "    #next_state, reward, done = task.step(action)\n",
    "    #total_rewards += agent.episode_score\n",
    "    #state = next_state\n",
    "\n",
    "    action = agent.act(state)\n",
    "    #print(action)\n",
    "    next_state, agent.episode_score, done = task.step(action)\n",
    "    #print(reward[0][1])\n",
    "    agent.step(action, reward, next_state, done) \n",
    "    #reward = agent.episode_score\n",
    "    #total_reward += reward\n",
    "    total_reward += agent.episode_score\n",
    "    #print(total_reward)\n",
    "    state = next_state\n",
    "\n",
    "    trace = [task.sim.time] + [agent.episode_score] + list(task.sim.pose) + list(task.sim.v) + list(task.sim.angular_v) + list(action)\n",
    "    for ii in range(len(labels)):\n",
    "        results[labels[ii]].append(trace[ii])\n",
    "    #print(results)\n",
    "#print(total_reward)\n",
    "\n",
    "\n",
    "def plot_trace(ax, results, trace_name):\n",
    "    ax.plot(results['time'], results[trace_name], label=trace_name)\n",
    "\n",
    "# plot trajectory\n",
    "fig = plt.subplots(nrows=1, ncols=2, figsize=(17, 5))\n",
    "ax1 = plt.subplot(1, 2, 1)\n",
    "plot_trace(ax1, results, 'x')\n",
    "plot_trace(ax1, results, 'y')\n",
    "plot_trace(ax1, results, 'z')\n",
    "ax1.legend()\n",
    "\n",
    "ax2 = plt.subplot(1, 2, 2)\n",
    "plot_trace(ax2, results, 'rotor_speed1')\n",
    "plot_trace(ax2, results, 'rotor_speed2')\n",
    "plot_trace(ax2, results, 'rotor_speed3')\n",
    "plot_trace(ax2, results, 'rotor_speed4')\n",
    "ax2.legend()\n"
   ]
  },
  {
   "cell_type": "markdown",
   "metadata": {
    "collapsed": true
   },
   "source": [
    "## Plot the Rewards\n",
    "\n",
    "Once you are satisfied with your performance, plot the episode rewards, either from a single run, or averaged over multiple runs. "
   ]
  },
  {
   "cell_type": "code",
   "execution_count": null,
   "metadata": {},
<<<<<<< HEAD
   "outputs": [],
=======
   "outputs": [
    {
     "data": {
      "text/plain": [
       "<matplotlib.legend.Legend at 0x2a2e3416240>"
      ]
     },
     "execution_count": 6,
     "metadata": {},
     "output_type": "execute_result"
    },
    {
     "data": {
      "image/png": "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\n",
      "text/plain": [
       "<matplotlib.figure.Figure at 0x2a2e369f400>"
      ]
     },
     "metadata": {},
     "output_type": "display_data"
    }
   ],
>>>>>>> 1879d0312e2f255ee08f8c1cd8681f4c26b2d653
   "source": [
    "#%reload_ext autoreload\n",
    "#%autoreload 3\n",
    "%matplotlib inline\n",
    "import matplotlib.pyplot as plt\n",
    "\n",
    "labels = ['time', 'reward', 'x', 'y', 'z', 'phi', 'theta', 'psi', 'x_velocity',\n",
    "          'y_velocity', 'z_velocity', 'phi_velocity', 'theta_velocity',\n",
    "          'psi_velocity', 'rotor_speed1', 'rotor_speed2', 'rotor_speed3', 'rotor_speed4']\n",
    "\n",
    "results = {x : [] for x in labels}\n",
    "\n",
    "state = task.reset()\n",
    "done = False\n",
    "total_rewards = 0\n",
    "while not done:\n",
    "    action = agent.act(state)\n",
    "    next_state, reward, done = task.step(action)\n",
    "    total_rewards += agent.episode_score\n",
    "    state = next_state\n",
    "    trace = [task.sim.time] + [agent.episode_score] + list(task.sim.pose) + list(task.sim.v) + list(task.sim.angular_v) + list(action)\n",
    "    for ii in range(len(labels)):\n",
    "        results[labels[ii]].append(trace[ii])\n",
    "    #print(results)\n",
    "#print(total_reward)\n",
    "\n",
    "\n",
    "def plot_trace(ax, results, trace_name):\n",
    "    ax.plot(results['time'], results[trace_name], label=trace_name)\n",
    "\n",
    "# plot trajectory\n",
    "fig_plot = plt.subplots(nrows=1, ncols=1, figsize=(34, 5))\n",
    "ax3 = plt.subplot(1, 2, 1)\n",
    "plot_trace(ax3, results, 'reward')\n",
    "ax3.legend()\n"
   ]
  },
  {
   "cell_type": "code",
   "execution_count": null,
   "metadata": {},
   "outputs": [],
   "source": [
    "%matplotlib inline\n",
    "import matplotlib.pyplot as plt\n",
    "\n",
    "labels = ['time', 'reward', 'x', 'y', 'z', 'phi', 'theta', 'psi', 'x_velocity',\n",
    "          'y_velocity', 'z_velocity', 'phi_velocity', 'theta_velocity',\n",
    "          'psi_velocity', 'rotor_speed1', 'rotor_speed2', 'rotor_speed3', 'rotor_speed4']\n",
    "\n",
    "results = {x : [] for x in labels}\n",
    "\n",
    "state = task.reset()\n",
    "done = False\n",
    "total_rewards = 0\n",
    "\n",
    "\"\"\"\n",
    "# Computing Main Algorighm\n",
    "for i_episode in range(1, num_episodes+1):\n",
    "    # state = task.reset()\n",
    "    state = agent.reset_episode() # start a new episode\n",
    "    total_reward = 0\n",
    "    while True:\n",
    "        action = agent.act(state)\n",
    "        #print(action)\n",
    "        next_state, reward, done = task.step(action)\n",
    "        #print(reward[0][1])\n",
    "        agent.step(action, reward, next_state, done) \n",
    "        #reward = agent.episode_score\n",
    "        #total_reward += reward\n",
    "        total_reward += agent.episode_score\n",
    "        #print(total_reward)\n",
    "        state = next_state\n",
    "        if done:\n",
    "            total_rewards.append(total_reward)\n",
    "            print(\"DDPG Episode = {:4d}, score = {} \\n\".format(\n",
    "                i_episode, agent.episode_score ), end=\"\")  # [debug]\n",
    "            #print(\"DDPG Episode = {:4d}, score = {}, total reward = {} \\n\".format(\n",
    "            #    i_episode, agent.episode_score, total_reward ), end=\"\")  # [debug]\n",
    "            break\n",
    "    sys.stdout.flush()\n",
    "\"\"\"\n",
    "\n",
    "while not done:\n",
    "\n",
    "    state = next_state\n",
    "    #for i in range(len(labels)):\n",
    "    reward = int(agent.episode_score)\n",
    "    #print(reward)\n",
    "    total_rewards += reward\n",
    "    trace = [task.sim.time] + [reward] + list(task.sim.pose) + list(task.sim.v) + list(task.sim.angular_v) + list(action)\n",
    "    for ii in range(len(labels)):\n",
    "        results[labels[ii]].append(trace[ii])\n",
    "    ##print(results)\n",
    "#print(total_rewards)\n",
    "        \n",
    "#def plot_trace_rewards(ax, results, trace_name):\n",
    "#    ax.plot(results['time'], results[trace_name], label=trace_name)\n",
    "    \n",
    "fig_plot = plt.subplots(nrows=1, ncols=1, figsize=(34, 5))\n",
    "ax3 = plt.subplot(1, 2, 1)\n",
    "plot_trace(ax3, results, 'reward')\n",
    "ax3.legend()\n"
   ]
  },
  {
   "cell_type": "markdown",
   "metadata": {
    "collapsed": true
   },
   "source": [
    "## Reflections\n",
    "\n",
    "**Question 1**: Describe the task that you specified in `task.py`.  How did you design the reward function?\n",
    "\n",
    "**Answer**:"
   ]
  },
  {
   "cell_type": "markdown",
   "metadata": {},
   "source": [
    "    Task.py has defined to make the agent starts from default coords, flying to a random position, providing the feeds that the agent needs to try to learn."
   ]
  },
  {
   "cell_type": "markdown",
   "metadata": {},
   "source": [
    "**Question 2**: Discuss your agent briefly, using the following questions as a guide:\n",
    "\n",
    "- What learning algorithm(s) did you try? What worked best for you?\n",
    "- What was your final choice of hyperparameters (such as $\\alpha$, $\\gamma$, $\\epsilon$, etc.)?\n",
    "- What neural network architecture did you use (if any)? Specify layers, sizes, activation functions, etc.\n",
    "\n",
    "**Answer**:"
   ]
  },
  {
   "cell_type": "markdown",
   "metadata": {},
   "source": [
    "    The agent is based on DDPG algorithm method proposed to do this project.\n",
    "\n",
    "    The actor and critic models use an optimizer with a learning rate parameter of '0.0001'. I have been trying to implement another main params to the algorithm but always it was frustrating for me. Anyway, in the moment to work with NN, I keep working with Tensorflow, because I feel right now more confortable with this framework."
   ]
  },
  {
   "cell_type": "markdown",
   "metadata": {},
   "source": [
    "**Question 3**: Using the episode rewards plot, discuss how the agent learned over time.\n",
    "\n",
    "- Was it an easy task to learn or hard?\n",
    "- Was there a gradual learning curve, or an aha moment?\n",
    "- How good was the final performance of the agent? (e.g. mean rewards over the last 10 episodes)\n",
    "\n",
    "**Answer**:"
   ]
  },
  {
   "cell_type": "markdown",
   "metadata": {},
   "source": [
    "    -Honestly, practically impossible for me, in the moment I tried to implement the actor and critic with DDPG algorithm.\n",
    "     May that was my error, and I had to keep trying without implement that features to this project.\n",
    "    -Nothing... 'flat encephalogram'\n",
    "    -Something frustrating, but I keep hopes, anyway."
   ]
  },
  {
   "cell_type": "markdown",
   "metadata": {},
   "source": [
    "**Question 4**: Briefly summarize your experience working on this project. You can use the following prompts for ideas.\n",
    "\n",
    "- What was the hardest part of the project? (e.g. getting started, plotting, specifying the task, etc.)\n",
    "- Did you find anything interesting in how the quadcopter or your agent behaved?\n",
    "\n",
    "**Answer**:"
   ]
  },
  {
   "cell_type": "markdown",
   "metadata": {},
   "source": [
    "    -It was really hard to start for me, due to my inexperience and short view about how to propose to myself a simple task for the agent. From that point, I have been trying learn as I can understand as from other examples and resources codes, but there was no chance so the agent could do to learn by my own hands. For now, of course.\n",
    "    -Well, avoiding silly jokes, I do not know if start speaking about if the teacher is bad or my agent is totally fool. That why I suggest the 'flat encephalogram' possibly is affecting to both of them -teacher and agent...- right now."
   ]
  },
  {
   "cell_type": "code",
   "execution_count": null,
   "metadata": {},
   "outputs": [],
   "source": []
  }
 ],
 "metadata": {
  "anaconda-cloud": {},
  "kernelspec": {
   "display_name": "quadcop",
   "language": "python",
   "name": "quadcop"
  },
  "language_info": {
   "codemirror_mode": {
    "name": "ipython",
    "version": 3
   },
   "file_extension": ".py",
   "mimetype": "text/x-python",
   "name": "python",
   "nbconvert_exporter": "python",
   "pygments_lexer": "ipython3",
   "version": "3.6.5"
  }
 },
 "nbformat": 4,
 "nbformat_minor": 2
}
